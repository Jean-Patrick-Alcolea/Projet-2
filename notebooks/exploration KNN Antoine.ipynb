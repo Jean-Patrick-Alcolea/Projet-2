{
 "cells": [
  {
   "cell_type": "code",
   "execution_count": 43,
   "id": "864603fa",
   "metadata": {},
   "outputs": [],
   "source": [
    "import duckdb as db\n",
    "import pandas as pd\n",
    "import numpy as np\n",
    "\n",
    "import joblib\n",
    "\n",
    "def sql(query, database = \"../data/database.duckdb\"):\n",
    "    con = db.connect(database)\n",
    "    res = con.execute(query).df()\n",
    "    con.close()\n",
    "    return res\n",
    "\n"
   ]
  },
  {
   "cell_type": "code",
   "execution_count": 2,
   "id": "88195c68",
   "metadata": {},
   "outputs": [],
   "source": [
    "#Conversion de notre base de donnée acquise via SQL en DataFrame\n",
    "data = pd.DataFrame(sql(\"\"\"\n",
    "    SELECT\n",
    "        *\n",
    "    FROM\n",
    "       dataframe_view\n",
    "    \"\"\"))"
   ]
  },
  {
   "cell_type": "markdown",
   "id": "99a41d8b",
   "metadata": {},
   "source": [
    "ANALYSE EXPLORATOIRE DES DONNEES"
   ]
  },
  {
   "cell_type": "code",
   "execution_count": 3,
   "id": "474d5bcd",
   "metadata": {},
   "outputs": [],
   "source": [
    "#Creation d'un DF_Copy pour ne pas modifier le DF d'origine\n",
    "data_copy = data"
   ]
  },
  {
   "cell_type": "markdown",
   "id": "ab6ba280",
   "metadata": {},
   "source": [
    "CLEAN DATA AVANT ML"
   ]
  },
  {
   "cell_type": "code",
   "execution_count": null,
   "id": "b7bdb9a2",
   "metadata": {},
   "outputs": [],
   "source": [
    "def clean_row(row):\n",
    "    return row.replace(\"[\", \"\").replace(\"]\", \"\").replace(\"'\", \"\")\n",
    "data_copy.drop(columns= ['Profit','Revenue', 'Budget'], inplace=True) #trop de valeurs manquantes, DF faussé\n",
    "data_copy['ProductionCountries'] = data_copy['ProductionCountries'].apply(lambda x: 'Unknown' if x =='\\\\N' else x)\n",
    "data_copy['Writers'] = data_copy['Writers'].apply(lambda x: 'Unknown' if x== '\\\\N'  else x)\n",
    "data_copy['Resume'] = data_copy['Resume'].apply(lambda x: 'Unknown' if x == '\\\\N'  else x)\n",
    "data_copy['Poster'] = data_copy['Poster'].apply(lambda x: 'Unknown' if x == '\\\\N'  else x)\n",
    "#nettoyage de la colonne Year (il semblerait qu'il y ait qu'une ligne avec une valeur '\\N')\n",
    "data_copy['Year'] = data_copy['Year'].replace('\\\\N', np.nan)\n",
    "data_copy = data_copy.dropna(subset=['Year'])\n",
    "#On convertit la colonne Year en int pour pouvoir l'utiliser dans le modèle\n",
    "data_copy['Year'] = data_copy['Year'].astype(int)\n",
    "data_copy['Resume'].fillna('Unknown', inplace=True)\n",
    "df_runtime = data_copy[data_copy['Runtime'] != '\\\\N']\n",
    "df_runtime['Runtime'] = df_runtime['Runtime'].astype(int)\n",
    "data_copy['Runtime'] = data_copy['Runtime'].apply(lambda x: df_runtime['Runtime'].median() if x == '\\\\N' else x)\n",
    "data_copy['Runtime'] = data_copy['Runtime'].astype(int)\n",
    "data_copy['Runtime'].describe()\n",
    "data_copy['ProductionCountries'].fillna('Unknown', inplace=True)\n",
    "data_copy['ProductionCountries'] = data_copy['ProductionCountries'].apply(clean_row)\n",
    "data_copy['ProductionCompanies'] = data_copy['ProductionCompanies'].apply(clean_row)\n",
    "data_copy['ProductionCountries'] = data_copy['ProductionCountries'].apply(\n",
    "    lambda x: ', '.join(dict.fromkeys(str(x).split(', ')))\n",
    ")\n",
    "data_copy['Writers'].fillna('Unknown', inplace=True)"
   ]
  },
  {
   "cell_type": "markdown",
   "id": "555ddf5f",
   "metadata": {},
   "source": [
    "PREMIER ESSAI d'UN KNN SUR YEAR POUR ESSAYER L'ALGO"
   ]
  },
  {
   "cell_type": "code",
   "execution_count": null,
   "id": "9f83f1a1",
   "metadata": {},
   "outputs": [],
   "source": [
    "#import de la bibliothèque scikit-learn\n",
    "from sklearn.neighbors import NearestNeighbors\n",
    "from sklearn.preprocessing import StandardScaler\n",
    "from sklearn.model_selection import train_test_split\n",
    "from sklearn.preprocessing import LabelEncoder\n",
    "from sklearn.pipeline import Pipeline\n",
    "from sklearn.compose import ColumnTransformer  \n",
    "from sklearn.feature_extraction.text import TfidfVectorizer\n",
    "from sklearn.compose import ColumnTransformer\n"
   ]
  },
  {
   "cell_type": "markdown",
   "id": "76fcb432",
   "metadata": {},
   "source": [
    "une fois les indices trouvés : boucle pour afficher le poster"
   ]
  },
  {
   "cell_type": "code",
   "execution_count": 49,
   "id": "285c27aa",
   "metadata": {},
   "outputs": [
    {
     "name": "stdout",
     "output_type": "stream",
     "text": [
      "https://image.tmdb.org/t/p/w185/cXOLaxcNjNAYmEx1trZxOTKhK3Q.jpg\n",
      "https://image.tmdb.org/t/p/w185/uluhlXubGu1VxU63X9VHCLWDAYP.jpg\n",
      "https://image.tmdb.org/t/p/w185/momkKuWburNTqKBF6ez7rvhYVhE.jpg\n",
      "https://image.tmdb.org/t/p/w185/jRXYjXNq0Cs2TcJjLkki24MLp7u.jpg\n",
      "https://image.tmdb.org/t/p/w185/z7uo9zmQdQwU5ZJHFpv2Upl30i1.jpg\n"
     ]
    }
   ],
   "source": [
    "pd.options.display.max_rows = 999\n",
    "url = 'https://image.tmdb.org/t/p/w185'\n",
    "for i in indices[0]:\n",
    "    a = url+data_copy['Poster'].iloc[i]\n",
    "    print(a)\n"
   ]
  },
  {
   "cell_type": "code",
   "execution_count": 48,
   "id": "e876c686",
   "metadata": {},
   "outputs": [
    {
     "name": "stdout",
     "output_type": "stream",
     "text": [
      "https://image.tmdb.org/t/p/w185/j5jM5pq78ObAXX1WhTsb115EkLl.jpg\n",
      "https://image.tmdb.org/t/p/w185/uluhlXubGu1VxU63X9VHCLWDAYP.jpg\n",
      "[ 57 202 203   0  84]\n"
     ]
    }
   ],
   "source": [
    "print(url+data_copy['Poster'].iloc[97])\n",
    "print(url+data_copy['Poster'].iloc[202])\n",
    "print(indices[0])"
   ]
  },
  {
   "cell_type": "markdown",
   "id": "3c73efca",
   "metadata": {},
   "source": [
    "tentative avec Realisator : pas possible, il faut encoder les données, KNN n'accepte que les données numériques"
   ]
  },
  {
   "cell_type": "markdown",
   "id": "1de00b82",
   "metadata": {},
   "source": [
    "sur les colonnes numériques (pas très représentatif car DF classé par recettes)"
   ]
  },
  {
   "cell_type": "code",
   "execution_count": null,
   "id": "40d07f32",
   "metadata": {},
   "outputs": [],
   "source": [
    "X_rates_year = data_copy[['Rating', 'Votes', 'Year']]\n",
    "\n",
    "pipeline = Pipeline([\n",
    "    ('scaler', StandardScaler()),\n",
    "    ('knn', NearestNeighbors(n_neighbors=10, metric='euclidean'))\n",
    "])\n",
    "\n",
    "film = 0\n",
    "pipeline.fit(X_rates_year)\n",
    "\n",
    "distances, indices = pipeline.named_steps['knn'].kneighbors(X_rates_year.iloc[[film]])\n",
    "print(\"Distances:\", distances)\n",
    "print(\"Indices:\", indices)\n",
    "print(data_copy['Title'].iloc[film])\n",
    "for i in indices[0]:\n",
    "    print(data_copy['Title'].iloc[i])"
   ]
  },
  {
   "cell_type": "markdown",
   "id": "153ecd6d",
   "metadata": {},
   "source": [
    "UTILISATION DE TfidfVectorizer POUR LES COLONNES NON NUMERIQUES"
   ]
  },
  {
   "cell_type": "code",
   "execution_count": null,
   "id": "6449e8af",
   "metadata": {},
   "outputs": [],
   "source": [
    "X_text = data_copy[['Resume', 'Title']]\n",
    "\n",
    "preprocessor = ColumnTransformer(\n",
    "    transformers= [\n",
    "        ('Resume', TfidfVectorizer(stop_words='english'), 'Resume'),\n",
    "        ('Title', TfidfVectorizer(stop_words='english'), 'Title')\n",
    "    ],\n",
    "    )  \n",
    "\n",
    "pipeline = Pipeline([\n",
    "    ('preprocessor', preprocessor),\n",
    "    ('knn', NearestNeighbors(n_neighbors=5, metric='cosine'))\n",
    "\n",
    "])\n",
    "\n",
    "pipeline.fit(X_text)\n",
    "distances, indices = pipeline.named_steps['knn'].kneighbors(X_text.iloc[[0]])\n",
    "print(\"Distances:\", distances)\n",
    "print(\"Indices:\", indices)"
   ]
  },
  {
   "cell_type": "code",
   "execution_count": null,
   "id": "08e21f3b",
   "metadata": {},
   "outputs": [],
   "source": [
    "num_cols = data_copy.select_dtypes('number')\n",
    "non_num_cols = data_copy.select_dtypes(exclude='number')\n",
    "non_num_cols.drop(columns=['tconst', 'Poster', 'ProductionCountries'], inplace=True)\n",
    "non_num_cols = non_num_cols.select_dtypes(include='object').columns.tolist()\n",
    "num_cols = data_copy.select_dtypes(include=['int64', 'float64']).columns.tolist()"
   ]
  },
  {
   "cell_type": "code",
   "execution_count": null,
   "id": "9072aabf",
   "metadata": {},
   "outputs": [],
   "source": [
    "# On crée une liste de tuples pour appliquer un TfidfVectorizer à chaque colonne texte\n",
    "text_transformers = [\n",
    "    (col, TfidfVectorizer(stop_words='english'), col)\n",
    "    for col in non_num_cols\n",
    "]\n",
    "\n",
    "# On ajoute la partie numérique\n",
    "all_transformers = text_transformers + [\n",
    "    ('num', StandardScaler(), num_cols)\n",
    "]\n",
    "\n",
    "preprocessor = ColumnTransformer(transformers=all_transformers)\n",
    "\n",
    "pipeline = Pipeline([\n",
    "    ('preprocessor', preprocessor),\n",
    "    ('knn', NearestNeighbors(n_neighbors=10, metric='cosine'))\n",
    "])\n",
    "\n",
    "film_index = 3\n",
    "pipeline.fit(X)\n",
    "vectorized_data = pipeline.named_steps['preprocessor'].transform(X)\n",
    "distances, indices = pipeline.named_steps['knn'].kneighbors(vectorized_data.getrow(film_index))\n",
    "print(\"Distances:\", distances)\n",
    "print(\"Indices:\", indices)\n",
    "for i in indices[0]:\n",
    "    print(data_copy['Title'].iloc[i])\n",
    "    print(data_copy['Resume'].iloc[i])\n",
    "    print(data_copy['Director'].iloc[i])\n",
    "    print()"
   ]
  },
  {
   "cell_type": "code",
   "execution_count": null,
   "id": "a879df94",
   "metadata": {},
   "outputs": [],
   "source": [
    "film_index = 1\n",
    "distances, indices = pipeline.named_steps['knn'].kneighbors(vectorized_data.getrow(film_index))\n",
    "print(\"Distances:\", distances)\n",
    "print(\"Indices:\", indices)\n",
    "for i in indices[0]:\n",
    "    print(data_copy['Title'].iloc[i])\n",
    "    print(data_copy['Resume'].iloc[i])\n",
    "    print(data_copy['Director'].iloc[i])\n",
    "    print()"
   ]
  },
  {
   "cell_type": "code",
   "execution_count": 44,
   "id": "b0703240",
   "metadata": {},
   "outputs": [
    {
     "data": {
      "text/plain": [
       "['../KNN/knn_model.pkl']"
      ]
     },
     "execution_count": 44,
     "metadata": {},
     "output_type": "execute_result"
    }
   ],
   "source": [
    "joblib.dump(pipeline, '../KNN/knn_model.pkl')"
   ]
  }
 ],
 "metadata": {
  "kernelspec": {
   "display_name": ".venv",
   "language": "python",
   "name": "python3"
  },
  "language_info": {
   "codemirror_mode": {
    "name": "ipython",
    "version": 3
   },
   "file_extension": ".py",
   "mimetype": "text/x-python",
   "name": "python",
   "nbconvert_exporter": "python",
   "pygments_lexer": "ipython3",
   "version": "3.13.3"
  }
 },
 "nbformat": 4,
 "nbformat_minor": 5
}
