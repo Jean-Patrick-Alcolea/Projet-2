{
 "cells": [
  {
   "cell_type": "code",
   "execution_count": 1,
   "id": "864603fa",
   "metadata": {},
   "outputs": [],
   "source": [
    "import duckdb as db\n",
    "import pandas as pd\n",
    "import numpy as np\n",
    "\n",
    "def sql(query, database = \"../data/database.duckdb\"):\n",
    "    con = db.connect(database)\n",
    "    res = con.execute(query).df()\n",
    "    con.close()\n",
    "    return res"
   ]
  },
  {
   "cell_type": "code",
   "execution_count": 2,
   "id": "88195c68",
   "metadata": {},
   "outputs": [],
   "source": [
    "#Conversion de notre base de donnée acquise via SQL en DataFrame\n",
    "data = pd.DataFrame(sql(\"\"\"\n",
    "    SELECT\n",
    "        *\n",
    "    FROM\n",
    "       dataframe_view\n",
    "    \"\"\"))"
   ]
  },
  {
   "cell_type": "code",
   "execution_count": null,
   "id": "59d4a8bb",
   "metadata": {},
   "outputs": [],
   "source": []
  },
  {
   "cell_type": "markdown",
   "id": "99a41d8b",
   "metadata": {},
   "source": [
    "ANALYSE EXPLORATOIRE DES DONNEES"
   ]
  },
  {
   "cell_type": "code",
   "execution_count": 3,
   "id": "81a5d4cc",
   "metadata": {},
   "outputs": [
    {
     "data": {
      "text/plain": [
       "tconst                     0\n",
       "Title                      0\n",
       "Genres                     0\n",
       "Year                       0\n",
       "Runtime                    0\n",
       "Actors                     0\n",
       "Director                   0\n",
       "Writers                 2151\n",
       "Resume                  1151\n",
       "Rating                     0\n",
       "Votes                      0\n",
       "Budget                     0\n",
       "Revenue                    0\n",
       "Profit                     0\n",
       "ProductionCompanies        0\n",
       "ProductionCountries    60111\n",
       "Poster                  2231\n",
       "dtype: int64"
      ]
     },
     "execution_count": 3,
     "metadata": {},
     "output_type": "execute_result"
    }
   ],
   "source": [
    "data.isna().sum()"
   ]
  },
  {
   "cell_type": "code",
   "execution_count": 4,
   "id": "474d5bcd",
   "metadata": {},
   "outputs": [],
   "source": [
    "#Creation d'un DF_Copy pour ne pas modifier le DF d'origine\n",
    "data_copy = data"
   ]
  },
  {
   "cell_type": "code",
   "execution_count": 5,
   "id": "0c320a93",
   "metadata": {},
   "outputs": [
    {
     "data": {
      "text/html": [
       "<div>\n",
       "<style scoped>\n",
       "    .dataframe tbody tr th:only-of-type {\n",
       "        vertical-align: middle;\n",
       "    }\n",
       "\n",
       "    .dataframe tbody tr th {\n",
       "        vertical-align: top;\n",
       "    }\n",
       "\n",
       "    .dataframe thead th {\n",
       "        text-align: right;\n",
       "    }\n",
       "</style>\n",
       "<table border=\"1\" class=\"dataframe\">\n",
       "  <thead>\n",
       "    <tr style=\"text-align: right;\">\n",
       "      <th></th>\n",
       "      <th>tconst</th>\n",
       "      <th>Title</th>\n",
       "      <th>Genres</th>\n",
       "      <th>Year</th>\n",
       "      <th>Runtime</th>\n",
       "      <th>Actors</th>\n",
       "      <th>Director</th>\n",
       "      <th>Writers</th>\n",
       "      <th>Resume</th>\n",
       "      <th>Rating</th>\n",
       "      <th>Votes</th>\n",
       "      <th>Budget</th>\n",
       "      <th>Revenue</th>\n",
       "      <th>Profit</th>\n",
       "      <th>ProductionCompanies</th>\n",
       "      <th>ProductionCountries</th>\n",
       "      <th>Poster</th>\n",
       "    </tr>\n",
       "  </thead>\n",
       "  <tbody>\n",
       "    <tr>\n",
       "      <th>527</th>\n",
       "      <td>tt0496806</td>\n",
       "      <td>Ocean's Thirteen</td>\n",
       "      <td>Crime,Thriller</td>\n",
       "      <td>2007</td>\n",
       "      <td>122</td>\n",
       "      <td>Ray Xifo, Matt Damon, Al Pacino, Eddie Jemison...</td>\n",
       "      <td>Steven Soderbergh</td>\n",
       "      <td>George Clayton Johnson, David Levien, Brian Ko...</td>\n",
       "      <td>Danny Ocean's team of criminals are back and c...</td>\n",
       "      <td>6.9</td>\n",
       "      <td>377655</td>\n",
       "      <td>85000000</td>\n",
       "      <td>311312624</td>\n",
       "      <td>226312624</td>\n",
       "      <td>['Village Roadshow Pictures', 'Warner Bros. Pi...</td>\n",
       "      <td>['US', 'US', 'US', 'US']</td>\n",
       "      <td>/pBsZs4zYUiUTemqbikTZ76iQRaU.jpg</td>\n",
       "    </tr>\n",
       "    <tr>\n",
       "      <th>63525</th>\n",
       "      <td>tt4279250</td>\n",
       "      <td>La Gunguna</td>\n",
       "      <td>Action,Comedy,Crime</td>\n",
       "      <td>2015</td>\n",
       "      <td>87</td>\n",
       "      <td>Isaac Saviñón, Gerardo Mercedes, Janina Irizar...</td>\n",
       "      <td>Ernesto Alemany</td>\n",
       "      <td>Miguel Yarull</td>\n",
       "      <td>The story of a small .22 caliber gun ties toge...</td>\n",
       "      <td>7.0</td>\n",
       "      <td>460</td>\n",
       "      <td>0</td>\n",
       "      <td>0</td>\n",
       "      <td>0</td>\n",
       "      <td>['Productora Ojodepez']</td>\n",
       "      <td>['']</td>\n",
       "      <td>/sGiUFlwijLxL4vEs5xHc6QVyJoy.jpg</td>\n",
       "    </tr>\n",
       "  </tbody>\n",
       "</table>\n",
       "</div>"
      ],
      "text/plain": [
       "          tconst             Title               Genres  Year Runtime  \\\n",
       "527    tt0496806  Ocean's Thirteen       Crime,Thriller  2007     122   \n",
       "63525  tt4279250        La Gunguna  Action,Comedy,Crime  2015      87   \n",
       "\n",
       "                                                  Actors           Director  \\\n",
       "527    Ray Xifo, Matt Damon, Al Pacino, Eddie Jemison...  Steven Soderbergh   \n",
       "63525  Isaac Saviñón, Gerardo Mercedes, Janina Irizar...    Ernesto Alemany   \n",
       "\n",
       "                                                 Writers  \\\n",
       "527    George Clayton Johnson, David Levien, Brian Ko...   \n",
       "63525                                      Miguel Yarull   \n",
       "\n",
       "                                                  Resume  Rating   Votes  \\\n",
       "527    Danny Ocean's team of criminals are back and c...     6.9  377655   \n",
       "63525  The story of a small .22 caliber gun ties toge...     7.0     460   \n",
       "\n",
       "         Budget    Revenue     Profit  \\\n",
       "527    85000000  311312624  226312624   \n",
       "63525         0          0          0   \n",
       "\n",
       "                                     ProductionCompanies  \\\n",
       "527    ['Village Roadshow Pictures', 'Warner Bros. Pi...   \n",
       "63525                            ['Productora Ojodepez']   \n",
       "\n",
       "            ProductionCountries                            Poster  \n",
       "527    ['US', 'US', 'US', 'US']  /pBsZs4zYUiUTemqbikTZ76iQRaU.jpg  \n",
       "63525                      ['']  /sGiUFlwijLxL4vEs5xHc6QVyJoy.jpg  "
      ]
     },
     "execution_count": 5,
     "metadata": {},
     "output_type": "execute_result"
    }
   ],
   "source": [
    "data_copy.sample(2)"
   ]
  },
  {
   "cell_type": "code",
   "execution_count": 6,
   "id": "eb36b616",
   "metadata": {},
   "outputs": [
    {
     "name": "stdout",
     "output_type": "stream",
     "text": [
      "<class 'pandas.core.frame.DataFrame'>\n",
      "RangeIndex: 101563 entries, 0 to 101562\n",
      "Data columns (total 17 columns):\n",
      " #   Column               Non-Null Count   Dtype  \n",
      "---  ------               --------------   -----  \n",
      " 0   tconst               101563 non-null  object \n",
      " 1   Title                101563 non-null  object \n",
      " 2   Genres               101563 non-null  object \n",
      " 3   Year                 101563 non-null  object \n",
      " 4   Runtime              101563 non-null  object \n",
      " 5   Actors               101563 non-null  object \n",
      " 6   Director             101563 non-null  object \n",
      " 7   Writers              99412 non-null   object \n",
      " 8   Resume               100412 non-null  object \n",
      " 9   Rating               101563 non-null  float64\n",
      " 10  Votes                101563 non-null  int64  \n",
      " 11  Budget               101563 non-null  int64  \n",
      " 12  Revenue              101563 non-null  int64  \n",
      " 13  Profit               101563 non-null  int64  \n",
      " 14  ProductionCompanies  101563 non-null  object \n",
      " 15  ProductionCountries  41452 non-null   object \n",
      " 16  Poster               99332 non-null   object \n",
      "dtypes: float64(1), int64(4), object(12)\n",
      "memory usage: 13.2+ MB\n"
     ]
    }
   ],
   "source": [
    "data_copy.info()"
   ]
  },
  {
   "cell_type": "code",
   "execution_count": 7,
   "id": "b4be7015",
   "metadata": {},
   "outputs": [],
   "source": [
    "#60111 valeurs manquantes dans la colonne ProductionCountries\n",
    "data_copy['ProductionCountries'].isna().sum()\n",
    "#On remplace les valeurs manquantes par une ['Unknown'] pour garder la structure de la colonne\n",
    "data_copy['ProductionCountries'] = data_copy['ProductionCountries'].apply(lambda x: ['Unknown'] if pd.isna(x) else x)"
   ]
  },
  {
   "cell_type": "code",
   "execution_count": 8,
   "id": "70f37e53",
   "metadata": {},
   "outputs": [],
   "source": [
    "#Remplacer les valeurs manquantes des colonnes Writers, Resume, Poster \n",
    "data_copy['Writers'] = data_copy['Writers'].apply(lambda x: ['Unknown'] if pd.isna(x) else x)\n",
    "data_copy['Resume'] = data_copy['Resume'].apply(lambda x: ['Unknown'] if pd.isna(x) else x)\n",
    "data_copy['Poster'] = data_copy['Poster'].apply(lambda x: ['Unknown'] if pd.isna(x) else x)"
   ]
  },
  {
   "cell_type": "code",
   "execution_count": 9,
   "id": "c89ef65b",
   "metadata": {},
   "outputs": [
    {
     "data": {
      "text/plain": [
       "56894    A young turn-of-the-century newspaper man find...\n",
       "26404    A fiercely independent and unflinchingly candi...\n",
       "74086    35-year old Magnus Edkvist hates class reunion...\n",
       "22758    Hot shot teen Sonny Martin stops to help the v...\n",
       "21303    There is a thin line between money and loyalty...\n",
       "93293    This documentary from Albert and David Maysles...\n",
       "84007    A female cop's sister is kidnapped by the Asia...\n",
       "32536    At an exclusive boys' school, a new gym teache...\n",
       "26062    When Aleesha's friends throw her a military de...\n",
       "51566    Buenos Aires at the outskirts of XIX century. ...\n",
       "Name: Resume, dtype: object"
      ]
     },
     "execution_count": 9,
     "metadata": {},
     "output_type": "execute_result"
    }
   ],
   "source": [
    "data_copy['Resume'].sample(10)"
   ]
  },
  {
   "cell_type": "markdown",
   "id": "555ddf5f",
   "metadata": {},
   "source": [
    "PREMIER ESSAI d'UN KNN SUR YEAR POUR ESSAYER L'ALGO"
   ]
  },
  {
   "cell_type": "code",
   "execution_count": 41,
   "id": "9f83f1a1",
   "metadata": {},
   "outputs": [],
   "source": [
    "#import de la bibliothèque scikit-learn\n",
    "from sklearn.neighbors import NearestNeighbors\n",
    "from sklearn.preprocessing import StandardScaler\n",
    "from sklearn.model_selection import train_test_split\n",
    "from sklearn.preprocessing import LabelEncoder\n",
    "from sklearn.pipeline import Pipeline\n",
    "from sklearn.compose import ColumnTransformer  \n",
    "\n"
   ]
  },
  {
   "cell_type": "code",
   "execution_count": 11,
   "id": "08b53929",
   "metadata": {},
   "outputs": [
    {
     "data": {
      "text/html": [
       "<div>\n",
       "<style scoped>\n",
       "    .dataframe tbody tr th:only-of-type {\n",
       "        vertical-align: middle;\n",
       "    }\n",
       "\n",
       "    .dataframe tbody tr th {\n",
       "        vertical-align: top;\n",
       "    }\n",
       "\n",
       "    .dataframe thead th {\n",
       "        text-align: right;\n",
       "    }\n",
       "</style>\n",
       "<table border=\"1\" class=\"dataframe\">\n",
       "  <thead>\n",
       "    <tr style=\"text-align: right;\">\n",
       "      <th></th>\n",
       "      <th>tconst</th>\n",
       "      <th>Title</th>\n",
       "      <th>Genres</th>\n",
       "      <th>Year</th>\n",
       "      <th>Runtime</th>\n",
       "      <th>Actors</th>\n",
       "      <th>Director</th>\n",
       "      <th>Writers</th>\n",
       "      <th>Resume</th>\n",
       "      <th>Rating</th>\n",
       "      <th>Votes</th>\n",
       "      <th>Budget</th>\n",
       "      <th>Revenue</th>\n",
       "      <th>Profit</th>\n",
       "      <th>ProductionCompanies</th>\n",
       "      <th>ProductionCountries</th>\n",
       "      <th>Poster</th>\n",
       "    </tr>\n",
       "  </thead>\n",
       "  <tbody>\n",
       "    <tr>\n",
       "      <th>19705</th>\n",
       "      <td>tt2075291</td>\n",
       "      <td>Cyborg Nemesis: The Dark Rift</td>\n",
       "      <td>Action,Sci-Fi</td>\n",
       "      <td>\\N</td>\n",
       "      <td>100</td>\n",
       "      <td>Cazzy Golomb, Sasha Mitchell, Terrie Batson, D...</td>\n",
       "      <td>Albert Pyun</td>\n",
       "      <td>Cynthia Curnan</td>\n",
       "      <td>A U.S. Marine special ops team awakens from hy...</td>\n",
       "      <td>6.4</td>\n",
       "      <td>122</td>\n",
       "      <td>0</td>\n",
       "      <td>0</td>\n",
       "      <td>0</td>\n",
       "      <td>[]</td>\n",
       "      <td>[]</td>\n",
       "      <td>/hiGNRlOk956lvxIBV6dZ5rJGn0l.jpg</td>\n",
       "    </tr>\n",
       "  </tbody>\n",
       "</table>\n",
       "</div>"
      ],
      "text/plain": [
       "          tconst                          Title         Genres Year Runtime  \\\n",
       "19705  tt2075291  Cyborg Nemesis: The Dark Rift  Action,Sci-Fi   \\N     100   \n",
       "\n",
       "                                                  Actors     Director  \\\n",
       "19705  Cazzy Golomb, Sasha Mitchell, Terrie Batson, D...  Albert Pyun   \n",
       "\n",
       "              Writers                                             Resume  \\\n",
       "19705  Cynthia Curnan  A U.S. Marine special ops team awakens from hy...   \n",
       "\n",
       "       Rating  Votes  Budget  Revenue  Profit ProductionCompanies  \\\n",
       "19705     6.4    122       0        0       0                  []   \n",
       "\n",
       "      ProductionCountries                            Poster  \n",
       "19705                  []  /hiGNRlOk956lvxIBV6dZ5rJGn0l.jpg  "
      ]
     },
     "execution_count": 11,
     "metadata": {},
     "output_type": "execute_result"
    }
   ],
   "source": [
    "data_copy[data_copy['Year'].str.contains('\\\\\\\\N')]"
   ]
  },
  {
   "cell_type": "code",
   "execution_count": 12,
   "id": "061ae29e",
   "metadata": {},
   "outputs": [
    {
     "name": "stdout",
     "output_type": "stream",
     "text": [
      "<class 'pandas.core.frame.DataFrame'>\n",
      "Index: 101562 entries, 0 to 101562\n",
      "Data columns (total 17 columns):\n",
      " #   Column               Non-Null Count   Dtype  \n",
      "---  ------               --------------   -----  \n",
      " 0   tconst               101562 non-null  object \n",
      " 1   Title                101562 non-null  object \n",
      " 2   Genres               101562 non-null  object \n",
      " 3   Year                 101562 non-null  int64  \n",
      " 4   Runtime              101562 non-null  object \n",
      " 5   Actors               101562 non-null  object \n",
      " 6   Director             101562 non-null  object \n",
      " 7   Writers              101562 non-null  object \n",
      " 8   Resume               101562 non-null  object \n",
      " 9   Rating               101562 non-null  float64\n",
      " 10  Votes                101562 non-null  int64  \n",
      " 11  Budget               101562 non-null  int64  \n",
      " 12  Revenue              101562 non-null  int64  \n",
      " 13  Profit               101562 non-null  int64  \n",
      " 14  ProductionCompanies  101562 non-null  object \n",
      " 15  ProductionCountries  101562 non-null  object \n",
      " 16  Poster               101562 non-null  object \n",
      "dtypes: float64(1), int64(5), object(11)\n",
      "memory usage: 13.9+ MB\n"
     ]
    },
    {
     "name": "stderr",
     "output_type": "stream",
     "text": [
      "C:\\Users\\antoi\\AppData\\Local\\Temp\\ipykernel_54644\\3438241628.py:5: SettingWithCopyWarning: \n",
      "A value is trying to be set on a copy of a slice from a DataFrame.\n",
      "Try using .loc[row_indexer,col_indexer] = value instead\n",
      "\n",
      "See the caveats in the documentation: https://pandas.pydata.org/pandas-docs/stable/user_guide/indexing.html#returning-a-view-versus-a-copy\n",
      "  data_copy['Year'] = data_copy['Year'].astype(int)\n"
     ]
    }
   ],
   "source": [
    "#nettoyage de la colonne Year (il semblerait qu'il y ait qu'une ligne avec une valeur '\\N')\n",
    "data_copy['Year'] = data_copy['Year'].replace('\\\\N', np.nan)\n",
    "data_copy = data_copy.dropna(subset=['Year'])\n",
    "#On convertit la colonne Year en int pour pouvoir l'utiliser dans le modèle\n",
    "data_copy['Year'] = data_copy['Year'].astype(int)\n",
    "#On vérifie que la colonne Year ne contient plus de valeurs manquantes\n",
    "data_copy.info()\n"
   ]
  },
  {
   "cell_type": "code",
   "execution_count": 20,
   "id": "3d5f1698",
   "metadata": {},
   "outputs": [
    {
     "name": "stdout",
     "output_type": "stream",
     "text": [
      "Distances: [[0. 0. 0. 0. 0.]]\n",
      "Indices: [[ 97 378 120   0 101]]\n"
     ]
    }
   ],
   "source": [
    "#Tentative de KNN sur Year\n",
    "X_year = data_copy[['Year']]\n",
    "\n",
    "knn = NearestNeighbors(n_neighbors=5, metric='euclidean')\n",
    "knn.fit(X_year)\n",
    "\n",
    "distances, indices = knn.kneighbors(X_year.iloc[[0]])\n",
    "print(\"Distances:\", distances)\n",
    "print(\"Indices:\", indices)"
   ]
  },
  {
   "cell_type": "markdown",
   "id": "e2907f6c",
   "metadata": {},
   "source": [
    "les résultats indiquent que le knn fonctionnent mais ne sert à rien puisque basé que sur des années "
   ]
  },
  {
   "cell_type": "markdown",
   "id": "df724c55",
   "metadata": {},
   "source": []
  },
  {
   "cell_type": "markdown",
   "id": "76fcb432",
   "metadata": {},
   "source": [
    "une fois les indices trouvés : boucle pour afficher le poster"
   ]
  },
  {
   "cell_type": "code",
   "execution_count": 29,
   "id": "285c27aa",
   "metadata": {},
   "outputs": [
    {
     "name": "stdout",
     "output_type": "stream",
     "text": [
      "97     https://image.tmdb.org/t/p/w500/j5jM5pq78ObAXX...\n",
      "378    https://image.tmdb.org/t/p/w500/2rq96Ihbqb1eU3...\n",
      "120    https://image.tmdb.org/t/p/w500/zaqam2RNscH5oo...\n",
      "0      https://image.tmdb.org/t/p/w500/jRXYjXNq0Cs2Tc...\n",
      "101    https://image.tmdb.org/t/p/w500/pLBb0whOzVDtJv...\n",
      "Name: Poster, dtype: object\n"
     ]
    }
   ],
   "source": [
    "url = 'https://image.tmdb.org/t/p/w500'\n",
    "for i in indices:\n",
    "    print(url+data_copy['Poster'].iloc[i])\n"
   ]
  },
  {
   "cell_type": "code",
   "execution_count": 30,
   "id": "e876c686",
   "metadata": {},
   "outputs": [
    {
     "data": {
      "text/plain": [
       "'/j5jM5pq78ObAXX1WhTsb115EkLl.jpg'"
      ]
     },
     "execution_count": 30,
     "metadata": {},
     "output_type": "execute_result"
    }
   ],
   "source": [
    "data_copy['Poster'].iloc[97]"
   ]
  },
  {
   "cell_type": "markdown",
   "id": "3c73efca",
   "metadata": {},
   "source": [
    "tentative avec Realisator : pas possible, il faut encoder les données, KNN n'accepte que les données numériques"
   ]
  },
  {
   "cell_type": "code",
   "execution_count": 34,
   "id": "91ec3bc6",
   "metadata": {},
   "outputs": [
    {
     "data": {
      "text/plain": [
       "Index(['Year', 'Rating', 'Votes', 'Budget', 'Revenue', 'Profit'], dtype='object')"
      ]
     },
     "execution_count": 34,
     "metadata": {},
     "output_type": "execute_result"
    }
   ],
   "source": [
    "data_copy.select_dtypes('number').columns"
   ]
  },
  {
   "cell_type": "markdown",
   "id": "1de00b82",
   "metadata": {},
   "source": [
    "sur les colonnes numériques (pas très représentatif car DF classé par recettes)"
   ]
  },
  {
   "cell_type": "code",
   "execution_count": 42,
   "id": "63ea9580",
   "metadata": {},
   "outputs": [
    {
     "name": "stdout",
     "output_type": "stream",
     "text": [
      "Distances: [[0.00000000e+00 3.03787108e+08 9.07704517e+08 1.04859275e+09\n",
      "  1.21553124e+09]]\n",
      "Indices: [[0 1 2 3 4]]\n",
      "0                                        Avatar\n",
      "1                             Avengers: Endgame\n",
      "2                                       Titanic\n",
      "3                      Avatar: The Way of Water\n",
      "4    Star Wars: Episode VII - The Force Awakens\n",
      "Name: Title, dtype: object\n"
     ]
    }
   ],
   "source": [
    "X_num = data_copy.select_dtypes('number')\n",
    "\n",
    "pipeline = Pipeline([\n",
    "    ('scaler', StandardScaler()),\n",
    "    ('knn', NearestNeighbors(n_neighbors=5, metric='euclidean'))\n",
    "])\n",
    "\n",
    "\n",
    "pipeline.fit(X_num)\n",
    "\n",
    "distances, indices = knn.kneighbors(X_num.iloc[[0]])\n",
    "print(\"Distances:\", distances)\n",
    "print(\"Indices:\", indices)\n",
    "for i in indices:\n",
    "    print(data_copy['Title'].iloc[i])"
   ]
  },
  {
   "cell_type": "code",
   "execution_count": 80,
   "id": "40d07f32",
   "metadata": {},
   "outputs": [
    {
     "name": "stdout",
     "output_type": "stream",
     "text": [
      "Distances: [[168633.58168363 168633.92923995 168639.09439831 168642.43878002\n",
      "  168643.75309634 168644.2684781  168644.43252455 168647.17001465\n",
      "  168647.64496185 168647.90622371]]\n",
      "Indices: [[6289   54   94 2490  111  145  581  227  484   63]]\n",
      "House of Gucci\n",
      "The Shawshank Redemption\n",
      "The Dark Knight\n",
      "Inception\n",
      "Fight Club\n",
      "Forrest Gump\n",
      "Interstellar\n",
      "Pulp Fiction\n",
      "The Matrix\n",
      "The Godfather\n",
      "The Lord of the Rings: The Fellowship of the Ring\n"
     ]
    },
    {
     "name": "stderr",
     "output_type": "stream",
     "text": [
      "c:\\Users\\antoi\\Documents\\WCS\\Projet-2\\.venv\\Lib\\site-packages\\sklearn\\utils\\validation.py:2732: UserWarning: X has feature names, but NearestNeighbors was fitted without feature names\n",
      "  warnings.warn(\n"
     ]
    }
   ],
   "source": [
    "X_rates = data_copy[['Rating', 'Votes']]\n",
    "\n",
    "pipeline = Pipeline([\n",
    "    ('scaler', StandardScaler()),\n",
    "    ('knn', NearestNeighbors(n_neighbors=10, metric='euclidean'))\n",
    "])\n",
    "\n",
    "film = 1500\n",
    "pipeline.fit(X_rates)\n",
    "\n",
    "distances, indices = pipeline.named_steps['knn'].kneighbors(X_rates.iloc[[film]])\n",
    "print(\"Distances:\", distances)\n",
    "print(\"Indices:\", indices)\n",
    "print(data_copy['Title'].iloc[film])\n",
    "for i in indices[0]:\n",
    "    print(data_copy['Title'].iloc[i])"
   ]
  }
 ],
 "metadata": {
  "kernelspec": {
   "display_name": ".venv",
   "language": "python",
   "name": "python3"
  },
  "language_info": {
   "codemirror_mode": {
    "name": "ipython",
    "version": 3
   },
   "file_extension": ".py",
   "mimetype": "text/x-python",
   "name": "python",
   "nbconvert_exporter": "python",
   "pygments_lexer": "ipython3",
   "version": "3.13.3"
  }
 },
 "nbformat": 4,
 "nbformat_minor": 5
}
