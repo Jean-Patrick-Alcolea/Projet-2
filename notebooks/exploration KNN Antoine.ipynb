{
 "cells": [
  {
   "cell_type": "code",
   "execution_count": 90,
   "id": "864603fa",
   "metadata": {},
   "outputs": [],
   "source": [
    "import duckdb as db\n",
    "import pandas as pd\n",
    "import numpy as np\n",
    "\n",
    "def sql(query, database = \"../data/database.duckdb\"):\n",
    "    con = db.connect(database)\n",
    "    res = con.execute(query).df()\n",
    "    con.close()\n",
    "    return res"
   ]
  },
  {
   "cell_type": "code",
   "execution_count": 52,
   "id": "88195c68",
   "metadata": {},
   "outputs": [],
   "source": [
    "#Conversion de notre base de donnée acquise via SQL en DataFrame\n",
    "data = pd.DataFrame(sql(\"\"\"\n",
    "    SELECT\n",
    "        *\n",
    "    FROM\n",
    "       dataframe_view\n",
    "    \"\"\"))"
   ]
  },
  {
   "cell_type": "code",
   "execution_count": null,
   "id": "59d4a8bb",
   "metadata": {},
   "outputs": [],
   "source": []
  },
  {
   "cell_type": "markdown",
   "id": "99a41d8b",
   "metadata": {},
   "source": [
    "ANALYSE EXPLORATOIRE DES DONNEES"
   ]
  },
  {
   "cell_type": "code",
   "execution_count": 53,
   "id": "81a5d4cc",
   "metadata": {},
   "outputs": [
    {
     "data": {
      "text/plain": [
       "tconst                     0\n",
       "Title                      0\n",
       "Genres                     0\n",
       "Year                       0\n",
       "Runtime                    0\n",
       "Actors                     0\n",
       "Director                   0\n",
       "Writers                 2151\n",
       "Resume                  1151\n",
       "Rating                     0\n",
       "Votes                      0\n",
       "Budget                     0\n",
       "Revenue                    0\n",
       "Profit                     0\n",
       "ProductionCompanies        0\n",
       "ProductionCountries    60111\n",
       "Poster                  2231\n",
       "dtype: int64"
      ]
     },
     "execution_count": 53,
     "metadata": {},
     "output_type": "execute_result"
    }
   ],
   "source": [
    "data.isna().sum()"
   ]
  },
  {
   "cell_type": "code",
   "execution_count": 54,
   "id": "474d5bcd",
   "metadata": {},
   "outputs": [],
   "source": [
    "#Creation d'un DF_Copy pour ne pas modifier le DF d'origine\n",
    "data_copy = data"
   ]
  },
  {
   "cell_type": "code",
   "execution_count": 84,
   "id": "0c320a93",
   "metadata": {},
   "outputs": [
    {
     "data": {
      "text/html": [
       "<div>\n",
       "<style scoped>\n",
       "    .dataframe tbody tr th:only-of-type {\n",
       "        vertical-align: middle;\n",
       "    }\n",
       "\n",
       "    .dataframe tbody tr th {\n",
       "        vertical-align: top;\n",
       "    }\n",
       "\n",
       "    .dataframe thead th {\n",
       "        text-align: right;\n",
       "    }\n",
       "</style>\n",
       "<table border=\"1\" class=\"dataframe\">\n",
       "  <thead>\n",
       "    <tr style=\"text-align: right;\">\n",
       "      <th></th>\n",
       "      <th>tconst</th>\n",
       "      <th>Title</th>\n",
       "      <th>Genres</th>\n",
       "      <th>Year</th>\n",
       "      <th>Runtime</th>\n",
       "      <th>Actors</th>\n",
       "      <th>Director</th>\n",
       "      <th>Writers</th>\n",
       "      <th>Resume</th>\n",
       "      <th>Rating</th>\n",
       "      <th>Votes</th>\n",
       "      <th>Budget</th>\n",
       "      <th>Revenue</th>\n",
       "      <th>Profit</th>\n",
       "      <th>ProductionCompanies</th>\n",
       "      <th>ProductionCountries</th>\n",
       "      <th>Poster</th>\n",
       "    </tr>\n",
       "  </thead>\n",
       "  <tbody>\n",
       "    <tr>\n",
       "      <th>50554</th>\n",
       "      <td>tt0116341</td>\n",
       "      <td>Forest Warrior</td>\n",
       "      <td>Action,Adventure,Comedy</td>\n",
       "      <td>1996</td>\n",
       "      <td>93</td>\n",
       "      <td>William Sanderson, Jordan Brower, Michael Frie...</td>\n",
       "      <td>Aaron Norris</td>\n",
       "      <td>Galen Thompson, Ron Swanson</td>\n",
       "      <td>John McKenna is a spiritual being who is able ...</td>\n",
       "      <td>3.6</td>\n",
       "      <td>3037</td>\n",
       "      <td>0</td>\n",
       "      <td>0</td>\n",
       "      <td>0</td>\n",
       "      <td>['Nu Image', 'LOT Productions']</td>\n",
       "      <td>[Unknown]</td>\n",
       "      <td>/lU9ECdGWnhWl2pJKlovMSWQKmLB.jpg</td>\n",
       "    </tr>\n",
       "    <tr>\n",
       "      <th>86638</th>\n",
       "      <td>tt7106968</td>\n",
       "      <td>Ride</td>\n",
       "      <td>Drama</td>\n",
       "      <td>2018</td>\n",
       "      <td>95</td>\n",
       "      <td>Silvia Gallerano, Renato Carpentieri, Chiara M...</td>\n",
       "      <td>Valerio Mastandrea</td>\n",
       "      <td>Valerio Mastandrea, Enrico Audenino</td>\n",
       "      <td>A woman and her 10-year-old son face, in their...</td>\n",
       "      <td>6.0</td>\n",
       "      <td>368</td>\n",
       "      <td>0</td>\n",
       "      <td>0</td>\n",
       "      <td>0</td>\n",
       "      <td>['Kimerafilm', 'RAI Cinema']</td>\n",
       "      <td>['', 'IT']</td>\n",
       "      <td>/qcE96LRqOg3lLySIziJKF17aJwU.jpg</td>\n",
       "    </tr>\n",
       "  </tbody>\n",
       "</table>\n",
       "</div>"
      ],
      "text/plain": [
       "          tconst           Title                   Genres  Year Runtime  \\\n",
       "50554  tt0116341  Forest Warrior  Action,Adventure,Comedy  1996      93   \n",
       "86638  tt7106968            Ride                    Drama  2018      95   \n",
       "\n",
       "                                                  Actors            Director  \\\n",
       "50554  William Sanderson, Jordan Brower, Michael Frie...        Aaron Norris   \n",
       "86638  Silvia Gallerano, Renato Carpentieri, Chiara M...  Valerio Mastandrea   \n",
       "\n",
       "                                   Writers  \\\n",
       "50554          Galen Thompson, Ron Swanson   \n",
       "86638  Valerio Mastandrea, Enrico Audenino   \n",
       "\n",
       "                                                  Resume  Rating  Votes  \\\n",
       "50554  John McKenna is a spiritual being who is able ...     3.6   3037   \n",
       "86638  A woman and her 10-year-old son face, in their...     6.0    368   \n",
       "\n",
       "       Budget  Revenue  Profit              ProductionCompanies  \\\n",
       "50554       0        0       0  ['Nu Image', 'LOT Productions']   \n",
       "86638       0        0       0     ['Kimerafilm', 'RAI Cinema']   \n",
       "\n",
       "      ProductionCountries                            Poster  \n",
       "50554           [Unknown]  /lU9ECdGWnhWl2pJKlovMSWQKmLB.jpg  \n",
       "86638          ['', 'IT']  /qcE96LRqOg3lLySIziJKF17aJwU.jpg  "
      ]
     },
     "execution_count": 84,
     "metadata": {},
     "output_type": "execute_result"
    }
   ],
   "source": [
    "data_copy.sample(2)"
   ]
  },
  {
   "cell_type": "code",
   "execution_count": 14,
   "id": "eb36b616",
   "metadata": {},
   "outputs": [
    {
     "name": "stdout",
     "output_type": "stream",
     "text": [
      "<class 'pandas.core.frame.DataFrame'>\n",
      "RangeIndex: 101563 entries, 0 to 101562\n",
      "Data columns (total 17 columns):\n",
      " #   Column               Non-Null Count   Dtype  \n",
      "---  ------               --------------   -----  \n",
      " 0   tconst               101563 non-null  object \n",
      " 1   Title                101563 non-null  object \n",
      " 2   Genres               101563 non-null  object \n",
      " 3   Year                 101563 non-null  object \n",
      " 4   Runtime              101563 non-null  object \n",
      " 5   Actors               101563 non-null  object \n",
      " 6   Director             101563 non-null  object \n",
      " 7   Writers              99412 non-null   object \n",
      " 8   Resume               100412 non-null  object \n",
      " 9   Rating               101563 non-null  float64\n",
      " 10  Votes                101563 non-null  int64  \n",
      " 11  Budget               101563 non-null  int64  \n",
      " 12  Revenue              101563 non-null  int64  \n",
      " 13  Profit               101563 non-null  int64  \n",
      " 14  ProductionCompanies  101563 non-null  object \n",
      " 15  ProductionCountries  41452 non-null   object \n",
      " 16  Poster               99332 non-null   object \n",
      "dtypes: float64(1), int64(4), object(12)\n",
      "memory usage: 13.2+ MB\n"
     ]
    }
   ],
   "source": [
    "data_copy.info()"
   ]
  },
  {
   "cell_type": "code",
   "execution_count": 58,
   "id": "b4be7015",
   "metadata": {},
   "outputs": [],
   "source": [
    "#60111 valeurs manquantes dans la colonne ProductionCountries\n",
    "data_copy['ProductionCountries'].isna().sum()\n",
    "#On remplace les valeurs manquantes par une ['Unknown'] pour garder la structure de la colonne\n",
    "data_copy['ProductionCountries'] = data_copy['ProductionCountries'].apply(lambda x: ['Unknown'] if pd.isna(x) else x)"
   ]
  },
  {
   "cell_type": "code",
   "execution_count": 67,
   "id": "70f37e53",
   "metadata": {},
   "outputs": [],
   "source": [
    "#Remplacer les valeurs manquantes des colonnes Writers, Resume, Poster \n",
    "data_copy['Writers'] = data_copy['Writers'].apply(lambda x: ['Unknown'] if pd.isna(x) else x)\n",
    "data_copy['Resume'] = data_copy['Resume'].apply(lambda x: ['Unknown'] if pd.isna(x) else x)\n",
    "data_copy['Poster'] = data_copy['Poster'].apply(lambda x: ['Unknown'] if pd.isna(x) else x)"
   ]
  },
  {
   "cell_type": "code",
   "execution_count": 86,
   "id": "c89ef65b",
   "metadata": {},
   "outputs": [
    {
     "data": {
      "text/plain": [
       "70466    The mechanic Jack tries to get rid of his crim...\n",
       "19950    Superstar Manoranjan learns that he has only a...\n",
       "23479    The Olsen Gang realizes that cash is obsolete ...\n",
       "16581    Orvar is a vagabond, walking the country roads...\n",
       "25708    A series of murders strikes the city of Fentun...\n",
       "81139    The story is narrated by ten-year old Staszek,...\n",
       "93363    Fifty Shades Uncovered is a brand new feature ...\n",
       "83801    A Civil War guerilla gang plans an attack on a...\n",
       "46027    Finding Happiness is a film that captures a jo...\n",
       "58251    The buoyant Molly Brown has survived the first...\n",
       "Name: Resume, dtype: object"
      ]
     },
     "execution_count": 86,
     "metadata": {},
     "output_type": "execute_result"
    }
   ],
   "source": [
    "data_copy['Resume'].sample(10)"
   ]
  },
  {
   "cell_type": "markdown",
   "id": "555ddf5f",
   "metadata": {},
   "source": [
    "PREMIER ESSAI d'UN KNN SUR YEAR POUR ESSAYER L'ALGO"
   ]
  },
  {
   "cell_type": "code",
   "execution_count": 88,
   "id": "9f83f1a1",
   "metadata": {},
   "outputs": [],
   "source": [
    "#import de la bibliothèque scikit-learn\n",
    "from sklearn.neighbors import NearestNeighbors\n",
    "from sklearn.preprocessing import StandardScaler\n",
    "from sklearn.model_selection import train_test_split\n",
    "\n"
   ]
  },
  {
   "cell_type": "code",
   "execution_count": 99,
   "id": "08b53929",
   "metadata": {},
   "outputs": [
    {
     "data": {
      "text/html": [
       "<div>\n",
       "<style scoped>\n",
       "    .dataframe tbody tr th:only-of-type {\n",
       "        vertical-align: middle;\n",
       "    }\n",
       "\n",
       "    .dataframe tbody tr th {\n",
       "        vertical-align: top;\n",
       "    }\n",
       "\n",
       "    .dataframe thead th {\n",
       "        text-align: right;\n",
       "    }\n",
       "</style>\n",
       "<table border=\"1\" class=\"dataframe\">\n",
       "  <thead>\n",
       "    <tr style=\"text-align: right;\">\n",
       "      <th></th>\n",
       "      <th>tconst</th>\n",
       "      <th>Title</th>\n",
       "      <th>Genres</th>\n",
       "      <th>Year</th>\n",
       "      <th>Runtime</th>\n",
       "      <th>Actors</th>\n",
       "      <th>Director</th>\n",
       "      <th>Writers</th>\n",
       "      <th>Resume</th>\n",
       "      <th>Rating</th>\n",
       "      <th>Votes</th>\n",
       "      <th>Budget</th>\n",
       "      <th>Revenue</th>\n",
       "      <th>Profit</th>\n",
       "      <th>ProductionCompanies</th>\n",
       "      <th>ProductionCountries</th>\n",
       "      <th>Poster</th>\n",
       "    </tr>\n",
       "  </thead>\n",
       "  <tbody>\n",
       "    <tr>\n",
       "      <th>20287</th>\n",
       "      <td>tt2075291</td>\n",
       "      <td>Cyborg Nemesis: The Dark Rift</td>\n",
       "      <td>Action,Sci-Fi</td>\n",
       "      <td>\\N</td>\n",
       "      <td>100</td>\n",
       "      <td>Cazzy Golomb, Vincent Klyn, Terrie Batson, Sas...</td>\n",
       "      <td>Albert Pyun</td>\n",
       "      <td>Cynthia Curnan</td>\n",
       "      <td>A U.S. Marine special ops team awakens from hy...</td>\n",
       "      <td>6.4</td>\n",
       "      <td>122</td>\n",
       "      <td>0</td>\n",
       "      <td>0</td>\n",
       "      <td>0</td>\n",
       "      <td>[]</td>\n",
       "      <td>[]</td>\n",
       "      <td>/hiGNRlOk956lvxIBV6dZ5rJGn0l.jpg</td>\n",
       "    </tr>\n",
       "  </tbody>\n",
       "</table>\n",
       "</div>"
      ],
      "text/plain": [
       "          tconst                          Title         Genres Year Runtime  \\\n",
       "20287  tt2075291  Cyborg Nemesis: The Dark Rift  Action,Sci-Fi   \\N     100   \n",
       "\n",
       "                                                  Actors     Director  \\\n",
       "20287  Cazzy Golomb, Vincent Klyn, Terrie Batson, Sas...  Albert Pyun   \n",
       "\n",
       "              Writers                                             Resume  \\\n",
       "20287  Cynthia Curnan  A U.S. Marine special ops team awakens from hy...   \n",
       "\n",
       "       Rating  Votes  Budget  Revenue  Profit ProductionCompanies  \\\n",
       "20287     6.4    122       0        0       0                  []   \n",
       "\n",
       "      ProductionCountries                            Poster  \n",
       "20287                  []  /hiGNRlOk956lvxIBV6dZ5rJGn0l.jpg  "
      ]
     },
     "execution_count": 99,
     "metadata": {},
     "output_type": "execute_result"
    }
   ],
   "source": [
    "data_copy[data_copy['Year'].str.contains('\\\\\\\\N')]"
   ]
  },
  {
   "cell_type": "code",
   "execution_count": 103,
   "id": "061ae29e",
   "metadata": {},
   "outputs": [
    {
     "name": "stdout",
     "output_type": "stream",
     "text": [
      "<class 'pandas.core.frame.DataFrame'>\n",
      "Index: 101562 entries, 0 to 101562\n",
      "Data columns (total 17 columns):\n",
      " #   Column               Non-Null Count   Dtype  \n",
      "---  ------               --------------   -----  \n",
      " 0   tconst               101562 non-null  object \n",
      " 1   Title                101562 non-null  object \n",
      " 2   Genres               101562 non-null  object \n",
      " 3   Year                 101562 non-null  int64  \n",
      " 4   Runtime              101562 non-null  object \n",
      " 5   Actors               101562 non-null  object \n",
      " 6   Director             101562 non-null  object \n",
      " 7   Writers              101562 non-null  object \n",
      " 8   Resume               101562 non-null  object \n",
      " 9   Rating               101562 non-null  float64\n",
      " 10  Votes                101562 non-null  int64  \n",
      " 11  Budget               101562 non-null  int64  \n",
      " 12  Revenue              101562 non-null  int64  \n",
      " 13  Profit               101562 non-null  int64  \n",
      " 14  ProductionCompanies  101562 non-null  object \n",
      " 15  ProductionCountries  101562 non-null  object \n",
      " 16  Poster               101562 non-null  object \n",
      "dtypes: float64(1), int64(5), object(11)\n",
      "memory usage: 13.9+ MB\n"
     ]
    }
   ],
   "source": [
    "#nettoyage de la colonne Year (il semblerait qu'il y ait qu'une ligne avec une valeur '\\N')\n",
    "data_copy['Year'] = data_copy['Year'].replace('\\\\N', np.nan)\n",
    "data_copy = data_copy.dropna(subset=['Year'])\n",
    "#On convertit la colonne Year en int pour pouvoir l'utiliser dans le modèle\n",
    "data_copy['Year'] = data_copy['Year'].astype(int)\n",
    "#On vérifie que la colonne Year ne contient plus de valeurs manquantes\n",
    "data_copy.info()\n"
   ]
  },
  {
   "cell_type": "code",
   "execution_count": 105,
   "id": "3d5f1698",
   "metadata": {},
   "outputs": [
    {
     "name": "stdout",
     "output_type": "stream",
     "text": [
      "Distances: [[0. 0. 0. 0. 0.]]\n",
      "Indices: [[ 57 101  97   0  84]]\n"
     ]
    }
   ],
   "source": [
    "#Tentative de KNN sur Year\n",
    "X = data_copy[['Year']]\n",
    "\n",
    "knn = NearestNeighbors(n_neighbors=5, metric='euclidean')\n",
    "knn.fit(X)\n",
    "\n",
    "distances, indices = knn.kneighbors(X.iloc[[0]])\n",
    "print(\"Distances:\", distances)\n",
    "print(\"Indices:\", indices)"
   ]
  },
  {
   "cell_type": "markdown",
   "id": "e2907f6c",
   "metadata": {},
   "source": [
    "les résultats indiquent que le knn fonctionnent mais ne sert à rien puisque basé que sur des années "
   ]
  },
  {
   "cell_type": "code",
   "execution_count": null,
   "id": "285c27aa",
   "metadata": {},
   "outputs": [],
   "source": []
  }
 ],
 "metadata": {
  "kernelspec": {
   "display_name": ".venv",
   "language": "python",
   "name": "python3"
  },
  "language_info": {
   "codemirror_mode": {
    "name": "ipython",
    "version": 3
   },
   "file_extension": ".py",
   "mimetype": "text/x-python",
   "name": "python",
   "nbconvert_exporter": "python",
   "pygments_lexer": "ipython3",
   "version": "3.13.3"
  }
 },
 "nbformat": 4,
 "nbformat_minor": 5
}
