{
 "cells": [
  {
   "cell_type": "code",
   "execution_count": 1,
   "id": "864603fa",
   "metadata": {},
   "outputs": [],
   "source": [
    "import duckdb as db\n",
    "import pandas as pd\n",
    "import numpy as np\n",
    "\n",
    "def sql(query, database = \"../data/database.duckdb\"):\n",
    "    con = db.connect(database)\n",
    "    res = con.execute(query).df()\n",
    "    con.close()\n",
    "    return res"
   ]
  },
  {
   "cell_type": "code",
   "execution_count": 297,
   "id": "88195c68",
   "metadata": {},
   "outputs": [],
   "source": [
    "#Conversion de notre base de donnée acquise via SQL en DataFrame\n",
    "data = pd.DataFrame(sql(\"\"\"\n",
    "    SELECT\n",
    "        *\n",
    "    FROM\n",
    "       dataframe_view\n",
    "    \"\"\"))"
   ]
  },
  {
   "cell_type": "markdown",
   "id": "99a41d8b",
   "metadata": {},
   "source": [
    "ANALYSE EXPLORATOIRE DES DONNEES"
   ]
  },
  {
   "cell_type": "code",
   "execution_count": 298,
   "id": "474d5bcd",
   "metadata": {},
   "outputs": [],
   "source": [
    "#Creation d'un DF_Copy pour ne pas modifier le DF d'origine\n",
    "data_copy = data"
   ]
  },
  {
   "cell_type": "markdown",
   "id": "ab6ba280",
   "metadata": {},
   "source": [
    "CLEAN DATA AVANT ML"
   ]
  },
  {
   "cell_type": "code",
   "execution_count": 299,
   "id": "b7bdb9a2",
   "metadata": {},
   "outputs": [
    {
     "name": "stderr",
     "output_type": "stream",
     "text": [
      "C:\\Users\\antoi\\AppData\\Local\\Temp\\ipykernel_28480\\3720335642.py:12: SettingWithCopyWarning: \n",
      "A value is trying to be set on a copy of a slice from a DataFrame.\n",
      "Try using .loc[row_indexer,col_indexer] = value instead\n",
      "\n",
      "See the caveats in the documentation: https://pandas.pydata.org/pandas-docs/stable/user_guide/indexing.html#returning-a-view-versus-a-copy\n",
      "  data_copy['Year'] = data_copy['Year'].astype(int)\n",
      "C:\\Users\\antoi\\AppData\\Local\\Temp\\ipykernel_28480\\3720335642.py:13: FutureWarning: A value is trying to be set on a copy of a DataFrame or Series through chained assignment using an inplace method.\n",
      "The behavior will change in pandas 3.0. This inplace method will never work because the intermediate object on which we are setting values always behaves as a copy.\n",
      "\n",
      "For example, when doing 'df[col].method(value, inplace=True)', try using 'df.method({col: value}, inplace=True)' or df[col] = df[col].method(value) instead, to perform the operation inplace on the original object.\n",
      "\n",
      "\n",
      "  data_copy['Resume'].fillna('Unknown', inplace=True)\n",
      "C:\\Users\\antoi\\AppData\\Local\\Temp\\ipykernel_28480\\3720335642.py:13: SettingWithCopyWarning: \n",
      "A value is trying to be set on a copy of a slice from a DataFrame\n",
      "\n",
      "See the caveats in the documentation: https://pandas.pydata.org/pandas-docs/stable/user_guide/indexing.html#returning-a-view-versus-a-copy\n",
      "  data_copy['Resume'].fillna('Unknown', inplace=True)\n",
      "C:\\Users\\antoi\\AppData\\Local\\Temp\\ipykernel_28480\\3720335642.py:15: SettingWithCopyWarning: \n",
      "A value is trying to be set on a copy of a slice from a DataFrame.\n",
      "Try using .loc[row_indexer,col_indexer] = value instead\n",
      "\n",
      "See the caveats in the documentation: https://pandas.pydata.org/pandas-docs/stable/user_guide/indexing.html#returning-a-view-versus-a-copy\n",
      "  df_runtime['Runtime'] = df_runtime['Runtime'].astype(int)\n",
      "C:\\Users\\antoi\\AppData\\Local\\Temp\\ipykernel_28480\\3720335642.py:16: SettingWithCopyWarning: \n",
      "A value is trying to be set on a copy of a slice from a DataFrame.\n",
      "Try using .loc[row_indexer,col_indexer] = value instead\n",
      "\n",
      "See the caveats in the documentation: https://pandas.pydata.org/pandas-docs/stable/user_guide/indexing.html#returning-a-view-versus-a-copy\n",
      "  data_copy['Runtime'] = data_copy['Runtime'].apply(lambda x: df_runtime['Runtime'].median() if x == '\\\\N' else x)\n",
      "C:\\Users\\antoi\\AppData\\Local\\Temp\\ipykernel_28480\\3720335642.py:17: SettingWithCopyWarning: \n",
      "A value is trying to be set on a copy of a slice from a DataFrame.\n",
      "Try using .loc[row_indexer,col_indexer] = value instead\n",
      "\n",
      "See the caveats in the documentation: https://pandas.pydata.org/pandas-docs/stable/user_guide/indexing.html#returning-a-view-versus-a-copy\n",
      "  data_copy['Runtime'] = data_copy['Runtime'].astype(int)\n",
      "C:\\Users\\antoi\\AppData\\Local\\Temp\\ipykernel_28480\\3720335642.py:19: FutureWarning: A value is trying to be set on a copy of a DataFrame or Series through chained assignment using an inplace method.\n",
      "The behavior will change in pandas 3.0. This inplace method will never work because the intermediate object on which we are setting values always behaves as a copy.\n",
      "\n",
      "For example, when doing 'df[col].method(value, inplace=True)', try using 'df.method({col: value}, inplace=True)' or df[col] = df[col].method(value) instead, to perform the operation inplace on the original object.\n",
      "\n",
      "\n",
      "  data_copy['ProductionCountries'].fillna('Unknown', inplace=True)\n",
      "C:\\Users\\antoi\\AppData\\Local\\Temp\\ipykernel_28480\\3720335642.py:19: SettingWithCopyWarning: \n",
      "A value is trying to be set on a copy of a slice from a DataFrame\n",
      "\n",
      "See the caveats in the documentation: https://pandas.pydata.org/pandas-docs/stable/user_guide/indexing.html#returning-a-view-versus-a-copy\n",
      "  data_copy['ProductionCountries'].fillna('Unknown', inplace=True)\n",
      "C:\\Users\\antoi\\AppData\\Local\\Temp\\ipykernel_28480\\3720335642.py:20: SettingWithCopyWarning: \n",
      "A value is trying to be set on a copy of a slice from a DataFrame.\n",
      "Try using .loc[row_indexer,col_indexer] = value instead\n",
      "\n",
      "See the caveats in the documentation: https://pandas.pydata.org/pandas-docs/stable/user_guide/indexing.html#returning-a-view-versus-a-copy\n",
      "  data_copy['ProductionCountries'] = data_copy['ProductionCountries'].apply(clean_row)\n",
      "C:\\Users\\antoi\\AppData\\Local\\Temp\\ipykernel_28480\\3720335642.py:21: SettingWithCopyWarning: \n",
      "A value is trying to be set on a copy of a slice from a DataFrame.\n",
      "Try using .loc[row_indexer,col_indexer] = value instead\n",
      "\n",
      "See the caveats in the documentation: https://pandas.pydata.org/pandas-docs/stable/user_guide/indexing.html#returning-a-view-versus-a-copy\n",
      "  data_copy['ProductionCompanies'] = data_copy['ProductionCompanies'].apply(clean_row)\n",
      "C:\\Users\\antoi\\AppData\\Local\\Temp\\ipykernel_28480\\3720335642.py:22: SettingWithCopyWarning: \n",
      "A value is trying to be set on a copy of a slice from a DataFrame.\n",
      "Try using .loc[row_indexer,col_indexer] = value instead\n",
      "\n",
      "See the caveats in the documentation: https://pandas.pydata.org/pandas-docs/stable/user_guide/indexing.html#returning-a-view-versus-a-copy\n",
      "  data_copy['ProductionCountries'] = data_copy['ProductionCountries'].apply(\n",
      "C:\\Users\\antoi\\AppData\\Local\\Temp\\ipykernel_28480\\3720335642.py:25: FutureWarning: A value is trying to be set on a copy of a DataFrame or Series through chained assignment using an inplace method.\n",
      "The behavior will change in pandas 3.0. This inplace method will never work because the intermediate object on which we are setting values always behaves as a copy.\n",
      "\n",
      "For example, when doing 'df[col].method(value, inplace=True)', try using 'df.method({col: value}, inplace=True)' or df[col] = df[col].method(value) instead, to perform the operation inplace on the original object.\n",
      "\n",
      "\n",
      "  data_copy['Writers'].fillna('Unknown', inplace=True)\n",
      "C:\\Users\\antoi\\AppData\\Local\\Temp\\ipykernel_28480\\3720335642.py:25: SettingWithCopyWarning: \n",
      "A value is trying to be set on a copy of a slice from a DataFrame\n",
      "\n",
      "See the caveats in the documentation: https://pandas.pydata.org/pandas-docs/stable/user_guide/indexing.html#returning-a-view-versus-a-copy\n",
      "  data_copy['Writers'].fillna('Unknown', inplace=True)\n"
     ]
    }
   ],
   "source": [
    "def clean_row(row):\n",
    "    return row.replace(\"[\", \"\").replace(\"]\", \"\").replace(\"'\", \"\")\n",
    "data_copy.drop(columns= ['Profit','Revenue', 'Budget'], inplace=True) #trop de valeurs manquantes, DF faussé\n",
    "data_copy['ProductionCountries'] = data_copy['ProductionCountries'].apply(lambda x: 'Unknown' if x =='\\\\N' else x)\n",
    "data_copy['Writers'] = data_copy['Writers'].apply(lambda x: 'Unknown' if x== '\\\\N'  else x)\n",
    "data_copy['Resume'] = data_copy['Resume'].apply(lambda x: 'Unknown' if x == '\\\\N'  else x)\n",
    "data_copy['Poster'] = data_copy['Poster'].apply(lambda x: 'Unknown' if x == '\\\\N'  else x)\n",
    "#nettoyage de la colonne Year (il semblerait qu'il y ait qu'une ligne avec une valeur '\\N')\n",
    "data_copy['Year'] = data_copy['Year'].replace('\\\\N', np.nan)\n",
    "data_copy = data_copy.dropna(subset=['Year'])\n",
    "#On convertit la colonne Year en int pour pouvoir l'utiliser dans le modèle\n",
    "data_copy['Year'] = data_copy['Year'].astype(int)\n",
    "data_copy['Resume'].fillna('Unknown', inplace=True)\n",
    "df_runtime = data_copy[data_copy['Runtime'] != '\\\\N']\n",
    "df_runtime['Runtime'] = df_runtime['Runtime'].astype(int)\n",
    "data_copy['Runtime'] = data_copy['Runtime'].apply(lambda x: df_runtime['Runtime'].median() if x == '\\\\N' else x)\n",
    "data_copy['Runtime'] = data_copy['Runtime'].astype(int)\n",
    "data_copy['Runtime'].describe()\n",
    "data_copy['ProductionCountries'].fillna('Unknown', inplace=True)\n",
    "data_copy['ProductionCountries'] = data_copy['ProductionCountries'].apply(clean_row)\n",
    "data_copy['ProductionCompanies'] = data_copy['ProductionCompanies'].apply(clean_row)\n",
    "data_copy['ProductionCountries'] = data_copy['ProductionCountries'].apply(\n",
    "    lambda x: ', '.join(dict.fromkeys(str(x).split(', ')))\n",
    ")\n",
    "data_copy['Writers'].fillna('Unknown', inplace=True)"
   ]
  },
  {
   "cell_type": "code",
   "execution_count": 253,
   "id": "75b4dbc8",
   "metadata": {},
   "outputs": [
    {
     "data": {
      "text/plain": [
       "67280    The story of a teacher and his students, set i...\n",
       "25737    In the aftermath of the most devastating confl...\n",
       "39149    Whilst on their way to a concert four friends ...\n",
       "26623    To Jane Falbury's New England farm comes a tro...\n",
       "96840    A laid-back countryside detective Byung-su tak...\n",
       "Name: Resume, dtype: object"
      ]
     },
     "execution_count": 253,
     "metadata": {},
     "output_type": "execute_result"
    }
   ],
   "source": [
    "data['Resume'].sample(5)"
   ]
  },
  {
   "cell_type": "code",
   "execution_count": 140,
   "id": "0c320a93",
   "metadata": {},
   "outputs": [
    {
     "data": {
      "text/html": [
       "<div>\n",
       "<style scoped>\n",
       "    .dataframe tbody tr th:only-of-type {\n",
       "        vertical-align: middle;\n",
       "    }\n",
       "\n",
       "    .dataframe tbody tr th {\n",
       "        vertical-align: top;\n",
       "    }\n",
       "\n",
       "    .dataframe thead th {\n",
       "        text-align: right;\n",
       "    }\n",
       "</style>\n",
       "<table border=\"1\" class=\"dataframe\">\n",
       "  <thead>\n",
       "    <tr style=\"text-align: right;\">\n",
       "      <th></th>\n",
       "      <th>tconst</th>\n",
       "      <th>Title</th>\n",
       "      <th>Genres</th>\n",
       "      <th>Year</th>\n",
       "      <th>Runtime</th>\n",
       "      <th>Actors</th>\n",
       "      <th>Director</th>\n",
       "      <th>Writers</th>\n",
       "      <th>Resume</th>\n",
       "      <th>Rating</th>\n",
       "      <th>Votes</th>\n",
       "      <th>Budget</th>\n",
       "      <th>Revenue</th>\n",
       "      <th>Profit</th>\n",
       "      <th>ProductionCompanies</th>\n",
       "      <th>ProductionCountries</th>\n",
       "      <th>Poster</th>\n",
       "    </tr>\n",
       "  </thead>\n",
       "  <tbody>\n",
       "    <tr>\n",
       "      <th>98662</th>\n",
       "      <td>tt8956872</td>\n",
       "      <td>Valhalla: The Legend of Thor</td>\n",
       "      <td>Adventure,Fantasy,Thriller</td>\n",
       "      <td>2019</td>\n",
       "      <td>105</td>\n",
       "      <td>Ali Sivandi, Lára Jóhanna Jónsdóttir, Asbjørn ...</td>\n",
       "      <td>Fenar Ahmad</td>\n",
       "      <td>Fenar Ahmad, Peter Madsen, Adam August</td>\n",
       "      <td>The Viking children Røskva and Tjalfe embark o...</td>\n",
       "      <td>5.2</td>\n",
       "      <td>3846</td>\n",
       "      <td>5256817</td>\n",
       "      <td>70821</td>\n",
       "      <td>-5185996</td>\n",
       "      <td>['Profile Pictures', 'Nordisk Film', 'Bacon', ...</td>\n",
       "      <td>['DK', '', 'NO', '', 'IS', '', 'NO', 'DK', 'DK...</td>\n",
       "      <td>/lVGMUzFfmASySiIL52GVkzoREpW.jpg</td>\n",
       "    </tr>\n",
       "    <tr>\n",
       "      <th>82094</th>\n",
       "      <td>tt11854240</td>\n",
       "      <td>Appunti di un venditore di donne</td>\n",
       "      <td>Drama,Thriller</td>\n",
       "      <td>2021</td>\n",
       "      <td>125</td>\n",
       "      <td>Libero De Rienzo, Claudio Bigagli, Miriam Dalm...</td>\n",
       "      <td>Fabio Resinaro</td>\n",
       "      <td>Fabio Resinaro, Giorgio Faletti</td>\n",
       "      <td>Set in 1978 Milan, Bravo lives his life among ...</td>\n",
       "      <td>6.3</td>\n",
       "      <td>444</td>\n",
       "      <td>0</td>\n",
       "      <td>0</td>\n",
       "      <td>0</td>\n",
       "      <td>['Èliseo Entertainment', 'RAI']</td>\n",
       "      <td>['IT', 'IT']</td>\n",
       "      <td>/oj5wcSTwYBT838q9zCSIVuhXVTO.jpg</td>\n",
       "    </tr>\n",
       "  </tbody>\n",
       "</table>\n",
       "</div>"
      ],
      "text/plain": [
       "           tconst                             Title  \\\n",
       "98662   tt8956872      Valhalla: The Legend of Thor   \n",
       "82094  tt11854240  Appunti di un venditore di donne   \n",
       "\n",
       "                           Genres  Year  Runtime  \\\n",
       "98662  Adventure,Fantasy,Thriller  2019      105   \n",
       "82094              Drama,Thriller  2021      125   \n",
       "\n",
       "                                                  Actors        Director  \\\n",
       "98662  Ali Sivandi, Lára Jóhanna Jónsdóttir, Asbjørn ...     Fenar Ahmad   \n",
       "82094  Libero De Rienzo, Claudio Bigagli, Miriam Dalm...  Fabio Resinaro   \n",
       "\n",
       "                                      Writers  \\\n",
       "98662  Fenar Ahmad, Peter Madsen, Adam August   \n",
       "82094         Fabio Resinaro, Giorgio Faletti   \n",
       "\n",
       "                                                  Resume  Rating  Votes  \\\n",
       "98662  The Viking children Røskva and Tjalfe embark o...     5.2   3846   \n",
       "82094  Set in 1978 Milan, Bravo lives his life among ...     6.3    444   \n",
       "\n",
       "        Budget  Revenue   Profit  \\\n",
       "98662  5256817    70821 -5185996   \n",
       "82094        0        0        0   \n",
       "\n",
       "                                     ProductionCompanies  \\\n",
       "98662  ['Profile Pictures', 'Nordisk Film', 'Bacon', ...   \n",
       "82094                    ['Èliseo Entertainment', 'RAI']   \n",
       "\n",
       "                                     ProductionCountries  \\\n",
       "98662  ['DK', '', 'NO', '', 'IS', '', 'NO', 'DK', 'DK...   \n",
       "82094                                       ['IT', 'IT']   \n",
       "\n",
       "                                 Poster  \n",
       "98662  /lVGMUzFfmASySiIL52GVkzoREpW.jpg  \n",
       "82094  /oj5wcSTwYBT838q9zCSIVuhXVTO.jpg  "
      ]
     },
     "execution_count": 140,
     "metadata": {},
     "output_type": "execute_result"
    }
   ],
   "source": [
    "data_copy.sample(2)"
   ]
  },
  {
   "cell_type": "code",
   "execution_count": 179,
   "id": "eb36b616",
   "metadata": {},
   "outputs": [
    {
     "name": "stdout",
     "output_type": "stream",
     "text": [
      "<class 'pandas.core.frame.DataFrame'>\n",
      "RangeIndex: 101563 entries, 0 to 101562\n",
      "Data columns (total 17 columns):\n",
      " #   Column               Non-Null Count   Dtype  \n",
      "---  ------               --------------   -----  \n",
      " 0   tconst               101563 non-null  object \n",
      " 1   Title                101563 non-null  object \n",
      " 2   Genres               101563 non-null  object \n",
      " 3   Year                 101562 non-null  object \n",
      " 4   Runtime              101563 non-null  object \n",
      " 5   Actors               101563 non-null  object \n",
      " 6   Director             101563 non-null  object \n",
      " 7   Writers              101563 non-null  object \n",
      " 8   Resume               101563 non-null  object \n",
      " 9   Rating               101563 non-null  float64\n",
      " 10  Votes                101563 non-null  int64  \n",
      " 11  Budget               101563 non-null  int64  \n",
      " 12  Revenue              101563 non-null  int64  \n",
      " 13  Profit               101563 non-null  int64  \n",
      " 14  ProductionCompanies  101563 non-null  object \n",
      " 15  ProductionCountries  101563 non-null  object \n",
      " 16  Poster               101563 non-null  object \n",
      "dtypes: float64(1), int64(4), object(12)\n",
      "memory usage: 13.2+ MB\n"
     ]
    }
   ],
   "source": [
    "data_copy.info()"
   ]
  },
  {
   "cell_type": "code",
   "execution_count": 255,
   "id": "b4be7015",
   "metadata": {},
   "outputs": [],
   "source": [
    "#60111 valeurs manquantes dans la colonne ProductionCountries\n",
    "data_copy['ProductionCountries'].isna().sum()\n",
    "#On remplace les valeurs manquantes par une ['Unknown'] pour garder la structure de la colonne\n",
    "data_copy['ProductionCountries'] = data_copy['ProductionCountries'].apply(lambda x: 'Unknown' if x =='\\\\N' else x)"
   ]
  },
  {
   "cell_type": "code",
   "execution_count": 257,
   "id": "c89ef65b",
   "metadata": {},
   "outputs": [
    {
     "data": {
      "text/plain": [
       "76095    Gatti focuses on two men in a German concentra...\n",
       "97630    75-year-old Giuseppe De Metrio has spent 30 ye...\n",
       "16294    Siddhartha is the story of a young Brahmin and...\n",
       "23571    A man's 10-year search for the underlying caus...\n",
       "91869    Edgar Allan Poe's macabre masterpiece of murde...\n",
       "23412    This is a sensitive film about human solidarit...\n",
       "50012    The story of the Three Musketeers, D'Artagnan,...\n",
       "48043    In 1970, a man is tortured and murdered by the...\n",
       "79733    Tells the story of young Daniela ‘Blue Jeans’ ...\n",
       "15911    In the 1970s a music promoter plucks Siamese t...\n",
       "Name: Resume, dtype: object"
      ]
     },
     "execution_count": 257,
     "metadata": {},
     "output_type": "execute_result"
    }
   ],
   "source": [
    "data_copy['Resume'].sample(10)"
   ]
  },
  {
   "cell_type": "markdown",
   "id": "555ddf5f",
   "metadata": {},
   "source": [
    "PREMIER ESSAI d'UN KNN SUR YEAR POUR ESSAYER L'ALGO"
   ]
  },
  {
   "cell_type": "code",
   "execution_count": 10,
   "id": "9f83f1a1",
   "metadata": {},
   "outputs": [],
   "source": [
    "#import de la bibliothèque scikit-learn\n",
    "from sklearn.neighbors import NearestNeighbors\n",
    "from sklearn.preprocessing import StandardScaler\n",
    "from sklearn.model_selection import train_test_split\n",
    "from sklearn.preprocessing import LabelEncoder\n",
    "from sklearn.pipeline import Pipeline\n",
    "from sklearn.compose import ColumnTransformer  \n",
    "\n"
   ]
  },
  {
   "cell_type": "code",
   "execution_count": 258,
   "id": "061ae29e",
   "metadata": {},
   "outputs": [
    {
     "name": "stdout",
     "output_type": "stream",
     "text": [
      "<class 'pandas.core.frame.DataFrame'>\n",
      "Index: 101562 entries, 0 to 101562\n",
      "Data columns (total 17 columns):\n",
      " #   Column               Non-Null Count   Dtype  \n",
      "---  ------               --------------   -----  \n",
      " 0   tconst               101562 non-null  object \n",
      " 1   Title                101562 non-null  object \n",
      " 2   Genres               101562 non-null  object \n",
      " 3   Year                 101562 non-null  int64  \n",
      " 4   Runtime              101562 non-null  object \n",
      " 5   Actors               101562 non-null  object \n",
      " 6   Director             101562 non-null  object \n",
      " 7   Writers              99411 non-null   object \n",
      " 8   Resume               100411 non-null  object \n",
      " 9   Rating               101562 non-null  float64\n",
      " 10  Votes                101562 non-null  int64  \n",
      " 11  Budget               101562 non-null  int64  \n",
      " 12  Revenue              101562 non-null  int64  \n",
      " 13  Profit               101562 non-null  int64  \n",
      " 14  ProductionCompanies  101562 non-null  object \n",
      " 15  ProductionCountries  41451 non-null   object \n",
      " 16  Poster               99331 non-null   object \n",
      "dtypes: float64(1), int64(5), object(11)\n",
      "memory usage: 13.9+ MB\n"
     ]
    },
    {
     "name": "stderr",
     "output_type": "stream",
     "text": [
      "C:\\Users\\antoi\\AppData\\Local\\Temp\\ipykernel_28480\\3438241628.py:5: SettingWithCopyWarning: \n",
      "A value is trying to be set on a copy of a slice from a DataFrame.\n",
      "Try using .loc[row_indexer,col_indexer] = value instead\n",
      "\n",
      "See the caveats in the documentation: https://pandas.pydata.org/pandas-docs/stable/user_guide/indexing.html#returning-a-view-versus-a-copy\n",
      "  data_copy['Year'] = data_copy['Year'].astype(int)\n"
     ]
    }
   ],
   "source": [
    "#nettoyage de la colonne Year (il semblerait qu'il y ait qu'une ligne avec une valeur '\\N')\n",
    "data_copy['Year'] = data_copy['Year'].replace('\\\\N', np.nan)\n",
    "data_copy = data_copy.dropna(subset=['Year'])\n",
    "#On convertit la colonne Year en int pour pouvoir l'utiliser dans le modèle\n",
    "data_copy['Year'] = data_copy['Year'].astype(int)\n",
    "#On vérifie que la colonne Year ne contient plus de valeurs manquantes\n",
    "data_copy.info()\n"
   ]
  },
  {
   "cell_type": "code",
   "execution_count": 28,
   "id": "3d5f1698",
   "metadata": {},
   "outputs": [
    {
     "name": "stdout",
     "output_type": "stream",
     "text": [
      "Distances: [[0. 0. 0. 0. 0.]]\n",
      "Indices: [[ 57 202 203   0  84]]\n"
     ]
    }
   ],
   "source": [
    "#Tentative de KNN sur Year\n",
    "X_year = data_copy[['Year']]\n",
    "\n",
    "knn = NearestNeighbors(n_neighbors=5, metric='euclidean')\n",
    "knn.fit(X_year)\n",
    "\n",
    "distances, indices = knn.kneighbors(X_year.iloc[[0]])\n",
    "print(\"Distances:\", distances)\n",
    "print(\"Indices:\", indices)"
   ]
  },
  {
   "cell_type": "markdown",
   "id": "e2907f6c",
   "metadata": {},
   "source": [
    "les résultats indiquent que le knn fonctionnent mais ne sert à rien puisque basé que sur des années "
   ]
  },
  {
   "cell_type": "markdown",
   "id": "df724c55",
   "metadata": {},
   "source": []
  },
  {
   "cell_type": "markdown",
   "id": "76fcb432",
   "metadata": {},
   "source": [
    "une fois les indices trouvés : boucle pour afficher le poster"
   ]
  },
  {
   "cell_type": "code",
   "execution_count": 49,
   "id": "285c27aa",
   "metadata": {},
   "outputs": [
    {
     "name": "stdout",
     "output_type": "stream",
     "text": [
      "https://image.tmdb.org/t/p/w185/cXOLaxcNjNAYmEx1trZxOTKhK3Q.jpg\n",
      "https://image.tmdb.org/t/p/w185/uluhlXubGu1VxU63X9VHCLWDAYP.jpg\n",
      "https://image.tmdb.org/t/p/w185/momkKuWburNTqKBF6ez7rvhYVhE.jpg\n",
      "https://image.tmdb.org/t/p/w185/jRXYjXNq0Cs2TcJjLkki24MLp7u.jpg\n",
      "https://image.tmdb.org/t/p/w185/z7uo9zmQdQwU5ZJHFpv2Upl30i1.jpg\n"
     ]
    }
   ],
   "source": [
    "pd.options.display.max_rows = 999\n",
    "url = 'https://image.tmdb.org/t/p/w185'\n",
    "for i in indices[0]:\n",
    "    a = url+data_copy['Poster'].iloc[i]\n",
    "    print(a)\n"
   ]
  },
  {
   "cell_type": "code",
   "execution_count": 48,
   "id": "e876c686",
   "metadata": {},
   "outputs": [
    {
     "name": "stdout",
     "output_type": "stream",
     "text": [
      "https://image.tmdb.org/t/p/w185/j5jM5pq78ObAXX1WhTsb115EkLl.jpg\n",
      "https://image.tmdb.org/t/p/w185/uluhlXubGu1VxU63X9VHCLWDAYP.jpg\n",
      "[ 57 202 203   0  84]\n"
     ]
    }
   ],
   "source": [
    "print(url+data_copy['Poster'].iloc[97])\n",
    "print(url+data_copy['Poster'].iloc[202])\n",
    "print(indices[0])"
   ]
  },
  {
   "cell_type": "markdown",
   "id": "3c73efca",
   "metadata": {},
   "source": [
    "tentative avec Realisator : pas possible, il faut encoder les données, KNN n'accepte que les données numériques"
   ]
  },
  {
   "cell_type": "code",
   "execution_count": 259,
   "id": "91ec3bc6",
   "metadata": {},
   "outputs": [
    {
     "data": {
      "text/plain": [
       "Index(['Year', 'Rating', 'Votes', 'Budget', 'Revenue', 'Profit'], dtype='object')"
      ]
     },
     "execution_count": 259,
     "metadata": {},
     "output_type": "execute_result"
    }
   ],
   "source": [
    "data_copy.select_dtypes('number').columns"
   ]
  },
  {
   "cell_type": "markdown",
   "id": "1de00b82",
   "metadata": {},
   "source": [
    "sur les colonnes numériques (pas très représentatif car DF classé par recettes)"
   ]
  },
  {
   "cell_type": "code",
   "execution_count": 51,
   "id": "63ea9580",
   "metadata": {},
   "outputs": [
    {
     "name": "stdout",
     "output_type": "stream",
     "text": [
      "Distances: [[2.69713922e+09 2.69713923e+09 2.69713923e+09 2.69713924e+09\n",
      "  2.69713924e+09]]\n",
      "Indices: [[0 1 2 3 4]]\n",
      "0                                        Avatar\n",
      "1                             Avengers: Endgame\n",
      "2                                       Titanic\n",
      "3                      Avatar: The Way of Water\n",
      "4    Star Wars: Episode VII - The Force Awakens\n",
      "Name: Title, dtype: object\n"
     ]
    },
    {
     "name": "stderr",
     "output_type": "stream",
     "text": [
      "c:\\Users\\antoi\\Documents\\WCS\\Projet-2\\.venv\\Lib\\site-packages\\sklearn\\utils\\validation.py:2732: UserWarning: X has feature names, but NearestNeighbors was fitted without feature names\n",
      "  warnings.warn(\n"
     ]
    }
   ],
   "source": [
    "X_num = data_copy.select_dtypes('number').drop(columns=['Revenue'])\n",
    "\n",
    "pipeline = Pipeline([\n",
    "    ('scaler', StandardScaler()),\n",
    "    ('knn', NearestNeighbors(n_neighbors=5, metric='euclidean'))\n",
    "])\n",
    "\n",
    "\n",
    "pipeline.fit(X_num)\n",
    "\n",
    "distances, indices = pipeline.named_steps['knn'].kneighbors(X_num.iloc[[0]])\n",
    "print(\"Distances:\", distances)\n",
    "print(\"Indices:\", indices)\n",
    "for i in indices:\n",
    "    print(data_copy['Title'].iloc[i])"
   ]
  },
  {
   "cell_type": "code",
   "execution_count": 60,
   "id": "40d07f32",
   "metadata": {},
   "outputs": [
    {
     "name": "stdout",
     "output_type": "stream",
     "text": [
      "Distances: [[1430988.99219377 1430989.33882759 1430994.50384651 1430997.84894571\n",
      "  1430999.16358842 1430999.67765745 1430999.84301597 1431002.58017398\n",
      "  1431003.05689887 1431003.31625462]]\n",
      "Indices: [[6289   54   94 2490  111  145  581  227  484   63]]\n",
      "Avatar\n",
      "The Shawshank Redemption\n",
      "The Dark Knight\n",
      "Inception\n",
      "Fight Club\n",
      "Forrest Gump\n",
      "Interstellar\n",
      "Pulp Fiction\n",
      "The Matrix\n",
      "The Godfather\n",
      "The Lord of the Rings: The Fellowship of the Ring\n"
     ]
    },
    {
     "name": "stderr",
     "output_type": "stream",
     "text": [
      "c:\\Users\\antoi\\Documents\\WCS\\Projet-2\\.venv\\Lib\\site-packages\\sklearn\\utils\\validation.py:2732: UserWarning: X has feature names, but NearestNeighbors was fitted without feature names\n",
      "  warnings.warn(\n"
     ]
    }
   ],
   "source": [
    "X_rates_year = data_copy[['Rating', 'Votes', 'Year']]\n",
    "\n",
    "pipeline = Pipeline([\n",
    "    ('scaler', StandardScaler()),\n",
    "    ('knn', NearestNeighbors(n_neighbors=10, metric='euclidean'))\n",
    "])\n",
    "\n",
    "film = 0\n",
    "pipeline.fit(X_rates_year)\n",
    "\n",
    "distances, indices = pipeline.named_steps['knn'].kneighbors(X_rates_year.iloc[[film]])\n",
    "print(\"Distances:\", distances)\n",
    "print(\"Indices:\", indices)\n",
    "print(data_copy['Title'].iloc[film])\n",
    "for i in indices[0]:\n",
    "    print(data_copy['Title'].iloc[i])"
   ]
  },
  {
   "cell_type": "markdown",
   "id": "153ecd6d",
   "metadata": {},
   "source": [
    "UTILISATION DE TfidfVectorizer POUR LES COLONNES NON NUMERIQUES"
   ]
  },
  {
   "cell_type": "code",
   "execution_count": 27,
   "id": "c9d9c6a7",
   "metadata": {},
   "outputs": [],
   "source": [
    "from sklearn.feature_extraction.text import TfidfVectorizer\n",
    "from sklearn.compose import ColumnTransformer"
   ]
  },
  {
   "cell_type": "code",
   "execution_count": null,
   "id": "6449e8af",
   "metadata": {},
   "outputs": [],
   "source": [
    "X_text = data_copy[['Resume', 'Title']]\n",
    "\n",
    "preprocessor = ColumnTransformer(\n",
    "    transformers= [\n",
    "        ('Resume', TfidfVectorizer(stop_words='english'), 'Resume'),\n",
    "        ('Title', TfidfVectorizer(stop_words='english'), 'Title')\n",
    "    ],\n",
    "    )  \n",
    "\n",
    "pipeline = Pipeline([\n",
    "    ('preprocessor', preprocessor),\n",
    "    ('knn', NearestNeighbors(n_neighbors=5, metric='cosine'))\n",
    "\n",
    "])\n",
    "\n",
    "pipeline.fit(X_text)\n",
    "distances, indices = pipeline.named_steps['knn'].kneighbors(X_text.iloc[[0]])\n",
    "print(\"Distances:\", distances)\n",
    "print(\"Indices:\", indices)"
   ]
  },
  {
   "cell_type": "code",
   "execution_count": 260,
   "id": "ea98f482",
   "metadata": {},
   "outputs": [
    {
     "data": {
      "text/html": [
       "<div>\n",
       "<style scoped>\n",
       "    .dataframe tbody tr th:only-of-type {\n",
       "        vertical-align: middle;\n",
       "    }\n",
       "\n",
       "    .dataframe tbody tr th {\n",
       "        vertical-align: top;\n",
       "    }\n",
       "\n",
       "    .dataframe thead th {\n",
       "        text-align: right;\n",
       "    }\n",
       "</style>\n",
       "<table border=\"1\" class=\"dataframe\">\n",
       "  <thead>\n",
       "    <tr style=\"text-align: right;\">\n",
       "      <th></th>\n",
       "      <th>Resume</th>\n",
       "      <th>Title</th>\n",
       "    </tr>\n",
       "  </thead>\n",
       "  <tbody>\n",
       "    <tr>\n",
       "      <th>0</th>\n",
       "      <td>In the 22nd century, a paraplegic Marine is di...</td>\n",
       "      <td>Avatar</td>\n",
       "    </tr>\n",
       "    <tr>\n",
       "      <th>1</th>\n",
       "      <td>After the devastating events of Avengers: Infi...</td>\n",
       "      <td>Avengers: Endgame</td>\n",
       "    </tr>\n",
       "    <tr>\n",
       "      <th>2</th>\n",
       "      <td>101-year-old Rose DeWitt Bukater tells the sto...</td>\n",
       "      <td>Titanic</td>\n",
       "    </tr>\n",
       "    <tr>\n",
       "      <th>3</th>\n",
       "      <td>Set more than a decade after the events of the...</td>\n",
       "      <td>Avatar: The Way of Water</td>\n",
       "    </tr>\n",
       "    <tr>\n",
       "      <th>4</th>\n",
       "      <td>Thirty years after defeating the Galactic Empi...</td>\n",
       "      <td>Star Wars: Episode VII - The Force Awakens</td>\n",
       "    </tr>\n",
       "  </tbody>\n",
       "</table>\n",
       "</div>"
      ],
      "text/plain": [
       "                                              Resume  \\\n",
       "0  In the 22nd century, a paraplegic Marine is di...   \n",
       "1  After the devastating events of Avengers: Infi...   \n",
       "2  101-year-old Rose DeWitt Bukater tells the sto...   \n",
       "3  Set more than a decade after the events of the...   \n",
       "4  Thirty years after defeating the Galactic Empi...   \n",
       "\n",
       "                                        Title  \n",
       "0                                      Avatar  \n",
       "1                           Avengers: Endgame  \n",
       "2                                     Titanic  \n",
       "3                    Avatar: The Way of Water  \n",
       "4  Star Wars: Episode VII - The Force Awakens  "
      ]
     },
     "execution_count": 260,
     "metadata": {},
     "output_type": "execute_result"
    }
   ],
   "source": [
    "data_copy[['Resume','Title']].head()"
   ]
  },
  {
   "cell_type": "code",
   "execution_count": 264,
   "id": "e377e6a6",
   "metadata": {},
   "outputs": [
    {
     "name": "stderr",
     "output_type": "stream",
     "text": [
      "C:\\Users\\antoi\\AppData\\Local\\Temp\\ipykernel_28480\\1950687486.py:3: SettingWithCopyWarning: \n",
      "A value is trying to be set on a copy of a slice from a DataFrame\n",
      "\n",
      "See the caveats in the documentation: https://pandas.pydata.org/pandas-docs/stable/user_guide/indexing.html#returning-a-view-versus-a-copy\n",
      "  data_copy['Resume'].fillna('Unknown', inplace=True)\n"
     ]
    },
    {
     "data": {
      "text/plain": [
       "np.int64(0)"
      ]
     },
     "execution_count": 264,
     "metadata": {},
     "output_type": "execute_result"
    }
   ],
   "source": [
    "data_copy['Resume'].apply(type).value_counts()\n",
    "data_copy['Resume'].isna().sum()\n",
    "data_copy['Resume'].fillna('Unknown', inplace=True)\n",
    "data_copy['Resume'].isna().sum()"
   ]
  },
  {
   "cell_type": "code",
   "execution_count": null,
   "id": "3a797c48",
   "metadata": {},
   "outputs": [],
   "source": [
    "data_copy['Resume'] = data_copy['Resume'].apply(lambda x: x[0] if isinstance(x, list) else x)\n",
    "X_text = data_copy[['Resume', 'Title']]\n",
    "\n",
    "preprocessor = ColumnTransformer(\n",
    "    transformers= [\n",
    "        ('Resume', TfidfVectorizer(stop_words='english'), 'Resume'),\n",
    "        ('Title', TfidfVectorizer(stop_words='english'), 'Title')\n",
    "    ],\n",
    "    )  \n",
    "\n",
    "pipeline = Pipeline([\n",
    "    ('preprocessor', preprocessor),\n",
    "    ('knn', NearestNeighbors(n_neighbors=5, metric='cosine'))\n",
    "\n",
    "])\n",
    "\n",
    "pipeline.fit(X_text)\n",
    "vectorized_data = pipeline.named_steps['preprocessor'].transform(X_text)\n",
    "distances, indices = pipeline.named_steps['knn'].kneighbors(vectorized_data[[0]])\n",
    "print(\"Distances:\", distances)\n",
    "print(\"Indices:\", indices)\n",
    "for i in indices[0]:\n",
    "    print(data_copy['Title'].iloc[i])\n",
    "    print(data_copy['Resume'].iloc[i])\n",
    "    print()"
   ]
  },
  {
   "cell_type": "code",
   "execution_count": null,
   "id": "94e86cee",
   "metadata": {},
   "outputs": [],
   "source": [
    "data_copy['Resume'] = data_copy['Resume'].apply(lambda x: x[0] if isinstance(x, list) else x)\n",
    "X_text = data_copy[['Resume', 'Title', 'Genres', 'Director', 'Rating', 'Votes']]\n",
    "\n",
    "preprocessor = ColumnTransformer(\n",
    "    transformers= [\n",
    "        ('Resume', TfidfVectorizer(stop_words='english'), 'Resume'),\n",
    "        ('Genres', TfidfVectorizer(stop_words='english'), 'Genres'),\n",
    "        ('Title', TfidfVectorizer(stop_words='english'), 'Title'),\n",
    "        ('Director', TfidfVectorizer(stop_words='english'), 'Director'),\n",
    "        ('Rating', StandardScaler(), 'Rating'),\n",
    "        ('Votes', StandardScaler(), 'Votes')\n",
    "    ],\n",
    "    )  \n",
    "\n",
    "pipeline = Pipeline([\n",
    "    ('preprocessor', preprocessor),\n",
    "    ('knn', NearestNeighbors(n_neighbors=5, metric='cosine'))\n",
    "\n",
    "])\n",
    "film_index = 5\n",
    "pipeline.fit(X_text)\n",
    "vectorized_data = pipeline.named_steps['preprocessor'].transform(X_text)\n",
    "distances, indices = pipeline.named_steps['knn'].kneighbors(vectorized_data.getrow(film_index))\n",
    "print(\"Distances:\", distances)\n",
    "print(\"Indices:\", indices)\n",
    "for i in indices[0]:\n",
    "    print(data_copy['Title'].iloc[i])\n",
    "    print(data_copy['Resume'].iloc[i])\n",
    "    print(data_copy['Director'].iloc[i])\n",
    "    print()"
   ]
  },
  {
   "cell_type": "code",
   "execution_count": null,
   "id": "6aa59b78",
   "metadata": {},
   "outputs": [],
   "source": [
    "num_cols = data_copy.select_dtypes('number')\n",
    "non_num_cols = data_copy.select_dtypes(exclude='number')\n",
    "non_num_cols.drop(columns=['tconst', 'Poster'], inplace=True)\n"
   ]
  },
  {
   "cell_type": "code",
   "execution_count": 296,
   "id": "59b66dd3",
   "metadata": {},
   "outputs": [
    {
     "data": {
      "text/html": [
       "<div>\n",
       "<style scoped>\n",
       "    .dataframe tbody tr th:only-of-type {\n",
       "        vertical-align: middle;\n",
       "    }\n",
       "\n",
       "    .dataframe tbody tr th {\n",
       "        vertical-align: top;\n",
       "    }\n",
       "\n",
       "    .dataframe thead th {\n",
       "        text-align: right;\n",
       "    }\n",
       "</style>\n",
       "<table border=\"1\" class=\"dataframe\">\n",
       "  <thead>\n",
       "    <tr style=\"text-align: right;\">\n",
       "      <th></th>\n",
       "      <th>Year</th>\n",
       "      <th>Runtime</th>\n",
       "      <th>Rating</th>\n",
       "      <th>Votes</th>\n",
       "      <th>Budget</th>\n",
       "      <th>Revenue</th>\n",
       "      <th>Profit</th>\n",
       "    </tr>\n",
       "  </thead>\n",
       "  <tbody>\n",
       "    <tr>\n",
       "      <th>83</th>\n",
       "      <td>2021</td>\n",
       "      <td>136</td>\n",
       "      <td>5.6</td>\n",
       "      <td>2886</td>\n",
       "      <td>0</td>\n",
       "      <td>686257563</td>\n",
       "      <td>686257563</td>\n",
       "    </tr>\n",
       "    <tr>\n",
       "      <th>91</th>\n",
       "      <td>2023</td>\n",
       "      <td>159</td>\n",
       "      <td>6.4</td>\n",
       "      <td>3697</td>\n",
       "      <td>0</td>\n",
       "      <td>673556758</td>\n",
       "      <td>673556758</td>\n",
       "    </tr>\n",
       "    <tr>\n",
       "      <th>150</th>\n",
       "      <td>2017</td>\n",
       "      <td>106</td>\n",
       "      <td>7.8</td>\n",
       "      <td>773484</td>\n",
       "      <td>0</td>\n",
       "      <td>527000000</td>\n",
       "      <td>527000000</td>\n",
       "    </tr>\n",
       "    <tr>\n",
       "      <th>186</th>\n",
       "      <td>2022</td>\n",
       "      <td>122</td>\n",
       "      <td>6.4</td>\n",
       "      <td>2022</td>\n",
       "      <td>0</td>\n",
       "      <td>460300583</td>\n",
       "      <td>460300583</td>\n",
       "    </tr>\n",
       "    <tr>\n",
       "      <th>193</th>\n",
       "      <td>2019</td>\n",
       "      <td>154</td>\n",
       "      <td>6.3</td>\n",
       "      <td>2393</td>\n",
       "      <td>0</td>\n",
       "      <td>450064993</td>\n",
       "      <td>450064993</td>\n",
       "    </tr>\n",
       "    <tr>\n",
       "      <th>...</th>\n",
       "      <td>...</td>\n",
       "      <td>...</td>\n",
       "      <td>...</td>\n",
       "      <td>...</td>\n",
       "      <td>...</td>\n",
       "      <td>...</td>\n",
       "      <td>...</td>\n",
       "    </tr>\n",
       "    <tr>\n",
       "      <th>91762</th>\n",
       "      <td>1999</td>\n",
       "      <td>84</td>\n",
       "      <td>4.1</td>\n",
       "      <td>611</td>\n",
       "      <td>0</td>\n",
       "      <td>0</td>\n",
       "      <td>0</td>\n",
       "    </tr>\n",
       "    <tr>\n",
       "      <th>91763</th>\n",
       "      <td>2017</td>\n",
       "      <td>90</td>\n",
       "      <td>7.5</td>\n",
       "      <td>510</td>\n",
       "      <td>0</td>\n",
       "      <td>0</td>\n",
       "      <td>0</td>\n",
       "    </tr>\n",
       "    <tr>\n",
       "      <th>91764</th>\n",
       "      <td>2022</td>\n",
       "      <td>71</td>\n",
       "      <td>6.8</td>\n",
       "      <td>270</td>\n",
       "      <td>0</td>\n",
       "      <td>0</td>\n",
       "      <td>0</td>\n",
       "    </tr>\n",
       "    <tr>\n",
       "      <th>91765</th>\n",
       "      <td>2021</td>\n",
       "      <td>95</td>\n",
       "      <td>7.7</td>\n",
       "      <td>1813</td>\n",
       "      <td>0</td>\n",
       "      <td>0</td>\n",
       "      <td>0</td>\n",
       "    </tr>\n",
       "    <tr>\n",
       "      <th>91766</th>\n",
       "      <td>2022</td>\n",
       "      <td>106</td>\n",
       "      <td>7.2</td>\n",
       "      <td>567</td>\n",
       "      <td>0</td>\n",
       "      <td>0</td>\n",
       "      <td>0</td>\n",
       "    </tr>\n",
       "  </tbody>\n",
       "</table>\n",
       "<p>85898 rows × 7 columns</p>\n",
       "</div>"
      ],
      "text/plain": [
       "       Year  Runtime  Rating   Votes  Budget    Revenue     Profit\n",
       "83     2021      136     5.6    2886       0  686257563  686257563\n",
       "91     2023      159     6.4    3697       0  673556758  673556758\n",
       "150    2017      106     7.8  773484       0  527000000  527000000\n",
       "186    2022      122     6.4    2022       0  460300583  460300583\n",
       "193    2019      154     6.3    2393       0  450064993  450064993\n",
       "...     ...      ...     ...     ...     ...        ...        ...\n",
       "91762  1999       84     4.1     611       0          0          0\n",
       "91763  2017       90     7.5     510       0          0          0\n",
       "91764  2022       71     6.8     270       0          0          0\n",
       "91765  2021       95     7.7    1813       0          0          0\n",
       "91766  2022      106     7.2     567       0          0          0\n",
       "\n",
       "[85898 rows x 7 columns]"
      ]
     },
     "execution_count": 296,
     "metadata": {},
     "output_type": "execute_result"
    }
   ],
   "source": [
    "num_cols[num_cols['Budget'] == 0]"
   ]
  },
  {
   "cell_type": "code",
   "execution_count": 293,
   "id": "c0621472",
   "metadata": {},
   "outputs": [
    {
     "data": {
      "text/html": [
       "<div>\n",
       "<style scoped>\n",
       "    .dataframe tbody tr th:only-of-type {\n",
       "        vertical-align: middle;\n",
       "    }\n",
       "\n",
       "    .dataframe tbody tr th {\n",
       "        vertical-align: top;\n",
       "    }\n",
       "\n",
       "    .dataframe thead th {\n",
       "        text-align: right;\n",
       "    }\n",
       "</style>\n",
       "<table border=\"1\" class=\"dataframe\">\n",
       "  <thead>\n",
       "    <tr style=\"text-align: right;\">\n",
       "      <th></th>\n",
       "      <th>tconst</th>\n",
       "      <th>Title</th>\n",
       "      <th>Genres</th>\n",
       "      <th>Year</th>\n",
       "      <th>Runtime</th>\n",
       "      <th>Actors</th>\n",
       "      <th>Director</th>\n",
       "      <th>Writers</th>\n",
       "      <th>Resume</th>\n",
       "      <th>Rating</th>\n",
       "      <th>Votes</th>\n",
       "      <th>Budget</th>\n",
       "      <th>Revenue</th>\n",
       "      <th>Profit</th>\n",
       "      <th>ProductionCompanies</th>\n",
       "      <th>ProductionCountries</th>\n",
       "      <th>Poster</th>\n",
       "    </tr>\n",
       "  </thead>\n",
       "  <tbody>\n",
       "    <tr>\n",
       "      <th>101559</th>\n",
       "      <td>tt1074638</td>\n",
       "      <td>Skyfall</td>\n",
       "      <td>Action,Adventure,Thriller</td>\n",
       "      <td>2012</td>\n",
       "      <td>143</td>\n",
       "      <td>Rory Kinnear, Naomie Harris, Ralph Fiennes, Bé...</td>\n",
       "      <td>Sam Mendes</td>\n",
       "      <td>Neal Purvis, John Logan, Robert Wade, Ian Fleming</td>\n",
       "      <td>When Bond's latest assignment goes gravely wro...</td>\n",
       "      <td>7.8</td>\n",
       "      <td>750850</td>\n",
       "      <td>200000000</td>\n",
       "      <td>0</td>\n",
       "      <td>-200000000</td>\n",
       "      <td>Metro-Goldwyn-Mayer, Eon Productions, Danjaq, ...</td>\n",
       "      <td>Unknown</td>\n",
       "      <td>/d0IVecFQvsGdSbnMAHqiYsNYaJT.jpg</td>\n",
       "    </tr>\n",
       "    <tr>\n",
       "      <th>101560</th>\n",
       "      <td>tt9603212</td>\n",
       "      <td>Mission: Impossible - Dead Reckoning Part One</td>\n",
       "      <td>Action,Adventure,Thriller</td>\n",
       "      <td>2023</td>\n",
       "      <td>163</td>\n",
       "      <td>Vanessa Kirby, Ving Rhames, Pom Klementieff, S...</td>\n",
       "      <td>Christopher McQuarrie</td>\n",
       "      <td>Christopher McQuarrie, Erik Jendresen, Bruce G...</td>\n",
       "      <td>The seventh installment of the Mission: Imposs...</td>\n",
       "      <td>7.6</td>\n",
       "      <td>287134</td>\n",
       "      <td>290000000</td>\n",
       "      <td>0</td>\n",
       "      <td>-290000000</td>\n",
       "      <td>Paramount, Skydance Media, New Republic Pictur...</td>\n",
       "      <td>US</td>\n",
       "      <td>/pZCa8WgnP0AgVHsFjvuUDhcNjOJ.jpg</td>\n",
       "    </tr>\n",
       "    <tr>\n",
       "      <th>101561</th>\n",
       "      <td>tt1462764</td>\n",
       "      <td>Indiana Jones and the Dial of Destiny</td>\n",
       "      <td>Action,Adventure,Sci-Fi</td>\n",
       "      <td>2023</td>\n",
       "      <td>154</td>\n",
       "      <td>Thomas Kretschmann, Phoebe Waller-Bridge, Oliv...</td>\n",
       "      <td>James Mangold</td>\n",
       "      <td>James Mangold, John-Henry Butterworth, Philip ...</td>\n",
       "      <td>Finding himself in a new era, approaching reti...</td>\n",
       "      <td>6.5</td>\n",
       "      <td>219921</td>\n",
       "      <td>294700000</td>\n",
       "      <td>0</td>\n",
       "      <td>-294700000</td>\n",
       "      <td>Lucasfilm Ltd., Walt Disney Pictures, Paramount</td>\n",
       "      <td>Unknown</td>\n",
       "      <td>/sv7iVXYVJTtOUAM9KGwsIuO0dEc.jpg</td>\n",
       "    </tr>\n",
       "    <tr>\n",
       "      <th>101562</th>\n",
       "      <td>tt5433140</td>\n",
       "      <td>Fast X</td>\n",
       "      <td>Action,Adventure,Crime</td>\n",
       "      <td>2023</td>\n",
       "      <td>141</td>\n",
       "      <td>John Cena, Sung Kang, Jordana Brewster, Nathal...</td>\n",
       "      <td>Louis Leterrier</td>\n",
       "      <td>Zach Dean, Justin Lin, Gary Scott Thompson, Da...</td>\n",
       "      <td>Over many missions and against impossible odds...</td>\n",
       "      <td>5.7</td>\n",
       "      <td>135401</td>\n",
       "      <td>340000000</td>\n",
       "      <td>0</td>\n",
       "      <td>-340000000</td>\n",
       "      <td>Universal Pictures, Original Film, One Race, P...</td>\n",
       "      <td>US</td>\n",
       "      <td>/1E5baAaEse26fej7uHcjOgEE2t2.jpg</td>\n",
       "    </tr>\n",
       "  </tbody>\n",
       "</table>\n",
       "</div>"
      ],
      "text/plain": [
       "           tconst                                          Title  \\\n",
       "101559  tt1074638                                        Skyfall   \n",
       "101560  tt9603212  Mission: Impossible - Dead Reckoning Part One   \n",
       "101561  tt1462764          Indiana Jones and the Dial of Destiny   \n",
       "101562  tt5433140                                         Fast X   \n",
       "\n",
       "                           Genres  Year  Runtime  \\\n",
       "101559  Action,Adventure,Thriller  2012      143   \n",
       "101560  Action,Adventure,Thriller  2023      163   \n",
       "101561    Action,Adventure,Sci-Fi  2023      154   \n",
       "101562     Action,Adventure,Crime  2023      141   \n",
       "\n",
       "                                                   Actors  \\\n",
       "101559  Rory Kinnear, Naomie Harris, Ralph Fiennes, Bé...   \n",
       "101560  Vanessa Kirby, Ving Rhames, Pom Klementieff, S...   \n",
       "101561  Thomas Kretschmann, Phoebe Waller-Bridge, Oliv...   \n",
       "101562  John Cena, Sung Kang, Jordana Brewster, Nathal...   \n",
       "\n",
       "                     Director  \\\n",
       "101559             Sam Mendes   \n",
       "101560  Christopher McQuarrie   \n",
       "101561          James Mangold   \n",
       "101562        Louis Leterrier   \n",
       "\n",
       "                                                  Writers  \\\n",
       "101559  Neal Purvis, John Logan, Robert Wade, Ian Fleming   \n",
       "101560  Christopher McQuarrie, Erik Jendresen, Bruce G...   \n",
       "101561  James Mangold, John-Henry Butterworth, Philip ...   \n",
       "101562  Zach Dean, Justin Lin, Gary Scott Thompson, Da...   \n",
       "\n",
       "                                                   Resume  Rating   Votes  \\\n",
       "101559  When Bond's latest assignment goes gravely wro...     7.8  750850   \n",
       "101560  The seventh installment of the Mission: Imposs...     7.6  287134   \n",
       "101561  Finding himself in a new era, approaching reti...     6.5  219921   \n",
       "101562  Over many missions and against impossible odds...     5.7  135401   \n",
       "\n",
       "           Budget  Revenue     Profit  \\\n",
       "101559  200000000        0 -200000000   \n",
       "101560  290000000        0 -290000000   \n",
       "101561  294700000        0 -294700000   \n",
       "101562  340000000        0 -340000000   \n",
       "\n",
       "                                      ProductionCompanies ProductionCountries  \\\n",
       "101559  Metro-Goldwyn-Mayer, Eon Productions, Danjaq, ...             Unknown   \n",
       "101560  Paramount, Skydance Media, New Republic Pictur...                  US   \n",
       "101561    Lucasfilm Ltd., Walt Disney Pictures, Paramount             Unknown   \n",
       "101562  Universal Pictures, Original Film, One Race, P...                  US   \n",
       "\n",
       "                                  Poster  \n",
       "101559  /d0IVecFQvsGdSbnMAHqiYsNYaJT.jpg  \n",
       "101560  /pZCa8WgnP0AgVHsFjvuUDhcNjOJ.jpg  \n",
       "101561  /sv7iVXYVJTtOUAM9KGwsIuO0dEc.jpg  \n",
       "101562  /1E5baAaEse26fej7uHcjOgEE2t2.jpg  "
      ]
     },
     "execution_count": 293,
     "metadata": {},
     "output_type": "execute_result"
    }
   ],
   "source": [
    "data_copy.iloc[101558:]"
   ]
  }
 ],
 "metadata": {
  "kernelspec": {
   "display_name": ".venv",
   "language": "python",
   "name": "python3"
  },
  "language_info": {
   "codemirror_mode": {
    "name": "ipython",
    "version": 3
   },
   "file_extension": ".py",
   "mimetype": "text/x-python",
   "name": "python",
   "nbconvert_exporter": "python",
   "pygments_lexer": "ipython3",
   "version": "3.13.3"
  }
 },
 "nbformat": 4,
 "nbformat_minor": 5
}
