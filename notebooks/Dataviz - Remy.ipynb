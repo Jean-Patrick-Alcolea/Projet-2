{
 "cells": [
  {
   "cell_type": "code",
   "execution_count": 5,
   "id": "8acd4f21",
   "metadata": {},
   "outputs": [],
   "source": [
    "import duckdb as db\n",
    "import pandas as pd\n",
    "import seaborn as sns\n",
    "import matplotlib.pyplot as plt"
   ]
  },
  {
   "cell_type": "code",
   "execution_count": 6,
   "id": "aed346fa",
   "metadata": {},
   "outputs": [],
   "source": [
    "def sql(query, database = \"../data/database.duckdb\"):\n",
    "    con = db.connect(database)\n",
    "    res = con.execute(query).df()\n",
    "    con.close()\n",
    "    return res"
   ]
  },
  {
   "cell_type": "code",
   "execution_count": 7,
   "id": "b6f98f88",
   "metadata": {},
   "outputs": [],
   "source": [
    "df = pd.DataFrame(sql(\n",
    "    \"\"\"  \n",
    "    SELECT * \n",
    "    FROM name_basics\n",
    "    \"\"\"\n",
    "))"
   ]
  },
  {
   "cell_type": "code",
   "execution_count": 8,
   "id": "3299c4c0",
   "metadata": {},
   "outputs": [],
   "source": [
    "df_tmdb = pd.DataFrame(sql(\n",
    "    \"\"\"  \n",
    "    SELECT * \n",
    "    FROM tmdb\n",
    "    \"\"\"\n",
    "))"
   ]
  },
  {
   "cell_type": "code",
   "execution_count": 9,
   "id": "bf95c765",
   "metadata": {},
   "outputs": [
    {
     "data": {
      "text/html": [
       "<div>\n",
       "<style scoped>\n",
       "    .dataframe tbody tr th:only-of-type {\n",
       "        vertical-align: middle;\n",
       "    }\n",
       "\n",
       "    .dataframe tbody tr th {\n",
       "        vertical-align: top;\n",
       "    }\n",
       "\n",
       "    .dataframe thead th {\n",
       "        text-align: right;\n",
       "    }\n",
       "</style>\n",
       "<table border=\"1\" class=\"dataframe\">\n",
       "  <thead>\n",
       "    <tr style=\"text-align: right;\">\n",
       "      <th></th>\n",
       "      <th>nconst</th>\n",
       "      <th>primaryName</th>\n",
       "      <th>birthYear</th>\n",
       "      <th>deathYear</th>\n",
       "      <th>primaryProfession</th>\n",
       "      <th>knownForTitles</th>\n",
       "    </tr>\n",
       "  </thead>\n",
       "  <tbody>\n",
       "    <tr>\n",
       "      <th>4</th>\n",
       "      <td>nm0000005</td>\n",
       "      <td>Ingmar Bergman</td>\n",
       "      <td>1918</td>\n",
       "      <td>2007</td>\n",
       "      <td>writer,director,actor</td>\n",
       "      <td>tt0050986,tt0069467,tt0050976,tt0083922</td>\n",
       "    </tr>\n",
       "    <tr>\n",
       "      <th>7</th>\n",
       "      <td>nm0000008</td>\n",
       "      <td>Marlon Brando</td>\n",
       "      <td>1924</td>\n",
       "      <td>2004</td>\n",
       "      <td>actor,director,writer</td>\n",
       "      <td>tt0078788,tt0068646,tt0047296,tt0044081</td>\n",
       "    </tr>\n",
       "    <tr>\n",
       "      <th>8</th>\n",
       "      <td>nm0000009</td>\n",
       "      <td>Richard Burton</td>\n",
       "      <td>1925</td>\n",
       "      <td>1984</td>\n",
       "      <td>actor,producer,director</td>\n",
       "      <td>tt0061184,tt0087803,tt0059749,tt0057877</td>\n",
       "    </tr>\n",
       "    <tr>\n",
       "      <th>9</th>\n",
       "      <td>nm0000010</td>\n",
       "      <td>James Cagney</td>\n",
       "      <td>1899</td>\n",
       "      <td>1986</td>\n",
       "      <td>actor,director,producer</td>\n",
       "      <td>tt0029870,tt0031867,tt0042041,tt0034236</td>\n",
       "    </tr>\n",
       "    <tr>\n",
       "      <th>17</th>\n",
       "      <td>nm0000018</td>\n",
       "      <td>Kirk Douglas</td>\n",
       "      <td>1916</td>\n",
       "      <td>2020</td>\n",
       "      <td>actor,producer,director</td>\n",
       "      <td>tt0043338,tt0080736,tt0054331,tt0049456</td>\n",
       "    </tr>\n",
       "    <tr>\n",
       "      <th>...</th>\n",
       "      <td>...</td>\n",
       "      <td>...</td>\n",
       "      <td>...</td>\n",
       "      <td>...</td>\n",
       "      <td>...</td>\n",
       "      <td>...</td>\n",
       "    </tr>\n",
       "    <tr>\n",
       "      <th>14435880</th>\n",
       "      <td>nm9993679</td>\n",
       "      <td>Art Jones</td>\n",
       "      <td>\\N</td>\n",
       "      <td>\\N</td>\n",
       "      <td>director</td>\n",
       "      <td>tt8744074</td>\n",
       "    </tr>\n",
       "    <tr>\n",
       "      <th>14435895</th>\n",
       "      <td>nm9993694</td>\n",
       "      <td>Chinmay Mishra</td>\n",
       "      <td>\\N</td>\n",
       "      <td>\\N</td>\n",
       "      <td>actor,director,producer</td>\n",
       "      <td>tt18361688,tt18687502,tt8737752,tt9083282</td>\n",
       "    </tr>\n",
       "    <tr>\n",
       "      <th>14435896</th>\n",
       "      <td>nm9993696</td>\n",
       "      <td>Ibrahim-Aloduley</td>\n",
       "      <td>\\N</td>\n",
       "      <td>\\N</td>\n",
       "      <td>director,editor</td>\n",
       "      <td>tt8744160</td>\n",
       "    </tr>\n",
       "    <tr>\n",
       "      <th>14435908</th>\n",
       "      <td>nm9993708</td>\n",
       "      <td>Eli Bevins</td>\n",
       "      <td>\\N</td>\n",
       "      <td>\\N</td>\n",
       "      <td>producer,director,writer</td>\n",
       "      <td>tt36103776,tt11702702,tt14508814,tt36042179</td>\n",
       "    </tr>\n",
       "    <tr>\n",
       "      <th>14435909</th>\n",
       "      <td>nm9993709</td>\n",
       "      <td>Lu Bevins</td>\n",
       "      <td>\\N</td>\n",
       "      <td>\\N</td>\n",
       "      <td>producer,writer,director</td>\n",
       "      <td>tt17717854,tt11772904,tt11772812,tt11697102</td>\n",
       "    </tr>\n",
       "  </tbody>\n",
       "</table>\n",
       "<p>1144674 rows × 6 columns</p>\n",
       "</div>"
      ],
      "text/plain": [
       "             nconst       primaryName birthYear deathYear  \\\n",
       "4         nm0000005    Ingmar Bergman      1918      2007   \n",
       "7         nm0000008     Marlon Brando      1924      2004   \n",
       "8         nm0000009    Richard Burton      1925      1984   \n",
       "9         nm0000010      James Cagney      1899      1986   \n",
       "17        nm0000018      Kirk Douglas      1916      2020   \n",
       "...             ...               ...       ...       ...   \n",
       "14435880  nm9993679         Art Jones        \\N        \\N   \n",
       "14435895  nm9993694    Chinmay Mishra        \\N        \\N   \n",
       "14435896  nm9993696  Ibrahim-Aloduley        \\N        \\N   \n",
       "14435908  nm9993708        Eli Bevins        \\N        \\N   \n",
       "14435909  nm9993709         Lu Bevins        \\N        \\N   \n",
       "\n",
       "                 primaryProfession  \\\n",
       "4            writer,director,actor   \n",
       "7            actor,director,writer   \n",
       "8          actor,producer,director   \n",
       "9          actor,director,producer   \n",
       "17         actor,producer,director   \n",
       "...                            ...   \n",
       "14435880                  director   \n",
       "14435895   actor,director,producer   \n",
       "14435896           director,editor   \n",
       "14435908  producer,director,writer   \n",
       "14435909  producer,writer,director   \n",
       "\n",
       "                                       knownForTitles  \n",
       "4             tt0050986,tt0069467,tt0050976,tt0083922  \n",
       "7             tt0078788,tt0068646,tt0047296,tt0044081  \n",
       "8             tt0061184,tt0087803,tt0059749,tt0057877  \n",
       "9             tt0029870,tt0031867,tt0042041,tt0034236  \n",
       "17            tt0043338,tt0080736,tt0054331,tt0049456  \n",
       "...                                               ...  \n",
       "14435880                                    tt8744074  \n",
       "14435895    tt18361688,tt18687502,tt8737752,tt9083282  \n",
       "14435896                                    tt8744160  \n",
       "14435908  tt36103776,tt11702702,tt14508814,tt36042179  \n",
       "14435909  tt17717854,tt11772904,tt11772812,tt11697102  \n",
       "\n",
       "[1144674 rows x 6 columns]"
      ]
     },
     "execution_count": 9,
     "metadata": {},
     "output_type": "execute_result"
    }
   ],
   "source": [
    "#Isolement des acteurs/actrices\n",
    "df_act = df[df['primaryProfession'].str.contains(\"director\")]\n",
    "df_act"
   ]
  },
  {
   "cell_type": "code",
   "execution_count": 10,
   "id": "3deec6e0",
   "metadata": {},
   "outputs": [
    {
     "name": "stderr",
     "output_type": "stream",
     "text": [
      "/var/folders/w7/mwhn41wd4133mpd3qmk0b4lh0000gn/T/ipykernel_30479/3417930562.py:2: SettingWithCopyWarning: \n",
      "A value is trying to be set on a copy of a slice from a DataFrame.\n",
      "Try using .loc[row_indexer,col_indexer] = value instead\n",
      "\n",
      "See the caveats in the documentation: https://pandas.pydata.org/pandas-docs/stable/user_guide/indexing.html#returning-a-view-versus-a-copy\n",
      "  df_act['knownForTitles'] = df_act['knownForTitles'].apply(lambda x : x.split(\",\"))\n"
     ]
    },
    {
     "data": {
      "text/html": [
       "<div>\n",
       "<style scoped>\n",
       "    .dataframe tbody tr th:only-of-type {\n",
       "        vertical-align: middle;\n",
       "    }\n",
       "\n",
       "    .dataframe tbody tr th {\n",
       "        vertical-align: top;\n",
       "    }\n",
       "\n",
       "    .dataframe thead th {\n",
       "        text-align: right;\n",
       "    }\n",
       "</style>\n",
       "<table border=\"1\" class=\"dataframe\">\n",
       "  <thead>\n",
       "    <tr style=\"text-align: right;\">\n",
       "      <th></th>\n",
       "      <th>nconst</th>\n",
       "      <th>primaryName</th>\n",
       "      <th>birthYear</th>\n",
       "      <th>deathYear</th>\n",
       "      <th>primaryProfession</th>\n",
       "      <th>knownForTitles</th>\n",
       "    </tr>\n",
       "  </thead>\n",
       "  <tbody>\n",
       "    <tr>\n",
       "      <th>4</th>\n",
       "      <td>nm0000005</td>\n",
       "      <td>Ingmar Bergman</td>\n",
       "      <td>1918</td>\n",
       "      <td>2007</td>\n",
       "      <td>writer,director,actor</td>\n",
       "      <td>tt0050986</td>\n",
       "    </tr>\n",
       "    <tr>\n",
       "      <th>4</th>\n",
       "      <td>nm0000005</td>\n",
       "      <td>Ingmar Bergman</td>\n",
       "      <td>1918</td>\n",
       "      <td>2007</td>\n",
       "      <td>writer,director,actor</td>\n",
       "      <td>tt0069467</td>\n",
       "    </tr>\n",
       "    <tr>\n",
       "      <th>4</th>\n",
       "      <td>nm0000005</td>\n",
       "      <td>Ingmar Bergman</td>\n",
       "      <td>1918</td>\n",
       "      <td>2007</td>\n",
       "      <td>writer,director,actor</td>\n",
       "      <td>tt0050976</td>\n",
       "    </tr>\n",
       "    <tr>\n",
       "      <th>4</th>\n",
       "      <td>nm0000005</td>\n",
       "      <td>Ingmar Bergman</td>\n",
       "      <td>1918</td>\n",
       "      <td>2007</td>\n",
       "      <td>writer,director,actor</td>\n",
       "      <td>tt0083922</td>\n",
       "    </tr>\n",
       "    <tr>\n",
       "      <th>7</th>\n",
       "      <td>nm0000008</td>\n",
       "      <td>Marlon Brando</td>\n",
       "      <td>1924</td>\n",
       "      <td>2004</td>\n",
       "      <td>actor,director,writer</td>\n",
       "      <td>tt0078788</td>\n",
       "    </tr>\n",
       "    <tr>\n",
       "      <th>...</th>\n",
       "      <td>...</td>\n",
       "      <td>...</td>\n",
       "      <td>...</td>\n",
       "      <td>...</td>\n",
       "      <td>...</td>\n",
       "      <td>...</td>\n",
       "    </tr>\n",
       "    <tr>\n",
       "      <th>14435908</th>\n",
       "      <td>nm9993708</td>\n",
       "      <td>Eli Bevins</td>\n",
       "      <td>\\N</td>\n",
       "      <td>\\N</td>\n",
       "      <td>producer,director,writer</td>\n",
       "      <td>tt36042179</td>\n",
       "    </tr>\n",
       "    <tr>\n",
       "      <th>14435909</th>\n",
       "      <td>nm9993709</td>\n",
       "      <td>Lu Bevins</td>\n",
       "      <td>\\N</td>\n",
       "      <td>\\N</td>\n",
       "      <td>producer,writer,director</td>\n",
       "      <td>tt17717854</td>\n",
       "    </tr>\n",
       "    <tr>\n",
       "      <th>14435909</th>\n",
       "      <td>nm9993709</td>\n",
       "      <td>Lu Bevins</td>\n",
       "      <td>\\N</td>\n",
       "      <td>\\N</td>\n",
       "      <td>producer,writer,director</td>\n",
       "      <td>tt11772904</td>\n",
       "    </tr>\n",
       "    <tr>\n",
       "      <th>14435909</th>\n",
       "      <td>nm9993709</td>\n",
       "      <td>Lu Bevins</td>\n",
       "      <td>\\N</td>\n",
       "      <td>\\N</td>\n",
       "      <td>producer,writer,director</td>\n",
       "      <td>tt11772812</td>\n",
       "    </tr>\n",
       "    <tr>\n",
       "      <th>14435909</th>\n",
       "      <td>nm9993709</td>\n",
       "      <td>Lu Bevins</td>\n",
       "      <td>\\N</td>\n",
       "      <td>\\N</td>\n",
       "      <td>producer,writer,director</td>\n",
       "      <td>tt11697102</td>\n",
       "    </tr>\n",
       "  </tbody>\n",
       "</table>\n",
       "<p>3052653 rows × 6 columns</p>\n",
       "</div>"
      ],
      "text/plain": [
       "             nconst     primaryName birthYear deathYear  \\\n",
       "4         nm0000005  Ingmar Bergman      1918      2007   \n",
       "4         nm0000005  Ingmar Bergman      1918      2007   \n",
       "4         nm0000005  Ingmar Bergman      1918      2007   \n",
       "4         nm0000005  Ingmar Bergman      1918      2007   \n",
       "7         nm0000008   Marlon Brando      1924      2004   \n",
       "...             ...             ...       ...       ...   \n",
       "14435908  nm9993708      Eli Bevins        \\N        \\N   \n",
       "14435909  nm9993709       Lu Bevins        \\N        \\N   \n",
       "14435909  nm9993709       Lu Bevins        \\N        \\N   \n",
       "14435909  nm9993709       Lu Bevins        \\N        \\N   \n",
       "14435909  nm9993709       Lu Bevins        \\N        \\N   \n",
       "\n",
       "                 primaryProfession knownForTitles  \n",
       "4            writer,director,actor      tt0050986  \n",
       "4            writer,director,actor      tt0069467  \n",
       "4            writer,director,actor      tt0050976  \n",
       "4            writer,director,actor      tt0083922  \n",
       "7            actor,director,writer      tt0078788  \n",
       "...                            ...            ...  \n",
       "14435908  producer,director,writer     tt36042179  \n",
       "14435909  producer,writer,director     tt17717854  \n",
       "14435909  producer,writer,director     tt11772904  \n",
       "14435909  producer,writer,director     tt11772812  \n",
       "14435909  producer,writer,director     tt11697102  \n",
       "\n",
       "[3052653 rows x 6 columns]"
      ]
     },
     "execution_count": 10,
     "metadata": {},
     "output_type": "execute_result"
    }
   ],
   "source": [
    "#Transofrmation de knownForTitles en liste\n",
    "df_act['knownForTitles'] = df_act['knownForTitles'].apply(lambda x : x.split(\",\"))\n",
    "#explode\n",
    "df_act_expl = df_act.explode(\"knownForTitles\")\n",
    "df_act_expl"
   ]
  },
  {
   "cell_type": "code",
   "execution_count": 11,
   "id": "3c359ad1",
   "metadata": {},
   "outputs": [
    {
     "data": {
      "text/html": [
       "<div>\n",
       "<style scoped>\n",
       "    .dataframe tbody tr th:only-of-type {\n",
       "        vertical-align: middle;\n",
       "    }\n",
       "\n",
       "    .dataframe tbody tr th {\n",
       "        vertical-align: top;\n",
       "    }\n",
       "\n",
       "    .dataframe thead th {\n",
       "        text-align: right;\n",
       "    }\n",
       "</style>\n",
       "<table border=\"1\" class=\"dataframe\">\n",
       "  <thead>\n",
       "    <tr style=\"text-align: right;\">\n",
       "      <th></th>\n",
       "      <th>primaryName</th>\n",
       "      <th>knownForTitles</th>\n",
       "      <th>original_title</th>\n",
       "      <th>release_year</th>\n",
       "    </tr>\n",
       "  </thead>\n",
       "  <tbody>\n",
       "    <tr>\n",
       "      <th>0</th>\n",
       "      <td>P.J.C. Janssen</td>\n",
       "      <td>tt3155794</td>\n",
       "      <td>Passage de Venus</td>\n",
       "      <td>1874</td>\n",
       "    </tr>\n",
       "    <tr>\n",
       "      <th>1</th>\n",
       "      <td>Émile Reynaud</td>\n",
       "      <td>tt16763740</td>\n",
       "      <td>Le Jeu de Corde</td>\n",
       "      <td>1878</td>\n",
       "    </tr>\n",
       "    <tr>\n",
       "      <th>2</th>\n",
       "      <td>Étienne-Jules Marey</td>\n",
       "      <td>tt8588366</td>\n",
       "      <td>L'Homme Machine</td>\n",
       "      <td>1885</td>\n",
       "    </tr>\n",
       "    <tr>\n",
       "      <th>3</th>\n",
       "      <td>Louis Aimé Augustin Le Prince</td>\n",
       "      <td>tt2075247</td>\n",
       "      <td>Man Walking Around a Corner</td>\n",
       "      <td>1887</td>\n",
       "    </tr>\n",
       "    <tr>\n",
       "      <th>4</th>\n",
       "      <td>Louis Aimé Augustin Le Prince</td>\n",
       "      <td>tt0343112</td>\n",
       "      <td>Traffic Crossing Leeds Bridge</td>\n",
       "      <td>1888</td>\n",
       "    </tr>\n",
       "    <tr>\n",
       "      <th>...</th>\n",
       "      <td>...</td>\n",
       "      <td>...</td>\n",
       "      <td>...</td>\n",
       "      <td>...</td>\n",
       "    </tr>\n",
       "    <tr>\n",
       "      <th>745156</th>\n",
       "      <td>Jim Kallifatidis</td>\n",
       "      <td>tt20258920</td>\n",
       "      <td>Tin Soldier</td>\n",
       "      <td>&lt;NA&gt;</td>\n",
       "    </tr>\n",
       "    <tr>\n",
       "      <th>745157</th>\n",
       "      <td>Jim Lenz</td>\n",
       "      <td>tt11967240</td>\n",
       "      <td>A Fargo Christmas Story</td>\n",
       "      <td>&lt;NA&gt;</td>\n",
       "    </tr>\n",
       "    <tr>\n",
       "      <th>745158</th>\n",
       "      <td>Jim McSherry</td>\n",
       "      <td>tt1366983</td>\n",
       "      <td>La vérite du ciel</td>\n",
       "      <td>&lt;NA&gt;</td>\n",
       "    </tr>\n",
       "    <tr>\n",
       "      <th>745159</th>\n",
       "      <td>Jim Meyers</td>\n",
       "      <td>tt0382903</td>\n",
       "      <td>Phases of Death - Phase One: Through the Coron...</td>\n",
       "      <td>&lt;NA&gt;</td>\n",
       "    </tr>\n",
       "    <tr>\n",
       "      <th>745160</th>\n",
       "      <td>Jim Roberts</td>\n",
       "      <td>tt21806352</td>\n",
       "      <td>Homicidal Harry</td>\n",
       "      <td>&lt;NA&gt;</td>\n",
       "    </tr>\n",
       "  </tbody>\n",
       "</table>\n",
       "<p>745161 rows × 4 columns</p>\n",
       "</div>"
      ],
      "text/plain": [
       "                          primaryName knownForTitles  \\\n",
       "0                      P.J.C. Janssen      tt3155794   \n",
       "1                       Émile Reynaud     tt16763740   \n",
       "2                 Étienne-Jules Marey      tt8588366   \n",
       "3       Louis Aimé Augustin Le Prince      tt2075247   \n",
       "4       Louis Aimé Augustin Le Prince      tt0343112   \n",
       "...                               ...            ...   \n",
       "745156               Jim Kallifatidis     tt20258920   \n",
       "745157                       Jim Lenz     tt11967240   \n",
       "745158                   Jim McSherry      tt1366983   \n",
       "745159                     Jim Meyers      tt0382903   \n",
       "745160                    Jim Roberts     tt21806352   \n",
       "\n",
       "                                           original_title  release_year  \n",
       "0                                        Passage de Venus          1874  \n",
       "1                                         Le Jeu de Corde          1878  \n",
       "2                                         L'Homme Machine          1885  \n",
       "3                             Man Walking Around a Corner          1887  \n",
       "4                           Traffic Crossing Leeds Bridge          1888  \n",
       "...                                                   ...           ...  \n",
       "745156                                        Tin Soldier          <NA>  \n",
       "745157                            A Fargo Christmas Story          <NA>  \n",
       "745158                                  La vérite du ciel          <NA>  \n",
       "745159  Phases of Death - Phase One: Through the Coron...          <NA>  \n",
       "745160                                    Homicidal Harry          <NA>  \n",
       "\n",
       "[745161 rows x 4 columns]"
      ]
     },
     "execution_count": 11,
     "metadata": {},
     "output_type": "execute_result"
    }
   ],
   "source": [
    "#Création de la vue pour joindre Acteur/trics, films, année de sortie du film\n",
    "\n",
    "sql(\"\"\"\n",
    "    CREATE OR REPLACE VIEW act_dec AS (SELECT primaryName\n",
    "    , knownForTitles\n",
    "    , original_title\n",
    "    , YEAR(release_date) AS release_year\n",
    "    FROM df_act_expl \n",
    "    JOIN tmdb ON df_act_expl.knownForTitles = tmdb.imdb_id\n",
    "    ORDER BY primaryName);\n",
    "\n",
    "    SELECT * from act_dec ORDER BY release_year ASC\n",
    "    \"\"\"\n",
    ")"
   ]
  },
  {
   "cell_type": "code",
   "execution_count": 12,
   "id": "89b87736",
   "metadata": {},
   "outputs": [
    {
     "data": {
      "text/html": [
       "<div>\n",
       "<style scoped>\n",
       "    .dataframe tbody tr th:only-of-type {\n",
       "        vertical-align: middle;\n",
       "    }\n",
       "\n",
       "    .dataframe tbody tr th {\n",
       "        vertical-align: top;\n",
       "    }\n",
       "\n",
       "    .dataframe thead th {\n",
       "        text-align: right;\n",
       "    }\n",
       "</style>\n",
       "<table border=\"1\" class=\"dataframe\">\n",
       "  <thead>\n",
       "    <tr style=\"text-align: right;\">\n",
       "      <th></th>\n",
       "      <th>primaryName</th>\n",
       "      <th>knownForTitles</th>\n",
       "      <th>original_title</th>\n",
       "      <th>release_year</th>\n",
       "      <th>decade</th>\n",
       "    </tr>\n",
       "  </thead>\n",
       "  <tbody>\n",
       "    <tr>\n",
       "      <th>0</th>\n",
       "      <td>Piotr Lebiedzinski</td>\n",
       "      <td>tt8094688</td>\n",
       "      <td>Krakowiak</td>\n",
       "      <td>1893</td>\n",
       "      <td>1890s</td>\n",
       "    </tr>\n",
       "    <tr>\n",
       "      <th>1</th>\n",
       "      <td>Robert W. Paul</td>\n",
       "      <td>tt0000170</td>\n",
       "      <td>The Twins' Tea Party</td>\n",
       "      <td>1896</td>\n",
       "      <td>1890s</td>\n",
       "    </tr>\n",
       "    <tr>\n",
       "      <th>2</th>\n",
       "      <td>Claire Lissalde</td>\n",
       "      <td>tt0000003</td>\n",
       "      <td>Pauvre Pierrot</td>\n",
       "      <td>1892</td>\n",
       "      <td>1890s</td>\n",
       "    </tr>\n",
       "    <tr>\n",
       "      <th>3</th>\n",
       "      <td>Claude Ferdinand Von Bernard</td>\n",
       "      <td>tt0350855</td>\n",
       "      <td>Duel au pistolet</td>\n",
       "      <td>1896</td>\n",
       "      <td>1890s</td>\n",
       "    </tr>\n",
       "    <tr>\n",
       "      <th>4</th>\n",
       "      <td>Claude Ferdinand Von Bernard</td>\n",
       "      <td>tt0424832</td>\n",
       "      <td>Baignade de chevaux</td>\n",
       "      <td>1896</td>\n",
       "      <td>1890s</td>\n",
       "    </tr>\n",
       "    <tr>\n",
       "      <th>...</th>\n",
       "      <td>...</td>\n",
       "      <td>...</td>\n",
       "      <td>...</td>\n",
       "      <td>...</td>\n",
       "      <td>...</td>\n",
       "    </tr>\n",
       "    <tr>\n",
       "      <th>745156</th>\n",
       "      <td>Chinmay Samnani</td>\n",
       "      <td>tt15375086</td>\n",
       "      <td>A Passenger in Love</td>\n",
       "      <td>&lt;NA&gt;</td>\n",
       "      <td>None</td>\n",
       "    </tr>\n",
       "    <tr>\n",
       "      <th>745157</th>\n",
       "      <td>Chinni Krishna</td>\n",
       "      <td>tt15433956</td>\n",
       "      <td>హను-మాన్</td>\n",
       "      <td>&lt;NA&gt;</td>\n",
       "      <td>None</td>\n",
       "    </tr>\n",
       "    <tr>\n",
       "      <th>745158</th>\n",
       "      <td>Chioma Thompson</td>\n",
       "      <td>tt22004344</td>\n",
       "      <td>The Snack Shack</td>\n",
       "      <td>&lt;NA&gt;</td>\n",
       "      <td>None</td>\n",
       "    </tr>\n",
       "    <tr>\n",
       "      <th>745159</th>\n",
       "      <td>Chiquita Mitchell</td>\n",
       "      <td>tt17490712</td>\n",
       "      <td>Mortal Kombat 2</td>\n",
       "      <td>&lt;NA&gt;</td>\n",
       "      <td>None</td>\n",
       "    </tr>\n",
       "    <tr>\n",
       "      <th>745160</th>\n",
       "      <td>Chirag Makwana</td>\n",
       "      <td>tt15554424</td>\n",
       "      <td>BaagadBillaa</td>\n",
       "      <td>&lt;NA&gt;</td>\n",
       "      <td>None</td>\n",
       "    </tr>\n",
       "  </tbody>\n",
       "</table>\n",
       "<p>745161 rows × 5 columns</p>\n",
       "</div>"
      ],
      "text/plain": [
       "                         primaryName knownForTitles        original_title  \\\n",
       "0                 Piotr Lebiedzinski      tt8094688             Krakowiak   \n",
       "1                     Robert W. Paul      tt0000170  The Twins' Tea Party   \n",
       "2                    Claire Lissalde      tt0000003        Pauvre Pierrot   \n",
       "3       Claude Ferdinand Von Bernard      tt0350855      Duel au pistolet   \n",
       "4       Claude Ferdinand Von Bernard      tt0424832   Baignade de chevaux   \n",
       "...                              ...            ...                   ...   \n",
       "745156               Chinmay Samnani     tt15375086   A Passenger in Love   \n",
       "745157                Chinni Krishna     tt15433956              హను-మాన్   \n",
       "745158               Chioma Thompson     tt22004344       The Snack Shack   \n",
       "745159             Chiquita Mitchell     tt17490712       Mortal Kombat 2   \n",
       "745160                Chirag Makwana     tt15554424          BaagadBillaa   \n",
       "\n",
       "        release_year decade  \n",
       "0               1893  1890s  \n",
       "1               1896  1890s  \n",
       "2               1892  1890s  \n",
       "3               1896  1890s  \n",
       "4               1896  1890s  \n",
       "...              ...    ...  \n",
       "745156          <NA>   None  \n",
       "745157          <NA>   None  \n",
       "745158          <NA>   None  \n",
       "745159          <NA>   None  \n",
       "745160          <NA>   None  \n",
       "\n",
       "[745161 rows x 5 columns]"
      ]
     },
     "execution_count": 12,
     "metadata": {},
     "output_type": "execute_result"
    }
   ],
   "source": [
    "#cCréation de la vue pour ajouter l'intervalle d'années\n",
    "\n",
    "sql(\"\"\"\n",
    "        CREATE OR REPLACE VIEW act_dec_dec AS (SELECT *,\n",
    "        CASE \n",
    "            WHEN release_year BETWEEN 1890 AND 1899 THEN '1890s'\n",
    "            WHEN release_year BETWEEN 1900 AND 1909 THEN '1900s'\n",
    "            WHEN release_year BETWEEN 1910 AND 1919 THEN '1910s'\n",
    "            WHEN release_year BETWEEN 1920 AND 1929 THEN '1920s'\n",
    "            WHEN release_year BETWEEN 1930 AND 1939 THEN '1930s'\n",
    "            WHEN release_year BETWEEN 1940 AND 1949 THEN '1940s'\n",
    "            WHEN release_year BETWEEN 1950 AND 1959 THEN '1950s'\n",
    "            WHEN release_year BETWEEN 1960 AND 1969 THEN '1960s'\n",
    "            WHEN release_year BETWEEN 1970 AND 1979 THEN '1970s'\n",
    "            WHEN release_year BETWEEN 1980 AND 1989 THEN '1980s'\n",
    "            WHEN release_year BETWEEN 1990 AND 1999 THEN '1990s'\n",
    "            WHEN release_year BETWEEN 2000 AND 2009 THEN '2000s'\n",
    "            WHEN release_year BETWEEN 2010 AND 2019 THEN '2010s'\n",
    "            WHEN release_year BETWEEN 2020 AND 2025 THEN '2020s'\n",
    "        END AS decade\n",
    "        FROM act_dec ORDER BY decade);\n",
    "        \"\"\"\n",
    "    )\n",
    "\n",
    "df_root = sql(\"\"\"SELECT * from act_dec_dec\"\"\")\n",
    "df_root"
   ]
  },
  {
   "cell_type": "code",
   "execution_count": 13,
   "id": "2893d490",
   "metadata": {},
   "outputs": [
    {
     "data": {
      "text/plain": [
       "<Axes: xlabel='decade', ylabel='count'>"
      ]
     },
     "execution_count": 13,
     "metadata": {},
     "output_type": "execute_result"
    },
    {
     "data": {
      "image/png": "[encoded data removed]",
      "text/plain": [
       "<Figure size 1000x1000 with 1 Axes>"
      ]
     },
     "metadata": {},
     "output_type": "display_data"
    }
   ],
   "source": [
    "import seaborn as sns\n",
    "import matplotlib.pyplot as plt\n",
    "\n",
    "plt.figure(figsize=(10,10))\n",
    "sns.countplot(data=df_root, x='decade')"
   ]
  },
  {
   "cell_type": "code",
   "execution_count": 14,
   "id": "6eae6876",
   "metadata": {},
   "outputs": [
    {
     "data": {
      "text/html": [
       "<div>\n",
       "<style scoped>\n",
       "    .dataframe tbody tr th:only-of-type {\n",
       "        vertical-align: middle;\n",
       "    }\n",
       "\n",
       "    .dataframe tbody tr th {\n",
       "        vertical-align: top;\n",
       "    }\n",
       "\n",
       "    .dataframe thead th {\n",
       "        text-align: right;\n",
       "    }\n",
       "</style>\n",
       "<table border=\"1\" class=\"dataframe\">\n",
       "  <thead>\n",
       "    <tr style=\"text-align: right;\">\n",
       "      <th></th>\n",
       "      <th>nb_films</th>\n",
       "      <th>primaryName</th>\n",
       "      <th>decade</th>\n",
       "    </tr>\n",
       "  </thead>\n",
       "  <tbody>\n",
       "    <tr>\n",
       "      <th>0</th>\n",
       "      <td>4</td>\n",
       "      <td>William Heise</td>\n",
       "      <td>1890s</td>\n",
       "    </tr>\n",
       "    <tr>\n",
       "      <th>1</th>\n",
       "      <td>4</td>\n",
       "      <td>Alexandre Promio</td>\n",
       "      <td>1890s</td>\n",
       "    </tr>\n",
       "    <tr>\n",
       "      <th>2</th>\n",
       "      <td>3</td>\n",
       "      <td>Louis Lumière</td>\n",
       "      <td>1890s</td>\n",
       "    </tr>\n",
       "    <tr>\n",
       "      <th>3</th>\n",
       "      <td>3</td>\n",
       "      <td>Charles Moisson</td>\n",
       "      <td>1890s</td>\n",
       "    </tr>\n",
       "    <tr>\n",
       "      <th>4</th>\n",
       "      <td>3</td>\n",
       "      <td>Emil Skladanowsky</td>\n",
       "      <td>1890s</td>\n",
       "    </tr>\n",
       "    <tr>\n",
       "      <th>...</th>\n",
       "      <td>...</td>\n",
       "      <td>...</td>\n",
       "      <td>...</td>\n",
       "    </tr>\n",
       "    <tr>\n",
       "      <th>531672</th>\n",
       "      <td>1</td>\n",
       "      <td>Tristan Ashwal</td>\n",
       "      <td>None</td>\n",
       "    </tr>\n",
       "    <tr>\n",
       "      <th>531673</th>\n",
       "      <td>1</td>\n",
       "      <td>Troy Dignon</td>\n",
       "      <td>None</td>\n",
       "    </tr>\n",
       "    <tr>\n",
       "      <th>531674</th>\n",
       "      <td>1</td>\n",
       "      <td>Tucker Ewing</td>\n",
       "      <td>None</td>\n",
       "    </tr>\n",
       "    <tr>\n",
       "      <th>531675</th>\n",
       "      <td>1</td>\n",
       "      <td>Tuna Ertutar</td>\n",
       "      <td>None</td>\n",
       "    </tr>\n",
       "    <tr>\n",
       "      <th>531676</th>\n",
       "      <td>1</td>\n",
       "      <td>Tuomo Rysti</td>\n",
       "      <td>None</td>\n",
       "    </tr>\n",
       "  </tbody>\n",
       "</table>\n",
       "<p>531677 rows × 3 columns</p>\n",
       "</div>"
      ],
      "text/plain": [
       "        nb_films        primaryName decade\n",
       "0              4      William Heise  1890s\n",
       "1              4   Alexandre Promio  1890s\n",
       "2              3      Louis Lumière  1890s\n",
       "3              3    Charles Moisson  1890s\n",
       "4              3  Emil Skladanowsky  1890s\n",
       "...          ...                ...    ...\n",
       "531672         1     Tristan Ashwal   None\n",
       "531673         1        Troy Dignon   None\n",
       "531674         1       Tucker Ewing   None\n",
       "531675         1       Tuna Ertutar   None\n",
       "531676         1        Tuomo Rysti   None\n",
       "\n",
       "[531677 rows x 3 columns]"
      ]
     },
     "execution_count": 14,
     "metadata": {},
     "output_type": "execute_result"
    }
   ],
   "source": [
    "df_nbfilm_act = sql(\"\"\" \n",
    "    SELECT COUNT(knownForTitles) AS nb_films, \n",
    "    primaryName,\n",
    "    decade\n",
    "    FROM act_dec_dec\n",
    "    GROUP BY decade, primaryName\n",
    "    ORDER BY decade, nb_films DESC\n",
    "    \"\"\"\n",
    ")\n",
    "df_nbfilm_act"
   ]
  },
  {
   "cell_type": "code",
   "execution_count": null,
   "id": "2f50cea0",
   "metadata": {},
   "outputs": [],
   "source": []
  },
  {
   "cell_type": "code",
   "execution_count": 15,
   "id": "6b45fe4b",
   "metadata": {},
   "outputs": [
    {
     "data": {
      "text/html": [
       "<div>\n",
       "<style scoped>\n",
       "    .dataframe tbody tr th:only-of-type {\n",
       "        vertical-align: middle;\n",
       "    }\n",
       "\n",
       "    .dataframe tbody tr th {\n",
       "        vertical-align: top;\n",
       "    }\n",
       "\n",
       "    .dataframe thead th {\n",
       "        text-align: right;\n",
       "    }\n",
       "</style>\n",
       "<table border=\"1\" class=\"dataframe\">\n",
       "  <thead>\n",
       "    <tr style=\"text-align: right;\">\n",
       "      <th></th>\n",
       "      <th>primaryName</th>\n",
       "      <th>nb_film_max</th>\n",
       "      <th>decade</th>\n",
       "    </tr>\n",
       "  </thead>\n",
       "  <tbody>\n",
       "    <tr>\n",
       "      <th>0</th>\n",
       "      <td>Alexandre Promio</td>\n",
       "      <td>4</td>\n",
       "      <td>1890s</td>\n",
       "    </tr>\n",
       "    <tr>\n",
       "      <th>1</th>\n",
       "      <td>William Heise</td>\n",
       "      <td>4</td>\n",
       "      <td>1890s</td>\n",
       "    </tr>\n",
       "    <tr>\n",
       "      <th>2</th>\n",
       "      <td>Emil Skladanowsky</td>\n",
       "      <td>3</td>\n",
       "      <td>1890s</td>\n",
       "    </tr>\n",
       "    <tr>\n",
       "      <th>3</th>\n",
       "      <td>Louis Lumière</td>\n",
       "      <td>3</td>\n",
       "      <td>1890s</td>\n",
       "    </tr>\n",
       "    <tr>\n",
       "      <th>4</th>\n",
       "      <td>Max Skladanowsky</td>\n",
       "      <td>3</td>\n",
       "      <td>1890s</td>\n",
       "    </tr>\n",
       "    <tr>\n",
       "      <th>...</th>\n",
       "      <td>...</td>\n",
       "      <td>...</td>\n",
       "      <td>...</td>\n",
       "    </tr>\n",
       "    <tr>\n",
       "      <th>531672</th>\n",
       "      <td>Tucker Ewing</td>\n",
       "      <td>1</td>\n",
       "      <td>None</td>\n",
       "    </tr>\n",
       "    <tr>\n",
       "      <th>531673</th>\n",
       "      <td>Tuna Ertutar</td>\n",
       "      <td>1</td>\n",
       "      <td>None</td>\n",
       "    </tr>\n",
       "    <tr>\n",
       "      <th>531674</th>\n",
       "      <td>Tuomo Rysti</td>\n",
       "      <td>1</td>\n",
       "      <td>None</td>\n",
       "    </tr>\n",
       "    <tr>\n",
       "      <th>531675</th>\n",
       "      <td>Andjela Stanimirovic</td>\n",
       "      <td>1</td>\n",
       "      <td>None</td>\n",
       "    </tr>\n",
       "    <tr>\n",
       "      <th>531676</th>\n",
       "      <td>Andras Body</td>\n",
       "      <td>1</td>\n",
       "      <td>None</td>\n",
       "    </tr>\n",
       "  </tbody>\n",
       "</table>\n",
       "<p>531677 rows × 3 columns</p>\n",
       "</div>"
      ],
      "text/plain": [
       "                 primaryName  nb_film_max decade\n",
       "0           Alexandre Promio            4  1890s\n",
       "1              William Heise            4  1890s\n",
       "2          Emil Skladanowsky            3  1890s\n",
       "3              Louis Lumière            3  1890s\n",
       "4           Max Skladanowsky            3  1890s\n",
       "...                      ...          ...    ...\n",
       "531672          Tucker Ewing            1   None\n",
       "531673          Tuna Ertutar            1   None\n",
       "531674           Tuomo Rysti            1   None\n",
       "531675  Andjela Stanimirovic            1   None\n",
       "531676           Andras Body            1   None\n",
       "\n",
       "[531677 rows x 3 columns]"
      ]
     },
     "execution_count": 15,
     "metadata": {},
     "output_type": "execute_result"
    }
   ],
   "source": [
    "df_main = sql(\"\"\"\n",
    "    SELECT \n",
    "            primaryName,\n",
    "            MAX(nb_films) AS nb_film_max,\n",
    "            decade\n",
    "            FROM df_nbfilm_act\n",
    "            GROUP BY decade, primaryName\n",
    "            ORDER BY decade, nb_film_max DESC\n",
    "    \"\"\"\n",
    ")\n",
    "df_main"
   ]
  },
  {
   "cell_type": "code",
   "execution_count": 16,
   "id": "e2e97a2a",
   "metadata": {},
   "outputs": [
    {
     "data": {
      "text/html": [
       "<div>\n",
       "<style scoped>\n",
       "    .dataframe tbody tr th:only-of-type {\n",
       "        vertical-align: middle;\n",
       "    }\n",
       "\n",
       "    .dataframe tbody tr th {\n",
       "        vertical-align: top;\n",
       "    }\n",
       "\n",
       "    .dataframe thead th {\n",
       "        text-align: right;\n",
       "    }\n",
       "</style>\n",
       "<table border=\"1\" class=\"dataframe\">\n",
       "  <thead>\n",
       "    <tr style=\"text-align: right;\">\n",
       "      <th></th>\n",
       "      <th>primaryName</th>\n",
       "      <th>nb_film_max</th>\n",
       "      <th>decade</th>\n",
       "      <th>MAXFILM</th>\n",
       "    </tr>\n",
       "  </thead>\n",
       "  <tbody>\n",
       "    <tr>\n",
       "      <th>0</th>\n",
       "      <td>Alexandre Promio</td>\n",
       "      <td>4</td>\n",
       "      <td>1890s</td>\n",
       "      <td>4</td>\n",
       "    </tr>\n",
       "    <tr>\n",
       "      <th>1</th>\n",
       "      <td>William Heise</td>\n",
       "      <td>4</td>\n",
       "      <td>1890s</td>\n",
       "      <td>4</td>\n",
       "    </tr>\n",
       "    <tr>\n",
       "      <th>2</th>\n",
       "      <td>Louis Lumière</td>\n",
       "      <td>3</td>\n",
       "      <td>1890s</td>\n",
       "      <td>4</td>\n",
       "    </tr>\n",
       "    <tr>\n",
       "      <th>3</th>\n",
       "      <td>Max Skladanowsky</td>\n",
       "      <td>3</td>\n",
       "      <td>1890s</td>\n",
       "      <td>4</td>\n",
       "    </tr>\n",
       "    <tr>\n",
       "      <th>4</th>\n",
       "      <td>Charles Moisson</td>\n",
       "      <td>3</td>\n",
       "      <td>1890s</td>\n",
       "      <td>4</td>\n",
       "    </tr>\n",
       "    <tr>\n",
       "      <th>...</th>\n",
       "      <td>...</td>\n",
       "      <td>...</td>\n",
       "      <td>...</td>\n",
       "      <td>...</td>\n",
       "    </tr>\n",
       "    <tr>\n",
       "      <th>531672</th>\n",
       "      <td>Jamie Suk</td>\n",
       "      <td>1</td>\n",
       "      <td>None</td>\n",
       "      <td>5</td>\n",
       "    </tr>\n",
       "    <tr>\n",
       "      <th>531673</th>\n",
       "      <td>Manuel Alejandro Ruiz</td>\n",
       "      <td>1</td>\n",
       "      <td>None</td>\n",
       "      <td>5</td>\n",
       "    </tr>\n",
       "    <tr>\n",
       "      <th>531674</th>\n",
       "      <td>Pam Mackinnon</td>\n",
       "      <td>1</td>\n",
       "      <td>None</td>\n",
       "      <td>5</td>\n",
       "    </tr>\n",
       "    <tr>\n",
       "      <th>531675</th>\n",
       "      <td>Paige Touzet</td>\n",
       "      <td>1</td>\n",
       "      <td>None</td>\n",
       "      <td>5</td>\n",
       "    </tr>\n",
       "    <tr>\n",
       "      <th>531676</th>\n",
       "      <td>Felipe De Paula</td>\n",
       "      <td>1</td>\n",
       "      <td>None</td>\n",
       "      <td>5</td>\n",
       "    </tr>\n",
       "  </tbody>\n",
       "</table>\n",
       "<p>531677 rows × 4 columns</p>\n",
       "</div>"
      ],
      "text/plain": [
       "                  primaryName  nb_film_max decade  MAXFILM\n",
       "0            Alexandre Promio            4  1890s        4\n",
       "1               William Heise            4  1890s        4\n",
       "2               Louis Lumière            3  1890s        4\n",
       "3            Max Skladanowsky            3  1890s        4\n",
       "4             Charles Moisson            3  1890s        4\n",
       "...                       ...          ...    ...      ...\n",
       "531672              Jamie Suk            1   None        5\n",
       "531673  Manuel Alejandro Ruiz            1   None        5\n",
       "531674          Pam Mackinnon            1   None        5\n",
       "531675           Paige Touzet            1   None        5\n",
       "531676        Felipe De Paula            1   None        5\n",
       "\n",
       "[531677 rows x 4 columns]"
      ]
     },
     "execution_count": 16,
     "metadata": {},
     "output_type": "execute_result"
    }
   ],
   "source": [
    "main_bis = sql(\"\"\"\n",
    "    SELECT *,\n",
    "    MAX(nb_film_max) OVER(PARTITION BY decade) MAXFILM\n",
    "    from df_main\n",
    "    ORDER BY decade, nb_film_max DESC\n",
    "    \"\"\"\n",
    ")\n",
    "main_bis"
   ]
  },
  {
   "cell_type": "code",
   "execution_count": null,
   "id": "b0314167",
   "metadata": {},
   "outputs": [
    {
     "data": {
      "text/plain": [
       "Text(0.5, 1.0, 'Nombre de film max par act')"
      ]
     },
     "execution_count": 17,
     "metadata": {},
     "output_type": "execute_result"
    },
    {
     "data": {
      "image/png": "[encoded data removed]",
      "text/plain": [
       "<Figure size 1000x1000 with 1 Axes>"
      ]
     },
     "metadata": {},
     "output_type": "display_data"
    }
   ],
   "source": [
    "plt.figure(figsize=(10,10))\n",
    "sns.barplot(data=main_bis, x='decade', y='MAXFILM')\n",
    "plt.title(\"Nombre de film max par dir\")"
   ]
  },
  {
   "cell_type": "code",
   "execution_count": 18,
   "id": "d6ad77ad",
   "metadata": {},
   "outputs": [
    {
     "data": {
      "text/html": [
       "<div>\n",
       "<style scoped>\n",
       "    .dataframe tbody tr th:only-of-type {\n",
       "        vertical-align: middle;\n",
       "    }\n",
       "\n",
       "    .dataframe tbody tr th {\n",
       "        vertical-align: top;\n",
       "    }\n",
       "\n",
       "    .dataframe thead th {\n",
       "        text-align: right;\n",
       "    }\n",
       "</style>\n",
       "<table border=\"1\" class=\"dataframe\">\n",
       "  <thead>\n",
       "    <tr style=\"text-align: right;\">\n",
       "      <th></th>\n",
       "      <th>primaryName</th>\n",
       "      <th>nb_film_max</th>\n",
       "      <th>decade</th>\n",
       "    </tr>\n",
       "  </thead>\n",
       "  <tbody>\n",
       "    <tr>\n",
       "      <th>0</th>\n",
       "      <td>Alexandre Promio</td>\n",
       "      <td>4</td>\n",
       "      <td>1890s</td>\n",
       "    </tr>\n",
       "    <tr>\n",
       "      <th>1</th>\n",
       "      <td>William Heise</td>\n",
       "      <td>4</td>\n",
       "      <td>1890s</td>\n",
       "    </tr>\n",
       "    <tr>\n",
       "      <th>2</th>\n",
       "      <td>Manuel</td>\n",
       "      <td>4</td>\n",
       "      <td>1900s</td>\n",
       "    </tr>\n",
       "    <tr>\n",
       "      <th>3</th>\n",
       "      <td>Ole Olsen</td>\n",
       "      <td>4</td>\n",
       "      <td>1910s</td>\n",
       "    </tr>\n",
       "    <tr>\n",
       "      <th>4</th>\n",
       "      <td>D.W. Griffith</td>\n",
       "      <td>4</td>\n",
       "      <td>1910s</td>\n",
       "    </tr>\n",
       "    <tr>\n",
       "      <th>...</th>\n",
       "      <td>...</td>\n",
       "      <td>...</td>\n",
       "      <td>...</td>\n",
       "    </tr>\n",
       "    <tr>\n",
       "      <th>433</th>\n",
       "      <td>David Jones</td>\n",
       "      <td>7</td>\n",
       "      <td>1990s</td>\n",
       "    </tr>\n",
       "    <tr>\n",
       "      <th>434</th>\n",
       "      <td>Matt Miller</td>\n",
       "      <td>9</td>\n",
       "      <td>2000s</td>\n",
       "    </tr>\n",
       "    <tr>\n",
       "      <th>435</th>\n",
       "      <td>Gurpreet Singh</td>\n",
       "      <td>21</td>\n",
       "      <td>2010s</td>\n",
       "    </tr>\n",
       "    <tr>\n",
       "      <th>436</th>\n",
       "      <td>Harpreet Singh</td>\n",
       "      <td>11</td>\n",
       "      <td>2020s</td>\n",
       "    </tr>\n",
       "    <tr>\n",
       "      <th>437</th>\n",
       "      <td>Anna Guerra</td>\n",
       "      <td>5</td>\n",
       "      <td>None</td>\n",
       "    </tr>\n",
       "  </tbody>\n",
       "</table>\n",
       "<p>438 rows × 3 columns</p>\n",
       "</div>"
      ],
      "text/plain": [
       "          primaryName  nb_film_max decade\n",
       "0    Alexandre Promio            4  1890s\n",
       "1       William Heise            4  1890s\n",
       "2              Manuel            4  1900s\n",
       "3           Ole Olsen            4  1910s\n",
       "4       D.W. Griffith            4  1910s\n",
       "..                ...          ...    ...\n",
       "433       David Jones            7  1990s\n",
       "434       Matt Miller            9  2000s\n",
       "435    Gurpreet Singh           21  2010s\n",
       "436    Harpreet Singh           11  2020s\n",
       "437       Anna Guerra            5   None\n",
       "\n",
       "[438 rows x 3 columns]"
      ]
     },
     "execution_count": 18,
     "metadata": {},
     "output_type": "execute_result"
    }
   ],
   "source": [
    "df_max_film_act = sql(\"\"\"SELECT primaryName, nb_film_max, decade FROM main_bis WHERE nb_film_max == MAXFILM\"\"\" )\n",
    "df_max_film_act"
   ]
  },
  {
   "cell_type": "code",
   "execution_count": null,
   "id": "062802e2",
   "metadata": {},
   "outputs": [
    {
     "data": {
      "application/vnd.plotly.v1+json": {
       "config": {
        "plotlyServerURL": "https://plot.ly"
       },
       "data": [
        {
         "hovertemplate": "decade=1890s<br>nb_film_max=%{x}<br>primaryName=%{y}<extra></extra>",
         "legendgroup": "",
         "marker": {
          "color": "#636efa",
          "pattern": {
           "shape": ""
          }
         },
         "name": "",
         "orientation": "h",
         "showlegend": false,
         "textposition": "auto",
         "type": "bar",
         "x": {
          "bdata": "BAQ=",
          "dtype": "i1"
         },
         "xaxis": "x",
         "y": [
          "Alexandre Promio",
          "William Heise"
         ],
         "yaxis": "y"
        }
       ],
       "frames": [
        {
         "data": [
          {
           "hovertemplate": "decade=1890s<br>nb_film_max=%{x}<br>primaryName=%{y}<extra></extra>",
           "legendgroup": "",
           "marker": {
            "color": "#636efa",
            "pattern": {
             "shape": ""
            }
           },
           "name": "",
           "orientation": "h",
           "showlegend": false,
           "textposition": "auto",
           "type": "bar",
           "x": {
            "bdata": "BAQ=",
            "dtype": "i1"
           },
           "xaxis": "x",
           "y": [
            "Alexandre Promio",
            "William Heise"
           ],
           "yaxis": "y"
          }
         ],
         "name": "1890s"
        },
        {
         "data": [
          {
           "hovertemplate": "decade=1900s<br>nb_film_max=%{x}<br>primaryName=%{y}<extra></extra>",
           "legendgroup": "",
           "marker": {
            "color": "#636efa",
            "pattern": {
             "shape": ""
            }
           },
           "name": "",
           "orientation": "h",
           "showlegend": false,
           "textposition": "auto",
           "type": "bar",
           "x": {
            "bdata": "BA==",
            "dtype": "i1"
           },
           "xaxis": "x",
           "y": [
            "Manuel"
           ],
           "yaxis": "y"
          }
         ],
         "name": "1900s"
        },
        {
         "data": [
          {
           "hovertemplate": "decade=1910s<br>nb_film_max=%{x}<br>primaryName=%{y}<extra></extra>",
           "legendgroup": "",
           "marker": {
            "color": "#636efa",
            "pattern": {
             "shape": ""
            }
           },
           "name": "",
           "orientation": "h",
           "showlegend": false,
           "textposition": "auto",
           "type": "bar",
           "x": {
            "bdata": "BAQEBA==",
            "dtype": "i1"
           },
           "xaxis": "x",
           "y": [
            "Ole Olsen",
            "D.W. Griffith",
            "Paul Wegener",
            "Axel Bruun"
           ],
           "yaxis": "y"
          }
         ],
         "name": "1910s"
        },
        {
         "data": [
          {
           "hovertemplate": "decade=1920s<br>nb_film_max=%{x}<br>primaryName=%{y}<extra></extra>",
           "legendgroup": "",
           "marker": {
            "color": "#636efa",
            "pattern": {
             "shape": ""
            }
           },
           "name": "",
           "orientation": "h",
           "showlegend": false,
           "textposition": "auto",
           "type": "bar",
           "x": {
            "bdata": "BAQEBAQEBAQEBAQEBAQEBAQEBAQEBAQEBAQEBAQ=",
            "dtype": "i1"
           },
           "xaxis": "x",
           "y": [
            "Dmitriy Bukhovetskiy",
            "Buster Keaton",
            "Bertram Evans",
            "Alice Terry",
            "Karl Görge",
            "Clyde Bruckman",
            "William MacDonald",
            "Mack Swain",
            "Wallace Worsley",
            "Jean Epstein",
            "Jean C. Havez",
            "J.C. Hoffner",
            "Charles R. Bowers",
            "Elmer Sheeley",
            "Roy Coulson",
            "Harold L. Muller",
            "Frank Currier",
            "Don Sandstrom",
            "Hermann Warm",
            "Charles Dorian",
            "Fred Gabourie",
            "George Hippard",
            "Jaque Catelain",
            "Ted Wilde",
            "Ivan Mozzhukhin",
            "Bert Bilby",
            "Hans Kyser",
            "Liell K. Vedder",
            "Paul Iribe"
           ],
           "yaxis": "y"
          }
         ],
         "name": "1920s"
        },
        {
         "data": [
          {
           "hovertemplate": "decade=1930s<br>nb_film_max=%{x}<br>primaryName=%{y}<extra></extra>",
           "legendgroup": "",
           "marker": {
            "color": "#636efa",
            "pattern": {
             "shape": ""
            }
           },
           "name": "",
           "orientation": "h",
           "showlegend": false,
           "textposition": "auto",
           "type": "bar",
           "x": {
            "bdata": "BQ==",
            "dtype": "i1"
           },
           "xaxis": "x",
           "y": [
            "Rudolf Stahl"
           ],
           "yaxis": "y"
          }
         ],
         "name": "1930s"
        },
        {
         "data": [
          {
           "hovertemplate": "decade=1940s<br>nb_film_max=%{x}<br>primaryName=%{y}<extra></extra>",
           "legendgroup": "",
           "marker": {
            "color": "#636efa",
            "pattern": {
             "shape": ""
            }
           },
           "name": "",
           "orientation": "h",
           "showlegend": false,
           "textposition": "auto",
           "type": "bar",
           "x": {
            "bdata": "BAQEBAQEBAQEBAQEBAQEBAQEBAQEBAQEBAQEBAQEBAQEBAQEBAQEBAQEBAQEBAQEBAQEBAQEBAQEBAQEBAQEBAQEBAQEBAQEBAQEBAQEBAQEBAQE",
            "dtype": "i1"
           },
           "xaxis": "x",
           "y": [
            "Preston Sturges",
            "Walter Colmes",
            "J. Watson Webb Jr.",
            "Michael C. Chorlton",
            "Richard Blumenthal",
            "Steve Cochran",
            "Robert Usher",
            "Arthur Mertz",
            "Frank Woodruff",
            "Frank Ryan",
            "Edward L. Ilou",
            "Culley Forde",
            "Charles Stevens",
            "Harry Mancke",
            "Gastone Bartolucci",
            "William C. McGann",
            "Richard Duce",
            "Kiyoshi Suzuki",
            "Mark-Lee Kirk",
            "A. Frank Bundy",
            "Joseph Sternad",
            "William Beaudine",
            "Paul Jones",
            "Paul Gerard Smith",
            "Perry Ferguson",
            "Harry Moore",
            "Tom Dudley",
            "Spencer Williams",
            "Signe Hasso",
            "Bert Felstead",
            "E.D. Leshin",
            "Ida Lupino",
            "William Strohbach",
            "William Tummel",
            "António César dos Santos",
            "Felix Jacoves",
            "Eugene C. Stone",
            "Christian Bérard",
            "Charles Novi",
            "Ira Webb",
            "Harald Molander",
            "Gil Valle",
            "George R. Busby",
            "Milt Gross",
            "R.M. Andrews",
            "Tom Payne",
            "Abraham Grossman",
            "Edward A. Blatt",
            "Dennis O'Keefe",
            "David Lichine",
            "James Basevi",
            "J. Charles Gilbert",
            "Hubert Hobson",
            "Herman Pett",
            "Gordon Hollingshead",
            "Kenneth Horne",
            "Percy Hermes",
            "Armor Marlowe",
            "Alexis Thurn-Taxis",
            "Eddie Dunn",
            "Ed Starr",
            "Donald Wynne",
            "Dane Clark",
            "James T. Vaughn",
            "Jack Daniels",
            "Harold Minter",
            "Vernon Stallings",
            "Nicolai Remisoff",
            "Philip Brandon",
            "Seward Webb",
            "Hugh MacMullan",
            "Harry Scott",
            "George Murphy",
            "William L. Pereira",
            "Riccardo Freda",
            "McClure Capps",
            "Paul Henreid",
            "Russell Kimball",
            "Arthur Dreifuss",
            "Frank A. Richards",
            "John English",
            "Jesse Duffy",
            "Jack Moss",
            "Victor Hembrow"
           ],
           "yaxis": "y"
          }
         ],
         "name": "1940s"
        },
        {
         "data": [
          {
           "hovertemplate": "decade=1950s<br>nb_film_max=%{x}<br>primaryName=%{y}<extra></extra>",
           "legendgroup": "",
           "marker": {
            "color": "#636efa",
            "pattern": {
             "shape": ""
            }
           },
           "name": "",
           "orientation": "h",
           "showlegend": false,
           "textposition": "auto",
           "type": "bar",
           "x": {
            "bdata": "BAQEBAQEBAQEBAQEBAQEBAQEBAQEBAQEBAQEBAQEBAQEBAQEBAQEBAQEBAQEBAQEBAQEBAQEBAQEBAQEBAQEBAQEBAQEBAQEBAQEBAQEBAQEBAQEBAQEBAQEBAQEBAQEBAQEBAQEBAQEBAQEBAQEBAQ=",
            "dtype": "i1"
           },
           "xaxis": "x",
           "y": [
            "Ignacio Grau",
            "Clyde Geronimi",
            "Alexander Mackendrick",
            "Cesare Olivieri",
            "Tadashi Imai",
            "Theobold Holsopple",
            "Kurt Neumann",
            "Juan N. Solórzano",
            "Ray Kellogg",
            "Paolo Uccello",
            "Pier Paolo Piccinato",
            "Winston Hibler",
            "Eric Saw",
            "Adrian Pryce-Jones",
            "Arne Mattsson",
            "Robert Bouladoux",
            "Stanley Hosgood",
            "Torben Anton Svendsen",
            "Kisaku Itô",
            "Kenji Mizoguchi",
            "Maurice Lessay",
            "Wyott Ordung",
            "George Nader",
            "Gustav Oehler",
            "Harold Hecht",
            "Herbert Coleman",
            "Charles Vanel",
            "Daniel Mann",
            "Don Lusk",
            "Edward Sampson",
            "Frank Tashlin",
            "Alain Roux",
            "Arthur Camp",
            "Bob Carlson",
            "Carlo Serrutini",
            "Stefan Briestensky",
            "Paul Sheridan",
            "Luciana Pedrosi",
            "W. Simpson Robinson",
            "Makoto Sono",
            "Marcello Girosi",
            "Maria Olejniczak",
            "Otto Pellegrini",
            "Peter Glazier",
            "William W. Claridge",
            "Harry Essex",
            "Heinrich Gärtner",
            "Josef Ambor",
            "Joseph M. Newman",
            "Charles C. Coleman",
            "Alexander Paal",
            "Roberto Duval",
            "Terence Fisher",
            "Tore Kinge",
            "Ladislao Vajda",
            "Juan Lladó",
            "Palo Bielik",
            "Peppino De Filippo",
            "Walter H. Tyler",
            "William C. Mellor",
            "Hal Pereira",
            "Clément Duhour",
            "Daniel Taradash",
            "David Peers",
            "Douglas Bacon",
            "Alberto Closas",
            "André Michel",
            "Arne Skouen",
            "Arthur Alcott",
            "Bill Kirby",
            "Roland Bernard",
            "Ted Cotton",
            "Terence Verity",
            "Mel Ferrer",
            "Keisuke Kinoshita",
            "Michael Gordon",
            "Nina Vine",
            "Peter Krahe",
            "Victor Wark",
            "Willy Zeyn",
            "George Haslam",
            "James McMahon",
            "James West",
            "Andrea A. Tomassi",
            "Bente Jochimsen",
            "Rossana Podestà",
            "Thor Putnam",
            "Malcolm C. Bert",
            "Lee Sholem",
            "Mario Santovetti",
            "Alec C. Snowden",
            "C. Ray Stahl",
            "Tom Kemp",
            "Claude Levillain",
            "George Hoyningen-Huene",
            "Erdman Penner",
            "William Watson",
            "Hans H. König",
            "Jack Pollexfen",
            "James Algar",
            "D.R. Jadhav",
            "David Paltenghi",
            "Antonio Thellung",
            "Bertram Tuttle",
            "Betty Pagel",
            "Boris Meerovich",
            "Ronald R. Rondell",
            "Satoru Chûko",
            "Norman Corwin",
            "María de las Mercedes Otero",
            "William Schorr",
            "Zofia Suchecka",
            "Gérard Philipe"
           ],
           "yaxis": "y"
          }
         ],
         "name": "1950s"
        },
        {
         "data": [
          {
           "hovertemplate": "decade=1960s<br>nb_film_max=%{x}<br>primaryName=%{y}<extra></extra>",
           "legendgroup": "",
           "marker": {
            "color": "#636efa",
            "pattern": {
             "shape": ""
            }
           },
           "name": "",
           "orientation": "h",
           "showlegend": false,
           "textposition": "auto",
           "type": "bar",
           "x": {
            "bdata": "BAQEBAQEBAQEBAQEBAQEBAQEBAQEBAQEBAQEBAQEBAQEBAQEBAQEBAQEBAQEBAQEBAQEBAQEBAQEBAQEBAQEBAQEBAQEBAQEBAQEBAQEBAQEBAQEBAQEBAQEBAQEBAQEBAQEBAQEBAQEBAQEBAQEBAQEBAQEBAQEBAQEBAQEBAQEBAQEBAQEBAQEBAQEBAQEBAQEBAQEBAQEBAQEBAQEBAQEBAQEBAQEBAQEBAQEBAQEBAQEBAQEBAQEBAQEBAQEBAQEBA==",
            "dtype": "i1"
           },
           "xaxis": "x",
           "y": [
            "Luigi Carpentieri",
            "Manuel San Román",
            "Peter Russell",
            "Priscilla Contardi",
            "Raoul Lévy",
            "Georges Franju",
            "Gillian Adams",
            "Grisha Dabat",
            "Gérard Cohen",
            "Jean Chayrou",
            "Jean-Claude Giuliani",
            "Charles Blair",
            "Deepak Majumdar",
            "Benchekroun Larbi",
            "Bona Magrini",
            "Carl Ottosen",
            "Sam Kopetzky",
            "Lars-Magnus Lindgren",
            "Len Miller",
            "Mario Pippa",
            "Nando Angelini",
            "Naomi Levine",
            "Nicola Balini",
            "Remigio Del Grosso",
            "Renato Beer",
            "Uttam Kumar",
            "Víctor Andrés Catena",
            "Wlodzimierz Kaminski",
            "Jawar N. Sitaraman",
            "Josef Krames",
            "Christopher Dryhurst",
            "Dwayne Hickman",
            "Elio Scardamaglia",
            "Anna Karina",
            "S. Panju",
            "Saverio D'Eugenio",
            "Serge Piollet",
            "Sergio Donà",
            "Sergio Merolle",
            "Juan J. Arambillet",
            "Leopoldo Machina",
            "Luigi Scaccianoce",
            "Miroslav Isakovic",
            "Oscar D'Amico",
            "Vasilis Fotopoulos",
            "George Peppard",
            "Giovanni Ivan Scratuglia",
            "Giovanni Mulazzani",
            "Giovanni Scolaro",
            "Giulio Pannaccio",
            "Gonzalo Pardo Robles",
            "Gordon Gilbert",
            "Jacques Mawart",
            "Charles Chieusse",
            "Christian Gaudin",
            "Ermanno Manco",
            "Ajit Basak",
            "Andrea Volpe",
            "Athos Danilo Zanetti",
            "Russ Marker",
            "Li Kao",
            "Lone Hertz",
            "Pierre Étaix",
            "Ping Wang",
            "Giacomo Rossi Stuart",
            "Grigor Ikonomi",
            "Hans Peder Linder",
            "Jack N. Reddish",
            "Jack W. Cash",
            "Javier Setó",
            "Jean-Charles Dudrumet",
            "John Draper",
            "Joseph P. Mawra",
            "Edward Marshall",
            "Franco Cobianchi",
            "Frederic Goode",
            "A.P. Nagarajan",
            "Antonio Sarzi-Braga",
            "Bjorn Johansen",
            "Shû Sakiyama",
            "Ksenofon Dilo",
            "José Méndez",
            "Kurt Kren",
            "Kizo Nagashima",
            "Oskar Werner",
            "Paul-Louis Boutié",
            "R. Krishnan",
            "Vojislav 'Kokan' Rakonjac",
            "Gerhard F. Hummel",
            "Giampaolo Taddeini",
            "Guy Fanelli",
            "Hans Bussenius",
            "Jasper Russel",
            "John Earl",
            "Jose Rodriguez Rivera",
            "Don Russell",
            "Eiji Nishizawa",
            "Alan Hall",
            "Antonio Boccaci",
            "Bata Stojanovic",
            "Bill Melendez",
            "Robert Brownjohn",
            "Stillman Segar",
            "Tanio Boccia",
            "Lore Meyer-Döhner",
            "Mario Serandrei",
            "Maury Dexter",
            "Michelangelo Panaro",
            "Miguel Martín",
            "Monika Kalwa",
            "Neda Vilar",
            "Nino Fruscella",
            "Peter R. Hunt",
            "Pier Vittorio Marchi",
            "Piero Gherardi",
            "Renzo Cerrato",
            "V. Makarov",
            "Vasilis Georgiadis",
            "Wally Campo",
            "Will Tremper",
            "Yuan Cheng Huang",
            "Zdenka Karlovská",
            "Giovanni Simonelli",
            "Harold Hoffman",
            "Jirí Kotlár",
            "Joachim Fuchsberger",
            "Joel Holt",
            "John D. Merriman",
            "Charles Hawtrey",
            "Charles Regnier",
            "Ferry Windberger",
            "Franco Lolli",
            "Alessandro Jacovoni",
            "Arturo González hijo",
            "Betty White",
            "Buddy Booth",
            "Carlos Viudes",
            "Roberto Cinquini",
            "Roger Ferret",
            "Shigetoshi Fumotokawa",
            "Shirley Clarke",
            "Tony Tounsi",
            "Lena Malmsjö",
            "Larry Peerce",
            "Ken Parker",
            "Lenn Hjortzberg",
            "Lionel Jeffries",
            "Marc Snegoff",
            "Marcello Pandolfi",
            "Maunu Kurkvaara",
            "Peter Prowse",
            "Philippe de Broca",
            "Renata Clerici",
            "Renato Cinquini",
            "Val Guest",
            "Gaetano Quartararo",
            "Giulio Cabras",
            "Guidarino Guidi",
            "Guido Malatesta",
            "Hiroshi Matsumoto",
            "Jean Aurel",
            "Jean-Luc Godard",
            "John Danischewsky",
            "John Lyon",
            "Chuck Hansen",
            "David Hall",
            "David Reed",
            "Adolfo Cagnacci",
            "Allen K. Wood",
            "Salvatore Giancotti",
            "Santo Versace",
            "Ted Wallis",
            "Terence Young",
            "Leif Jappe",
            "Lino Ranieri",
            "Maurice Carter",
            "N.M. Aytoda",
            "Pasquale Romano",
            "Pierre Brice",
            "Raymond Voinquel",
            "Giorgio Gentili",
            "Herbi Gärtner",
            "Joe Levy",
            "Ditte Restorff",
            "Edward Faulkner",
            "Eschilo Tarquini",
            "Franco D'Andria",
            "Akira Inoue",
            "Anthony Harvey",
            "Arrigo Breschi",
            "Robert Freeman",
            "Roy Millichip",
            "Sadhana Shivdasani",
            "Thom Conroy",
            "Louise Downe",
            "José Luis Monter"
           ],
           "yaxis": "y"
          }
         ],
         "name": "1960s"
        },
        {
         "data": [
          {
           "hovertemplate": "decade=1970s<br>nb_film_max=%{x}<br>primaryName=%{y}<extra></extra>",
           "legendgroup": "",
           "marker": {
            "color": "#636efa",
            "pattern": {
             "shape": ""
            }
           },
           "name": "",
           "orientation": "h",
           "showlegend": false,
           "textposition": "auto",
           "type": "bar",
           "x": {
            "bdata": "BgY=",
            "dtype": "i1"
           },
           "xaxis": "x",
           "y": [
            "Hugh Smith",
            "Mario David"
           ],
           "yaxis": "y"
          }
         ],
         "name": "1970s"
        },
        {
         "data": [
          {
           "hovertemplate": "decade=1980s<br>nb_film_max=%{x}<br>primaryName=%{y}<extra></extra>",
           "legendgroup": "",
           "marker": {
            "color": "#636efa",
            "pattern": {
             "shape": ""
            }
           },
           "name": "",
           "orientation": "h",
           "showlegend": false,
           "textposition": "auto",
           "type": "bar",
           "x": {
            "bdata": "Bw==",
            "dtype": "i1"
           },
           "xaxis": "x",
           "y": [
            "Paul Wong"
           ],
           "yaxis": "y"
          }
         ],
         "name": "1980s"
        },
        {
         "data": [
          {
           "hovertemplate": "decade=1990s<br>nb_film_max=%{x}<br>primaryName=%{y}<extra></extra>",
           "legendgroup": "",
           "marker": {
            "color": "#636efa",
            "pattern": {
             "shape": ""
            }
           },
           "name": "",
           "orientation": "h",
           "showlegend": false,
           "textposition": "auto",
           "type": "bar",
           "x": {
            "bdata": "Bw==",
            "dtype": "i1"
           },
           "xaxis": "x",
           "y": [
            "David Jones"
           ],
           "yaxis": "y"
          }
         ],
         "name": "1990s"
        },
        {
         "data": [
          {
           "hovertemplate": "decade=2000s<br>nb_film_max=%{x}<br>primaryName=%{y}<extra></extra>",
           "legendgroup": "",
           "marker": {
            "color": "#636efa",
            "pattern": {
             "shape": ""
            }
           },
           "name": "",
           "orientation": "h",
           "showlegend": false,
           "textposition": "auto",
           "type": "bar",
           "x": {
            "bdata": "CQ==",
            "dtype": "i1"
           },
           "xaxis": "x",
           "y": [
            "Matt Miller"
           ],
           "yaxis": "y"
          }
         ],
         "name": "2000s"
        },
        {
         "data": [
          {
           "hovertemplate": "decade=2010s<br>nb_film_max=%{x}<br>primaryName=%{y}<extra></extra>",
           "legendgroup": "",
           "marker": {
            "color": "#636efa",
            "pattern": {
             "shape": ""
            }
           },
           "name": "",
           "orientation": "h",
           "showlegend": false,
           "textposition": "auto",
           "type": "bar",
           "x": {
            "bdata": "FQ==",
            "dtype": "i1"
           },
           "xaxis": "x",
           "y": [
            "Gurpreet Singh"
           ],
           "yaxis": "y"
          }
         ],
         "name": "2010s"
        },
        {
         "data": [
          {
           "hovertemplate": "decade=2020s<br>nb_film_max=%{x}<br>primaryName=%{y}<extra></extra>",
           "legendgroup": "",
           "marker": {
            "color": "#636efa",
            "pattern": {
             "shape": ""
            }
           },
           "name": "",
           "orientation": "h",
           "showlegend": false,
           "textposition": "auto",
           "type": "bar",
           "x": {
            "bdata": "Cw==",
            "dtype": "i1"
           },
           "xaxis": "x",
           "y": [
            "Harpreet Singh"
           ],
           "yaxis": "y"
          }
         ],
         "name": "2020s"
        }
       ],
       "layout": {
        "barmode": "relative",
        "legend": {
         "tracegroupgap": 0
        },
        "margin": {
         "t": 60
        },
        "showlegend": false,
        "sliders": [
         {
          "active": 0,
          "currentvalue": {
           "prefix": "decade="
          },
          "len": 0.9,
          "pad": {
           "b": 10,
           "t": 60
          },
          "steps": [
           {
            "args": [
             [
              "1890s"
             ],
             {
              "frame": {
               "duration": 0,
               "redraw": true
              },
              "fromcurrent": true,
              "mode": "immediate",
              "transition": {
               "duration": 0,
               "easing": "linear"
              }
             }
            ],
            "label": "1890s",
            "method": "animate"
           },
           {
            "args": [
             [
              "1900s"
             ],
             {
              "frame": {
               "duration": 0,
               "redraw": true
              },
              "fromcurrent": true,
              "mode": "immediate",
              "transition": {
               "duration": 0,
               "easing": "linear"
              }
             }
            ],
            "label": "1900s",
            "method": "animate"
           },
           {
            "args": [
             [
              "1910s"
             ],
             {
              "frame": {
               "duration": 0,
               "redraw": true
              },
              "fromcurrent": true,
              "mode": "immediate",
              "transition": {
               "duration": 0,
               "easing": "linear"
              }
             }
            ],
            "label": "1910s",
            "method": "animate"
           },
           {
            "args": [
             [
              "1920s"
             ],
             {
              "frame": {
               "duration": 0,
               "redraw": true
              },
              "fromcurrent": true,
              "mode": "immediate",
              "transition": {
               "duration": 0,
               "easing": "linear"
              }
             }
            ],
            "label": "1920s",
            "method": "animate"
           },
           {
            "args": [
             [
              "1930s"
             ],
             {
              "frame": {
               "duration": 0,
               "redraw": true
              },
              "fromcurrent": true,
              "mode": "immediate",
              "transition": {
               "duration": 0,
               "easing": "linear"
              }
             }
            ],
            "label": "1930s",
            "method": "animate"
           },
           {
            "args": [
             [
              "1940s"
             ],
             {
              "frame": {
               "duration": 0,
               "redraw": true
              },
              "fromcurrent": true,
              "mode": "immediate",
              "transition": {
               "duration": 0,
               "easing": "linear"
              }
             }
            ],
            "label": "1940s",
            "method": "animate"
           },
           {
            "args": [
             [
              "1950s"
             ],
             {
              "frame": {
               "duration": 0,
               "redraw": true
              },
              "fromcurrent": true,
              "mode": "immediate",
              "transition": {
               "duration": 0,
               "easing": "linear"
              }
             }
            ],
            "label": "1950s",
            "method": "animate"
           },
           {
            "args": [
             [
              "1960s"
             ],
             {
              "frame": {
               "duration": 0,
               "redraw": true
              },
              "fromcurrent": true,
              "mode": "immediate",
              "transition": {
               "duration": 0,
               "easing": "linear"
              }
             }
            ],
            "label": "1960s",
            "method": "animate"
           },
           {
            "args": [
             [
              "1970s"
             ],
             {
              "frame": {
               "duration": 0,
               "redraw": true
              },
              "fromcurrent": true,
              "mode": "immediate",
              "transition": {
               "duration": 0,
               "easing": "linear"
              }
             }
            ],
            "label": "1970s",
            "method": "animate"
           },
           {
            "args": [
             [
              "1980s"
             ],
             {
              "frame": {
               "duration": 0,
               "redraw": true
              },
              "fromcurrent": true,
              "mode": "immediate",
              "transition": {
               "duration": 0,
               "easing": "linear"
              }
             }
            ],
            "label": "1980s",
            "method": "animate"
           },
           {
            "args": [
             [
              "1990s"
             ],
             {
              "frame": {
               "duration": 0,
               "redraw": true
              },
              "fromcurrent": true,
              "mode": "immediate",
              "transition": {
               "duration": 0,
               "easing": "linear"
              }
             }
            ],
            "label": "1990s",
            "method": "animate"
           },
           {
            "args": [
             [
              "2000s"
             ],
             {
              "frame": {
               "duration": 0,
               "redraw": true
              },
              "fromcurrent": true,
              "mode": "immediate",
              "transition": {
               "duration": 0,
               "easing": "linear"
              }
             }
            ],
            "label": "2000s",
            "method": "animate"
           },
           {
            "args": [
             [
              "2010s"
             ],
             {
              "frame": {
               "duration": 0,
               "redraw": true
              },
              "fromcurrent": true,
              "mode": "immediate",
              "transition": {
               "duration": 0,
               "easing": "linear"
              }
             }
            ],
            "label": "2010s",
            "method": "animate"
           },
           {
            "args": [
             [
              "2020s"
             ],
             {
              "frame": {
               "duration": 0,
               "redraw": true
              },
              "fromcurrent": true,
              "mode": "immediate",
              "transition": {
               "duration": 0,
               "easing": "linear"
              }
             }
            ],
            "label": "2020s",
            "method": "animate"
           }
          ],
          "x": 0.1,
          "xanchor": "left",
          "y": 0,
          "yanchor": "top"
         }
        ],
        "template": {
         "data": {
          "bar": [
           {
            "error_x": {
             "color": "#2a3f5f"
            },
            "error_y": {
             "color": "#2a3f5f"
            },
            "marker": {
             "line": {
              "color": "#E5ECF6",
              "width": 0.5
             },
             "pattern": {
              "fillmode": "overlay",
              "size": 10,
              "solidity": 0.2
             }
            },
            "type": "bar"
           }
          ],
          "barpolar": [
           {
            "marker": {
             "line": {
              "color": "#E5ECF6",
              "width": 0.5
             },
             "pattern": {
              "fillmode": "overlay",
              "size": 10,
              "solidity": 0.2
             }
            },
            "type": "barpolar"
           }
          ],
          "carpet": [
           {
            "aaxis": {
             "endlinecolor": "#2a3f5f",
             "gridcolor": "white",
             "linecolor": "white",
             "minorgridcolor": "white",
             "startlinecolor": "#2a3f5f"
            },
            "baxis": {
             "endlinecolor": "#2a3f5f",
             "gridcolor": "white",
             "linecolor": "white",
             "minorgridcolor": "white",
             "startlinecolor": "#2a3f5f"
            },
            "type": "carpet"
           }
          ],
          "choropleth": [
           {
            "colorbar": {
             "outlinewidth": 0,
             "ticks": ""
            },
            "type": "choropleth"
           }
          ],
          "contour": [
           {
            "colorbar": {
             "outlinewidth": 0,
             "ticks": ""
            },
            "colorscale": [
             [
              0,
              "#0d0887"
             ],
             [
              0.1111111111111111,
              "#46039f"
             ],
             [
              0.2222222222222222,
              "#7201a8"
             ],
             [
              0.3333333333333333,
              "#9c179e"
             ],
             [
              0.4444444444444444,
              "#bd3786"
             ],
             [
              0.5555555555555556,
              "#d8576b"
             ],
             [
              0.6666666666666666,
              "#ed7953"
             ],
             [
              0.7777777777777778,
              "#fb9f3a"
             ],
             [
              0.8888888888888888,
              "#fdca26"
             ],
             [
              1,
              "#f0f921"
             ]
            ],
            "type": "contour"
           }
          ],
          "contourcarpet": [
           {
            "colorbar": {
             "outlinewidth": 0,
             "ticks": ""
            },
            "type": "contourcarpet"
           }
          ],
          "heatmap": [
           {
            "colorbar": {
             "outlinewidth": 0,
             "ticks": ""
            },
            "colorscale": [
             [
              0,
              "#0d0887"
             ],
             [
              0.1111111111111111,
              "#46039f"
             ],
             [
              0.2222222222222222,
              "#7201a8"
             ],
             [
              0.3333333333333333,
              "#9c179e"
             ],
             [
              0.4444444444444444,
              "#bd3786"
             ],
             [
              0.5555555555555556,
              "#d8576b"
             ],
             [
              0.6666666666666666,
              "#ed7953"
             ],
             [
              0.7777777777777778,
              "#fb9f3a"
             ],
             [
              0.8888888888888888,
              "#fdca26"
             ],
             [
              1,
              "#f0f921"
             ]
            ],
            "type": "heatmap"
           }
          ],
          "histogram": [
           {
            "marker": {
             "pattern": {
              "fillmode": "overlay",
              "size": 10,
              "solidity": 0.2
             }
            },
            "type": "histogram"
           }
          ],
          "histogram2d": [
           {
            "colorbar": {
             "outlinewidth": 0,
             "ticks": ""
            },
            "colorscale": [
             [
              0,
              "#0d0887"
             ],
             [
              0.1111111111111111,
              "#46039f"
             ],
             [
              0.2222222222222222,
              "#7201a8"
             ],
             [
              0.3333333333333333,
              "#9c179e"
             ],
             [
              0.4444444444444444,
              "#bd3786"
             ],
             [
              0.5555555555555556,
              "#d8576b"
             ],
             [
              0.6666666666666666,
              "#ed7953"
             ],
             [
              0.7777777777777778,
              "#fb9f3a"
             ],
             [
              0.8888888888888888,
              "#fdca26"
             ],
             [
              1,
              "#f0f921"
             ]
            ],
            "type": "histogram2d"
           }
          ],
          "histogram2dcontour": [
           {
            "colorbar": {
             "outlinewidth": 0,
             "ticks": ""
            },
            "colorscale": [
             [
              0,
              "#0d0887"
             ],
             [
              0.1111111111111111,
              "#46039f"
             ],
             [
              0.2222222222222222,
              "#7201a8"
             ],
             [
              0.3333333333333333,
              "#9c179e"
             ],
             [
              0.4444444444444444,
              "#bd3786"
             ],
             [
              0.5555555555555556,
              "#d8576b"
             ],
             [
              0.6666666666666666,
              "#ed7953"
             ],
             [
              0.7777777777777778,
              "#fb9f3a"
             ],
             [
              0.8888888888888888,
              "#fdca26"
             ],
             [
              1,
              "#f0f921"
             ]
            ],
            "type": "histogram2dcontour"
           }
          ],
          "mesh3d": [
           {
            "colorbar": {
             "outlinewidth": 0,
             "ticks": ""
            },
            "type": "mesh3d"
           }
          ],
          "parcoords": [
           {
            "line": {
             "colorbar": {
              "outlinewidth": 0,
              "ticks": ""
             }
            },
            "type": "parcoords"
           }
          ],
          "pie": [
           {
            "automargin": true,
            "type": "pie"
           }
          ],
          "scatter": [
           {
            "fillpattern": {
             "fillmode": "overlay",
             "size": 10,
             "solidity": 0.2
            },
            "type": "scatter"
           }
          ],
          "scatter3d": [
           {
            "line": {
             "colorbar": {
              "outlinewidth": 0,
              "ticks": ""
             }
            },
            "marker": {
             "colorbar": {
              "outlinewidth": 0,
              "ticks": ""
             }
            },
            "type": "scatter3d"
           }
          ],
          "scattercarpet": [
           {
            "marker": {
             "colorbar": {
              "outlinewidth": 0,
              "ticks": ""
             }
            },
            "type": "scattercarpet"
           }
          ],
          "scattergeo": [
           {
            "marker": {
             "colorbar": {
              "outlinewidth": 0,
              "ticks": ""
             }
            },
            "type": "scattergeo"
           }
          ],
          "scattergl": [
           {
            "marker": {
             "colorbar": {
              "outlinewidth": 0,
              "ticks": ""
             }
            },
            "type": "scattergl"
           }
          ],
          "scattermap": [
           {
            "marker": {
             "colorbar": {
              "outlinewidth": 0,
              "ticks": ""
             }
            },
            "type": "scattermap"
           }
          ],
          "scattermapbox": [
           {
            "marker": {
             "colorbar": {
              "outlinewidth": 0,
              "ticks": ""
             }
            },
            "type": "scattermapbox"
           }
          ],
          "scatterpolar": [
           {
            "marker": {
             "colorbar": {
              "outlinewidth": 0,
              "ticks": ""
             }
            },
            "type": "scatterpolar"
           }
          ],
          "scatterpolargl": [
           {
            "marker": {
             "colorbar": {
              "outlinewidth": 0,
              "ticks": ""
             }
            },
            "type": "scatterpolargl"
           }
          ],
          "scatterternary": [
           {
            "marker": {
             "colorbar": {
              "outlinewidth": 0,
              "ticks": ""
             }
            },
            "type": "scatterternary"
           }
          ],
          "surface": [
           {
            "colorbar": {
             "outlinewidth": 0,
             "ticks": ""
            },
            "colorscale": [
             [
              0,
              "#0d0887"
             ],
             [
              0.1111111111111111,
              "#46039f"
             ],
             [
              0.2222222222222222,
              "#7201a8"
             ],
             [
              0.3333333333333333,
              "#9c179e"
             ],
             [
              0.4444444444444444,
              "#bd3786"
             ],
             [
              0.5555555555555556,
              "#d8576b"
             ],
             [
              0.6666666666666666,
              "#ed7953"
             ],
             [
              0.7777777777777778,
              "#fb9f3a"
             ],
             [
              0.8888888888888888,
              "#fdca26"
             ],
             [
              1,
              "#f0f921"
             ]
            ],
            "type": "surface"
           }
          ],
          "table": [
           {
            "cells": {
             "fill": {
              "color": "#EBF0F8"
             },
             "line": {
              "color": "white"
             }
            },
            "header": {
             "fill": {
              "color": "#C8D4E3"
             },
             "line": {
              "color": "white"
             }
            },
            "type": "table"
           }
          ]
         },
         "layout": {
          "annotationdefaults": {
           "arrowcolor": "#2a3f5f",
           "arrowhead": 0,
           "arrowwidth": 1
          },
          "autotypenumbers": "strict",
          "coloraxis": {
           "colorbar": {
            "outlinewidth": 0,
            "ticks": ""
           }
          },
          "colorscale": {
           "diverging": [
            [
             0,
             "#8e0152"
            ],
            [
             0.1,
             "#c51b7d"
            ],
            [
             0.2,
             "#de77ae"
            ],
            [
             0.3,
             "#f1b6da"
            ],
            [
             0.4,
             "#fde0ef"
            ],
            [
             0.5,
             "#f7f7f7"
            ],
            [
             0.6,
             "#e6f5d0"
            ],
            [
             0.7,
             "#b8e186"
            ],
            [
             0.8,
             "#7fbc41"
            ],
            [
             0.9,
             "#4d9221"
            ],
            [
             1,
             "#276419"
            ]
           ],
           "sequential": [
            [
             0,
             "#0d0887"
            ],
            [
             0.1111111111111111,
             "#46039f"
            ],
            [
             0.2222222222222222,
             "#7201a8"
            ],
            [
             0.3333333333333333,
             "#9c179e"
            ],
            [
             0.4444444444444444,
             "#bd3786"
            ],
            [
             0.5555555555555556,
             "#d8576b"
            ],
            [
             0.6666666666666666,
             "#ed7953"
            ],
            [
             0.7777777777777778,
             "#fb9f3a"
            ],
            [
             0.8888888888888888,
             "#fdca26"
            ],
            [
             1,
             "#f0f921"
            ]
           ],
           "sequentialminus": [
            [
             0,
             "#0d0887"
            ],
            [
             0.1111111111111111,
             "#46039f"
            ],
            [
             0.2222222222222222,
             "#7201a8"
            ],
            [
             0.3333333333333333,
             "#9c179e"
            ],
            [
             0.4444444444444444,
             "#bd3786"
            ],
            [
             0.5555555555555556,
             "#d8576b"
            ],
            [
             0.6666666666666666,
             "#ed7953"
            ],
            [
             0.7777777777777778,
             "#fb9f3a"
            ],
            [
             0.8888888888888888,
             "#fdca26"
            ],
            [
             1,
             "#f0f921"
            ]
           ]
          },
          "colorway": [
           "#636efa",
           "#EF553B",
           "#00cc96",
           "#ab63fa",
           "#FFA15A",
           "#19d3f3",
           "#FF6692",
           "#B6E880",
           "#FF97FF",
           "#FECB52"
          ],
          "font": {
           "color": "#2a3f5f"
          },
          "geo": {
           "bgcolor": "white",
           "lakecolor": "white",
           "landcolor": "#E5ECF6",
           "showlakes": true,
           "showland": true,
           "subunitcolor": "white"
          },
          "hoverlabel": {
           "align": "left"
          },
          "hovermode": "closest",
          "mapbox": {
           "style": "light"
          },
          "paper_bgcolor": "white",
          "plot_bgcolor": "#E5ECF6",
          "polar": {
           "angularaxis": {
            "gridcolor": "white",
            "linecolor": "white",
            "ticks": ""
           },
           "bgcolor": "#E5ECF6",
           "radialaxis": {
            "gridcolor": "white",
            "linecolor": "white",
            "ticks": ""
           }
          },
          "scene": {
           "xaxis": {
            "backgroundcolor": "#E5ECF6",
            "gridcolor": "white",
            "gridwidth": 2,
            "linecolor": "white",
            "showbackground": true,
            "ticks": "",
            "zerolinecolor": "white"
           },
           "yaxis": {
            "backgroundcolor": "#E5ECF6",
            "gridcolor": "white",
            "gridwidth": 2,
            "linecolor": "white",
            "showbackground": true,
            "ticks": "",
            "zerolinecolor": "white"
           },
           "zaxis": {
            "backgroundcolor": "#E5ECF6",
            "gridcolor": "white",
            "gridwidth": 2,
            "linecolor": "white",
            "showbackground": true,
            "ticks": "",
            "zerolinecolor": "white"
           }
          },
          "shapedefaults": {
           "line": {
            "color": "#2a3f5f"
           }
          },
          "ternary": {
           "aaxis": {
            "gridcolor": "white",
            "linecolor": "white",
            "ticks": ""
           },
           "baxis": {
            "gridcolor": "white",
            "linecolor": "white",
            "ticks": ""
           },
           "bgcolor": "#E5ECF6",
           "caxis": {
            "gridcolor": "white",
            "linecolor": "white",
            "ticks": ""
           }
          },
          "title": {
           "x": 0.05
          },
          "xaxis": {
           "automargin": true,
           "gridcolor": "white",
           "linecolor": "white",
           "ticks": "",
           "title": {
            "standoff": 15
           },
           "zerolinecolor": "white",
           "zerolinewidth": 2
          },
          "yaxis": {
           "automargin": true,
           "gridcolor": "white",
           "linecolor": "white",
           "ticks": "",
           "title": {
            "standoff": 15
           },
           "zerolinecolor": "white",
           "zerolinewidth": 2
          }
         }
        },
        "updatemenus": [
         {
          "buttons": [
           {
            "args": [
             null,
             {
              "frame": {
               "duration": 500,
               "redraw": true
              },
              "fromcurrent": true,
              "mode": "immediate",
              "transition": {
               "duration": 500,
               "easing": "linear"
              }
             }
            ],
            "label": "&#9654;",
            "method": "animate"
           },
           {
            "args": [
             [
              null
             ],
             {
              "frame": {
               "duration": 0,
               "redraw": true
              },
              "fromcurrent": true,
              "mode": "immediate",
              "transition": {
               "duration": 0,
               "easing": "linear"
              }
             }
            ],
            "label": "&#9724;",
            "method": "animate"
           }
          ],
          "direction": "left",
          "pad": {
           "r": 10,
           "t": 70
          },
          "showactive": false,
          "type": "buttons",
          "x": 0.1,
          "xanchor": "right",
          "y": 0,
          "yanchor": "top"
         }
        ],
        "xaxis": {
         "anchor": "y",
         "domain": [
          0,
          1
         ],
         "range": [
          0,
          23
         ],
         "title": {
          "text": "Nom"
         }
        },
        "yaxis": {
         "anchor": "x",
         "domain": [
          0,
          1
         ],
         "range": [
          0,
          20
         ],
         "title": {
          "text": "Nombre de films"
         }
        }
       }
      }
     },
     "metadata": {},
     "output_type": "display_data"
    }
   ],
   "source": [
    "import plotly.express as px\n",
    "import matplotlib.pyplot as plt\n",
    "import seaborn as sns\n",
    "\n",
    "fig = px.bar(df_max_film_act, x='nb_film_max' ,y= 'primaryName', animation_frame='decade')\n",
    "\n",
    "fig.update_layout(\n",
    "    xaxis_range=[0, df_nbfilm_act['nb_films'].max() + 2],\n",
    "    yaxis_range= [0,20],\n",
    "    xaxis_title=\"Nom\",\n",
    "    yaxis_title=\"Nombre de films\",\n",
    "    showlegend=False\n",
    ")\n",
    "fig.show()"
   ]
  },
  {
   "cell_type": "code",
   "execution_count": 92,
   "id": "db7669bb",
   "metadata": {},
   "outputs": [
    {
     "data": {
      "text/html": [
       "<div>\n",
       "<style scoped>\n",
       "    .dataframe tbody tr th:only-of-type {\n",
       "        vertical-align: middle;\n",
       "    }\n",
       "\n",
       "    .dataframe tbody tr th {\n",
       "        vertical-align: top;\n",
       "    }\n",
       "\n",
       "    .dataframe thead th {\n",
       "        text-align: right;\n",
       "    }\n",
       "</style>\n",
       "<table border=\"1\" class=\"dataframe\">\n",
       "  <thead>\n",
       "    <tr style=\"text-align: right;\">\n",
       "      <th></th>\n",
       "      <th>primaryName</th>\n",
       "      <th>nb_film_max</th>\n",
       "      <th>decade</th>\n",
       "      <th>MAXFILM</th>\n",
       "      <th>RANK</th>\n",
       "    </tr>\n",
       "  </thead>\n",
       "  <tbody>\n",
       "    <tr>\n",
       "      <th>59</th>\n",
       "      <td>Manuel</td>\n",
       "      <td>4</td>\n",
       "      <td>1900s</td>\n",
       "      <td>4</td>\n",
       "      <td>1</td>\n",
       "    </tr>\n",
       "    <tr>\n",
       "      <th>60</th>\n",
       "      <td>A.E. Weed</td>\n",
       "      <td>3</td>\n",
       "      <td>1900s</td>\n",
       "      <td>4</td>\n",
       "      <td>2</td>\n",
       "    </tr>\n",
       "    <tr>\n",
       "      <th>61</th>\n",
       "      <td>Johann Schwarzer</td>\n",
       "      <td>3</td>\n",
       "      <td>1900s</td>\n",
       "      <td>4</td>\n",
       "      <td>2</td>\n",
       "    </tr>\n",
       "    <tr>\n",
       "      <th>62</th>\n",
       "      <td>Wallace McCutcheon</td>\n",
       "      <td>3</td>\n",
       "      <td>1900s</td>\n",
       "      <td>4</td>\n",
       "      <td>2</td>\n",
       "    </tr>\n",
       "    <tr>\n",
       "      <th>63</th>\n",
       "      <td>Félix Mesguich</td>\n",
       "      <td>3</td>\n",
       "      <td>1900s</td>\n",
       "      <td>4</td>\n",
       "      <td>2</td>\n",
       "    </tr>\n",
       "    <tr>\n",
       "      <th>...</th>\n",
       "      <td>...</td>\n",
       "      <td>...</td>\n",
       "      <td>...</td>\n",
       "      <td>...</td>\n",
       "      <td>...</td>\n",
       "    </tr>\n",
       "    <tr>\n",
       "      <th>156</th>\n",
       "      <td>Millard Mercury</td>\n",
       "      <td>1</td>\n",
       "      <td>1900s</td>\n",
       "      <td>4</td>\n",
       "      <td>29</td>\n",
       "    </tr>\n",
       "    <tr>\n",
       "      <th>157</th>\n",
       "      <td>Vladimir Siversen</td>\n",
       "      <td>1</td>\n",
       "      <td>1900s</td>\n",
       "      <td>4</td>\n",
       "      <td>29</td>\n",
       "    </tr>\n",
       "    <tr>\n",
       "      <th>158</th>\n",
       "      <td>Robert W. Paul</td>\n",
       "      <td>1</td>\n",
       "      <td>1900s</td>\n",
       "      <td>4</td>\n",
       "      <td>29</td>\n",
       "    </tr>\n",
       "    <tr>\n",
       "      <th>159</th>\n",
       "      <td>Joseph-Louis Mundwiller</td>\n",
       "      <td>1</td>\n",
       "      <td>1900s</td>\n",
       "      <td>4</td>\n",
       "      <td>29</td>\n",
       "    </tr>\n",
       "    <tr>\n",
       "      <th>160</th>\n",
       "      <td>Percival L. Walters</td>\n",
       "      <td>1</td>\n",
       "      <td>1900s</td>\n",
       "      <td>4</td>\n",
       "      <td>29</td>\n",
       "    </tr>\n",
       "  </tbody>\n",
       "</table>\n",
       "<p>102 rows × 5 columns</p>\n",
       "</div>"
      ],
      "text/plain": [
       "                 primaryName  nb_film_max decade  MAXFILM  RANK\n",
       "59                    Manuel            4  1900s        4     1\n",
       "60                 A.E. Weed            3  1900s        4     2\n",
       "61          Johann Schwarzer            3  1900s        4     2\n",
       "62        Wallace McCutcheon            3  1900s        4     2\n",
       "63            Félix Mesguich            3  1900s        4     2\n",
       "..                       ...          ...    ...      ...   ...\n",
       "156          Millard Mercury            1  1900s        4    29\n",
       "157        Vladimir Siversen            1  1900s        4    29\n",
       "158           Robert W. Paul            1  1900s        4    29\n",
       "159  Joseph-Louis Mundwiller            1  1900s        4    29\n",
       "160      Percival L. Walters            1  1900s        4    29\n",
       "\n",
       "[102 rows x 5 columns]"
      ]
     },
     "execution_count": 92,
     "metadata": {},
     "output_type": "execute_result"
    }
   ],
   "source": [
    "df_ranked = sql(\"\"\"\n",
    "    SELECT *, RANK() OVER(PARTITION BY decade ORDER BY nb_film_max DESC) AS RANK from main_bis ORDER BY decade, RANK\n",
    "    \"\"\")\n",
    "\n",
    "df_ranked[df_ranked['decade'] == \"1900s\"]"
   ]
  },
  {
   "cell_type": "code",
   "execution_count": 102,
   "id": "49248386",
   "metadata": {},
   "outputs": [
    {
     "name": "stdout",
     "output_type": "stream",
     "text": [
      "1890s\n",
      "0\n"
     ]
    },
    {
     "ename": "TypeError",
     "evalue": "Cannot index by location index with a non-integer key",
     "output_type": "error",
     "traceback": [
      "\u001b[31m---------------------------------------------------------------------------\u001b[39m",
      "\u001b[31mTypeError\u001b[39m                                 Traceback (most recent call last)",
      "\u001b[36mCell\u001b[39m\u001b[36m \u001b[39m\u001b[32mIn[102]\u001b[39m\u001b[32m, line 10\u001b[39m\n\u001b[32m      8\u001b[39m \u001b[38;5;28;01mwhile\u001b[39;00m nb_dir != \u001b[32m5\u001b[39m : \n\u001b[32m      9\u001b[39m     \u001b[38;5;28mprint\u001b[39m(nb_dir)\n\u001b[32m---> \u001b[39m\u001b[32m10\u001b[39m     \u001b[38;5;28mprint\u001b[39m((\u001b[43mdf_ranked\u001b[49m\u001b[43m[\u001b[49m\u001b[43mdf_ranked\u001b[49m\u001b[43m[\u001b[49m\u001b[33;43m'\u001b[39;49m\u001b[33;43mdecade\u001b[39;49m\u001b[33;43m'\u001b[39;49m\u001b[43m]\u001b[49m\u001b[43m==\u001b[49m\u001b[43m \u001b[49m\u001b[43mdec\u001b[49m\u001b[43m]\u001b[49m\u001b[43m.\u001b[49m\u001b[43miloc\u001b[49m\u001b[43m[\u001b[49m\u001b[43mi\u001b[49m\u001b[43m]\u001b[49m))\n\u001b[32m     11\u001b[39m     nb_dir += \u001b[32m1\u001b[39m\n",
      "\u001b[36mFile \u001b[39m\u001b[32m~/Projet 2 - Wild Code School/Projet-2/.venv/lib/python3.13/site-packages/pandas/core/indexing.py:1191\u001b[39m, in \u001b[36m_LocationIndexer.__getitem__\u001b[39m\u001b[34m(self, key)\u001b[39m\n\u001b[32m   1189\u001b[39m maybe_callable = com.apply_if_callable(key, \u001b[38;5;28mself\u001b[39m.obj)\n\u001b[32m   1190\u001b[39m maybe_callable = \u001b[38;5;28mself\u001b[39m._check_deprecated_callable_usage(key, maybe_callable)\n\u001b[32m-> \u001b[39m\u001b[32m1191\u001b[39m \u001b[38;5;28;01mreturn\u001b[39;00m \u001b[38;5;28;43mself\u001b[39;49m\u001b[43m.\u001b[49m\u001b[43m_getitem_axis\u001b[49m\u001b[43m(\u001b[49m\u001b[43mmaybe_callable\u001b[49m\u001b[43m,\u001b[49m\u001b[43m \u001b[49m\u001b[43maxis\u001b[49m\u001b[43m=\u001b[49m\u001b[43maxis\u001b[49m\u001b[43m)\u001b[49m\n",
      "\u001b[36mFile \u001b[39m\u001b[32m~/Projet 2 - Wild Code School/Projet-2/.venv/lib/python3.13/site-packages/pandas/core/indexing.py:1749\u001b[39m, in \u001b[36m_iLocIndexer._getitem_axis\u001b[39m\u001b[34m(self, key, axis)\u001b[39m\n\u001b[32m   1747\u001b[39m key = item_from_zerodim(key)\n\u001b[32m   1748\u001b[39m \u001b[38;5;28;01mif\u001b[39;00m \u001b[38;5;129;01mnot\u001b[39;00m is_integer(key):\n\u001b[32m-> \u001b[39m\u001b[32m1749\u001b[39m     \u001b[38;5;28;01mraise\u001b[39;00m \u001b[38;5;167;01mTypeError\u001b[39;00m(\u001b[33m\"\u001b[39m\u001b[33mCannot index by location index with a non-integer key\u001b[39m\u001b[33m\"\u001b[39m)\n\u001b[32m   1751\u001b[39m \u001b[38;5;66;03m# validate the location\u001b[39;00m\n\u001b[32m   1752\u001b[39m \u001b[38;5;28mself\u001b[39m._validate_integer(key, axis)\n",
      "\u001b[31mTypeError\u001b[39m: Cannot index by location index with a non-integer key"
     ]
    }
   ],
   "source": [
    "decade_list = list(df_ranked['decade'].unique())\n",
    "df = pd.DataFrame(columns=['primaryName','nb_film_max', 'MAXFILM', 'decade', 'RANK' ])\n",
    "\n",
    "for dec in decade_list :\n",
    "    print(dec)\n",
    "    nb_dir = 0\n",
    "    for i in df_ranked[df_ranked['decade'] == dec]:\n",
    "        while nb_dir != 5 : \n",
    "            print(nb_dir)\n",
    "            print((df_ranked[df_ranked['decade']== dec].iloc[i]))\n",
    "            nb_dir += 1"
   ]
  },
  {
   "cell_type": "code",
   "execution_count": 103,
   "id": "54cc7cad",
   "metadata": {},
   "outputs": [],
   "source": [
    "df = pd.DataFrame(columns=['primaryName', 'nb_film_max', 'MAXFILM', 'decade', 'RANK'])\n",
    "\n",
    "for dec in df_ranked['decade'].unique():\n",
    "    top5 = df_ranked[df_ranked['decade'] == dec].head(5)\n",
    "    df = pd.concat([df, top5], ignore_index=True)"
   ]
  },
  {
   "cell_type": "code",
   "execution_count": null,
   "id": "5656986c",
   "metadata": {},
   "outputs": [
    {
     "data": {
      "text/html": [
       "<div>\n",
       "<style scoped>\n",
       "    .dataframe tbody tr th:only-of-type {\n",
       "        vertical-align: middle;\n",
       "    }\n",
       "\n",
       "    .dataframe tbody tr th {\n",
       "        vertical-align: top;\n",
       "    }\n",
       "\n",
       "    .dataframe thead th {\n",
       "        text-align: right;\n",
       "    }\n",
       "</style>\n",
       "<table border=\"1\" class=\"dataframe\">\n",
       "  <thead>\n",
       "    <tr style=\"text-align: right;\">\n",
       "      <th></th>\n",
       "      <th>primaryName</th>\n",
       "      <th>nb_film_max</th>\n",
       "      <th>MAXFILM</th>\n",
       "      <th>decade</th>\n",
       "      <th>RANK</th>\n",
       "    </tr>\n",
       "  </thead>\n",
       "  <tbody>\n",
       "    <tr>\n",
       "      <th>0</th>\n",
       "      <td>Alexandre Promio</td>\n",
       "      <td>4</td>\n",
       "      <td>4</td>\n",
       "      <td>1890s</td>\n",
       "      <td>1</td>\n",
       "    </tr>\n",
       "    <tr>\n",
       "      <th>1</th>\n",
       "      <td>William Heise</td>\n",
       "      <td>4</td>\n",
       "      <td>4</td>\n",
       "      <td>1890s</td>\n",
       "      <td>1</td>\n",
       "    </tr>\n",
       "    <tr>\n",
       "      <th>2</th>\n",
       "      <td>Louis Lumière</td>\n",
       "      <td>3</td>\n",
       "      <td>4</td>\n",
       "      <td>1890s</td>\n",
       "      <td>3</td>\n",
       "    </tr>\n",
       "    <tr>\n",
       "      <th>3</th>\n",
       "      <td>Max Skladanowsky</td>\n",
       "      <td>3</td>\n",
       "      <td>4</td>\n",
       "      <td>1890s</td>\n",
       "      <td>3</td>\n",
       "    </tr>\n",
       "    <tr>\n",
       "      <th>4</th>\n",
       "      <td>Charles Moisson</td>\n",
       "      <td>3</td>\n",
       "      <td>4</td>\n",
       "      <td>1890s</td>\n",
       "      <td>3</td>\n",
       "    </tr>\n",
       "    <tr>\n",
       "      <th>...</th>\n",
       "      <td>...</td>\n",
       "      <td>...</td>\n",
       "      <td>...</td>\n",
       "      <td>...</td>\n",
       "      <td>...</td>\n",
       "    </tr>\n",
       "    <tr>\n",
       "      <th>65</th>\n",
       "      <td>Harpreet Singh</td>\n",
       "      <td>11</td>\n",
       "      <td>11</td>\n",
       "      <td>2020s</td>\n",
       "      <td>1</td>\n",
       "    </tr>\n",
       "    <tr>\n",
       "      <th>66</th>\n",
       "      <td>Gurpreet Singh</td>\n",
       "      <td>10</td>\n",
       "      <td>11</td>\n",
       "      <td>2020s</td>\n",
       "      <td>2</td>\n",
       "    </tr>\n",
       "    <tr>\n",
       "      <th>67</th>\n",
       "      <td>Manpreet Singh</td>\n",
       "      <td>10</td>\n",
       "      <td>11</td>\n",
       "      <td>2020s</td>\n",
       "      <td>2</td>\n",
       "    </tr>\n",
       "    <tr>\n",
       "      <th>68</th>\n",
       "      <td>Gurwinder Singh</td>\n",
       "      <td>10</td>\n",
       "      <td>11</td>\n",
       "      <td>2020s</td>\n",
       "      <td>2</td>\n",
       "    </tr>\n",
       "    <tr>\n",
       "      <th>69</th>\n",
       "      <td>Amandeep Singh</td>\n",
       "      <td>9</td>\n",
       "      <td>11</td>\n",
       "      <td>2020s</td>\n",
       "      <td>5</td>\n",
       "    </tr>\n",
       "  </tbody>\n",
       "</table>\n",
       "<p>70 rows × 5 columns</p>\n",
       "</div>"
      ],
      "text/plain": [
       "         primaryName nb_film_max MAXFILM decade RANK\n",
       "0   Alexandre Promio           4       4  1890s    1\n",
       "1      William Heise           4       4  1890s    1\n",
       "2      Louis Lumière           3       4  1890s    3\n",
       "3   Max Skladanowsky           3       4  1890s    3\n",
       "4    Charles Moisson           3       4  1890s    3\n",
       "..               ...         ...     ...    ...  ...\n",
       "65    Harpreet Singh          11      11  2020s    1\n",
       "66    Gurpreet Singh          10      11  2020s    2\n",
       "67    Manpreet Singh          10      11  2020s    2\n",
       "68   Gurwinder Singh          10      11  2020s    2\n",
       "69    Amandeep Singh           9      11  2020s    5\n",
       "\n",
       "[70 rows x 5 columns]"
      ]
     },
     "execution_count": 104,
     "metadata": {},
     "output_type": "execute_result"
    }
   ],
   "source": [
    "df"
   ]
  },
  {
   "cell_type": "code",
   "execution_count": 117,
   "id": "cd10cfdf",
   "metadata": {},
   "outputs": [
    {
     "data": {
      "application/vnd.plotly.v1+json": {
       "config": {
        "plotlyServerURL": "https://plot.ly"
       },
       "data": [
        {
         "hovertemplate": "decade=1890s<br>primaryName=%{x}<br>nb_film_max=%{y}<extra></extra>",
         "legendgroup": "",
         "marker": {
          "color": "#636efa",
          "pattern": {
           "shape": ""
          }
         },
         "name": "",
         "orientation": "v",
         "showlegend": false,
         "textposition": "auto",
         "type": "bar",
         "x": [
          "Alexandre Promio",
          "William Heise",
          "Louis Lumière",
          "Max Skladanowsky",
          "Charles Moisson"
         ],
         "xaxis": "x",
         "y": [
          4,
          4,
          3,
          3,
          3
         ],
         "yaxis": "y"
        }
       ],
       "frames": [
        {
         "data": [
          {
           "hovertemplate": "decade=1890s<br>primaryName=%{x}<br>nb_film_max=%{y}<extra></extra>",
           "legendgroup": "",
           "marker": {
            "color": "#636efa",
            "pattern": {
             "shape": ""
            }
           },
           "name": "",
           "orientation": "v",
           "showlegend": false,
           "textposition": "auto",
           "type": "bar",
           "x": [
            "Alexandre Promio",
            "William Heise",
            "Louis Lumière",
            "Max Skladanowsky",
            "Charles Moisson"
           ],
           "xaxis": "x",
           "y": [
            4,
            4,
            3,
            3,
            3
           ],
           "yaxis": "y"
          }
         ],
         "name": "1890s"
        },
        {
         "data": [
          {
           "hovertemplate": "decade=1900s<br>primaryName=%{x}<br>nb_film_max=%{y}<extra></extra>",
           "legendgroup": "",
           "marker": {
            "color": "#636efa",
            "pattern": {
             "shape": ""
            }
           },
           "name": "",
           "orientation": "v",
           "showlegend": false,
           "textposition": "auto",
           "type": "bar",
           "x": [
            "Manuel",
            "A.E. Weed",
            "Johann Schwarzer",
            "Wallace McCutcheon",
            "Félix Mesguich"
           ],
           "xaxis": "x",
           "y": [
            4,
            3,
            3,
            3,
            3
           ],
           "yaxis": "y"
          }
         ],
         "name": "1900s"
        },
        {
         "data": [
          {
           "hovertemplate": "decade=1910s<br>primaryName=%{x}<br>nb_film_max=%{y}<extra></extra>",
           "legendgroup": "",
           "marker": {
            "color": "#636efa",
            "pattern": {
             "shape": ""
            }
           },
           "name": "",
           "orientation": "v",
           "showlegend": false,
           "textposition": "auto",
           "type": "bar",
           "x": [
            "Ole Olsen",
            "Axel Bruun",
            "Paul Wegener",
            "D.W. Griffith",
            "Phillips Smalley"
           ],
           "xaxis": "x",
           "y": [
            4,
            4,
            4,
            4,
            3
           ],
           "yaxis": "y"
          }
         ],
         "name": "1910s"
        },
        {
         "data": [
          {
           "hovertemplate": "decade=1920s<br>primaryName=%{x}<br>nb_film_max=%{y}<extra></extra>",
           "legendgroup": "",
           "marker": {
            "color": "#636efa",
            "pattern": {
             "shape": ""
            }
           },
           "name": "",
           "orientation": "v",
           "showlegend": false,
           "textposition": "auto",
           "type": "bar",
           "x": [
            "Jean Epstein",
            "Jean C. Havez",
            "J.C. Hoffner",
            "Charles R. Bowers",
            "Elmer Sheeley"
           ],
           "xaxis": "x",
           "y": [
            4,
            4,
            4,
            4,
            4
           ],
           "yaxis": "y"
          }
         ],
         "name": "1920s"
        },
        {
         "data": [
          {
           "hovertemplate": "decade=1930s<br>primaryName=%{x}<br>nb_film_max=%{y}<extra></extra>",
           "legendgroup": "",
           "marker": {
            "color": "#636efa",
            "pattern": {
             "shape": ""
            }
           },
           "name": "",
           "orientation": "v",
           "showlegend": false,
           "textposition": "auto",
           "type": "bar",
           "x": [
            "Rudolf Stahl",
            "William Slavens McNutt",
            "Nicholas T. Barrows",
            "William Crawford",
            "Masaru Kashiwabara"
           ],
           "xaxis": "x",
           "y": [
            5,
            4,
            4,
            4,
            4
           ],
           "yaxis": "y"
          }
         ],
         "name": "1930s"
        },
        {
         "data": [
          {
           "hovertemplate": "decade=1940s<br>primaryName=%{x}<br>nb_film_max=%{y}<extra></extra>",
           "legendgroup": "",
           "marker": {
            "color": "#636efa",
            "pattern": {
             "shape": ""
            }
           },
           "name": "",
           "orientation": "v",
           "showlegend": false,
           "textposition": "auto",
           "type": "bar",
           "x": [
            "Victor Hembrow",
            "Jack Moss",
            "Jesse Duffy",
            "John English",
            "Frank A. Richards"
           ],
           "xaxis": "x",
           "y": [
            4,
            4,
            4,
            4,
            4
           ],
           "yaxis": "y"
          }
         ],
         "name": "1940s"
        },
        {
         "data": [
          {
           "hovertemplate": "decade=1950s<br>primaryName=%{x}<br>nb_film_max=%{y}<extra></extra>",
           "legendgroup": "",
           "marker": {
            "color": "#636efa",
            "pattern": {
             "shape": ""
            }
           },
           "name": "",
           "orientation": "v",
           "showlegend": false,
           "textposition": "auto",
           "type": "bar",
           "x": [
            "Tadashi Imai",
            "Ignacio Grau",
            "Cesare Olivieri",
            "Alexander Mackendrick",
            "Clyde Geronimi"
           ],
           "xaxis": "x",
           "y": [
            4,
            4,
            4,
            4,
            4
           ],
           "yaxis": "y"
          }
         ],
         "name": "1950s"
        },
        {
         "data": [
          {
           "hovertemplate": "decade=1960s<br>primaryName=%{x}<br>nb_film_max=%{y}<extra></extra>",
           "legendgroup": "",
           "marker": {
            "color": "#636efa",
            "pattern": {
             "shape": ""
            }
           },
           "name": "",
           "orientation": "v",
           "showlegend": false,
           "textposition": "auto",
           "type": "bar",
           "x": [
            "Raoul Lévy",
            "Luigi Carpentieri",
            "Priscilla Contardi",
            "Peter Russell",
            "Manuel San Román"
           ],
           "xaxis": "x",
           "y": [
            4,
            4,
            4,
            4,
            4
           ],
           "yaxis": "y"
          }
         ],
         "name": "1960s"
        },
        {
         "data": [
          {
           "hovertemplate": "decade=1970s<br>primaryName=%{x}<br>nb_film_max=%{y}<extra></extra>",
           "legendgroup": "",
           "marker": {
            "color": "#636efa",
            "pattern": {
             "shape": ""
            }
           },
           "name": "",
           "orientation": "v",
           "showlegend": false,
           "textposition": "auto",
           "type": "bar",
           "x": [
            "Hugh Smith",
            "Mario David",
            "Mei Wang",
            "Jaime Bayarri",
            "John Carter"
           ],
           "xaxis": "x",
           "y": [
            6,
            6,
            5,
            5,
            5
           ],
           "yaxis": "y"
          }
         ],
         "name": "1970s"
        },
        {
         "data": [
          {
           "hovertemplate": "decade=1980s<br>primaryName=%{x}<br>nb_film_max=%{y}<extra></extra>",
           "legendgroup": "",
           "marker": {
            "color": "#636efa",
            "pattern": {
             "shape": ""
            }
           },
           "name": "",
           "orientation": "v",
           "showlegend": false,
           "textposition": "auto",
           "type": "bar",
           "x": [
            "Paul Wong",
            "Catherine Murphy",
            "Carlos Gil",
            "Bob Williams",
            "Andy Anderson"
           ],
           "xaxis": "x",
           "y": [
            7,
            6,
            5,
            5,
            5
           ],
           "yaxis": "y"
          }
         ],
         "name": "1980s"
        },
        {
         "data": [
          {
           "hovertemplate": "decade=1990s<br>primaryName=%{x}<br>nb_film_max=%{y}<extra></extra>",
           "legendgroup": "",
           "marker": {
            "color": "#636efa",
            "pattern": {
             "shape": ""
            }
           },
           "name": "",
           "orientation": "v",
           "showlegend": false,
           "textposition": "auto",
           "type": "bar",
           "x": [
            "David Jones",
            "Adam Jones",
            "Chris Short",
            "Beth Elliott",
            "Steve White"
           ],
           "xaxis": "x",
           "y": [
            7,
            6,
            6,
            6,
            6
           ],
           "yaxis": "y"
          }
         ],
         "name": "1990s"
        },
        {
         "data": [
          {
           "hovertemplate": "decade=2000s<br>primaryName=%{x}<br>nb_film_max=%{y}<extra></extra>",
           "legendgroup": "",
           "marker": {
            "color": "#636efa",
            "pattern": {
             "shape": ""
            }
           },
           "name": "",
           "orientation": "v",
           "showlegend": false,
           "textposition": "auto",
           "type": "bar",
           "x": [
            "Matt Miller",
            "Paul Gray",
            "Koji Yamaguchi",
            "John Moore",
            "Jeremy Graham"
           ],
           "xaxis": "x",
           "y": [
            9,
            8,
            7,
            7,
            7
           ],
           "yaxis": "y"
          }
         ],
         "name": "2000s"
        },
        {
         "data": [
          {
           "hovertemplate": "decade=2010s<br>primaryName=%{x}<br>nb_film_max=%{y}<extra></extra>",
           "legendgroup": "",
           "marker": {
            "color": "#636efa",
            "pattern": {
             "shape": ""
            }
           },
           "name": "",
           "orientation": "v",
           "showlegend": false,
           "textposition": "auto",
           "type": "bar",
           "x": [
            "Gurpreet Singh",
            "Jaswinder Singh",
            "Vikas",
            "Rahul",
            "Alex Smith"
           ],
           "xaxis": "x",
           "y": [
            21,
            13,
            12,
            12,
            12
           ],
           "yaxis": "y"
          }
         ],
         "name": "2010s"
        },
        {
         "data": [
          {
           "hovertemplate": "decade=2020s<br>primaryName=%{x}<br>nb_film_max=%{y}<extra></extra>",
           "legendgroup": "",
           "marker": {
            "color": "#636efa",
            "pattern": {
             "shape": ""
            }
           },
           "name": "",
           "orientation": "v",
           "showlegend": false,
           "textposition": "auto",
           "type": "bar",
           "x": [
            "Harpreet Singh",
            "Gurpreet Singh",
            "Manpreet Singh",
            "Gurwinder Singh",
            "Amandeep Singh"
           ],
           "xaxis": "x",
           "y": [
            11,
            10,
            10,
            10,
            9
           ],
           "yaxis": "y"
          }
         ],
         "name": "2020s"
        }
       ],
       "layout": {
        "barmode": "relative",
        "legend": {
         "tracegroupgap": 0
        },
        "margin": {
         "t": 60
        },
        "showlegend": false,
        "sliders": [
         {
          "active": 0,
          "currentvalue": {
           "prefix": "decade="
          },
          "len": 0.9,
          "pad": {
           "b": 10,
           "t": 60
          },
          "steps": [
           {
            "args": [
             [
              "1890s"
             ],
             {
              "frame": {
               "duration": 0,
               "redraw": true
              },
              "fromcurrent": true,
              "mode": "immediate",
              "transition": {
               "duration": 0,
               "easing": "linear"
              }
             }
            ],
            "label": "1890s",
            "method": "animate"
           },
           {
            "args": [
             [
              "1900s"
             ],
             {
              "frame": {
               "duration": 0,
               "redraw": true
              },
              "fromcurrent": true,
              "mode": "immediate",
              "transition": {
               "duration": 0,
               "easing": "linear"
              }
             }
            ],
            "label": "1900s",
            "method": "animate"
           },
           {
            "args": [
             [
              "1910s"
             ],
             {
              "frame": {
               "duration": 0,
               "redraw": true
              },
              "fromcurrent": true,
              "mode": "immediate",
              "transition": {
               "duration": 0,
               "easing": "linear"
              }
             }
            ],
            "label": "1910s",
            "method": "animate"
           },
           {
            "args": [
             [
              "1920s"
             ],
             {
              "frame": {
               "duration": 0,
               "redraw": true
              },
              "fromcurrent": true,
              "mode": "immediate",
              "transition": {
               "duration": 0,
               "easing": "linear"
              }
             }
            ],
            "label": "1920s",
            "method": "animate"
           },
           {
            "args": [
             [
              "1930s"
             ],
             {
              "frame": {
               "duration": 0,
               "redraw": true
              },
              "fromcurrent": true,
              "mode": "immediate",
              "transition": {
               "duration": 0,
               "easing": "linear"
              }
             }
            ],
            "label": "1930s",
            "method": "animate"
           },
           {
            "args": [
             [
              "1940s"
             ],
             {
              "frame": {
               "duration": 0,
               "redraw": true
              },
              "fromcurrent": true,
              "mode": "immediate",
              "transition": {
               "duration": 0,
               "easing": "linear"
              }
             }
            ],
            "label": "1940s",
            "method": "animate"
           },
           {
            "args": [
             [
              "1950s"
             ],
             {
              "frame": {
               "duration": 0,
               "redraw": true
              },
              "fromcurrent": true,
              "mode": "immediate",
              "transition": {
               "duration": 0,
               "easing": "linear"
              }
             }
            ],
            "label": "1950s",
            "method": "animate"
           },
           {
            "args": [
             [
              "1960s"
             ],
             {
              "frame": {
               "duration": 0,
               "redraw": true
              },
              "fromcurrent": true,
              "mode": "immediate",
              "transition": {
               "duration": 0,
               "easing": "linear"
              }
             }
            ],
            "label": "1960s",
            "method": "animate"
           },
           {
            "args": [
             [
              "1970s"
             ],
             {
              "frame": {
               "duration": 0,
               "redraw": true
              },
              "fromcurrent": true,
              "mode": "immediate",
              "transition": {
               "duration": 0,
               "easing": "linear"
              }
             }
            ],
            "label": "1970s",
            "method": "animate"
           },
           {
            "args": [
             [
              "1980s"
             ],
             {
              "frame": {
               "duration": 0,
               "redraw": true
              },
              "fromcurrent": true,
              "mode": "immediate",
              "transition": {
               "duration": 0,
               "easing": "linear"
              }
             }
            ],
            "label": "1980s",
            "method": "animate"
           },
           {
            "args": [
             [
              "1990s"
             ],
             {
              "frame": {
               "duration": 0,
               "redraw": true
              },
              "fromcurrent": true,
              "mode": "immediate",
              "transition": {
               "duration": 0,
               "easing": "linear"
              }
             }
            ],
            "label": "1990s",
            "method": "animate"
           },
           {
            "args": [
             [
              "2000s"
             ],
             {
              "frame": {
               "duration": 0,
               "redraw": true
              },
              "fromcurrent": true,
              "mode": "immediate",
              "transition": {
               "duration": 0,
               "easing": "linear"
              }
             }
            ],
            "label": "2000s",
            "method": "animate"
           },
           {
            "args": [
             [
              "2010s"
             ],
             {
              "frame": {
               "duration": 0,
               "redraw": true
              },
              "fromcurrent": true,
              "mode": "immediate",
              "transition": {
               "duration": 0,
               "easing": "linear"
              }
             }
            ],
            "label": "2010s",
            "method": "animate"
           },
           {
            "args": [
             [
              "2020s"
             ],
             {
              "frame": {
               "duration": 0,
               "redraw": true
              },
              "fromcurrent": true,
              "mode": "immediate",
              "transition": {
               "duration": 0,
               "easing": "linear"
              }
             }
            ],
            "label": "2020s",
            "method": "animate"
           }
          ],
          "x": 0.1,
          "xanchor": "left",
          "y": 0,
          "yanchor": "top"
         }
        ],
        "template": {
         "data": {
          "bar": [
           {
            "error_x": {
             "color": "#2a3f5f"
            },
            "error_y": {
             "color": "#2a3f5f"
            },
            "marker": {
             "line": {
              "color": "#E5ECF6",
              "width": 0.5
             },
             "pattern": {
              "fillmode": "overlay",
              "size": 10,
              "solidity": 0.2
             }
            },
            "type": "bar"
           }
          ],
          "barpolar": [
           {
            "marker": {
             "line": {
              "color": "#E5ECF6",
              "width": 0.5
             },
             "pattern": {
              "fillmode": "overlay",
              "size": 10,
              "solidity": 0.2
             }
            },
            "type": "barpolar"
           }
          ],
          "carpet": [
           {
            "aaxis": {
             "endlinecolor": "#2a3f5f",
             "gridcolor": "white",
             "linecolor": "white",
             "minorgridcolor": "white",
             "startlinecolor": "#2a3f5f"
            },
            "baxis": {
             "endlinecolor": "#2a3f5f",
             "gridcolor": "white",
             "linecolor": "white",
             "minorgridcolor": "white",
             "startlinecolor": "#2a3f5f"
            },
            "type": "carpet"
           }
          ],
          "choropleth": [
           {
            "colorbar": {
             "outlinewidth": 0,
             "ticks": ""
            },
            "type": "choropleth"
           }
          ],
          "contour": [
           {
            "colorbar": {
             "outlinewidth": 0,
             "ticks": ""
            },
            "colorscale": [
             [
              0,
              "#0d0887"
             ],
             [
              0.1111111111111111,
              "#46039f"
             ],
             [
              0.2222222222222222,
              "#7201a8"
             ],
             [
              0.3333333333333333,
              "#9c179e"
             ],
             [
              0.4444444444444444,
              "#bd3786"
             ],
             [
              0.5555555555555556,
              "#d8576b"
             ],
             [
              0.6666666666666666,
              "#ed7953"
             ],
             [
              0.7777777777777778,
              "#fb9f3a"
             ],
             [
              0.8888888888888888,
              "#fdca26"
             ],
             [
              1,
              "#f0f921"
             ]
            ],
            "type": "contour"
           }
          ],
          "contourcarpet": [
           {
            "colorbar": {
             "outlinewidth": 0,
             "ticks": ""
            },
            "type": "contourcarpet"
           }
          ],
          "heatmap": [
           {
            "colorbar": {
             "outlinewidth": 0,
             "ticks": ""
            },
            "colorscale": [
             [
              0,
              "#0d0887"
             ],
             [
              0.1111111111111111,
              "#46039f"
             ],
             [
              0.2222222222222222,
              "#7201a8"
             ],
             [
              0.3333333333333333,
              "#9c179e"
             ],
             [
              0.4444444444444444,
              "#bd3786"
             ],
             [
              0.5555555555555556,
              "#d8576b"
             ],
             [
              0.6666666666666666,
              "#ed7953"
             ],
             [
              0.7777777777777778,
              "#fb9f3a"
             ],
             [
              0.8888888888888888,
              "#fdca26"
             ],
             [
              1,
              "#f0f921"
             ]
            ],
            "type": "heatmap"
           }
          ],
          "histogram": [
           {
            "marker": {
             "pattern": {
              "fillmode": "overlay",
              "size": 10,
              "solidity": 0.2
             }
            },
            "type": "histogram"
           }
          ],
          "histogram2d": [
           {
            "colorbar": {
             "outlinewidth": 0,
             "ticks": ""
            },
            "colorscale": [
             [
              0,
              "#0d0887"
             ],
             [
              0.1111111111111111,
              "#46039f"
             ],
             [
              0.2222222222222222,
              "#7201a8"
             ],
             [
              0.3333333333333333,
              "#9c179e"
             ],
             [
              0.4444444444444444,
              "#bd3786"
             ],
             [
              0.5555555555555556,
              "#d8576b"
             ],
             [
              0.6666666666666666,
              "#ed7953"
             ],
             [
              0.7777777777777778,
              "#fb9f3a"
             ],
             [
              0.8888888888888888,
              "#fdca26"
             ],
             [
              1,
              "#f0f921"
             ]
            ],
            "type": "histogram2d"
           }
          ],
          "histogram2dcontour": [
           {
            "colorbar": {
             "outlinewidth": 0,
             "ticks": ""
            },
            "colorscale": [
             [
              0,
              "#0d0887"
             ],
             [
              0.1111111111111111,
              "#46039f"
             ],
             [
              0.2222222222222222,
              "#7201a8"
             ],
             [
              0.3333333333333333,
              "#9c179e"
             ],
             [
              0.4444444444444444,
              "#bd3786"
             ],
             [
              0.5555555555555556,
              "#d8576b"
             ],
             [
              0.6666666666666666,
              "#ed7953"
             ],
             [
              0.7777777777777778,
              "#fb9f3a"
             ],
             [
              0.8888888888888888,
              "#fdca26"
             ],
             [
              1,
              "#f0f921"
             ]
            ],
            "type": "histogram2dcontour"
           }
          ],
          "mesh3d": [
           {
            "colorbar": {
             "outlinewidth": 0,
             "ticks": ""
            },
            "type": "mesh3d"
           }
          ],
          "parcoords": [
           {
            "line": {
             "colorbar": {
              "outlinewidth": 0,
              "ticks": ""
             }
            },
            "type": "parcoords"
           }
          ],
          "pie": [
           {
            "automargin": true,
            "type": "pie"
           }
          ],
          "scatter": [
           {
            "fillpattern": {
             "fillmode": "overlay",
             "size": 10,
             "solidity": 0.2
            },
            "type": "scatter"
           }
          ],
          "scatter3d": [
           {
            "line": {
             "colorbar": {
              "outlinewidth": 0,
              "ticks": ""
             }
            },
            "marker": {
             "colorbar": {
              "outlinewidth": 0,
              "ticks": ""
             }
            },
            "type": "scatter3d"
           }
          ],
          "scattercarpet": [
           {
            "marker": {
             "colorbar": {
              "outlinewidth": 0,
              "ticks": ""
             }
            },
            "type": "scattercarpet"
           }
          ],
          "scattergeo": [
           {
            "marker": {
             "colorbar": {
              "outlinewidth": 0,
              "ticks": ""
             }
            },
            "type": "scattergeo"
           }
          ],
          "scattergl": [
           {
            "marker": {
             "colorbar": {
              "outlinewidth": 0,
              "ticks": ""
             }
            },
            "type": "scattergl"
           }
          ],
          "scattermap": [
           {
            "marker": {
             "colorbar": {
              "outlinewidth": 0,
              "ticks": ""
             }
            },
            "type": "scattermap"
           }
          ],
          "scattermapbox": [
           {
            "marker": {
             "colorbar": {
              "outlinewidth": 0,
              "ticks": ""
             }
            },
            "type": "scattermapbox"
           }
          ],
          "scatterpolar": [
           {
            "marker": {
             "colorbar": {
              "outlinewidth": 0,
              "ticks": ""
             }
            },
            "type": "scatterpolar"
           }
          ],
          "scatterpolargl": [
           {
            "marker": {
             "colorbar": {
              "outlinewidth": 0,
              "ticks": ""
             }
            },
            "type": "scatterpolargl"
           }
          ],
          "scatterternary": [
           {
            "marker": {
             "colorbar": {
              "outlinewidth": 0,
              "ticks": ""
             }
            },
            "type": "scatterternary"
           }
          ],
          "surface": [
           {
            "colorbar": {
             "outlinewidth": 0,
             "ticks": ""
            },
            "colorscale": [
             [
              0,
              "#0d0887"
             ],
             [
              0.1111111111111111,
              "#46039f"
             ],
             [
              0.2222222222222222,
              "#7201a8"
             ],
             [
              0.3333333333333333,
              "#9c179e"
             ],
             [
              0.4444444444444444,
              "#bd3786"
             ],
             [
              0.5555555555555556,
              "#d8576b"
             ],
             [
              0.6666666666666666,
              "#ed7953"
             ],
             [
              0.7777777777777778,
              "#fb9f3a"
             ],
             [
              0.8888888888888888,
              "#fdca26"
             ],
             [
              1,
              "#f0f921"
             ]
            ],
            "type": "surface"
           }
          ],
          "table": [
           {
            "cells": {
             "fill": {
              "color": "#EBF0F8"
             },
             "line": {
              "color": "white"
             }
            },
            "header": {
             "fill": {
              "color": "#C8D4E3"
             },
             "line": {
              "color": "white"
             }
            },
            "type": "table"
           }
          ]
         },
         "layout": {
          "annotationdefaults": {
           "arrowcolor": "#2a3f5f",
           "arrowhead": 0,
           "arrowwidth": 1
          },
          "autotypenumbers": "strict",
          "coloraxis": {
           "colorbar": {
            "outlinewidth": 0,
            "ticks": ""
           }
          },
          "colorscale": {
           "diverging": [
            [
             0,
             "#8e0152"
            ],
            [
             0.1,
             "#c51b7d"
            ],
            [
             0.2,
             "#de77ae"
            ],
            [
             0.3,
             "#f1b6da"
            ],
            [
             0.4,
             "#fde0ef"
            ],
            [
             0.5,
             "#f7f7f7"
            ],
            [
             0.6,
             "#e6f5d0"
            ],
            [
             0.7,
             "#b8e186"
            ],
            [
             0.8,
             "#7fbc41"
            ],
            [
             0.9,
             "#4d9221"
            ],
            [
             1,
             "#276419"
            ]
           ],
           "sequential": [
            [
             0,
             "#0d0887"
            ],
            [
             0.1111111111111111,
             "#46039f"
            ],
            [
             0.2222222222222222,
             "#7201a8"
            ],
            [
             0.3333333333333333,
             "#9c179e"
            ],
            [
             0.4444444444444444,
             "#bd3786"
            ],
            [
             0.5555555555555556,
             "#d8576b"
            ],
            [
             0.6666666666666666,
             "#ed7953"
            ],
            [
             0.7777777777777778,
             "#fb9f3a"
            ],
            [
             0.8888888888888888,
             "#fdca26"
            ],
            [
             1,
             "#f0f921"
            ]
           ],
           "sequentialminus": [
            [
             0,
             "#0d0887"
            ],
            [
             0.1111111111111111,
             "#46039f"
            ],
            [
             0.2222222222222222,
             "#7201a8"
            ],
            [
             0.3333333333333333,
             "#9c179e"
            ],
            [
             0.4444444444444444,
             "#bd3786"
            ],
            [
             0.5555555555555556,
             "#d8576b"
            ],
            [
             0.6666666666666666,
             "#ed7953"
            ],
            [
             0.7777777777777778,
             "#fb9f3a"
            ],
            [
             0.8888888888888888,
             "#fdca26"
            ],
            [
             1,
             "#f0f921"
            ]
           ]
          },
          "colorway": [
           "#636efa",
           "#EF553B",
           "#00cc96",
           "#ab63fa",
           "#FFA15A",
           "#19d3f3",
           "#FF6692",
           "#B6E880",
           "#FF97FF",
           "#FECB52"
          ],
          "font": {
           "color": "#2a3f5f"
          },
          "geo": {
           "bgcolor": "white",
           "lakecolor": "white",
           "landcolor": "#E5ECF6",
           "showlakes": true,
           "showland": true,
           "subunitcolor": "white"
          },
          "hoverlabel": {
           "align": "left"
          },
          "hovermode": "closest",
          "mapbox": {
           "style": "light"
          },
          "paper_bgcolor": "white",
          "plot_bgcolor": "#E5ECF6",
          "polar": {
           "angularaxis": {
            "gridcolor": "white",
            "linecolor": "white",
            "ticks": ""
           },
           "bgcolor": "#E5ECF6",
           "radialaxis": {
            "gridcolor": "white",
            "linecolor": "white",
            "ticks": ""
           }
          },
          "scene": {
           "xaxis": {
            "backgroundcolor": "#E5ECF6",
            "gridcolor": "white",
            "gridwidth": 2,
            "linecolor": "white",
            "showbackground": true,
            "ticks": "",
            "zerolinecolor": "white"
           },
           "yaxis": {
            "backgroundcolor": "#E5ECF6",
            "gridcolor": "white",
            "gridwidth": 2,
            "linecolor": "white",
            "showbackground": true,
            "ticks": "",
            "zerolinecolor": "white"
           },
           "zaxis": {
            "backgroundcolor": "#E5ECF6",
            "gridcolor": "white",
            "gridwidth": 2,
            "linecolor": "white",
            "showbackground": true,
            "ticks": "",
            "zerolinecolor": "white"
           }
          },
          "shapedefaults": {
           "line": {
            "color": "#2a3f5f"
           }
          },
          "ternary": {
           "aaxis": {
            "gridcolor": "white",
            "linecolor": "white",
            "ticks": ""
           },
           "baxis": {
            "gridcolor": "white",
            "linecolor": "white",
            "ticks": ""
           },
           "bgcolor": "#E5ECF6",
           "caxis": {
            "gridcolor": "white",
            "linecolor": "white",
            "ticks": ""
           }
          },
          "title": {
           "x": 0.05
          },
          "xaxis": {
           "automargin": true,
           "gridcolor": "white",
           "linecolor": "white",
           "ticks": "",
           "title": {
            "standoff": 15
           },
           "zerolinecolor": "white",
           "zerolinewidth": 2
          },
          "yaxis": {
           "automargin": true,
           "gridcolor": "white",
           "linecolor": "white",
           "ticks": "",
           "title": {
            "standoff": 15
           },
           "zerolinecolor": "white",
           "zerolinewidth": 2
          }
         }
        },
        "updatemenus": [
         {
          "buttons": [
           {
            "args": [
             null,
             {
              "frame": {
               "duration": 500,
               "redraw": true
              },
              "fromcurrent": true,
              "mode": "immediate",
              "transition": {
               "duration": 500,
               "easing": "linear"
              }
             }
            ],
            "label": "&#9654;",
            "method": "animate"
           },
           {
            "args": [
             [
              null
             ],
             {
              "frame": {
               "duration": 0,
               "redraw": true
              },
              "fromcurrent": true,
              "mode": "immediate",
              "transition": {
               "duration": 0,
               "easing": "linear"
              }
             }
            ],
            "label": "&#9724;",
            "method": "animate"
           }
          ],
          "direction": "left",
          "pad": {
           "r": 10,
           "t": 70
          },
          "showactive": false,
          "type": "buttons",
          "x": 0.1,
          "xanchor": "right",
          "y": 0,
          "yanchor": "top"
         }
        ],
        "xaxis": {
         "anchor": "y",
         "domain": [
          0,
          1
         ],
         "range": [
          0,
          4
         ],
         "title": {
          "text": "Nom"
         }
        },
        "yaxis": {
         "anchor": "x",
         "domain": [
          0,
          1
         ],
         "range": [
          0,
          23
         ],
         "title": {
          "text": "Nombre de films"
         }
        }
       }
      }
     },
     "metadata": {},
     "output_type": "display_data"
    }
   ],
   "source": [
    "fig = px.bar(df, y='nb_film_max' ,x= 'primaryName', animation_frame='decade')\n",
    "\n",
    "fig.update_layout(\n",
    "    xaxis_range=[0,4],\n",
    "    yaxis_range= [0, df['nb_film_max'].max() + 2],\n",
    "    xaxis_title=\"Nom\",\n",
    "    yaxis_title=\"Nombre de films\",\n",
    "    showlegend=False\n",
    ")\n",
    "fig.show()"
   ]
  },
  {
   "cell_type": "code",
   "execution_count": 29,
   "id": "9ddd2501",
   "metadata": {},
   "outputs": [
    {
     "data": {
      "text/plain": [
       "14"
      ]
     },
     "execution_count": 29,
     "metadata": {},
     "output_type": "execute_result"
    }
   ],
   "source": [
    "df_max_film_act['decade'].nunique()"
   ]
  }
 ],
 "metadata": {
  "kernelspec": {
   "display_name": ".venv",
   "language": "python",
   "name": "python3"
  },
  "language_info": {
   "codemirror_mode": {
    "name": "ipython",
    "version": 3
   },
   "file_extension": ".py",
   "mimetype": "text/x-python",
   "name": "python",
   "nbconvert_exporter": "python",
   "pygments_lexer": "ipython3",
   "version": "3.13.3"
  }
 },
 "nbformat": 4,
 "nbformat_minor": 5
}
