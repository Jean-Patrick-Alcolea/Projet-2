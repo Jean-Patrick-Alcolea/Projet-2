{
 "cells": [
  {
   "cell_type": "code",
   "execution_count": 1,
   "id": "8acd4f21",
   "metadata": {},
   "outputs": [],
   "source": [
    "import duckdb as db\n",
    "import pandas as pd\n",
    "import seaborn as sns\n",
    "import matplotlib.pyplot as plt"
   ]
  },
  {
   "cell_type": "code",
   "execution_count": 2,
   "id": "aed346fa",
   "metadata": {},
   "outputs": [],
   "source": [
    "def sql(query, database = \"../data/database.duckdb\"):\n",
    "    con = db.connect(database)\n",
    "    res = con.execute(query).df()\n",
    "    con.close()\n",
    "    return res"
   ]
  },
  {
   "cell_type": "code",
   "execution_count": 3,
   "id": "b4cb3352",
   "metadata": {},
   "outputs": [],
   "source": [
    "df = pd.DataFrame(sql(\n",
    "    \"\"\"  \n",
    "    SELECT * \n",
    "    FROM name_basics \n",
    "    WHERE primaryProfession LIKE '%actor%' AND primaryProfession LIKE '%actress%'\n",
    "    \"\"\"\n",
    "))"
   ]
  },
  {
   "cell_type": "code",
   "execution_count": 4,
   "id": "3299c4c0",
   "metadata": {},
   "outputs": [],
   "source": [
    "df_tmdb = pd.DataFrame(sql(\n",
    "    \"\"\"  \n",
    "    SELECT * \n",
    "    FROM tmdb\n",
    "    \"\"\"\n",
    "))"
   ]
  },
  {
   "cell_type": "code",
   "execution_count": 5,
   "id": "bf95c765",
   "metadata": {},
   "outputs": [
    {
     "data": {
      "text/html": [
       "<div>\n",
       "<style scoped>\n",
       "    .dataframe tbody tr th:only-of-type {\n",
       "        vertical-align: middle;\n",
       "    }\n",
       "\n",
       "    .dataframe tbody tr th {\n",
       "        vertical-align: top;\n",
       "    }\n",
       "\n",
       "    .dataframe thead th {\n",
       "        text-align: right;\n",
       "    }\n",
       "</style>\n",
       "<table border=\"1\" class=\"dataframe\">\n",
       "  <thead>\n",
       "    <tr style=\"text-align: right;\">\n",
       "      <th></th>\n",
       "      <th>nconst</th>\n",
       "      <th>primaryName</th>\n",
       "      <th>birthYear</th>\n",
       "      <th>deathYear</th>\n",
       "      <th>primaryProfession</th>\n",
       "      <th>knownForTitles</th>\n",
       "    </tr>\n",
       "  </thead>\n",
       "  <tbody>\n",
       "    <tr>\n",
       "      <th>0</th>\n",
       "      <td>nm0004192</td>\n",
       "      <td>Kenny Hotz</td>\n",
       "      <td>1967</td>\n",
       "      <td>\\N</td>\n",
       "      <td>actress,actor,writer</td>\n",
       "      <td>tt0121955,tt0384746,tt1007028,tt0127388</td>\n",
       "    </tr>\n",
       "    <tr>\n",
       "      <th>1</th>\n",
       "      <td>nm0164577</td>\n",
       "      <td>Tordy Clark</td>\n",
       "      <td>\\N</td>\n",
       "      <td>\\N</td>\n",
       "      <td>actor,writer,actress</td>\n",
       "      <td>tt24248198,tt8323668,tt12724306,tt6561576</td>\n",
       "    </tr>\n",
       "    <tr>\n",
       "      <th>2</th>\n",
       "      <td>nm0177403</td>\n",
       "      <td>Darlene Cooke</td>\n",
       "      <td>\\N</td>\n",
       "      <td>\\N</td>\n",
       "      <td>actor,actress,miscellaneous</td>\n",
       "      <td>tt5296406,tt0164184,tt6759380,tt7573024</td>\n",
       "    </tr>\n",
       "    <tr>\n",
       "      <th>3</th>\n",
       "      <td>nm0312197</td>\n",
       "      <td>ShaynaAngel Monroe</td>\n",
       "      <td>\\N</td>\n",
       "      <td>\\N</td>\n",
       "      <td>actress,actor</td>\n",
       "      <td>tt1798701,tt1615919,tt1630574,tt0173716</td>\n",
       "    </tr>\n",
       "    <tr>\n",
       "      <th>4</th>\n",
       "      <td>nm0377840</td>\n",
       "      <td>Gloria Lynne Henry</td>\n",
       "      <td>\\N</td>\n",
       "      <td>\\N</td>\n",
       "      <td>actor,stunts,actress</td>\n",
       "      <td>tt0110823,tt0118971,tt3627704,tt0083620</td>\n",
       "    </tr>\n",
       "    <tr>\n",
       "      <th>...</th>\n",
       "      <td>...</td>\n",
       "      <td>...</td>\n",
       "      <td>...</td>\n",
       "      <td>...</td>\n",
       "      <td>...</td>\n",
       "      <td>...</td>\n",
       "    </tr>\n",
       "    <tr>\n",
       "      <th>782</th>\n",
       "      <td>nm9875454</td>\n",
       "      <td>Mabel Thomas</td>\n",
       "      <td>\\N</td>\n",
       "      <td>\\N</td>\n",
       "      <td>actor,actress</td>\n",
       "      <td>tt27427973,tt30956852,tt19245296,tt26315810</td>\n",
       "    </tr>\n",
       "    <tr>\n",
       "      <th>783</th>\n",
       "      <td>nm9890521</td>\n",
       "      <td>Kendall Rose Dath</td>\n",
       "      <td>\\N</td>\n",
       "      <td>\\N</td>\n",
       "      <td>actress,actor</td>\n",
       "      <td>tt8334452</td>\n",
       "    </tr>\n",
       "    <tr>\n",
       "      <th>784</th>\n",
       "      <td>nm9894699</td>\n",
       "      <td>Mia Tharia</td>\n",
       "      <td>\\N</td>\n",
       "      <td>\\N</td>\n",
       "      <td>actor,writer,actress</td>\n",
       "      <td>tt14371256,tt29315015,tt19799292,tt8581660</td>\n",
       "    </tr>\n",
       "    <tr>\n",
       "      <th>785</th>\n",
       "      <td>nm9919463</td>\n",
       "      <td>Rory Anne Dahl</td>\n",
       "      <td>\\N</td>\n",
       "      <td>\\N</td>\n",
       "      <td>actor,actress</td>\n",
       "      <td>tt12483708</td>\n",
       "    </tr>\n",
       "    <tr>\n",
       "      <th>786</th>\n",
       "      <td>nm9982682</td>\n",
       "      <td>Timothy Dennett</td>\n",
       "      <td>\\N</td>\n",
       "      <td>\\N</td>\n",
       "      <td>actor,actress</td>\n",
       "      <td>tt10986410</td>\n",
       "    </tr>\n",
       "  </tbody>\n",
       "</table>\n",
       "<p>787 rows × 6 columns</p>\n",
       "</div>"
      ],
      "text/plain": [
       "        nconst         primaryName birthYear deathYear  \\\n",
       "0    nm0004192          Kenny Hotz      1967        \\N   \n",
       "1    nm0164577         Tordy Clark        \\N        \\N   \n",
       "2    nm0177403       Darlene Cooke        \\N        \\N   \n",
       "3    nm0312197  ShaynaAngel Monroe        \\N        \\N   \n",
       "4    nm0377840  Gloria Lynne Henry        \\N        \\N   \n",
       "..         ...                 ...       ...       ...   \n",
       "782  nm9875454        Mabel Thomas        \\N        \\N   \n",
       "783  nm9890521   Kendall Rose Dath        \\N        \\N   \n",
       "784  nm9894699          Mia Tharia        \\N        \\N   \n",
       "785  nm9919463      Rory Anne Dahl        \\N        \\N   \n",
       "786  nm9982682     Timothy Dennett        \\N        \\N   \n",
       "\n",
       "               primaryProfession                               knownForTitles  \n",
       "0           actress,actor,writer      tt0121955,tt0384746,tt1007028,tt0127388  \n",
       "1           actor,writer,actress    tt24248198,tt8323668,tt12724306,tt6561576  \n",
       "2    actor,actress,miscellaneous      tt5296406,tt0164184,tt6759380,tt7573024  \n",
       "3                  actress,actor      tt1798701,tt1615919,tt1630574,tt0173716  \n",
       "4           actor,stunts,actress      tt0110823,tt0118971,tt3627704,tt0083620  \n",
       "..                           ...                                          ...  \n",
       "782                actor,actress  tt27427973,tt30956852,tt19245296,tt26315810  \n",
       "783                actress,actor                                    tt8334452  \n",
       "784         actor,writer,actress   tt14371256,tt29315015,tt19799292,tt8581660  \n",
       "785                actor,actress                                   tt12483708  \n",
       "786                actor,actress                                   tt10986410  \n",
       "\n",
       "[787 rows x 6 columns]"
      ]
     },
     "execution_count": 5,
     "metadata": {},
     "output_type": "execute_result"
    }
   ],
   "source": [
    "#Isolement des acteurs/actrices\n",
    "df_act = df[df['primaryProfession'].str.contains(\"actress\")]\n",
    "df_act"
   ]
  },
  {
   "cell_type": "code",
   "execution_count": 6,
   "id": "3deec6e0",
   "metadata": {},
   "outputs": [
    {
     "data": {
      "text/html": [
       "<div>\n",
       "<style scoped>\n",
       "    .dataframe tbody tr th:only-of-type {\n",
       "        vertical-align: middle;\n",
       "    }\n",
       "\n",
       "    .dataframe tbody tr th {\n",
       "        vertical-align: top;\n",
       "    }\n",
       "\n",
       "    .dataframe thead th {\n",
       "        text-align: right;\n",
       "    }\n",
       "</style>\n",
       "<table border=\"1\" class=\"dataframe\">\n",
       "  <thead>\n",
       "    <tr style=\"text-align: right;\">\n",
       "      <th></th>\n",
       "      <th>nconst</th>\n",
       "      <th>primaryName</th>\n",
       "      <th>birthYear</th>\n",
       "      <th>deathYear</th>\n",
       "      <th>primaryProfession</th>\n",
       "      <th>knownForTitles</th>\n",
       "    </tr>\n",
       "  </thead>\n",
       "  <tbody>\n",
       "    <tr>\n",
       "      <th>0</th>\n",
       "      <td>nm0004192</td>\n",
       "      <td>Kenny Hotz</td>\n",
       "      <td>1967</td>\n",
       "      <td>\\N</td>\n",
       "      <td>actress,actor,writer</td>\n",
       "      <td>tt0121955</td>\n",
       "    </tr>\n",
       "    <tr>\n",
       "      <th>0</th>\n",
       "      <td>nm0004192</td>\n",
       "      <td>Kenny Hotz</td>\n",
       "      <td>1967</td>\n",
       "      <td>\\N</td>\n",
       "      <td>actress,actor,writer</td>\n",
       "      <td>tt0384746</td>\n",
       "    </tr>\n",
       "    <tr>\n",
       "      <th>0</th>\n",
       "      <td>nm0004192</td>\n",
       "      <td>Kenny Hotz</td>\n",
       "      <td>1967</td>\n",
       "      <td>\\N</td>\n",
       "      <td>actress,actor,writer</td>\n",
       "      <td>tt1007028</td>\n",
       "    </tr>\n",
       "    <tr>\n",
       "      <th>0</th>\n",
       "      <td>nm0004192</td>\n",
       "      <td>Kenny Hotz</td>\n",
       "      <td>1967</td>\n",
       "      <td>\\N</td>\n",
       "      <td>actress,actor,writer</td>\n",
       "      <td>tt0127388</td>\n",
       "    </tr>\n",
       "    <tr>\n",
       "      <th>1</th>\n",
       "      <td>nm0164577</td>\n",
       "      <td>Tordy Clark</td>\n",
       "      <td>\\N</td>\n",
       "      <td>\\N</td>\n",
       "      <td>actor,writer,actress</td>\n",
       "      <td>tt24248198</td>\n",
       "    </tr>\n",
       "    <tr>\n",
       "      <th>...</th>\n",
       "      <td>...</td>\n",
       "      <td>...</td>\n",
       "      <td>...</td>\n",
       "      <td>...</td>\n",
       "      <td>...</td>\n",
       "      <td>...</td>\n",
       "    </tr>\n",
       "    <tr>\n",
       "      <th>784</th>\n",
       "      <td>nm9894699</td>\n",
       "      <td>Mia Tharia</td>\n",
       "      <td>\\N</td>\n",
       "      <td>\\N</td>\n",
       "      <td>actor,writer,actress</td>\n",
       "      <td>tt29315015</td>\n",
       "    </tr>\n",
       "    <tr>\n",
       "      <th>784</th>\n",
       "      <td>nm9894699</td>\n",
       "      <td>Mia Tharia</td>\n",
       "      <td>\\N</td>\n",
       "      <td>\\N</td>\n",
       "      <td>actor,writer,actress</td>\n",
       "      <td>tt19799292</td>\n",
       "    </tr>\n",
       "    <tr>\n",
       "      <th>784</th>\n",
       "      <td>nm9894699</td>\n",
       "      <td>Mia Tharia</td>\n",
       "      <td>\\N</td>\n",
       "      <td>\\N</td>\n",
       "      <td>actor,writer,actress</td>\n",
       "      <td>tt8581660</td>\n",
       "    </tr>\n",
       "    <tr>\n",
       "      <th>785</th>\n",
       "      <td>nm9919463</td>\n",
       "      <td>Rory Anne Dahl</td>\n",
       "      <td>\\N</td>\n",
       "      <td>\\N</td>\n",
       "      <td>actor,actress</td>\n",
       "      <td>tt12483708</td>\n",
       "    </tr>\n",
       "    <tr>\n",
       "      <th>786</th>\n",
       "      <td>nm9982682</td>\n",
       "      <td>Timothy Dennett</td>\n",
       "      <td>\\N</td>\n",
       "      <td>\\N</td>\n",
       "      <td>actor,actress</td>\n",
       "      <td>tt10986410</td>\n",
       "    </tr>\n",
       "  </tbody>\n",
       "</table>\n",
       "<p>2212 rows × 6 columns</p>\n",
       "</div>"
      ],
      "text/plain": [
       "        nconst      primaryName birthYear deathYear     primaryProfession  \\\n",
       "0    nm0004192       Kenny Hotz      1967        \\N  actress,actor,writer   \n",
       "0    nm0004192       Kenny Hotz      1967        \\N  actress,actor,writer   \n",
       "0    nm0004192       Kenny Hotz      1967        \\N  actress,actor,writer   \n",
       "0    nm0004192       Kenny Hotz      1967        \\N  actress,actor,writer   \n",
       "1    nm0164577      Tordy Clark        \\N        \\N  actor,writer,actress   \n",
       "..         ...              ...       ...       ...                   ...   \n",
       "784  nm9894699       Mia Tharia        \\N        \\N  actor,writer,actress   \n",
       "784  nm9894699       Mia Tharia        \\N        \\N  actor,writer,actress   \n",
       "784  nm9894699       Mia Tharia        \\N        \\N  actor,writer,actress   \n",
       "785  nm9919463   Rory Anne Dahl        \\N        \\N         actor,actress   \n",
       "786  nm9982682  Timothy Dennett        \\N        \\N         actor,actress   \n",
       "\n",
       "    knownForTitles  \n",
       "0        tt0121955  \n",
       "0        tt0384746  \n",
       "0        tt1007028  \n",
       "0        tt0127388  \n",
       "1       tt24248198  \n",
       "..             ...  \n",
       "784     tt29315015  \n",
       "784     tt19799292  \n",
       "784      tt8581660  \n",
       "785     tt12483708  \n",
       "786     tt10986410  \n",
       "\n",
       "[2212 rows x 6 columns]"
      ]
     },
     "execution_count": 6,
     "metadata": {},
     "output_type": "execute_result"
    }
   ],
   "source": [
    "#Transofrmation de knownForTitles en liste\n",
    "df_act['knownForTitles'] = df_act['knownForTitles'].apply(lambda x : x.split(\",\"))\n",
    "#explode\n",
    "df_act_expl = df_act.explode(\"knownForTitles\")\n",
    "df_act_expl"
   ]
  },
  {
   "cell_type": "code",
   "execution_count": 7,
   "id": "3c359ad1",
   "metadata": {},
   "outputs": [
    {
     "data": {
      "text/html": [
       "<div>\n",
       "<style scoped>\n",
       "    .dataframe tbody tr th:only-of-type {\n",
       "        vertical-align: middle;\n",
       "    }\n",
       "\n",
       "    .dataframe tbody tr th {\n",
       "        vertical-align: top;\n",
       "    }\n",
       "\n",
       "    .dataframe thead th {\n",
       "        text-align: right;\n",
       "    }\n",
       "</style>\n",
       "<table border=\"1\" class=\"dataframe\">\n",
       "  <thead>\n",
       "    <tr style=\"text-align: right;\">\n",
       "      <th></th>\n",
       "      <th>Count</th>\n",
       "    </tr>\n",
       "  </thead>\n",
       "  <tbody>\n",
       "  </tbody>\n",
       "</table>\n",
       "</div>"
      ],
      "text/plain": [
       "Empty DataFrame\n",
       "Columns: [Count]\n",
       "Index: []"
      ]
     },
     "execution_count": 7,
     "metadata": {},
     "output_type": "execute_result"
    }
   ],
   "source": [
    "#Création de la vue pour joindre Acteur/trics, films, année de sortie du film\n",
    "\n",
    "sql(\"\"\"\n",
    "    CREATE OR REPLACE VIEW act_dec AS (SELECT primaryName\n",
    "    , knownForTitles\n",
    "    , original_title\n",
    "    , YEAR(release_date) AS release_year\n",
    "    FROM df_act_expl \n",
    "    JOIN tmdb ON df_act_expl.knownForTitles = tmdb.imdb_id\n",
    "    ORDER BY primaryName)\n",
    "    \"\"\"\n",
    ")"
   ]
  },
  {
   "cell_type": "code",
   "execution_count": 8,
   "id": "89b87736",
   "metadata": {},
   "outputs": [
    {
     "data": {
      "text/html": [
       "<div>\n",
       "<style scoped>\n",
       "    .dataframe tbody tr th:only-of-type {\n",
       "        vertical-align: middle;\n",
       "    }\n",
       "\n",
       "    .dataframe tbody tr th {\n",
       "        vertical-align: top;\n",
       "    }\n",
       "\n",
       "    .dataframe thead th {\n",
       "        text-align: right;\n",
       "    }\n",
       "</style>\n",
       "<table border=\"1\" class=\"dataframe\">\n",
       "  <thead>\n",
       "    <tr style=\"text-align: right;\">\n",
       "      <th></th>\n",
       "      <th>primaryName</th>\n",
       "      <th>knownForTitles</th>\n",
       "      <th>original_title</th>\n",
       "      <th>release_year</th>\n",
       "      <th>decade</th>\n",
       "    </tr>\n",
       "  </thead>\n",
       "  <tbody>\n",
       "    <tr>\n",
       "      <th>0</th>\n",
       "      <td>Gloria Lynne Henry</td>\n",
       "      <td>tt0083620</td>\n",
       "      <td>Bare Essence</td>\n",
       "      <td>1982</td>\n",
       "      <td>1980s</td>\n",
       "    </tr>\n",
       "    <tr>\n",
       "      <th>1</th>\n",
       "      <td>Gloria Lynne Henry</td>\n",
       "      <td>tt0118971</td>\n",
       "      <td>The Devil's Advocate</td>\n",
       "      <td>1997</td>\n",
       "      <td>1990s</td>\n",
       "    </tr>\n",
       "    <tr>\n",
       "      <th>2</th>\n",
       "      <td>Chic</td>\n",
       "      <td>tt0132347</td>\n",
       "      <td>Mystery Men</td>\n",
       "      <td>1999</td>\n",
       "      <td>1990s</td>\n",
       "    </tr>\n",
       "    <tr>\n",
       "      <th>3</th>\n",
       "      <td>Gloria Lynne Henry</td>\n",
       "      <td>tt0110823</td>\n",
       "      <td>Phantasm III: Lord of the Dead</td>\n",
       "      <td>1994</td>\n",
       "      <td>1990s</td>\n",
       "    </tr>\n",
       "    <tr>\n",
       "      <th>4</th>\n",
       "      <td>Emelyn Bennett</td>\n",
       "      <td>tt0168449</td>\n",
       "      <td>The Adventures of Sebastian Cole</td>\n",
       "      <td>1998</td>\n",
       "      <td>1990s</td>\n",
       "    </tr>\n",
       "    <tr>\n",
       "      <th>5</th>\n",
       "      <td>Laurie Sheppard</td>\n",
       "      <td>tt0123189</td>\n",
       "      <td>Neptune's Rocking Horse</td>\n",
       "      <td>1997</td>\n",
       "      <td>1990s</td>\n",
       "    </tr>\n",
       "    <tr>\n",
       "      <th>6</th>\n",
       "      <td>Sandra Lee-Oian Thomas</td>\n",
       "      <td>tt0116705</td>\n",
       "      <td>Jingle All the Way</td>\n",
       "      <td>1996</td>\n",
       "      <td>1990s</td>\n",
       "    </tr>\n",
       "    <tr>\n",
       "      <th>7</th>\n",
       "      <td>Robin Brenner</td>\n",
       "      <td>tt0337921</td>\n",
       "      <td>Cellular</td>\n",
       "      <td>2004</td>\n",
       "      <td>2000s</td>\n",
       "    </tr>\n",
       "    <tr>\n",
       "      <th>8</th>\n",
       "      <td>Brooke Livingston</td>\n",
       "      <td>tt0893367</td>\n",
       "      <td>RoboDoc</td>\n",
       "      <td>2009</td>\n",
       "      <td>2000s</td>\n",
       "    </tr>\n",
       "    <tr>\n",
       "      <th>9</th>\n",
       "      <td>Mayuko Kitayama</td>\n",
       "      <td>tt1188701</td>\n",
       "      <td>Gwen Stefani: Harajuku Lovers Live</td>\n",
       "      <td>2006</td>\n",
       "      <td>2000s</td>\n",
       "    </tr>\n",
       "    <tr>\n",
       "      <th>10</th>\n",
       "      <td>Mayuko Kitayama</td>\n",
       "      <td>tt0814331</td>\n",
       "      <td>Spring Breakdown</td>\n",
       "      <td>2009</td>\n",
       "      <td>2000s</td>\n",
       "    </tr>\n",
       "    <tr>\n",
       "      <th>11</th>\n",
       "      <td>La Georgea</td>\n",
       "      <td>tt0389738</td>\n",
       "      <td>Agnes und seine Brüder</td>\n",
       "      <td>2004</td>\n",
       "      <td>2000s</td>\n",
       "    </tr>\n",
       "    <tr>\n",
       "      <th>12</th>\n",
       "      <td>ShaynaAngel Monroe</td>\n",
       "      <td>tt0173716</td>\n",
       "      <td>Cecil B. Demented</td>\n",
       "      <td>2000</td>\n",
       "      <td>2000s</td>\n",
       "    </tr>\n",
       "    <tr>\n",
       "      <th>13</th>\n",
       "      <td>Chic</td>\n",
       "      <td>tt1193138</td>\n",
       "      <td>Up in the Air</td>\n",
       "      <td>2009</td>\n",
       "      <td>2000s</td>\n",
       "    </tr>\n",
       "    <tr>\n",
       "      <th>14</th>\n",
       "      <td>La Georgea</td>\n",
       "      <td>tt0295640</td>\n",
       "      <td>Suck My Dick</td>\n",
       "      <td>2001</td>\n",
       "      <td>2000s</td>\n",
       "    </tr>\n",
       "    <tr>\n",
       "      <th>15</th>\n",
       "      <td>Dana Swanson</td>\n",
       "      <td>tt0455326</td>\n",
       "      <td>Aqua Teen Hunger Force Colon Movie Film for Th...</td>\n",
       "      <td>2007</td>\n",
       "      <td>2000s</td>\n",
       "    </tr>\n",
       "    <tr>\n",
       "      <th>16</th>\n",
       "      <td>Darlene Cooke</td>\n",
       "      <td>tt0164184</td>\n",
       "      <td>The Sum of All Fears</td>\n",
       "      <td>2002</td>\n",
       "      <td>2000s</td>\n",
       "    </tr>\n",
       "    <tr>\n",
       "      <th>17</th>\n",
       "      <td>Brett Moriarty</td>\n",
       "      <td>tt1552113</td>\n",
       "      <td>Surviving the Holidays with Lewis Black</td>\n",
       "      <td>2009</td>\n",
       "      <td>2000s</td>\n",
       "    </tr>\n",
       "    <tr>\n",
       "      <th>18</th>\n",
       "      <td>Eve Brand</td>\n",
       "      <td>tt1037163</td>\n",
       "      <td>الزمن الباقي</td>\n",
       "      <td>2009</td>\n",
       "      <td>2000s</td>\n",
       "    </tr>\n",
       "    <tr>\n",
       "      <th>19</th>\n",
       "      <td>Bernadette Murray</td>\n",
       "      <td>tt0963328</td>\n",
       "      <td>Redland</td>\n",
       "      <td>2009</td>\n",
       "      <td>2000s</td>\n",
       "    </tr>\n",
       "    <tr>\n",
       "      <th>20</th>\n",
       "      <td>Emelyn Bennett</td>\n",
       "      <td>tt0258273</td>\n",
       "      <td>Lovely &amp; Amazing</td>\n",
       "      <td>2001</td>\n",
       "      <td>2000s</td>\n",
       "    </tr>\n",
       "    <tr>\n",
       "      <th>21</th>\n",
       "      <td>Gina Beretta</td>\n",
       "      <td>tt0408839</td>\n",
       "      <td>The Heartbreak Kid</td>\n",
       "      <td>2007</td>\n",
       "      <td>2000s</td>\n",
       "    </tr>\n",
       "    <tr>\n",
       "      <th>22</th>\n",
       "      <td>La Georgea</td>\n",
       "      <td>tt0352994</td>\n",
       "      <td>LaLehet Al HaMayim</td>\n",
       "      <td>2004</td>\n",
       "      <td>2000s</td>\n",
       "    </tr>\n",
       "    <tr>\n",
       "      <th>23</th>\n",
       "      <td>Donna Torrence</td>\n",
       "      <td>tt0365880</td>\n",
       "      <td>Uncle P</td>\n",
       "      <td>2007</td>\n",
       "      <td>2000s</td>\n",
       "    </tr>\n",
       "    <tr>\n",
       "      <th>24</th>\n",
       "      <td>Chic</td>\n",
       "      <td>tt0266915</td>\n",
       "      <td>Rush Hour 2</td>\n",
       "      <td>2001</td>\n",
       "      <td>2000s</td>\n",
       "    </tr>\n",
       "    <tr>\n",
       "      <th>25</th>\n",
       "      <td>Natasha Goradia</td>\n",
       "      <td>tt0251756</td>\n",
       "      <td>Jungle</td>\n",
       "      <td>2000</td>\n",
       "      <td>2000s</td>\n",
       "    </tr>\n",
       "    <tr>\n",
       "      <th>26</th>\n",
       "      <td>Kenny Hotz</td>\n",
       "      <td>tt1007028</td>\n",
       "      <td>Zack and Miri Make a Porno</td>\n",
       "      <td>2008</td>\n",
       "      <td>2000s</td>\n",
       "    </tr>\n",
       "    <tr>\n",
       "      <th>27</th>\n",
       "      <td>Sarah Finigan</td>\n",
       "      <td>tt0463854</td>\n",
       "      <td>28 Weeks Later</td>\n",
       "      <td>2007</td>\n",
       "      <td>2000s</td>\n",
       "    </tr>\n",
       "    <tr>\n",
       "      <th>28</th>\n",
       "      <td>Pamela Shaw</td>\n",
       "      <td>tt1254696</td>\n",
       "      <td>Splinterheads</td>\n",
       "      <td>2009</td>\n",
       "      <td>2000s</td>\n",
       "    </tr>\n",
       "    <tr>\n",
       "      <th>29</th>\n",
       "      <td>Bambi Cheung</td>\n",
       "      <td>tt5887650</td>\n",
       "      <td>Living Space</td>\n",
       "      <td>2018</td>\n",
       "      <td>2010s</td>\n",
       "    </tr>\n",
       "  </tbody>\n",
       "</table>\n",
       "</div>"
      ],
      "text/plain": [
       "               primaryName knownForTitles  \\\n",
       "0       Gloria Lynne Henry      tt0083620   \n",
       "1       Gloria Lynne Henry      tt0118971   \n",
       "2                     Chic      tt0132347   \n",
       "3       Gloria Lynne Henry      tt0110823   \n",
       "4           Emelyn Bennett      tt0168449   \n",
       "5          Laurie Sheppard      tt0123189   \n",
       "6   Sandra Lee-Oian Thomas      tt0116705   \n",
       "7            Robin Brenner      tt0337921   \n",
       "8        Brooke Livingston      tt0893367   \n",
       "9          Mayuko Kitayama      tt1188701   \n",
       "10         Mayuko Kitayama      tt0814331   \n",
       "11              La Georgea      tt0389738   \n",
       "12      ShaynaAngel Monroe      tt0173716   \n",
       "13                    Chic      tt1193138   \n",
       "14              La Georgea      tt0295640   \n",
       "15            Dana Swanson      tt0455326   \n",
       "16           Darlene Cooke      tt0164184   \n",
       "17          Brett Moriarty      tt1552113   \n",
       "18               Eve Brand      tt1037163   \n",
       "19       Bernadette Murray      tt0963328   \n",
       "20          Emelyn Bennett      tt0258273   \n",
       "21            Gina Beretta      tt0408839   \n",
       "22              La Georgea      tt0352994   \n",
       "23          Donna Torrence      tt0365880   \n",
       "24                    Chic      tt0266915   \n",
       "25         Natasha Goradia      tt0251756   \n",
       "26              Kenny Hotz      tt1007028   \n",
       "27           Sarah Finigan      tt0463854   \n",
       "28             Pamela Shaw      tt1254696   \n",
       "29            Bambi Cheung      tt5887650   \n",
       "\n",
       "                                       original_title  release_year decade  \n",
       "0                                        Bare Essence          1982  1980s  \n",
       "1                                The Devil's Advocate          1997  1990s  \n",
       "2                                         Mystery Men          1999  1990s  \n",
       "3                      Phantasm III: Lord of the Dead          1994  1990s  \n",
       "4                    The Adventures of Sebastian Cole          1998  1990s  \n",
       "5                             Neptune's Rocking Horse          1997  1990s  \n",
       "6                                  Jingle All the Way          1996  1990s  \n",
       "7                                            Cellular          2004  2000s  \n",
       "8                                             RoboDoc          2009  2000s  \n",
       "9                  Gwen Stefani: Harajuku Lovers Live          2006  2000s  \n",
       "10                                   Spring Breakdown          2009  2000s  \n",
       "11                             Agnes und seine Brüder          2004  2000s  \n",
       "12                                  Cecil B. Demented          2000  2000s  \n",
       "13                                      Up in the Air          2009  2000s  \n",
       "14                                       Suck My Dick          2001  2000s  \n",
       "15  Aqua Teen Hunger Force Colon Movie Film for Th...          2007  2000s  \n",
       "16                               The Sum of All Fears          2002  2000s  \n",
       "17            Surviving the Holidays with Lewis Black          2009  2000s  \n",
       "18                                       الزمن الباقي          2009  2000s  \n",
       "19                                            Redland          2009  2000s  \n",
       "20                                   Lovely & Amazing          2001  2000s  \n",
       "21                                 The Heartbreak Kid          2007  2000s  \n",
       "22                                 LaLehet Al HaMayim          2004  2000s  \n",
       "23                                            Uncle P          2007  2000s  \n",
       "24                                        Rush Hour 2          2001  2000s  \n",
       "25                                             Jungle          2000  2000s  \n",
       "26                         Zack and Miri Make a Porno          2008  2000s  \n",
       "27                                     28 Weeks Later          2007  2000s  \n",
       "28                                      Splinterheads          2009  2000s  \n",
       "29                                       Living Space          2018  2010s  "
      ]
     },
     "execution_count": 8,
     "metadata": {},
     "output_type": "execute_result"
    }
   ],
   "source": [
    "#cCréation de la vue pour ajouter l'intervalle d'années\n",
    "\n",
    "sql(\"\"\"\n",
    "    CREATE OR REPLACE VIEW act_dec_dec AS (SELECT *,\n",
    "    CASE \n",
    "        WHEN release_year BETWEEN 1970 AND 1979 THEN '1970s'\n",
    "        WHEN release_year BETWEEN 1980 AND 1989 THEN '1980s'\n",
    "        WHEN release_year BETWEEN 1990 AND 1999 THEN '1990s'\n",
    "        WHEN release_year BETWEEN 2000 AND 2009 THEN '2000s'\n",
    "        WHEN release_year BETWEEN 2010 AND 2019 THEN '2010s'\n",
    "        WHEN release_year BETWEEN 2020 AND 2025 THEN '2020s'\n",
    "        ELSE 'before 1970'\n",
    "    END AS decade\n",
    "    FROM act_dec ORDER BY decade);\n",
    "\n",
    "    SELECT * FROM act_dec_dec LIMIT 30\n",
    "    \"\"\"\n",
    ")\n"
   ]
  },
  {
   "cell_type": "code",
   "execution_count": 20,
   "id": "6eae6876",
   "metadata": {},
   "outputs": [
    {
     "data": {
      "text/html": [
       "<div>\n",
       "<style scoped>\n",
       "    .dataframe tbody tr th:only-of-type {\n",
       "        vertical-align: middle;\n",
       "    }\n",
       "\n",
       "    .dataframe tbody tr th {\n",
       "        vertical-align: top;\n",
       "    }\n",
       "\n",
       "    .dataframe thead th {\n",
       "        text-align: right;\n",
       "    }\n",
       "</style>\n",
       "<table border=\"1\" class=\"dataframe\">\n",
       "  <thead>\n",
       "    <tr style=\"text-align: right;\">\n",
       "      <th></th>\n",
       "      <th>nb_films</th>\n",
       "      <th>primaryName</th>\n",
       "      <th>decade</th>\n",
       "    </tr>\n",
       "  </thead>\n",
       "  <tbody>\n",
       "    <tr>\n",
       "      <th>0</th>\n",
       "      <td>1</td>\n",
       "      <td>Gloria Lynne Henry</td>\n",
       "      <td>1980s</td>\n",
       "    </tr>\n",
       "    <tr>\n",
       "      <th>1</th>\n",
       "      <td>2</td>\n",
       "      <td>Gloria Lynne Henry</td>\n",
       "      <td>1990s</td>\n",
       "    </tr>\n",
       "    <tr>\n",
       "      <th>2</th>\n",
       "      <td>1</td>\n",
       "      <td>Laurie Sheppard</td>\n",
       "      <td>1990s</td>\n",
       "    </tr>\n",
       "    <tr>\n",
       "      <th>3</th>\n",
       "      <td>1</td>\n",
       "      <td>Emelyn Bennett</td>\n",
       "      <td>1990s</td>\n",
       "    </tr>\n",
       "    <tr>\n",
       "      <th>4</th>\n",
       "      <td>1</td>\n",
       "      <td>Chic</td>\n",
       "      <td>1990s</td>\n",
       "    </tr>\n",
       "    <tr>\n",
       "      <th>...</th>\n",
       "      <td>...</td>\n",
       "      <td>...</td>\n",
       "      <td>...</td>\n",
       "    </tr>\n",
       "    <tr>\n",
       "      <th>261</th>\n",
       "      <td>1</td>\n",
       "      <td>Erin Yoo</td>\n",
       "      <td>before 1970</td>\n",
       "    </tr>\n",
       "    <tr>\n",
       "      <th>262</th>\n",
       "      <td>1</td>\n",
       "      <td>Julia Belanova</td>\n",
       "      <td>before 1970</td>\n",
       "    </tr>\n",
       "    <tr>\n",
       "      <th>263</th>\n",
       "      <td>1</td>\n",
       "      <td>Mia Tharia</td>\n",
       "      <td>before 1970</td>\n",
       "    </tr>\n",
       "    <tr>\n",
       "      <th>264</th>\n",
       "      <td>1</td>\n",
       "      <td>Hinano Kuzukawa</td>\n",
       "      <td>before 1970</td>\n",
       "    </tr>\n",
       "    <tr>\n",
       "      <th>265</th>\n",
       "      <td>1</td>\n",
       "      <td>Holmes</td>\n",
       "      <td>before 1970</td>\n",
       "    </tr>\n",
       "  </tbody>\n",
       "</table>\n",
       "<p>266 rows × 3 columns</p>\n",
       "</div>"
      ],
      "text/plain": [
       "     nb_films         primaryName       decade\n",
       "0           1  Gloria Lynne Henry        1980s\n",
       "1           2  Gloria Lynne Henry        1990s\n",
       "2           1     Laurie Sheppard        1990s\n",
       "3           1      Emelyn Bennett        1990s\n",
       "4           1                Chic        1990s\n",
       "..        ...                 ...          ...\n",
       "261         1            Erin Yoo  before 1970\n",
       "262         1      Julia Belanova  before 1970\n",
       "263         1          Mia Tharia  before 1970\n",
       "264         1     Hinano Kuzukawa  before 1970\n",
       "265         1              Holmes  before 1970\n",
       "\n",
       "[266 rows x 3 columns]"
      ]
     },
     "execution_count": 20,
     "metadata": {},
     "output_type": "execute_result"
    }
   ],
   "source": [
    "df_nbfilm_act = sql(\"\"\" \n",
    "    SELECT COUNT(knownForTitles) AS nb_films, \n",
    "    primaryName,\n",
    "    decade\n",
    "    FROM act_dec_dec\n",
    "    GROUP BY primaryName, decade\n",
    "    ORDER BY decade, nb_films DESC\n",
    "    \"\"\"\n",
    ")\n",
    "df_nbfilm_act"
   ]
  },
  {
   "cell_type": "code",
   "execution_count": 21,
   "id": "6b45fe4b",
   "metadata": {},
   "outputs": [
    {
     "data": {
      "text/html": [
       "<div>\n",
       "<style scoped>\n",
       "    .dataframe tbody tr th:only-of-type {\n",
       "        vertical-align: middle;\n",
       "    }\n",
       "\n",
       "    .dataframe tbody tr th {\n",
       "        vertical-align: top;\n",
       "    }\n",
       "\n",
       "    .dataframe thead th {\n",
       "        text-align: right;\n",
       "    }\n",
       "</style>\n",
       "<table border=\"1\" class=\"dataframe\">\n",
       "  <thead>\n",
       "    <tr style=\"text-align: right;\">\n",
       "      <th></th>\n",
       "      <th>nb_film_max</th>\n",
       "      <th>primaryName</th>\n",
       "      <th>decade</th>\n",
       "    </tr>\n",
       "  </thead>\n",
       "  <tbody>\n",
       "    <tr>\n",
       "      <th>0</th>\n",
       "      <td>1</td>\n",
       "      <td>Gloria Lynne Henry</td>\n",
       "      <td>1980s</td>\n",
       "    </tr>\n",
       "    <tr>\n",
       "      <th>1</th>\n",
       "      <td>2</td>\n",
       "      <td>Gloria Lynne Henry</td>\n",
       "      <td>1990s</td>\n",
       "    </tr>\n",
       "    <tr>\n",
       "      <th>2</th>\n",
       "      <td>1</td>\n",
       "      <td>Sandra Lee-Oian Thomas</td>\n",
       "      <td>1990s</td>\n",
       "    </tr>\n",
       "    <tr>\n",
       "      <th>3</th>\n",
       "      <td>1</td>\n",
       "      <td>Emelyn Bennett</td>\n",
       "      <td>1990s</td>\n",
       "    </tr>\n",
       "    <tr>\n",
       "      <th>4</th>\n",
       "      <td>1</td>\n",
       "      <td>Chic</td>\n",
       "      <td>1990s</td>\n",
       "    </tr>\n",
       "    <tr>\n",
       "      <th>...</th>\n",
       "      <td>...</td>\n",
       "      <td>...</td>\n",
       "      <td>...</td>\n",
       "    </tr>\n",
       "    <tr>\n",
       "      <th>261</th>\n",
       "      <td>1</td>\n",
       "      <td>Julia Belanova</td>\n",
       "      <td>before 1970</td>\n",
       "    </tr>\n",
       "    <tr>\n",
       "      <th>262</th>\n",
       "      <td>1</td>\n",
       "      <td>Erin Yoo</td>\n",
       "      <td>before 1970</td>\n",
       "    </tr>\n",
       "    <tr>\n",
       "      <th>263</th>\n",
       "      <td>1</td>\n",
       "      <td>Mars</td>\n",
       "      <td>before 1970</td>\n",
       "    </tr>\n",
       "    <tr>\n",
       "      <th>264</th>\n",
       "      <td>1</td>\n",
       "      <td>Daisy Sequerra</td>\n",
       "      <td>before 1970</td>\n",
       "    </tr>\n",
       "    <tr>\n",
       "      <th>265</th>\n",
       "      <td>1</td>\n",
       "      <td>Mabel Thomas</td>\n",
       "      <td>before 1970</td>\n",
       "    </tr>\n",
       "  </tbody>\n",
       "</table>\n",
       "<p>266 rows × 3 columns</p>\n",
       "</div>"
      ],
      "text/plain": [
       "     nb_film_max             primaryName       decade\n",
       "0              1      Gloria Lynne Henry        1980s\n",
       "1              2      Gloria Lynne Henry        1990s\n",
       "2              1  Sandra Lee-Oian Thomas        1990s\n",
       "3              1          Emelyn Bennett        1990s\n",
       "4              1                    Chic        1990s\n",
       "..           ...                     ...          ...\n",
       "261            1          Julia Belanova  before 1970\n",
       "262            1                Erin Yoo  before 1970\n",
       "263            1                    Mars  before 1970\n",
       "264            1          Daisy Sequerra  before 1970\n",
       "265            1            Mabel Thomas  before 1970\n",
       "\n",
       "[266 rows x 3 columns]"
      ]
     },
     "execution_count": 21,
     "metadata": {},
     "output_type": "execute_result"
    }
   ],
   "source": [
    "df_main = sql(\"\"\"\n",
    "    SELECT MAX(nb_films) AS nb_film_max,\n",
    "    primaryName,\n",
    "    decade\n",
    "    FROM df_nbfilm_act\n",
    "    GROUP BY primaryName, decade\n",
    "    ORDER BY decade, nb_film_max DESC\n",
    "    \"\"\"\n",
    ")\n",
    "df_main"
   ]
  },
  {
   "cell_type": "code",
   "execution_count": null,
   "id": "68b2da0b",
   "metadata": {},
   "outputs": [
    {
     "name": "stdout",
     "output_type": "stream",
     "text": [
      "Décennie : 1980s\n",
      "  → idx = 0, acteur = Gloria Lynne Henry, films = 1\n",
      "⭐ Meilleur acteur des 1980s : Gloria Lynne Henry (1 films)\n",
      "\n",
      "Décennie : 1990s\n",
      "  → idx = 1, acteur = Gloria Lynne Henry, films = 2\n",
      "  → idx = 2, acteur = Laurie Sheppard, films = 1\n",
      "  → idx = 3, acteur = Emelyn Bennett, films = 1\n",
      "  → idx = 4, acteur = Chic, films = 1\n",
      "  → idx = 5, acteur = Sandra Lee-Oian Thomas, films = 1\n",
      "⭐ Meilleur acteur des 1990s : Gloria Lynne Henry (2 films)\n",
      "\n",
      "Décennie : 2000s\n",
      "  → idx = 6, acteur = La Georgea, films = 3\n",
      "  → idx = 7, acteur = Chic, films = 2\n",
      "  → idx = 8, acteur = Mayuko Kitayama, films = 2\n",
      "  → idx = 9, acteur = Natasha Goradia, films = 1\n",
      "  → idx = 10, acteur = Sarah Finigan, films = 1\n",
      "  → idx = 11, acteur = ShaynaAngel Monroe, films = 1\n",
      "  → idx = 12, acteur = Brett Moriarty, films = 1\n",
      "  → idx = 13, acteur = Pamela Shaw, films = 1\n",
      "  → idx = 14, acteur = Robin Brenner, films = 1\n",
      "  → idx = 15, acteur = Bernadette Murray, films = 1\n",
      "  → idx = 16, acteur = Eve Brand, films = 1\n",
      "  → idx = 17, acteur = Kenny Hotz, films = 1\n",
      "  → idx = 18, acteur = Emelyn Bennett, films = 1\n",
      "  → idx = 19, acteur = Dana Swanson, films = 1\n",
      "  → idx = 20, acteur = Darlene Cooke, films = 1\n",
      "  → idx = 21, acteur = Donna Torrence, films = 1\n",
      "  → idx = 22, acteur = Brooke Livingston, films = 1\n",
      "  → idx = 23, acteur = Gina Beretta, films = 1\n",
      "⭐ Meilleur acteur des 2000s : La Georgea (3 films)\n",
      "\n",
      "Décennie : 2010s\n",
      "  → idx = 24, acteur = Brendon Eggertsen, films = 4\n",
      "  → idx = 25, acteur = Sarah Finigan, films = 2\n",
      "  → idx = 26, acteur = Eve Macklin, films = 2\n",
      "  → idx = 27, acteur = Seven Castle, films = 2\n",
      "  → idx = 28, acteur = Sophia Forrest, films = 2\n",
      "  → idx = 29, acteur = Skylar Olivia Flanagan, films = 2\n",
      "  → idx = 30, acteur = Jamie Higgs, films = 2\n",
      "  → idx = 31, acteur = Mayuko Kitayama, films = 2\n",
      "  → idx = 32, acteur = Donna Torrence, films = 2\n",
      "  → idx = 33, acteur = Gina Beretta, films = 2\n",
      "  → idx = 34, acteur = Sarah Yarkin, films = 1\n",
      "  → idx = 35, acteur = Alexandria Maillot, films = 1\n",
      "  → idx = 36, acteur = Bambi Cheung, films = 1\n",
      "  → idx = 37, acteur = Caito Aase, films = 1\n",
      "  → idx = 38, acteur = Jenna Phoa, films = 1\n",
      "  → idx = 39, acteur = Jamie Collins, films = 1\n",
      "  → idx = 40, acteur = Kei Austin, films = 1\n",
      "  → idx = 41, acteur = Marika Mashburn, films = 1\n",
      "  → idx = 42, acteur = Susan E. Reilly, films = 1\n",
      "  → idx = 43, acteur = Tam Jackson, films = 1\n",
      "  → idx = 44, acteur = Tracy Bargate, films = 1\n",
      "  → idx = 45, acteur = Chic, films = 1\n",
      "  → idx = 46, acteur = Elena Papavasileiou, films = 1\n",
      "  → idx = 47, acteur = Gigi Tisminetzky, films = 1\n",
      "  → idx = 48, acteur = Gloria Lynne Henry, films = 1\n",
      "  → idx = 49, acteur = Kym Miller, films = 1\n",
      "  → idx = 50, acteur = Natalie Keezer, films = 1\n",
      "  → idx = 51, acteur = Pamela Shaw, films = 1\n",
      "  → idx = 52, acteur = Sam Buttery, films = 1\n",
      "  → idx = 53, acteur = Auri, films = 1\n",
      "  → idx = 54, acteur = Cari LeDoux, films = 1\n",
      "  → idx = 55, acteur = Wenne Alton Davis, films = 1\n",
      "  → idx = 56, acteur = Aydan Quinn, films = 1\n",
      "  → idx = 57, acteur = Christine Walsh, films = 1\n",
      "  → idx = 58, acteur = Karly Palmer, films = 1\n",
      "  → idx = 59, acteur = Naomi Wakszlak, films = 1\n",
      "  → idx = 60, acteur = BrittneyLove Smith, films = 1\n",
      "  → idx = 61, acteur = Darlene Cooke, films = 1\n",
      "  → idx = 62, acteur = Elena Matateyou, films = 1\n",
      "  → idx = 63, acteur = Emily Carey, films = 1\n",
      "  → idx = 64, acteur = Laurie Sheppard, films = 1\n",
      "  → idx = 65, acteur = Loren Loubser, films = 1\n",
      "  → idx = 66, acteur = Maha El Boukhari, films = 1\n",
      "  → idx = 67, acteur = Melody A. Johnson, films = 1\n",
      "  → idx = 68, acteur = Rin Allen, films = 1\n",
      "  → idx = 69, acteur = Silver Days, films = 1\n",
      "  → idx = 70, acteur = Uche Ama, films = 1\n",
      "  → idx = 71, acteur = Auricle Ngnomire, films = 1\n",
      "  → idx = 72, acteur = Heather Stewart, films = 1\n",
      "  → idx = 73, acteur = Jenny O'Connell, films = 1\n",
      "  → idx = 74, acteur = Kennedy Stephens, films = 1\n",
      "  → idx = 75, acteur = Maggie Bain, films = 1\n",
      "  → idx = 76, acteur = Akira Lee Watanabe, films = 1\n",
      "  → idx = 77, acteur = Anne Gentry, films = 1\n",
      "⭐ Meilleur acteur des 2010s : Brendon Eggertsen (4 films)\n",
      "\n",
      "Décennie : 2020s\n",
      "  → idx = 78, acteur = Tordy Clark, films = 4\n",
      "  → idx = 79, acteur = Caito Aase, films = 3\n",
      "  → idx = 80, acteur = Steph Shober, films = 3\n",
      "  → idx = 81, acteur = Claudia Chen, films = 3\n",
      "  → idx = 82, acteur = Ann Keeney, films = 3\n",
      "  → idx = 83, acteur = Meghna Malik, films = 2\n",
      "  → idx = 84, acteur = Svetlana Rumi, films = 2\n",
      "  → idx = 85, acteur = Olivia Brody, films = 2\n",
      "  → idx = 86, acteur = Evie Templeton, films = 2\n",
      "  → idx = 87, acteur = Ilia Isorelýs Paulino, films = 2\n",
      "  → idx = 88, acteur = Jasmin Richardson, films = 2\n",
      "  → idx = 89, acteur = Marna Deitch, films = 2\n",
      "  → idx = 90, acteur = Melisa Lopez, films = 2\n",
      "  → idx = 91, acteur = Theodore Lincoln, films = 2\n",
      "  → idx = 92, acteur = Jamie Collins, films = 2\n",
      "  → idx = 93, acteur = Kamantha Naidoo, films = 2\n",
      "  → idx = 94, acteur = Lily Brody, films = 2\n",
      "  → idx = 95, acteur = Shoana T. Hunt, films = 1\n",
      "  → idx = 96, acteur = Si Chen, films = 1\n",
      "  → idx = 97, acteur = Zara Jestadt, films = 1\n",
      "  → idx = 98, acteur = Reilly Jacquemin, films = 1\n",
      "  → idx = 99, acteur = Rory Anne Dahl, films = 1\n",
      "  → idx = 100, acteur = Amajae Hardy-Jones, films = 1\n",
      "  → idx = 101, acteur = Angelie Simone, films = 1\n",
      "  → idx = 102, acteur = Anise Hamilton, films = 1\n",
      "  → idx = 103, acteur = Cathi Swett, films = 1\n",
      "  → idx = 104, acteur = Cristina Fernandez, films = 1\n",
      "  → idx = 105, acteur = Eve Macklin, films = 1\n",
      "  → idx = 106, acteur = Fegan DeCordova, films = 1\n",
      "  → idx = 107, acteur = Jocelyn Shelfo, films = 1\n",
      "  → idx = 108, acteur = Tiana Song, films = 1\n",
      "  → idx = 109, acteur = Tracy Bargate, films = 1\n",
      "  → idx = 110, acteur = Rico Hatton, films = 1\n",
      "  → idx = 111, acteur = Rune, films = 1\n",
      "  → idx = 112, acteur = Samantha Vosmaer, films = 1\n",
      "  → idx = 113, acteur = Shey Greyson, films = 1\n",
      "  → idx = 114, acteur = Aleksandra Cross, films = 1\n",
      "  → idx = 115, acteur = Alex King, films = 1\n",
      "  → idx = 116, acteur = Bailee Lopes, films = 1\n",
      "  → idx = 117, acteur = Charlie Oscar, films = 1\n",
      "  → idx = 118, acteur = Cristina Sanchez, films = 1\n",
      "  → idx = 119, acteur = Tirol Palmer, films = 1\n",
      "  → idx = 120, acteur = Veronica Marin-Estrada, films = 1\n",
      "  → idx = 121, acteur = Amaris Noelle, films = 1\n",
      "  → idx = 122, acteur = Ari Notartomaso, films = 1\n",
      "  → idx = 123, acteur = Colette Girardin, films = 1\n",
      "  → idx = 124, acteur = Delancey Shapiro, films = 1\n",
      "  → idx = 125, acteur = Fiona Rose Stayton, films = 1\n",
      "  → idx = 126, acteur = Holly Bridges, films = 1\n",
      "  → idx = 127, acteur = Hope Holmes, films = 1\n",
      "  → idx = 128, acteur = Maddie Roth, films = 1\n",
      "  → idx = 129, acteur = Madeleine Ince, films = 1\n",
      "  → idx = 130, acteur = Maria Allen, films = 1\n",
      "  → idx = 131, acteur = Mariah Quake, films = 1\n",
      "  → idx = 132, acteur = Nola Faye Dodd, films = 1\n",
      "  → idx = 133, acteur = Staci Merritt, films = 1\n",
      "  → idx = 134, acteur = Ruby James Fraser, films = 1\n",
      "  → idx = 135, acteur = Samia Hofmann, films = 1\n",
      "  → idx = 136, acteur = Sarah Yarkin, films = 1\n",
      "  → idx = 137, acteur = Shikena Stanton, films = 1\n",
      "  → idx = 138, acteur = Beth Bartley, films = 1\n",
      "  → idx = 139, acteur = Demi Van Kasteren, films = 1\n",
      "  → idx = 140, acteur = Emma D'Arcy, films = 1\n",
      "  → idx = 141, acteur = Gloria Alcala, films = 1\n",
      "  → idx = 142, acteur = Jena Maciel, films = 1\n",
      "  → idx = 143, acteur = Jenna Phoa, films = 1\n",
      "  → idx = 144, acteur = Kate Ginna, films = 1\n",
      "  → idx = 145, acteur = Maeve Courtier-Lilley, films = 1\n",
      "  → idx = 146, acteur = Merry Lou Proudfoot, films = 1\n",
      "  → idx = 147, acteur = Natasha Goradia, films = 1\n",
      "  → idx = 148, acteur = Nikki J, films = 1\n",
      "  → idx = 149, acteur = Stacie Hill, films = 1\n",
      "  → idx = 150, acteur = Tatyana Decker, films = 1\n",
      "  → idx = 151, acteur = R.J. Lavine, films = 1\n",
      "  → idx = 152, acteur = Sarah Huston, films = 1\n",
      "  → idx = 153, acteur = Sarah Shearburn, films = 1\n",
      "  → idx = 154, acteur = Sarah Suzuki, films = 1\n",
      "  → idx = 155, acteur = Cal Watson, films = 1\n",
      "  → idx = 156, acteur = Ema Masala, films = 1\n",
      "  → idx = 157, acteur = Emma Jevons, films = 1\n",
      "  → idx = 158, acteur = Judith Topper, films = 1\n",
      "  → idx = 159, acteur = Keisha K. Johnson, films = 1\n",
      "  → idx = 160, acteur = Kendall Rose Dath, films = 1\n",
      "  → idx = 161, acteur = Kym Livingstone, films = 1\n",
      "  → idx = 162, acteur = Margaret Lee, films = 1\n",
      "  → idx = 163, acteur = Dianne Garriga, films = 1\n",
      "  → idx = 164, acteur = Eden Hamilton, films = 1\n",
      "  → idx = 165, acteur = Elena Heuzé, films = 1\n",
      "  → idx = 166, acteur = Gigi Tisminetzky, films = 1\n",
      "  → idx = 167, acteur = Harlow Bleu, films = 1\n",
      "  → idx = 168, acteur = Heath V. Salazar, films = 1\n",
      "  → idx = 169, acteur = Jenna Kray, films = 1\n",
      "  → idx = 170, acteur = Kaitlyn Haugen, films = 1\n",
      "  → idx = 171, acteur = Kennetha Martin, films = 1\n",
      "  → idx = 172, acteur = Laurie Jade Woodruff, films = 1\n",
      "  → idx = 173, acteur = Maggie Ek, films = 1\n",
      "  → idx = 174, acteur = Parmiss Sehat, films = 1\n",
      "  → idx = 175, acteur = Sabrina Britto, films = 1\n",
      "  → idx = 176, acteur = Brooke Raymond, films = 1\n",
      "  → idx = 177, acteur = Federica Bartolucci, films = 1\n",
      "  → idx = 178, acteur = Joanne Steven, films = 1\n",
      "  → idx = 179, acteur = Julie Marchiano, films = 1\n",
      "  → idx = 180, acteur = Kaytlin Borgen, films = 1\n",
      "  → idx = 181, acteur = Lindsey Melancon, films = 1\n",
      "  → idx = 182, acteur = Milly Figuereo, films = 1\n",
      "  → idx = 183, acteur = Sophia Webster, films = 1\n",
      "  → idx = 184, acteur = Yuzu Harada, films = 1\n",
      "  → idx = 185, acteur = Sam Calleja, films = 1\n",
      "  → idx = 186, acteur = Christina Kroell, films = 1\n",
      "  → idx = 187, acteur = Diane Nierenberg, films = 1\n",
      "  → idx = 188, acteur = Eve Larkin, films = 1\n",
      "  → idx = 189, acteur = Grey Reich, films = 1\n",
      "  → idx = 190, acteur = Holly Cinnamon, films = 1\n",
      "  → idx = 191, acteur = Julia Belanova, films = 1\n",
      "  → idx = 192, acteur = Keara Bird, films = 1\n",
      "  → idx = 193, acteur = Laurie Sheppard, films = 1\n",
      "  → idx = 194, acteur = Lindey Sage, films = 1\n",
      "  → idx = 195, acteur = Loren Loubser, films = 1\n",
      "  → idx = 196, acteur = Markia Nicole Smith, films = 1\n",
      "  → idx = 197, acteur = Melody A. Johnson, films = 1\n",
      "  → idx = 198, acteur = Skylar Olivia Flanagan, films = 1\n",
      "  → idx = 199, acteur = Solyana Girum, films = 1\n",
      "  → idx = 200, acteur = Taylor Kalani McCumber, films = 1\n",
      "  → idx = 201, acteur = Zahara Kerner, films = 1\n",
      "  → idx = 202, acteur = Alex Tomais, films = 1\n",
      "  → idx = 203, acteur = Alexis Felix, films = 1\n",
      "  → idx = 204, acteur = Alison Halstead, films = 1\n",
      "  → idx = 205, acteur = Ally Ledford, films = 1\n",
      "  → idx = 206, acteur = Audra Darbyshire, films = 1\n",
      "  → idx = 207, acteur = Auri, films = 1\n",
      "  → idx = 208, acteur = Elizabeth Fung, films = 1\n",
      "  → idx = 209, acteur = Jaimee Rose Lynn, films = 1\n",
      "  → idx = 210, acteur = Jimmarie Rios, films = 1\n",
      "  → idx = 211, acteur = Juliette Kenn De Balinthazy, films = 1\n",
      "  → idx = 212, acteur = Kamryn Phillips Sands, films = 1\n",
      "  → idx = 213, acteur = Kayla Deorksen, films = 1\n",
      "  → idx = 214, acteur = Kyra Tantao, films = 1\n",
      "  → idx = 215, acteur = Lara Oliete, films = 1\n",
      "  → idx = 216, acteur = Lucy Ansell, films = 1\n",
      "  → idx = 217, acteur = Mariana Sá Sousa, films = 1\n",
      "  → idx = 218, acteur = Mayson Marshall, films = 1\n",
      "  → idx = 219, acteur = Nina Gallas, films = 1\n",
      "  → idx = 220, acteur = Murphy Weed, films = 1\n",
      "  → idx = 221, acteur = Malaijia Mitchell, films = 1\n",
      "⭐ Meilleur acteur des 2020s : Tordy Clark (4 films)\n",
      "\n",
      "Décennie : before 1970\n",
      "  → idx = 222, acteur = Fegan DeCordova, films = 2\n",
      "  → idx = 223, acteur = Scout Backus, films = 2\n",
      "  → idx = 224, acteur = Beth Bartley, films = 1\n",
      "  → idx = 225, acteur = Jena Maciel, films = 1\n",
      "  → idx = 226, acteur = Nichaela Farrell, films = 1\n",
      "  → idx = 227, acteur = Shuyi Jia, films = 1\n",
      "  → idx = 228, acteur = Doireann Mac Mahon, films = 1\n",
      "  → idx = 229, acteur = Janine Taylor, films = 1\n",
      "  → idx = 230, acteur = Katherine Powers, films = 1\n",
      "  → idx = 231, acteur = Lois Shih, films = 1\n",
      "  → idx = 232, acteur = Mars, films = 1\n",
      "  → idx = 233, acteur = Maura Bird, films = 1\n",
      "  → idx = 234, acteur = Olivia Donnelly, films = 1\n",
      "  → idx = 235, acteur = Sophia Tarantelli, films = 1\n",
      "  → idx = 236, acteur = Angel Prater, films = 1\n",
      "  → idx = 237, acteur = Kym Miller, films = 1\n",
      "  → idx = 238, acteur = Michelle Lynn, films = 1\n",
      "  → idx = 239, acteur = Taylor Bogrand, films = 1\n",
      "  → idx = 240, acteur = Tori Mackenzie, films = 1\n",
      "  → idx = 241, acteur = Alexis Felix, films = 1\n",
      "  → idx = 242, acteur = Daisy Sequerra, films = 1\n",
      "  → idx = 243, acteur = Mabel Thomas, films = 1\n",
      "  → idx = 244, acteur = Stephanie Jones, films = 1\n",
      "  → idx = 245, acteur = Berenice Mastretta, films = 1\n",
      "  → idx = 246, acteur = Janae Holster, films = 1\n",
      "  → idx = 247, acteur = Karma Bridges, films = 1\n",
      "  → idx = 248, acteur = Kennedy Stephens, films = 1\n",
      "  → idx = 249, acteur = Kimber Elayne Sprawl, films = 1\n",
      "  → idx = 250, acteur = Sekai Abenì, films = 1\n",
      "  → idx = 251, acteur = Ari Notartomaso, films = 1\n",
      "  → idx = 252, acteur = Delancey Shapiro, films = 1\n",
      "  → idx = 253, acteur = Frances Aaternir, films = 1\n",
      "  → idx = 254, acteur = Gwendolyn Sundstrom, films = 1\n",
      "  → idx = 255, acteur = Ilia Isorelýs Paulino, films = 1\n",
      "  → idx = 256, acteur = Jamie C. Ripley, films = 1\n",
      "  → idx = 257, acteur = Jennifer Sellers, films = 1\n",
      "  → idx = 258, acteur = Lorene Song, films = 1\n",
      "  → idx = 259, acteur = Molly Jean Edwards, films = 1\n",
      "  → idx = 260, acteur = Claudia Chen, films = 1\n",
      "  → idx = 261, acteur = Erin Yoo, films = 1\n",
      "  → idx = 262, acteur = Julia Belanova, films = 1\n",
      "  → idx = 263, acteur = Mia Tharia, films = 1\n",
      "  → idx = 264, acteur = Hinano Kuzukawa, films = 1\n",
      "  → idx = 265, acteur = Holmes, films = 1\n",
      "⭐ Meilleur acteur des before 1970 : Fegan DeCordova (2 films)\n",
      "\n"
     ]
    }
   ],
   "source": [
    "#correction gpt\n",
    "decades = df_nbfilm_act['decade'].unique()\n",
    "\n",
    "for decade in decades:\n",
    "    num_mem = 0\n",
    "    name_mem = \"\"\n",
    "\n",
    "    print(f\"Décennie : {decade}\")\n",
    "    \n",
    "    for idx, row in df_nbfilm_act.iterrows():\n",
    "        if row['decade'] == decade:\n",
    "            print(f\"  → idx = {idx}, acteur = {row['primaryName']}, films = {row['nb_films']}\")\n",
    "            if row['nb_films'] > num_mem:\n",
    "                num_mem = row['nb_films']\n",
    "                name_mem = row['primaryName']\n",
    "    \n",
    "    print(f\"⭐ Meilleur acteur des {decade} : {name_mem} ({num_mem} films)\\n\")"
   ]
  },
  {
   "cell_type": "code",
   "execution_count": null,
   "id": "df3fdfd8",
   "metadata": {},
   "outputs": [
    {
     "name": "stdout",
     "output_type": "stream",
     "text": [
      "idx =0, col =1980s\n",
      "i= 1980s\n",
      "nombre film : 1\n",
      "i= 1990s\n",
      "i= 2000s\n",
      "i= 2010s\n",
      "i= 2020s\n",
      "i= before 1970\n",
      "Gloria Lynne Henry 1 1980s\n",
      "idx =1, col =1990s\n",
      "i= 1980s\n",
      "i= 1990s\n",
      "nombre film : 2\n",
      "i= 2000s\n",
      "i= 2010s\n",
      "i= 2020s\n",
      "i= before 1970\n",
      "Gloria Lynne Henry 2 1990s\n",
      "idx =2, col =1990s\n",
      "i= 1980s\n",
      "i= 1990s\n",
      "nombre film : 1\n",
      "i= 2000s\n",
      "i= 2010s\n",
      "i= 2020s\n",
      "i= before 1970\n",
      "Gloria Lynne Henry 2 1990s\n",
      "idx =3, col =1990s\n",
      "i= 1980s\n",
      "i= 1990s\n",
      "nombre film : 1\n",
      "i= 2000s\n",
      "i= 2010s\n",
      "i= 2020s\n",
      "i= before 1970\n",
      "Gloria Lynne Henry 2 1990s\n",
      "idx =4, col =1990s\n",
      "i= 1980s\n",
      "i= 1990s\n",
      "nombre film : 1\n",
      "i= 2000s\n",
      "i= 2010s\n",
      "i= 2020s\n",
      "i= before 1970\n",
      "Gloria Lynne Henry 2 1990s\n",
      "idx =5, col =1990s\n",
      "i= 1980s\n",
      "i= 1990s\n",
      "nombre film : 1\n",
      "i= 2000s\n",
      "i= 2010s\n",
      "i= 2020s\n",
      "i= before 1970\n",
      "Gloria Lynne Henry 2 1990s\n",
      "idx =6, col =2000s\n",
      "i= 1980s\n",
      "i= 1990s\n",
      "i= 2000s\n",
      "nombre film : 3\n",
      "i= 2010s\n",
      "i= 2020s\n",
      "i= before 1970\n",
      "La Georgea 3 2000s\n",
      "idx =7, col =2000s\n",
      "i= 1980s\n",
      "i= 1990s\n",
      "i= 2000s\n",
      "nombre film : 2\n",
      "i= 2010s\n",
      "i= 2020s\n",
      "i= before 1970\n",
      "La Georgea 3 2000s\n",
      "idx =8, col =2000s\n",
      "i= 1980s\n",
      "i= 1990s\n",
      "i= 2000s\n",
      "nombre film : 2\n",
      "i= 2010s\n",
      "i= 2020s\n",
      "i= before 1970\n",
      "La Georgea 3 2000s\n",
      "idx =9, col =2000s\n",
      "i= 1980s\n",
      "i= 1990s\n",
      "i= 2000s\n",
      "nombre film : 1\n",
      "i= 2010s\n",
      "i= 2020s\n",
      "i= before 1970\n",
      "La Georgea 3 2000s\n",
      "idx =10, col =2000s\n",
      "i= 1980s\n",
      "i= 1990s\n",
      "i= 2000s\n",
      "nombre film : 1\n",
      "i= 2010s\n",
      "i= 2020s\n",
      "i= before 1970\n",
      "La Georgea 3 2000s\n",
      "idx =11, col =2000s\n",
      "i= 1980s\n",
      "i= 1990s\n",
      "i= 2000s\n",
      "nombre film : 1\n",
      "i= 2010s\n",
      "i= 2020s\n",
      "i= before 1970\n",
      "La Georgea 3 2000s\n",
      "idx =12, col =2000s\n",
      "i= 1980s\n",
      "i= 1990s\n",
      "i= 2000s\n",
      "nombre film : 1\n",
      "i= 2010s\n",
      "i= 2020s\n",
      "i= before 1970\n",
      "La Georgea 3 2000s\n",
      "idx =13, col =2000s\n",
      "i= 1980s\n",
      "i= 1990s\n",
      "i= 2000s\n",
      "nombre film : 1\n",
      "i= 2010s\n",
      "i= 2020s\n",
      "i= before 1970\n",
      "La Georgea 3 2000s\n",
      "idx =14, col =2000s\n",
      "i= 1980s\n",
      "i= 1990s\n",
      "i= 2000s\n",
      "nombre film : 1\n",
      "i= 2010s\n",
      "i= 2020s\n",
      "i= before 1970\n",
      "La Georgea 3 2000s\n",
      "idx =15, col =2000s\n",
      "i= 1980s\n",
      "i= 1990s\n",
      "i= 2000s\n",
      "nombre film : 1\n",
      "i= 2010s\n",
      "i= 2020s\n",
      "i= before 1970\n",
      "La Georgea 3 2000s\n",
      "idx =16, col =2000s\n",
      "i= 1980s\n",
      "i= 1990s\n",
      "i= 2000s\n",
      "nombre film : 1\n",
      "i= 2010s\n",
      "i= 2020s\n",
      "i= before 1970\n",
      "La Georgea 3 2000s\n",
      "idx =17, col =2000s\n",
      "i= 1980s\n",
      "i= 1990s\n",
      "i= 2000s\n",
      "nombre film : 1\n",
      "i= 2010s\n",
      "i= 2020s\n",
      "i= before 1970\n",
      "La Georgea 3 2000s\n",
      "idx =18, col =2000s\n",
      "i= 1980s\n",
      "i= 1990s\n",
      "i= 2000s\n",
      "nombre film : 1\n",
      "i= 2010s\n",
      "i= 2020s\n",
      "i= before 1970\n",
      "La Georgea 3 2000s\n",
      "idx =19, col =2000s\n",
      "i= 1980s\n",
      "i= 1990s\n",
      "i= 2000s\n",
      "nombre film : 1\n",
      "i= 2010s\n",
      "i= 2020s\n",
      "i= before 1970\n",
      "La Georgea 3 2000s\n",
      "idx =20, col =2000s\n",
      "i= 1980s\n",
      "i= 1990s\n",
      "i= 2000s\n",
      "nombre film : 1\n",
      "i= 2010s\n",
      "i= 2020s\n",
      "i= before 1970\n",
      "La Georgea 3 2000s\n",
      "idx =21, col =2000s\n",
      "i= 1980s\n",
      "i= 1990s\n",
      "i= 2000s\n",
      "nombre film : 1\n",
      "i= 2010s\n",
      "i= 2020s\n",
      "i= before 1970\n",
      "La Georgea 3 2000s\n",
      "idx =22, col =2000s\n",
      "i= 1980s\n",
      "i= 1990s\n",
      "i= 2000s\n",
      "nombre film : 1\n",
      "i= 2010s\n",
      "i= 2020s\n",
      "i= before 1970\n",
      "La Georgea 3 2000s\n",
      "idx =23, col =2000s\n",
      "i= 1980s\n",
      "i= 1990s\n",
      "i= 2000s\n",
      "nombre film : 1\n",
      "i= 2010s\n",
      "i= 2020s\n",
      "i= before 1970\n",
      "La Georgea 3 2000s\n",
      "idx =24, col =2010s\n",
      "i= 1980s\n",
      "i= 1990s\n",
      "i= 2000s\n",
      "i= 2010s\n",
      "nombre film : 4\n",
      "i= 2020s\n",
      "i= before 1970\n",
      "Brendon Eggertsen 4 2010s\n",
      "idx =25, col =2010s\n",
      "i= 1980s\n",
      "i= 1990s\n",
      "i= 2000s\n",
      "i= 2010s\n",
      "nombre film : 2\n",
      "i= 2020s\n",
      "i= before 1970\n",
      "Brendon Eggertsen 4 2010s\n",
      "idx =26, col =2010s\n",
      "i= 1980s\n",
      "i= 1990s\n",
      "i= 2000s\n",
      "i= 2010s\n",
      "nombre film : 2\n",
      "i= 2020s\n",
      "i= before 1970\n",
      "Brendon Eggertsen 4 2010s\n",
      "idx =27, col =2010s\n",
      "i= 1980s\n",
      "i= 1990s\n",
      "i= 2000s\n",
      "i= 2010s\n",
      "nombre film : 2\n",
      "i= 2020s\n",
      "i= before 1970\n",
      "Brendon Eggertsen 4 2010s\n",
      "idx =28, col =2010s\n",
      "i= 1980s\n",
      "i= 1990s\n",
      "i= 2000s\n",
      "i= 2010s\n",
      "nombre film : 2\n",
      "i= 2020s\n",
      "i= before 1970\n",
      "Brendon Eggertsen 4 2010s\n",
      "idx =29, col =2010s\n",
      "i= 1980s\n",
      "i= 1990s\n",
      "i= 2000s\n",
      "i= 2010s\n",
      "nombre film : 2\n",
      "i= 2020s\n",
      "i= before 1970\n",
      "Brendon Eggertsen 4 2010s\n",
      "idx =30, col =2010s\n",
      "i= 1980s\n",
      "i= 1990s\n",
      "i= 2000s\n",
      "i= 2010s\n",
      "nombre film : 2\n",
      "i= 2020s\n",
      "i= before 1970\n",
      "Brendon Eggertsen 4 2010s\n",
      "idx =31, col =2010s\n",
      "i= 1980s\n",
      "i= 1990s\n",
      "i= 2000s\n",
      "i= 2010s\n",
      "nombre film : 2\n",
      "i= 2020s\n",
      "i= before 1970\n",
      "Brendon Eggertsen 4 2010s\n",
      "idx =32, col =2010s\n",
      "i= 1980s\n",
      "i= 1990s\n",
      "i= 2000s\n",
      "i= 2010s\n",
      "nombre film : 2\n",
      "i= 2020s\n",
      "i= before 1970\n",
      "Brendon Eggertsen 4 2010s\n",
      "idx =33, col =2010s\n",
      "i= 1980s\n",
      "i= 1990s\n",
      "i= 2000s\n",
      "i= 2010s\n",
      "nombre film : 2\n",
      "i= 2020s\n",
      "i= before 1970\n",
      "Brendon Eggertsen 4 2010s\n",
      "idx =34, col =2010s\n",
      "i= 1980s\n",
      "i= 1990s\n",
      "i= 2000s\n",
      "i= 2010s\n",
      "nombre film : 1\n",
      "i= 2020s\n",
      "i= before 1970\n",
      "Brendon Eggertsen 4 2010s\n",
      "idx =35, col =2010s\n",
      "i= 1980s\n",
      "i= 1990s\n",
      "i= 2000s\n",
      "i= 2010s\n",
      "nombre film : 1\n",
      "i= 2020s\n",
      "i= before 1970\n",
      "Brendon Eggertsen 4 2010s\n",
      "idx =36, col =2010s\n",
      "i= 1980s\n",
      "i= 1990s\n",
      "i= 2000s\n",
      "i= 2010s\n",
      "nombre film : 1\n",
      "i= 2020s\n",
      "i= before 1970\n",
      "Brendon Eggertsen 4 2010s\n",
      "idx =37, col =2010s\n",
      "i= 1980s\n",
      "i= 1990s\n",
      "i= 2000s\n",
      "i= 2010s\n",
      "nombre film : 1\n",
      "i= 2020s\n",
      "i= before 1970\n",
      "Brendon Eggertsen 4 2010s\n",
      "idx =38, col =2010s\n",
      "i= 1980s\n",
      "i= 1990s\n",
      "i= 2000s\n",
      "i= 2010s\n",
      "nombre film : 1\n",
      "i= 2020s\n",
      "i= before 1970\n",
      "Brendon Eggertsen 4 2010s\n",
      "idx =39, col =2010s\n",
      "i= 1980s\n",
      "i= 1990s\n",
      "i= 2000s\n",
      "i= 2010s\n",
      "nombre film : 1\n",
      "i= 2020s\n",
      "i= before 1970\n",
      "Brendon Eggertsen 4 2010s\n",
      "idx =40, col =2010s\n",
      "i= 1980s\n",
      "i= 1990s\n",
      "i= 2000s\n",
      "i= 2010s\n",
      "nombre film : 1\n",
      "i= 2020s\n",
      "i= before 1970\n",
      "Brendon Eggertsen 4 2010s\n",
      "idx =41, col =2010s\n",
      "i= 1980s\n",
      "i= 1990s\n",
      "i= 2000s\n",
      "i= 2010s\n",
      "nombre film : 1\n",
      "i= 2020s\n",
      "i= before 1970\n",
      "Brendon Eggertsen 4 2010s\n",
      "idx =42, col =2010s\n",
      "i= 1980s\n",
      "i= 1990s\n",
      "i= 2000s\n",
      "i= 2010s\n",
      "nombre film : 1\n",
      "i= 2020s\n",
      "i= before 1970\n",
      "Brendon Eggertsen 4 2010s\n",
      "idx =43, col =2010s\n",
      "i= 1980s\n",
      "i= 1990s\n",
      "i= 2000s\n",
      "i= 2010s\n",
      "nombre film : 1\n",
      "i= 2020s\n",
      "i= before 1970\n",
      "Brendon Eggertsen 4 2010s\n",
      "idx =44, col =2010s\n",
      "i= 1980s\n",
      "i= 1990s\n",
      "i= 2000s\n",
      "i= 2010s\n",
      "nombre film : 1\n",
      "i= 2020s\n",
      "i= before 1970\n",
      "Brendon Eggertsen 4 2010s\n",
      "idx =45, col =2010s\n",
      "i= 1980s\n",
      "i= 1990s\n",
      "i= 2000s\n",
      "i= 2010s\n",
      "nombre film : 1\n",
      "i= 2020s\n",
      "i= before 1970\n",
      "Brendon Eggertsen 4 2010s\n",
      "idx =46, col =2010s\n",
      "i= 1980s\n",
      "i= 1990s\n",
      "i= 2000s\n",
      "i= 2010s\n",
      "nombre film : 1\n",
      "i= 2020s\n",
      "i= before 1970\n",
      "Brendon Eggertsen 4 2010s\n",
      "idx =47, col =2010s\n",
      "i= 1980s\n",
      "i= 1990s\n",
      "i= 2000s\n",
      "i= 2010s\n",
      "nombre film : 1\n",
      "i= 2020s\n",
      "i= before 1970\n",
      "Brendon Eggertsen 4 2010s\n",
      "idx =48, col =2010s\n",
      "i= 1980s\n",
      "i= 1990s\n",
      "i= 2000s\n",
      "i= 2010s\n",
      "nombre film : 1\n",
      "i= 2020s\n",
      "i= before 1970\n",
      "Brendon Eggertsen 4 2010s\n",
      "idx =49, col =2010s\n",
      "i= 1980s\n",
      "i= 1990s\n",
      "i= 2000s\n",
      "i= 2010s\n",
      "nombre film : 1\n",
      "i= 2020s\n",
      "i= before 1970\n",
      "Brendon Eggertsen 4 2010s\n",
      "idx =50, col =2010s\n",
      "i= 1980s\n",
      "i= 1990s\n",
      "i= 2000s\n",
      "i= 2010s\n",
      "nombre film : 1\n",
      "i= 2020s\n",
      "i= before 1970\n",
      "Brendon Eggertsen 4 2010s\n",
      "idx =51, col =2010s\n",
      "i= 1980s\n",
      "i= 1990s\n",
      "i= 2000s\n",
      "i= 2010s\n",
      "nombre film : 1\n",
      "i= 2020s\n",
      "i= before 1970\n",
      "Brendon Eggertsen 4 2010s\n",
      "idx =52, col =2010s\n",
      "i= 1980s\n",
      "i= 1990s\n",
      "i= 2000s\n",
      "i= 2010s\n",
      "nombre film : 1\n",
      "i= 2020s\n",
      "i= before 1970\n",
      "Brendon Eggertsen 4 2010s\n",
      "idx =53, col =2010s\n",
      "i= 1980s\n",
      "i= 1990s\n",
      "i= 2000s\n",
      "i= 2010s\n",
      "nombre film : 1\n",
      "i= 2020s\n",
      "i= before 1970\n",
      "Brendon Eggertsen 4 2010s\n",
      "idx =54, col =2010s\n",
      "i= 1980s\n",
      "i= 1990s\n",
      "i= 2000s\n",
      "i= 2010s\n",
      "nombre film : 1\n",
      "i= 2020s\n",
      "i= before 1970\n",
      "Brendon Eggertsen 4 2010s\n",
      "idx =55, col =2010s\n",
      "i= 1980s\n",
      "i= 1990s\n",
      "i= 2000s\n",
      "i= 2010s\n",
      "nombre film : 1\n",
      "i= 2020s\n",
      "i= before 1970\n",
      "Brendon Eggertsen 4 2010s\n",
      "idx =56, col =2010s\n",
      "i= 1980s\n",
      "i= 1990s\n",
      "i= 2000s\n",
      "i= 2010s\n",
      "nombre film : 1\n",
      "i= 2020s\n",
      "i= before 1970\n",
      "Brendon Eggertsen 4 2010s\n",
      "idx =57, col =2010s\n",
      "i= 1980s\n",
      "i= 1990s\n",
      "i= 2000s\n",
      "i= 2010s\n",
      "nombre film : 1\n",
      "i= 2020s\n",
      "i= before 1970\n",
      "Brendon Eggertsen 4 2010s\n",
      "idx =58, col =2010s\n",
      "i= 1980s\n",
      "i= 1990s\n",
      "i= 2000s\n",
      "i= 2010s\n",
      "nombre film : 1\n",
      "i= 2020s\n",
      "i= before 1970\n",
      "Brendon Eggertsen 4 2010s\n",
      "idx =59, col =2010s\n",
      "i= 1980s\n",
      "i= 1990s\n",
      "i= 2000s\n",
      "i= 2010s\n",
      "nombre film : 1\n",
      "i= 2020s\n",
      "i= before 1970\n",
      "Brendon Eggertsen 4 2010s\n",
      "idx =60, col =2010s\n",
      "i= 1980s\n",
      "i= 1990s\n",
      "i= 2000s\n",
      "i= 2010s\n",
      "nombre film : 1\n",
      "i= 2020s\n",
      "i= before 1970\n",
      "Brendon Eggertsen 4 2010s\n",
      "idx =61, col =2010s\n",
      "i= 1980s\n",
      "i= 1990s\n",
      "i= 2000s\n",
      "i= 2010s\n",
      "nombre film : 1\n",
      "i= 2020s\n",
      "i= before 1970\n",
      "Brendon Eggertsen 4 2010s\n",
      "idx =62, col =2010s\n",
      "i= 1980s\n",
      "i= 1990s\n",
      "i= 2000s\n",
      "i= 2010s\n",
      "nombre film : 1\n",
      "i= 2020s\n",
      "i= before 1970\n",
      "Brendon Eggertsen 4 2010s\n",
      "idx =63, col =2010s\n",
      "i= 1980s\n",
      "i= 1990s\n",
      "i= 2000s\n",
      "i= 2010s\n",
      "nombre film : 1\n",
      "i= 2020s\n",
      "i= before 1970\n",
      "Brendon Eggertsen 4 2010s\n",
      "idx =64, col =2010s\n",
      "i= 1980s\n",
      "i= 1990s\n",
      "i= 2000s\n",
      "i= 2010s\n",
      "nombre film : 1\n",
      "i= 2020s\n",
      "i= before 1970\n",
      "Brendon Eggertsen 4 2010s\n",
      "idx =65, col =2010s\n",
      "i= 1980s\n",
      "i= 1990s\n",
      "i= 2000s\n",
      "i= 2010s\n",
      "nombre film : 1\n",
      "i= 2020s\n",
      "i= before 1970\n",
      "Brendon Eggertsen 4 2010s\n",
      "idx =66, col =2010s\n",
      "i= 1980s\n",
      "i= 1990s\n",
      "i= 2000s\n",
      "i= 2010s\n",
      "nombre film : 1\n",
      "i= 2020s\n",
      "i= before 1970\n",
      "Brendon Eggertsen 4 2010s\n",
      "idx =67, col =2010s\n",
      "i= 1980s\n",
      "i= 1990s\n",
      "i= 2000s\n",
      "i= 2010s\n",
      "nombre film : 1\n",
      "i= 2020s\n",
      "i= before 1970\n",
      "Brendon Eggertsen 4 2010s\n",
      "idx =68, col =2010s\n",
      "i= 1980s\n",
      "i= 1990s\n",
      "i= 2000s\n",
      "i= 2010s\n",
      "nombre film : 1\n",
      "i= 2020s\n",
      "i= before 1970\n",
      "Brendon Eggertsen 4 2010s\n",
      "idx =69, col =2010s\n",
      "i= 1980s\n",
      "i= 1990s\n",
      "i= 2000s\n",
      "i= 2010s\n",
      "nombre film : 1\n",
      "i= 2020s\n",
      "i= before 1970\n",
      "Brendon Eggertsen 4 2010s\n",
      "idx =70, col =2010s\n",
      "i= 1980s\n",
      "i= 1990s\n",
      "i= 2000s\n",
      "i= 2010s\n",
      "nombre film : 1\n",
      "i= 2020s\n",
      "i= before 1970\n",
      "Brendon Eggertsen 4 2010s\n",
      "idx =71, col =2010s\n",
      "i= 1980s\n",
      "i= 1990s\n",
      "i= 2000s\n",
      "i= 2010s\n",
      "nombre film : 1\n",
      "i= 2020s\n",
      "i= before 1970\n",
      "Brendon Eggertsen 4 2010s\n",
      "idx =72, col =2010s\n",
      "i= 1980s\n",
      "i= 1990s\n",
      "i= 2000s\n",
      "i= 2010s\n",
      "nombre film : 1\n",
      "i= 2020s\n",
      "i= before 1970\n",
      "Brendon Eggertsen 4 2010s\n",
      "idx =73, col =2010s\n",
      "i= 1980s\n",
      "i= 1990s\n",
      "i= 2000s\n",
      "i= 2010s\n",
      "nombre film : 1\n",
      "i= 2020s\n",
      "i= before 1970\n",
      "Brendon Eggertsen 4 2010s\n",
      "idx =74, col =2010s\n",
      "i= 1980s\n",
      "i= 1990s\n",
      "i= 2000s\n",
      "i= 2010s\n",
      "nombre film : 1\n",
      "i= 2020s\n",
      "i= before 1970\n",
      "Brendon Eggertsen 4 2010s\n",
      "idx =75, col =2010s\n",
      "i= 1980s\n",
      "i= 1990s\n",
      "i= 2000s\n",
      "i= 2010s\n",
      "nombre film : 1\n",
      "i= 2020s\n",
      "i= before 1970\n",
      "Brendon Eggertsen 4 2010s\n",
      "idx =76, col =2010s\n",
      "i= 1980s\n",
      "i= 1990s\n",
      "i= 2000s\n",
      "i= 2010s\n",
      "nombre film : 1\n",
      "i= 2020s\n",
      "i= before 1970\n",
      "Brendon Eggertsen 4 2010s\n",
      "idx =77, col =2010s\n",
      "i= 1980s\n",
      "i= 1990s\n",
      "i= 2000s\n",
      "i= 2010s\n",
      "nombre film : 1\n",
      "i= 2020s\n",
      "i= before 1970\n",
      "Brendon Eggertsen 4 2010s\n",
      "idx =78, col =2020s\n",
      "i= 1980s\n",
      "i= 1990s\n",
      "i= 2000s\n",
      "i= 2010s\n",
      "i= 2020s\n",
      "nombre film : 4\n",
      "i= before 1970\n",
      "Brendon Eggertsen 4 2020s\n",
      "idx =79, col =2020s\n",
      "i= 1980s\n",
      "i= 1990s\n",
      "i= 2000s\n",
      "i= 2010s\n",
      "i= 2020s\n",
      "nombre film : 3\n",
      "i= before 1970\n",
      "Brendon Eggertsen 4 2020s\n",
      "idx =80, col =2020s\n",
      "i= 1980s\n",
      "i= 1990s\n",
      "i= 2000s\n",
      "i= 2010s\n",
      "i= 2020s\n",
      "nombre film : 3\n",
      "i= before 1970\n",
      "Brendon Eggertsen 4 2020s\n",
      "idx =81, col =2020s\n",
      "i= 1980s\n",
      "i= 1990s\n",
      "i= 2000s\n",
      "i= 2010s\n",
      "i= 2020s\n",
      "nombre film : 3\n",
      "i= before 1970\n",
      "Brendon Eggertsen 4 2020s\n",
      "idx =82, col =2020s\n",
      "i= 1980s\n",
      "i= 1990s\n",
      "i= 2000s\n",
      "i= 2010s\n",
      "i= 2020s\n",
      "nombre film : 3\n",
      "i= before 1970\n",
      "Brendon Eggertsen 4 2020s\n",
      "idx =83, col =2020s\n",
      "i= 1980s\n",
      "i= 1990s\n",
      "i= 2000s\n",
      "i= 2010s\n",
      "i= 2020s\n",
      "nombre film : 2\n",
      "i= before 1970\n",
      "Brendon Eggertsen 4 2020s\n",
      "idx =84, col =2020s\n",
      "i= 1980s\n",
      "i= 1990s\n",
      "i= 2000s\n",
      "i= 2010s\n",
      "i= 2020s\n",
      "nombre film : 2\n",
      "i= before 1970\n",
      "Brendon Eggertsen 4 2020s\n",
      "idx =85, col =2020s\n",
      "i= 1980s\n",
      "i= 1990s\n",
      "i= 2000s\n",
      "i= 2010s\n",
      "i= 2020s\n",
      "nombre film : 2\n",
      "i= before 1970\n",
      "Brendon Eggertsen 4 2020s\n",
      "idx =86, col =2020s\n",
      "i= 1980s\n",
      "i= 1990s\n",
      "i= 2000s\n",
      "i= 2010s\n",
      "i= 2020s\n",
      "nombre film : 2\n",
      "i= before 1970\n",
      "Brendon Eggertsen 4 2020s\n",
      "idx =87, col =2020s\n",
      "i= 1980s\n",
      "i= 1990s\n",
      "i= 2000s\n",
      "i= 2010s\n",
      "i= 2020s\n",
      "nombre film : 2\n",
      "i= before 1970\n",
      "Brendon Eggertsen 4 2020s\n",
      "idx =88, col =2020s\n",
      "i= 1980s\n",
      "i= 1990s\n",
      "i= 2000s\n",
      "i= 2010s\n",
      "i= 2020s\n",
      "nombre film : 2\n",
      "i= before 1970\n",
      "Brendon Eggertsen 4 2020s\n",
      "idx =89, col =2020s\n",
      "i= 1980s\n",
      "i= 1990s\n",
      "i= 2000s\n",
      "i= 2010s\n",
      "i= 2020s\n",
      "nombre film : 2\n",
      "i= before 1970\n",
      "Brendon Eggertsen 4 2020s\n",
      "idx =90, col =2020s\n",
      "i= 1980s\n",
      "i= 1990s\n",
      "i= 2000s\n",
      "i= 2010s\n",
      "i= 2020s\n",
      "nombre film : 2\n",
      "i= before 1970\n",
      "Brendon Eggertsen 4 2020s\n",
      "idx =91, col =2020s\n",
      "i= 1980s\n",
      "i= 1990s\n",
      "i= 2000s\n",
      "i= 2010s\n",
      "i= 2020s\n",
      "nombre film : 2\n",
      "i= before 1970\n",
      "Brendon Eggertsen 4 2020s\n",
      "idx =92, col =2020s\n",
      "i= 1980s\n",
      "i= 1990s\n",
      "i= 2000s\n",
      "i= 2010s\n",
      "i= 2020s\n",
      "nombre film : 2\n",
      "i= before 1970\n",
      "Brendon Eggertsen 4 2020s\n",
      "idx =93, col =2020s\n",
      "i= 1980s\n",
      "i= 1990s\n",
      "i= 2000s\n",
      "i= 2010s\n",
      "i= 2020s\n",
      "nombre film : 2\n",
      "i= before 1970\n",
      "Brendon Eggertsen 4 2020s\n",
      "idx =94, col =2020s\n",
      "i= 1980s\n",
      "i= 1990s\n",
      "i= 2000s\n",
      "i= 2010s\n",
      "i= 2020s\n",
      "nombre film : 2\n",
      "i= before 1970\n",
      "Brendon Eggertsen 4 2020s\n",
      "idx =95, col =2020s\n",
      "i= 1980s\n",
      "i= 1990s\n",
      "i= 2000s\n",
      "i= 2010s\n",
      "i= 2020s\n",
      "nombre film : 1\n",
      "i= before 1970\n",
      "Brendon Eggertsen 4 2020s\n",
      "idx =96, col =2020s\n",
      "i= 1980s\n",
      "i= 1990s\n",
      "i= 2000s\n",
      "i= 2010s\n",
      "i= 2020s\n",
      "nombre film : 1\n",
      "i= before 1970\n",
      "Brendon Eggertsen 4 2020s\n",
      "idx =97, col =2020s\n",
      "i= 1980s\n",
      "i= 1990s\n",
      "i= 2000s\n",
      "i= 2010s\n",
      "i= 2020s\n",
      "nombre film : 1\n",
      "i= before 1970\n",
      "Brendon Eggertsen 4 2020s\n",
      "idx =98, col =2020s\n",
      "i= 1980s\n",
      "i= 1990s\n",
      "i= 2000s\n",
      "i= 2010s\n",
      "i= 2020s\n",
      "nombre film : 1\n",
      "i= before 1970\n",
      "Brendon Eggertsen 4 2020s\n",
      "idx =99, col =2020s\n",
      "i= 1980s\n",
      "i= 1990s\n",
      "i= 2000s\n",
      "i= 2010s\n",
      "i= 2020s\n",
      "nombre film : 1\n",
      "i= before 1970\n",
      "Brendon Eggertsen 4 2020s\n",
      "idx =100, col =2020s\n",
      "i= 1980s\n",
      "i= 1990s\n",
      "i= 2000s\n",
      "i= 2010s\n",
      "i= 2020s\n",
      "nombre film : 1\n",
      "i= before 1970\n",
      "Brendon Eggertsen 4 2020s\n",
      "idx =101, col =2020s\n",
      "i= 1980s\n",
      "i= 1990s\n",
      "i= 2000s\n",
      "i= 2010s\n",
      "i= 2020s\n",
      "nombre film : 1\n",
      "i= before 1970\n",
      "Brendon Eggertsen 4 2020s\n",
      "idx =102, col =2020s\n",
      "i= 1980s\n",
      "i= 1990s\n",
      "i= 2000s\n",
      "i= 2010s\n",
      "i= 2020s\n",
      "nombre film : 1\n",
      "i= before 1970\n",
      "Brendon Eggertsen 4 2020s\n",
      "idx =103, col =2020s\n",
      "i= 1980s\n",
      "i= 1990s\n",
      "i= 2000s\n",
      "i= 2010s\n",
      "i= 2020s\n",
      "nombre film : 1\n",
      "i= before 1970\n",
      "Brendon Eggertsen 4 2020s\n",
      "idx =104, col =2020s\n",
      "i= 1980s\n",
      "i= 1990s\n",
      "i= 2000s\n",
      "i= 2010s\n",
      "i= 2020s\n",
      "nombre film : 1\n",
      "i= before 1970\n",
      "Brendon Eggertsen 4 2020s\n",
      "idx =105, col =2020s\n",
      "i= 1980s\n",
      "i= 1990s\n",
      "i= 2000s\n",
      "i= 2010s\n",
      "i= 2020s\n",
      "nombre film : 1\n",
      "i= before 1970\n",
      "Brendon Eggertsen 4 2020s\n",
      "idx =106, col =2020s\n",
      "i= 1980s\n",
      "i= 1990s\n",
      "i= 2000s\n",
      "i= 2010s\n",
      "i= 2020s\n",
      "nombre film : 1\n",
      "i= before 1970\n",
      "Brendon Eggertsen 4 2020s\n",
      "idx =107, col =2020s\n",
      "i= 1980s\n",
      "i= 1990s\n",
      "i= 2000s\n",
      "i= 2010s\n",
      "i= 2020s\n",
      "nombre film : 1\n",
      "i= before 1970\n",
      "Brendon Eggertsen 4 2020s\n",
      "idx =108, col =2020s\n",
      "i= 1980s\n",
      "i= 1990s\n",
      "i= 2000s\n",
      "i= 2010s\n",
      "i= 2020s\n",
      "nombre film : 1\n",
      "i= before 1970\n",
      "Brendon Eggertsen 4 2020s\n",
      "idx =109, col =2020s\n",
      "i= 1980s\n",
      "i= 1990s\n",
      "i= 2000s\n",
      "i= 2010s\n",
      "i= 2020s\n",
      "nombre film : 1\n",
      "i= before 1970\n",
      "Brendon Eggertsen 4 2020s\n",
      "idx =110, col =2020s\n",
      "i= 1980s\n",
      "i= 1990s\n",
      "i= 2000s\n",
      "i= 2010s\n",
      "i= 2020s\n",
      "nombre film : 1\n",
      "i= before 1970\n",
      "Brendon Eggertsen 4 2020s\n",
      "idx =111, col =2020s\n",
      "i= 1980s\n",
      "i= 1990s\n",
      "i= 2000s\n",
      "i= 2010s\n",
      "i= 2020s\n",
      "nombre film : 1\n",
      "i= before 1970\n",
      "Brendon Eggertsen 4 2020s\n",
      "idx =112, col =2020s\n",
      "i= 1980s\n",
      "i= 1990s\n",
      "i= 2000s\n",
      "i= 2010s\n",
      "i= 2020s\n",
      "nombre film : 1\n",
      "i= before 1970\n",
      "Brendon Eggertsen 4 2020s\n",
      "idx =113, col =2020s\n",
      "i= 1980s\n",
      "i= 1990s\n",
      "i= 2000s\n",
      "i= 2010s\n",
      "i= 2020s\n",
      "nombre film : 1\n",
      "i= before 1970\n",
      "Brendon Eggertsen 4 2020s\n",
      "idx =114, col =2020s\n",
      "i= 1980s\n",
      "i= 1990s\n",
      "i= 2000s\n",
      "i= 2010s\n",
      "i= 2020s\n",
      "nombre film : 1\n",
      "i= before 1970\n",
      "Brendon Eggertsen 4 2020s\n",
      "idx =115, col =2020s\n",
      "i= 1980s\n",
      "i= 1990s\n",
      "i= 2000s\n",
      "i= 2010s\n",
      "i= 2020s\n",
      "nombre film : 1\n",
      "i= before 1970\n",
      "Brendon Eggertsen 4 2020s\n",
      "idx =116, col =2020s\n",
      "i= 1980s\n",
      "i= 1990s\n",
      "i= 2000s\n",
      "i= 2010s\n",
      "i= 2020s\n",
      "nombre film : 1\n",
      "i= before 1970\n",
      "Brendon Eggertsen 4 2020s\n",
      "idx =117, col =2020s\n",
      "i= 1980s\n",
      "i= 1990s\n",
      "i= 2000s\n",
      "i= 2010s\n",
      "i= 2020s\n",
      "nombre film : 1\n",
      "i= before 1970\n",
      "Brendon Eggertsen 4 2020s\n",
      "idx =118, col =2020s\n",
      "i= 1980s\n",
      "i= 1990s\n",
      "i= 2000s\n",
      "i= 2010s\n",
      "i= 2020s\n",
      "nombre film : 1\n",
      "i= before 1970\n",
      "Brendon Eggertsen 4 2020s\n",
      "idx =119, col =2020s\n",
      "i= 1980s\n",
      "i= 1990s\n",
      "i= 2000s\n",
      "i= 2010s\n",
      "i= 2020s\n",
      "nombre film : 1\n",
      "i= before 1970\n",
      "Brendon Eggertsen 4 2020s\n",
      "idx =120, col =2020s\n",
      "i= 1980s\n",
      "i= 1990s\n",
      "i= 2000s\n",
      "i= 2010s\n",
      "i= 2020s\n",
      "nombre film : 1\n",
      "i= before 1970\n",
      "Brendon Eggertsen 4 2020s\n",
      "idx =121, col =2020s\n",
      "i= 1980s\n",
      "i= 1990s\n",
      "i= 2000s\n",
      "i= 2010s\n",
      "i= 2020s\n",
      "nombre film : 1\n",
      "i= before 1970\n",
      "Brendon Eggertsen 4 2020s\n",
      "idx =122, col =2020s\n",
      "i= 1980s\n",
      "i= 1990s\n",
      "i= 2000s\n",
      "i= 2010s\n",
      "i= 2020s\n",
      "nombre film : 1\n",
      "i= before 1970\n",
      "Brendon Eggertsen 4 2020s\n",
      "idx =123, col =2020s\n",
      "i= 1980s\n",
      "i= 1990s\n",
      "i= 2000s\n",
      "i= 2010s\n",
      "i= 2020s\n",
      "nombre film : 1\n",
      "i= before 1970\n",
      "Brendon Eggertsen 4 2020s\n",
      "idx =124, col =2020s\n",
      "i= 1980s\n",
      "i= 1990s\n",
      "i= 2000s\n",
      "i= 2010s\n",
      "i= 2020s\n",
      "nombre film : 1\n",
      "i= before 1970\n",
      "Brendon Eggertsen 4 2020s\n",
      "idx =125, col =2020s\n",
      "i= 1980s\n",
      "i= 1990s\n",
      "i= 2000s\n",
      "i= 2010s\n",
      "i= 2020s\n",
      "nombre film : 1\n",
      "i= before 1970\n",
      "Brendon Eggertsen 4 2020s\n",
      "idx =126, col =2020s\n",
      "i= 1980s\n",
      "i= 1990s\n",
      "i= 2000s\n",
      "i= 2010s\n",
      "i= 2020s\n",
      "nombre film : 1\n",
      "i= before 1970\n",
      "Brendon Eggertsen 4 2020s\n",
      "idx =127, col =2020s\n",
      "i= 1980s\n",
      "i= 1990s\n",
      "i= 2000s\n",
      "i= 2010s\n",
      "i= 2020s\n",
      "nombre film : 1\n",
      "i= before 1970\n",
      "Brendon Eggertsen 4 2020s\n",
      "idx =128, col =2020s\n",
      "i= 1980s\n",
      "i= 1990s\n",
      "i= 2000s\n",
      "i= 2010s\n",
      "i= 2020s\n",
      "nombre film : 1\n",
      "i= before 1970\n",
      "Brendon Eggertsen 4 2020s\n",
      "idx =129, col =2020s\n",
      "i= 1980s\n",
      "i= 1990s\n",
      "i= 2000s\n",
      "i= 2010s\n",
      "i= 2020s\n",
      "nombre film : 1\n",
      "i= before 1970\n",
      "Brendon Eggertsen 4 2020s\n",
      "idx =130, col =2020s\n",
      "i= 1980s\n",
      "i= 1990s\n",
      "i= 2000s\n",
      "i= 2010s\n",
      "i= 2020s\n",
      "nombre film : 1\n",
      "i= before 1970\n",
      "Brendon Eggertsen 4 2020s\n",
      "idx =131, col =2020s\n",
      "i= 1980s\n",
      "i= 1990s\n",
      "i= 2000s\n",
      "i= 2010s\n",
      "i= 2020s\n",
      "nombre film : 1\n",
      "i= before 1970\n",
      "Brendon Eggertsen 4 2020s\n",
      "idx =132, col =2020s\n",
      "i= 1980s\n",
      "i= 1990s\n",
      "i= 2000s\n",
      "i= 2010s\n",
      "i= 2020s\n",
      "nombre film : 1\n",
      "i= before 1970\n",
      "Brendon Eggertsen 4 2020s\n",
      "idx =133, col =2020s\n",
      "i= 1980s\n",
      "i= 1990s\n",
      "i= 2000s\n",
      "i= 2010s\n",
      "i= 2020s\n",
      "nombre film : 1\n",
      "i= before 1970\n",
      "Brendon Eggertsen 4 2020s\n",
      "idx =134, col =2020s\n",
      "i= 1980s\n",
      "i= 1990s\n",
      "i= 2000s\n",
      "i= 2010s\n",
      "i= 2020s\n",
      "nombre film : 1\n",
      "i= before 1970\n",
      "Brendon Eggertsen 4 2020s\n",
      "idx =135, col =2020s\n",
      "i= 1980s\n",
      "i= 1990s\n",
      "i= 2000s\n",
      "i= 2010s\n",
      "i= 2020s\n",
      "nombre film : 1\n",
      "i= before 1970\n",
      "Brendon Eggertsen 4 2020s\n",
      "idx =136, col =2020s\n",
      "i= 1980s\n",
      "i= 1990s\n",
      "i= 2000s\n",
      "i= 2010s\n",
      "i= 2020s\n",
      "nombre film : 1\n",
      "i= before 1970\n",
      "Brendon Eggertsen 4 2020s\n",
      "idx =137, col =2020s\n",
      "i= 1980s\n",
      "i= 1990s\n",
      "i= 2000s\n",
      "i= 2010s\n",
      "i= 2020s\n",
      "nombre film : 1\n",
      "i= before 1970\n",
      "Brendon Eggertsen 4 2020s\n",
      "idx =138, col =2020s\n",
      "i= 1980s\n",
      "i= 1990s\n",
      "i= 2000s\n",
      "i= 2010s\n",
      "i= 2020s\n",
      "nombre film : 1\n",
      "i= before 1970\n",
      "Brendon Eggertsen 4 2020s\n",
      "idx =139, col =2020s\n",
      "i= 1980s\n",
      "i= 1990s\n",
      "i= 2000s\n",
      "i= 2010s\n",
      "i= 2020s\n",
      "nombre film : 1\n",
      "i= before 1970\n",
      "Brendon Eggertsen 4 2020s\n",
      "idx =140, col =2020s\n",
      "i= 1980s\n",
      "i= 1990s\n",
      "i= 2000s\n",
      "i= 2010s\n",
      "i= 2020s\n",
      "nombre film : 1\n",
      "i= before 1970\n",
      "Brendon Eggertsen 4 2020s\n",
      "idx =141, col =2020s\n",
      "i= 1980s\n",
      "i= 1990s\n",
      "i= 2000s\n",
      "i= 2010s\n",
      "i= 2020s\n",
      "nombre film : 1\n",
      "i= before 1970\n",
      "Brendon Eggertsen 4 2020s\n",
      "idx =142, col =2020s\n",
      "i= 1980s\n",
      "i= 1990s\n",
      "i= 2000s\n",
      "i= 2010s\n",
      "i= 2020s\n",
      "nombre film : 1\n",
      "i= before 1970\n",
      "Brendon Eggertsen 4 2020s\n",
      "idx =143, col =2020s\n",
      "i= 1980s\n",
      "i= 1990s\n",
      "i= 2000s\n",
      "i= 2010s\n",
      "i= 2020s\n",
      "nombre film : 1\n",
      "i= before 1970\n",
      "Brendon Eggertsen 4 2020s\n",
      "idx =144, col =2020s\n",
      "i= 1980s\n",
      "i= 1990s\n",
      "i= 2000s\n",
      "i= 2010s\n",
      "i= 2020s\n",
      "nombre film : 1\n",
      "i= before 1970\n",
      "Brendon Eggertsen 4 2020s\n",
      "idx =145, col =2020s\n",
      "i= 1980s\n",
      "i= 1990s\n",
      "i= 2000s\n",
      "i= 2010s\n",
      "i= 2020s\n",
      "nombre film : 1\n",
      "i= before 1970\n",
      "Brendon Eggertsen 4 2020s\n",
      "idx =146, col =2020s\n",
      "i= 1980s\n",
      "i= 1990s\n",
      "i= 2000s\n",
      "i= 2010s\n",
      "i= 2020s\n",
      "nombre film : 1\n",
      "i= before 1970\n",
      "Brendon Eggertsen 4 2020s\n",
      "idx =147, col =2020s\n",
      "i= 1980s\n",
      "i= 1990s\n",
      "i= 2000s\n",
      "i= 2010s\n",
      "i= 2020s\n",
      "nombre film : 1\n",
      "i= before 1970\n",
      "Brendon Eggertsen 4 2020s\n",
      "idx =148, col =2020s\n",
      "i= 1980s\n",
      "i= 1990s\n",
      "i= 2000s\n",
      "i= 2010s\n",
      "i= 2020s\n",
      "nombre film : 1\n",
      "i= before 1970\n",
      "Brendon Eggertsen 4 2020s\n",
      "idx =149, col =2020s\n",
      "i= 1980s\n",
      "i= 1990s\n",
      "i= 2000s\n",
      "i= 2010s\n",
      "i= 2020s\n",
      "nombre film : 1\n",
      "i= before 1970\n",
      "Brendon Eggertsen 4 2020s\n",
      "idx =150, col =2020s\n",
      "i= 1980s\n",
      "i= 1990s\n",
      "i= 2000s\n",
      "i= 2010s\n",
      "i= 2020s\n",
      "nombre film : 1\n",
      "i= before 1970\n",
      "Brendon Eggertsen 4 2020s\n",
      "idx =151, col =2020s\n",
      "i= 1980s\n",
      "i= 1990s\n",
      "i= 2000s\n",
      "i= 2010s\n",
      "i= 2020s\n",
      "nombre film : 1\n",
      "i= before 1970\n",
      "Brendon Eggertsen 4 2020s\n",
      "idx =152, col =2020s\n",
      "i= 1980s\n",
      "i= 1990s\n",
      "i= 2000s\n",
      "i= 2010s\n",
      "i= 2020s\n",
      "nombre film : 1\n",
      "i= before 1970\n",
      "Brendon Eggertsen 4 2020s\n",
      "idx =153, col =2020s\n",
      "i= 1980s\n",
      "i= 1990s\n",
      "i= 2000s\n",
      "i= 2010s\n",
      "i= 2020s\n",
      "nombre film : 1\n",
      "i= before 1970\n",
      "Brendon Eggertsen 4 2020s\n",
      "idx =154, col =2020s\n",
      "i= 1980s\n",
      "i= 1990s\n",
      "i= 2000s\n",
      "i= 2010s\n",
      "i= 2020s\n",
      "nombre film : 1\n",
      "i= before 1970\n",
      "Brendon Eggertsen 4 2020s\n",
      "idx =155, col =2020s\n",
      "i= 1980s\n",
      "i= 1990s\n",
      "i= 2000s\n",
      "i= 2010s\n",
      "i= 2020s\n",
      "nombre film : 1\n",
      "i= before 1970\n",
      "Brendon Eggertsen 4 2020s\n",
      "idx =156, col =2020s\n",
      "i= 1980s\n",
      "i= 1990s\n",
      "i= 2000s\n",
      "i= 2010s\n",
      "i= 2020s\n",
      "nombre film : 1\n",
      "i= before 1970\n",
      "Brendon Eggertsen 4 2020s\n",
      "idx =157, col =2020s\n",
      "i= 1980s\n",
      "i= 1990s\n",
      "i= 2000s\n",
      "i= 2010s\n",
      "i= 2020s\n",
      "nombre film : 1\n",
      "i= before 1970\n",
      "Brendon Eggertsen 4 2020s\n",
      "idx =158, col =2020s\n",
      "i= 1980s\n",
      "i= 1990s\n",
      "i= 2000s\n",
      "i= 2010s\n",
      "i= 2020s\n",
      "nombre film : 1\n",
      "i= before 1970\n",
      "Brendon Eggertsen 4 2020s\n",
      "idx =159, col =2020s\n",
      "i= 1980s\n",
      "i= 1990s\n",
      "i= 2000s\n",
      "i= 2010s\n",
      "i= 2020s\n",
      "nombre film : 1\n",
      "i= before 1970\n",
      "Brendon Eggertsen 4 2020s\n",
      "idx =160, col =2020s\n",
      "i= 1980s\n",
      "i= 1990s\n",
      "i= 2000s\n",
      "i= 2010s\n",
      "i= 2020s\n",
      "nombre film : 1\n",
      "i= before 1970\n",
      "Brendon Eggertsen 4 2020s\n",
      "idx =161, col =2020s\n",
      "i= 1980s\n",
      "i= 1990s\n",
      "i= 2000s\n",
      "i= 2010s\n",
      "i= 2020s\n",
      "nombre film : 1\n",
      "i= before 1970\n",
      "Brendon Eggertsen 4 2020s\n",
      "idx =162, col =2020s\n",
      "i= 1980s\n",
      "i= 1990s\n",
      "i= 2000s\n",
      "i= 2010s\n",
      "i= 2020s\n",
      "nombre film : 1\n",
      "i= before 1970\n",
      "Brendon Eggertsen 4 2020s\n",
      "idx =163, col =2020s\n",
      "i= 1980s\n",
      "i= 1990s\n",
      "i= 2000s\n",
      "i= 2010s\n",
      "i= 2020s\n",
      "nombre film : 1\n",
      "i= before 1970\n",
      "Brendon Eggertsen 4 2020s\n",
      "idx =164, col =2020s\n",
      "i= 1980s\n",
      "i= 1990s\n",
      "i= 2000s\n",
      "i= 2010s\n",
      "i= 2020s\n",
      "nombre film : 1\n",
      "i= before 1970\n",
      "Brendon Eggertsen 4 2020s\n",
      "idx =165, col =2020s\n",
      "i= 1980s\n",
      "i= 1990s\n",
      "i= 2000s\n",
      "i= 2010s\n",
      "i= 2020s\n",
      "nombre film : 1\n",
      "i= before 1970\n",
      "Brendon Eggertsen 4 2020s\n",
      "idx =166, col =2020s\n",
      "i= 1980s\n",
      "i= 1990s\n",
      "i= 2000s\n",
      "i= 2010s\n",
      "i= 2020s\n",
      "nombre film : 1\n",
      "i= before 1970\n",
      "Brendon Eggertsen 4 2020s\n",
      "idx =167, col =2020s\n",
      "i= 1980s\n",
      "i= 1990s\n",
      "i= 2000s\n",
      "i= 2010s\n",
      "i= 2020s\n",
      "nombre film : 1\n",
      "i= before 1970\n",
      "Brendon Eggertsen 4 2020s\n",
      "idx =168, col =2020s\n",
      "i= 1980s\n",
      "i= 1990s\n",
      "i= 2000s\n",
      "i= 2010s\n",
      "i= 2020s\n",
      "nombre film : 1\n",
      "i= before 1970\n",
      "Brendon Eggertsen 4 2020s\n",
      "idx =169, col =2020s\n",
      "i= 1980s\n",
      "i= 1990s\n",
      "i= 2000s\n",
      "i= 2010s\n",
      "i= 2020s\n",
      "nombre film : 1\n",
      "i= before 1970\n",
      "Brendon Eggertsen 4 2020s\n",
      "idx =170, col =2020s\n",
      "i= 1980s\n",
      "i= 1990s\n",
      "i= 2000s\n",
      "i= 2010s\n",
      "i= 2020s\n",
      "nombre film : 1\n",
      "i= before 1970\n",
      "Brendon Eggertsen 4 2020s\n",
      "idx =171, col =2020s\n",
      "i= 1980s\n",
      "i= 1990s\n",
      "i= 2000s\n",
      "i= 2010s\n",
      "i= 2020s\n",
      "nombre film : 1\n",
      "i= before 1970\n",
      "Brendon Eggertsen 4 2020s\n",
      "idx =172, col =2020s\n",
      "i= 1980s\n",
      "i= 1990s\n",
      "i= 2000s\n",
      "i= 2010s\n",
      "i= 2020s\n",
      "nombre film : 1\n",
      "i= before 1970\n",
      "Brendon Eggertsen 4 2020s\n",
      "idx =173, col =2020s\n",
      "i= 1980s\n",
      "i= 1990s\n",
      "i= 2000s\n",
      "i= 2010s\n",
      "i= 2020s\n",
      "nombre film : 1\n",
      "i= before 1970\n",
      "Brendon Eggertsen 4 2020s\n",
      "idx =174, col =2020s\n",
      "i= 1980s\n",
      "i= 1990s\n",
      "i= 2000s\n",
      "i= 2010s\n",
      "i= 2020s\n",
      "nombre film : 1\n",
      "i= before 1970\n",
      "Brendon Eggertsen 4 2020s\n",
      "idx =175, col =2020s\n",
      "i= 1980s\n",
      "i= 1990s\n",
      "i= 2000s\n",
      "i= 2010s\n",
      "i= 2020s\n",
      "nombre film : 1\n",
      "i= before 1970\n",
      "Brendon Eggertsen 4 2020s\n",
      "idx =176, col =2020s\n",
      "i= 1980s\n",
      "i= 1990s\n",
      "i= 2000s\n",
      "i= 2010s\n",
      "i= 2020s\n",
      "nombre film : 1\n",
      "i= before 1970\n",
      "Brendon Eggertsen 4 2020s\n",
      "idx =177, col =2020s\n",
      "i= 1980s\n",
      "i= 1990s\n",
      "i= 2000s\n",
      "i= 2010s\n",
      "i= 2020s\n",
      "nombre film : 1\n",
      "i= before 1970\n",
      "Brendon Eggertsen 4 2020s\n",
      "idx =178, col =2020s\n",
      "i= 1980s\n",
      "i= 1990s\n",
      "i= 2000s\n",
      "i= 2010s\n",
      "i= 2020s\n",
      "nombre film : 1\n",
      "i= before 1970\n",
      "Brendon Eggertsen 4 2020s\n",
      "idx =179, col =2020s\n",
      "i= 1980s\n",
      "i= 1990s\n",
      "i= 2000s\n",
      "i= 2010s\n",
      "i= 2020s\n",
      "nombre film : 1\n",
      "i= before 1970\n",
      "Brendon Eggertsen 4 2020s\n",
      "idx =180, col =2020s\n",
      "i= 1980s\n",
      "i= 1990s\n",
      "i= 2000s\n",
      "i= 2010s\n",
      "i= 2020s\n",
      "nombre film : 1\n",
      "i= before 1970\n",
      "Brendon Eggertsen 4 2020s\n",
      "idx =181, col =2020s\n",
      "i= 1980s\n",
      "i= 1990s\n",
      "i= 2000s\n",
      "i= 2010s\n",
      "i= 2020s\n",
      "nombre film : 1\n",
      "i= before 1970\n",
      "Brendon Eggertsen 4 2020s\n",
      "idx =182, col =2020s\n",
      "i= 1980s\n",
      "i= 1990s\n",
      "i= 2000s\n",
      "i= 2010s\n",
      "i= 2020s\n",
      "nombre film : 1\n",
      "i= before 1970\n",
      "Brendon Eggertsen 4 2020s\n",
      "idx =183, col =2020s\n",
      "i= 1980s\n",
      "i= 1990s\n",
      "i= 2000s\n",
      "i= 2010s\n",
      "i= 2020s\n",
      "nombre film : 1\n",
      "i= before 1970\n",
      "Brendon Eggertsen 4 2020s\n",
      "idx =184, col =2020s\n",
      "i= 1980s\n",
      "i= 1990s\n",
      "i= 2000s\n",
      "i= 2010s\n",
      "i= 2020s\n",
      "nombre film : 1\n",
      "i= before 1970\n",
      "Brendon Eggertsen 4 2020s\n",
      "idx =185, col =2020s\n",
      "i= 1980s\n",
      "i= 1990s\n",
      "i= 2000s\n",
      "i= 2010s\n",
      "i= 2020s\n",
      "nombre film : 1\n",
      "i= before 1970\n",
      "Brendon Eggertsen 4 2020s\n",
      "idx =186, col =2020s\n",
      "i= 1980s\n",
      "i= 1990s\n",
      "i= 2000s\n",
      "i= 2010s\n",
      "i= 2020s\n",
      "nombre film : 1\n",
      "i= before 1970\n",
      "Brendon Eggertsen 4 2020s\n",
      "idx =187, col =2020s\n",
      "i= 1980s\n",
      "i= 1990s\n",
      "i= 2000s\n",
      "i= 2010s\n",
      "i= 2020s\n",
      "nombre film : 1\n",
      "i= before 1970\n",
      "Brendon Eggertsen 4 2020s\n",
      "idx =188, col =2020s\n",
      "i= 1980s\n",
      "i= 1990s\n",
      "i= 2000s\n",
      "i= 2010s\n",
      "i= 2020s\n",
      "nombre film : 1\n",
      "i= before 1970\n",
      "Brendon Eggertsen 4 2020s\n",
      "idx =189, col =2020s\n",
      "i= 1980s\n",
      "i= 1990s\n",
      "i= 2000s\n",
      "i= 2010s\n",
      "i= 2020s\n",
      "nombre film : 1\n",
      "i= before 1970\n",
      "Brendon Eggertsen 4 2020s\n",
      "idx =190, col =2020s\n",
      "i= 1980s\n",
      "i= 1990s\n",
      "i= 2000s\n",
      "i= 2010s\n",
      "i= 2020s\n",
      "nombre film : 1\n",
      "i= before 1970\n",
      "Brendon Eggertsen 4 2020s\n",
      "idx =191, col =2020s\n",
      "i= 1980s\n",
      "i= 1990s\n",
      "i= 2000s\n",
      "i= 2010s\n",
      "i= 2020s\n",
      "nombre film : 1\n",
      "i= before 1970\n",
      "Brendon Eggertsen 4 2020s\n",
      "idx =192, col =2020s\n",
      "i= 1980s\n",
      "i= 1990s\n",
      "i= 2000s\n",
      "i= 2010s\n",
      "i= 2020s\n",
      "nombre film : 1\n",
      "i= before 1970\n",
      "Brendon Eggertsen 4 2020s\n",
      "idx =193, col =2020s\n",
      "i= 1980s\n",
      "i= 1990s\n",
      "i= 2000s\n",
      "i= 2010s\n",
      "i= 2020s\n",
      "nombre film : 1\n",
      "i= before 1970\n",
      "Brendon Eggertsen 4 2020s\n",
      "idx =194, col =2020s\n",
      "i= 1980s\n",
      "i= 1990s\n",
      "i= 2000s\n",
      "i= 2010s\n",
      "i= 2020s\n",
      "nombre film : 1\n",
      "i= before 1970\n",
      "Brendon Eggertsen 4 2020s\n",
      "idx =195, col =2020s\n",
      "i= 1980s\n",
      "i= 1990s\n",
      "i= 2000s\n",
      "i= 2010s\n",
      "i= 2020s\n",
      "nombre film : 1\n",
      "i= before 1970\n",
      "Brendon Eggertsen 4 2020s\n",
      "idx =196, col =2020s\n",
      "i= 1980s\n",
      "i= 1990s\n",
      "i= 2000s\n",
      "i= 2010s\n",
      "i= 2020s\n",
      "nombre film : 1\n",
      "i= before 1970\n",
      "Brendon Eggertsen 4 2020s\n",
      "idx =197, col =2020s\n",
      "i= 1980s\n",
      "i= 1990s\n",
      "i= 2000s\n",
      "i= 2010s\n",
      "i= 2020s\n",
      "nombre film : 1\n",
      "i= before 1970\n",
      "Brendon Eggertsen 4 2020s\n",
      "idx =198, col =2020s\n",
      "i= 1980s\n",
      "i= 1990s\n",
      "i= 2000s\n",
      "i= 2010s\n",
      "i= 2020s\n",
      "nombre film : 1\n",
      "i= before 1970\n",
      "Brendon Eggertsen 4 2020s\n",
      "idx =199, col =2020s\n",
      "i= 1980s\n",
      "i= 1990s\n",
      "i= 2000s\n",
      "i= 2010s\n",
      "i= 2020s\n",
      "nombre film : 1\n",
      "i= before 1970\n",
      "Brendon Eggertsen 4 2020s\n",
      "idx =200, col =2020s\n",
      "i= 1980s\n",
      "i= 1990s\n",
      "i= 2000s\n",
      "i= 2010s\n",
      "i= 2020s\n",
      "nombre film : 1\n",
      "i= before 1970\n",
      "Brendon Eggertsen 4 2020s\n",
      "idx =201, col =2020s\n",
      "i= 1980s\n",
      "i= 1990s\n",
      "i= 2000s\n",
      "i= 2010s\n",
      "i= 2020s\n",
      "nombre film : 1\n",
      "i= before 1970\n",
      "Brendon Eggertsen 4 2020s\n",
      "idx =202, col =2020s\n",
      "i= 1980s\n",
      "i= 1990s\n",
      "i= 2000s\n",
      "i= 2010s\n",
      "i= 2020s\n",
      "nombre film : 1\n",
      "i= before 1970\n",
      "Brendon Eggertsen 4 2020s\n",
      "idx =203, col =2020s\n",
      "i= 1980s\n",
      "i= 1990s\n",
      "i= 2000s\n",
      "i= 2010s\n",
      "i= 2020s\n",
      "nombre film : 1\n",
      "i= before 1970\n",
      "Brendon Eggertsen 4 2020s\n",
      "idx =204, col =2020s\n",
      "i= 1980s\n",
      "i= 1990s\n",
      "i= 2000s\n",
      "i= 2010s\n",
      "i= 2020s\n",
      "nombre film : 1\n",
      "i= before 1970\n",
      "Brendon Eggertsen 4 2020s\n",
      "idx =205, col =2020s\n",
      "i= 1980s\n",
      "i= 1990s\n",
      "i= 2000s\n",
      "i= 2010s\n",
      "i= 2020s\n",
      "nombre film : 1\n",
      "i= before 1970\n",
      "Brendon Eggertsen 4 2020s\n",
      "idx =206, col =2020s\n",
      "i= 1980s\n",
      "i= 1990s\n",
      "i= 2000s\n",
      "i= 2010s\n",
      "i= 2020s\n",
      "nombre film : 1\n",
      "i= before 1970\n",
      "Brendon Eggertsen 4 2020s\n",
      "idx =207, col =2020s\n",
      "i= 1980s\n",
      "i= 1990s\n",
      "i= 2000s\n",
      "i= 2010s\n",
      "i= 2020s\n",
      "nombre film : 1\n",
      "i= before 1970\n",
      "Brendon Eggertsen 4 2020s\n",
      "idx =208, col =2020s\n",
      "i= 1980s\n",
      "i= 1990s\n",
      "i= 2000s\n",
      "i= 2010s\n",
      "i= 2020s\n",
      "nombre film : 1\n",
      "i= before 1970\n",
      "Brendon Eggertsen 4 2020s\n",
      "idx =209, col =2020s\n",
      "i= 1980s\n",
      "i= 1990s\n",
      "i= 2000s\n",
      "i= 2010s\n",
      "i= 2020s\n",
      "nombre film : 1\n",
      "i= before 1970\n",
      "Brendon Eggertsen 4 2020s\n",
      "idx =210, col =2020s\n",
      "i= 1980s\n",
      "i= 1990s\n",
      "i= 2000s\n",
      "i= 2010s\n",
      "i= 2020s\n",
      "nombre film : 1\n",
      "i= before 1970\n",
      "Brendon Eggertsen 4 2020s\n",
      "idx =211, col =2020s\n",
      "i= 1980s\n",
      "i= 1990s\n",
      "i= 2000s\n",
      "i= 2010s\n",
      "i= 2020s\n",
      "nombre film : 1\n",
      "i= before 1970\n",
      "Brendon Eggertsen 4 2020s\n",
      "idx =212, col =2020s\n",
      "i= 1980s\n",
      "i= 1990s\n",
      "i= 2000s\n",
      "i= 2010s\n",
      "i= 2020s\n",
      "nombre film : 1\n",
      "i= before 1970\n",
      "Brendon Eggertsen 4 2020s\n",
      "idx =213, col =2020s\n",
      "i= 1980s\n",
      "i= 1990s\n",
      "i= 2000s\n",
      "i= 2010s\n",
      "i= 2020s\n",
      "nombre film : 1\n",
      "i= before 1970\n",
      "Brendon Eggertsen 4 2020s\n",
      "idx =214, col =2020s\n",
      "i= 1980s\n",
      "i= 1990s\n",
      "i= 2000s\n",
      "i= 2010s\n",
      "i= 2020s\n",
      "nombre film : 1\n",
      "i= before 1970\n",
      "Brendon Eggertsen 4 2020s\n",
      "idx =215, col =2020s\n",
      "i= 1980s\n",
      "i= 1990s\n",
      "i= 2000s\n",
      "i= 2010s\n",
      "i= 2020s\n",
      "nombre film : 1\n",
      "i= before 1970\n",
      "Brendon Eggertsen 4 2020s\n",
      "idx =216, col =2020s\n",
      "i= 1980s\n",
      "i= 1990s\n",
      "i= 2000s\n",
      "i= 2010s\n",
      "i= 2020s\n",
      "nombre film : 1\n",
      "i= before 1970\n",
      "Brendon Eggertsen 4 2020s\n",
      "idx =217, col =2020s\n",
      "i= 1980s\n",
      "i= 1990s\n",
      "i= 2000s\n",
      "i= 2010s\n",
      "i= 2020s\n",
      "nombre film : 1\n",
      "i= before 1970\n",
      "Brendon Eggertsen 4 2020s\n",
      "idx =218, col =2020s\n",
      "i= 1980s\n",
      "i= 1990s\n",
      "i= 2000s\n",
      "i= 2010s\n",
      "i= 2020s\n",
      "nombre film : 1\n",
      "i= before 1970\n",
      "Brendon Eggertsen 4 2020s\n",
      "idx =219, col =2020s\n",
      "i= 1980s\n",
      "i= 1990s\n",
      "i= 2000s\n",
      "i= 2010s\n",
      "i= 2020s\n",
      "nombre film : 1\n",
      "i= before 1970\n",
      "Brendon Eggertsen 4 2020s\n",
      "idx =220, col =2020s\n",
      "i= 1980s\n",
      "i= 1990s\n",
      "i= 2000s\n",
      "i= 2010s\n",
      "i= 2020s\n",
      "nombre film : 1\n",
      "i= before 1970\n",
      "Brendon Eggertsen 4 2020s\n",
      "idx =221, col =2020s\n",
      "i= 1980s\n",
      "i= 1990s\n",
      "i= 2000s\n",
      "i= 2010s\n",
      "i= 2020s\n",
      "nombre film : 1\n",
      "i= before 1970\n",
      "Brendon Eggertsen 4 2020s\n",
      "idx =222, col =before 1970\n",
      "i= 1980s\n",
      "i= 1990s\n",
      "i= 2000s\n",
      "i= 2010s\n",
      "i= 2020s\n",
      "i= before 1970\n",
      "nombre film : 2\n",
      "Brendon Eggertsen 4 before 1970\n",
      "idx =223, col =before 1970\n",
      "i= 1980s\n",
      "i= 1990s\n",
      "i= 2000s\n",
      "i= 2010s\n",
      "i= 2020s\n",
      "i= before 1970\n",
      "nombre film : 2\n",
      "Brendon Eggertsen 4 before 1970\n",
      "idx =224, col =before 1970\n",
      "i= 1980s\n",
      "i= 1990s\n",
      "i= 2000s\n",
      "i= 2010s\n",
      "i= 2020s\n",
      "i= before 1970\n",
      "nombre film : 1\n",
      "Brendon Eggertsen 4 before 1970\n",
      "idx =225, col =before 1970\n",
      "i= 1980s\n",
      "i= 1990s\n",
      "i= 2000s\n",
      "i= 2010s\n",
      "i= 2020s\n",
      "i= before 1970\n",
      "nombre film : 1\n",
      "Brendon Eggertsen 4 before 1970\n",
      "idx =226, col =before 1970\n",
      "i= 1980s\n",
      "i= 1990s\n",
      "i= 2000s\n",
      "i= 2010s\n",
      "i= 2020s\n",
      "i= before 1970\n",
      "nombre film : 1\n",
      "Brendon Eggertsen 4 before 1970\n",
      "idx =227, col =before 1970\n",
      "i= 1980s\n",
      "i= 1990s\n",
      "i= 2000s\n",
      "i= 2010s\n",
      "i= 2020s\n",
      "i= before 1970\n",
      "nombre film : 1\n",
      "Brendon Eggertsen 4 before 1970\n",
      "idx =228, col =before 1970\n",
      "i= 1980s\n",
      "i= 1990s\n",
      "i= 2000s\n",
      "i= 2010s\n",
      "i= 2020s\n",
      "i= before 1970\n",
      "nombre film : 1\n",
      "Brendon Eggertsen 4 before 1970\n",
      "idx =229, col =before 1970\n",
      "i= 1980s\n",
      "i= 1990s\n",
      "i= 2000s\n",
      "i= 2010s\n",
      "i= 2020s\n",
      "i= before 1970\n",
      "nombre film : 1\n",
      "Brendon Eggertsen 4 before 1970\n",
      "idx =230, col =before 1970\n",
      "i= 1980s\n",
      "i= 1990s\n",
      "i= 2000s\n",
      "i= 2010s\n",
      "i= 2020s\n",
      "i= before 1970\n",
      "nombre film : 1\n",
      "Brendon Eggertsen 4 before 1970\n",
      "idx =231, col =before 1970\n",
      "i= 1980s\n",
      "i= 1990s\n",
      "i= 2000s\n",
      "i= 2010s\n",
      "i= 2020s\n",
      "i= before 1970\n",
      "nombre film : 1\n",
      "Brendon Eggertsen 4 before 1970\n",
      "idx =232, col =before 1970\n",
      "i= 1980s\n",
      "i= 1990s\n",
      "i= 2000s\n",
      "i= 2010s\n",
      "i= 2020s\n",
      "i= before 1970\n",
      "nombre film : 1\n",
      "Brendon Eggertsen 4 before 1970\n",
      "idx =233, col =before 1970\n",
      "i= 1980s\n",
      "i= 1990s\n",
      "i= 2000s\n",
      "i= 2010s\n",
      "i= 2020s\n",
      "i= before 1970\n",
      "nombre film : 1\n",
      "Brendon Eggertsen 4 before 1970\n",
      "idx =234, col =before 1970\n",
      "i= 1980s\n",
      "i= 1990s\n",
      "i= 2000s\n",
      "i= 2010s\n",
      "i= 2020s\n",
      "i= before 1970\n",
      "nombre film : 1\n",
      "Brendon Eggertsen 4 before 1970\n",
      "idx =235, col =before 1970\n",
      "i= 1980s\n",
      "i= 1990s\n",
      "i= 2000s\n",
      "i= 2010s\n",
      "i= 2020s\n",
      "i= before 1970\n",
      "nombre film : 1\n",
      "Brendon Eggertsen 4 before 1970\n",
      "idx =236, col =before 1970\n",
      "i= 1980s\n",
      "i= 1990s\n",
      "i= 2000s\n",
      "i= 2010s\n",
      "i= 2020s\n",
      "i= before 1970\n",
      "nombre film : 1\n",
      "Brendon Eggertsen 4 before 1970\n",
      "idx =237, col =before 1970\n",
      "i= 1980s\n",
      "i= 1990s\n",
      "i= 2000s\n",
      "i= 2010s\n",
      "i= 2020s\n",
      "i= before 1970\n",
      "nombre film : 1\n",
      "Brendon Eggertsen 4 before 1970\n",
      "idx =238, col =before 1970\n",
      "i= 1980s\n",
      "i= 1990s\n",
      "i= 2000s\n",
      "i= 2010s\n",
      "i= 2020s\n",
      "i= before 1970\n",
      "nombre film : 1\n",
      "Brendon Eggertsen 4 before 1970\n",
      "idx =239, col =before 1970\n",
      "i= 1980s\n",
      "i= 1990s\n",
      "i= 2000s\n",
      "i= 2010s\n",
      "i= 2020s\n",
      "i= before 1970\n",
      "nombre film : 1\n",
      "Brendon Eggertsen 4 before 1970\n",
      "idx =240, col =before 1970\n",
      "i= 1980s\n",
      "i= 1990s\n",
      "i= 2000s\n",
      "i= 2010s\n",
      "i= 2020s\n",
      "i= before 1970\n",
      "nombre film : 1\n",
      "Brendon Eggertsen 4 before 1970\n",
      "idx =241, col =before 1970\n",
      "i= 1980s\n",
      "i= 1990s\n",
      "i= 2000s\n",
      "i= 2010s\n",
      "i= 2020s\n",
      "i= before 1970\n",
      "nombre film : 1\n",
      "Brendon Eggertsen 4 before 1970\n",
      "idx =242, col =before 1970\n",
      "i= 1980s\n",
      "i= 1990s\n",
      "i= 2000s\n",
      "i= 2010s\n",
      "i= 2020s\n",
      "i= before 1970\n",
      "nombre film : 1\n",
      "Brendon Eggertsen 4 before 1970\n",
      "idx =243, col =before 1970\n",
      "i= 1980s\n",
      "i= 1990s\n",
      "i= 2000s\n",
      "i= 2010s\n",
      "i= 2020s\n",
      "i= before 1970\n",
      "nombre film : 1\n",
      "Brendon Eggertsen 4 before 1970\n",
      "idx =244, col =before 1970\n",
      "i= 1980s\n",
      "i= 1990s\n",
      "i= 2000s\n",
      "i= 2010s\n",
      "i= 2020s\n",
      "i= before 1970\n",
      "nombre film : 1\n",
      "Brendon Eggertsen 4 before 1970\n",
      "idx =245, col =before 1970\n",
      "i= 1980s\n",
      "i= 1990s\n",
      "i= 2000s\n",
      "i= 2010s\n",
      "i= 2020s\n",
      "i= before 1970\n",
      "nombre film : 1\n",
      "Brendon Eggertsen 4 before 1970\n",
      "idx =246, col =before 1970\n",
      "i= 1980s\n",
      "i= 1990s\n",
      "i= 2000s\n",
      "i= 2010s\n",
      "i= 2020s\n",
      "i= before 1970\n",
      "nombre film : 1\n",
      "Brendon Eggertsen 4 before 1970\n",
      "idx =247, col =before 1970\n",
      "i= 1980s\n",
      "i= 1990s\n",
      "i= 2000s\n",
      "i= 2010s\n",
      "i= 2020s\n",
      "i= before 1970\n",
      "nombre film : 1\n",
      "Brendon Eggertsen 4 before 1970\n",
      "idx =248, col =before 1970\n",
      "i= 1980s\n",
      "i= 1990s\n",
      "i= 2000s\n",
      "i= 2010s\n",
      "i= 2020s\n",
      "i= before 1970\n",
      "nombre film : 1\n",
      "Brendon Eggertsen 4 before 1970\n",
      "idx =249, col =before 1970\n",
      "i= 1980s\n",
      "i= 1990s\n",
      "i= 2000s\n",
      "i= 2010s\n",
      "i= 2020s\n",
      "i= before 1970\n",
      "nombre film : 1\n",
      "Brendon Eggertsen 4 before 1970\n",
      "idx =250, col =before 1970\n",
      "i= 1980s\n",
      "i= 1990s\n",
      "i= 2000s\n",
      "i= 2010s\n",
      "i= 2020s\n",
      "i= before 1970\n",
      "nombre film : 1\n",
      "Brendon Eggertsen 4 before 1970\n",
      "idx =251, col =before 1970\n",
      "i= 1980s\n",
      "i= 1990s\n",
      "i= 2000s\n",
      "i= 2010s\n",
      "i= 2020s\n",
      "i= before 1970\n",
      "nombre film : 1\n",
      "Brendon Eggertsen 4 before 1970\n",
      "idx =252, col =before 1970\n",
      "i= 1980s\n",
      "i= 1990s\n",
      "i= 2000s\n",
      "i= 2010s\n",
      "i= 2020s\n",
      "i= before 1970\n",
      "nombre film : 1\n",
      "Brendon Eggertsen 4 before 1970\n",
      "idx =253, col =before 1970\n",
      "i= 1980s\n",
      "i= 1990s\n",
      "i= 2000s\n",
      "i= 2010s\n",
      "i= 2020s\n",
      "i= before 1970\n",
      "nombre film : 1\n",
      "Brendon Eggertsen 4 before 1970\n",
      "idx =254, col =before 1970\n",
      "i= 1980s\n",
      "i= 1990s\n",
      "i= 2000s\n",
      "i= 2010s\n",
      "i= 2020s\n",
      "i= before 1970\n",
      "nombre film : 1\n",
      "Brendon Eggertsen 4 before 1970\n",
      "idx =255, col =before 1970\n",
      "i= 1980s\n",
      "i= 1990s\n",
      "i= 2000s\n",
      "i= 2010s\n",
      "i= 2020s\n",
      "i= before 1970\n",
      "nombre film : 1\n",
      "Brendon Eggertsen 4 before 1970\n",
      "idx =256, col =before 1970\n",
      "i= 1980s\n",
      "i= 1990s\n",
      "i= 2000s\n",
      "i= 2010s\n",
      "i= 2020s\n",
      "i= before 1970\n",
      "nombre film : 1\n",
      "Brendon Eggertsen 4 before 1970\n",
      "idx =257, col =before 1970\n",
      "i= 1980s\n",
      "i= 1990s\n",
      "i= 2000s\n",
      "i= 2010s\n",
      "i= 2020s\n",
      "i= before 1970\n",
      "nombre film : 1\n",
      "Brendon Eggertsen 4 before 1970\n",
      "idx =258, col =before 1970\n",
      "i= 1980s\n",
      "i= 1990s\n",
      "i= 2000s\n",
      "i= 2010s\n",
      "i= 2020s\n",
      "i= before 1970\n",
      "nombre film : 1\n",
      "Brendon Eggertsen 4 before 1970\n",
      "idx =259, col =before 1970\n",
      "i= 1980s\n",
      "i= 1990s\n",
      "i= 2000s\n",
      "i= 2010s\n",
      "i= 2020s\n",
      "i= before 1970\n",
      "nombre film : 1\n",
      "Brendon Eggertsen 4 before 1970\n",
      "idx =260, col =before 1970\n",
      "i= 1980s\n",
      "i= 1990s\n",
      "i= 2000s\n",
      "i= 2010s\n",
      "i= 2020s\n",
      "i= before 1970\n",
      "nombre film : 1\n",
      "Brendon Eggertsen 4 before 1970\n",
      "idx =261, col =before 1970\n",
      "i= 1980s\n",
      "i= 1990s\n",
      "i= 2000s\n",
      "i= 2010s\n",
      "i= 2020s\n",
      "i= before 1970\n",
      "nombre film : 1\n",
      "Brendon Eggertsen 4 before 1970\n",
      "idx =262, col =before 1970\n",
      "i= 1980s\n",
      "i= 1990s\n",
      "i= 2000s\n",
      "i= 2010s\n",
      "i= 2020s\n",
      "i= before 1970\n",
      "nombre film : 1\n",
      "Brendon Eggertsen 4 before 1970\n",
      "idx =263, col =before 1970\n",
      "i= 1980s\n",
      "i= 1990s\n",
      "i= 2000s\n",
      "i= 2010s\n",
      "i= 2020s\n",
      "i= before 1970\n",
      "nombre film : 1\n",
      "Brendon Eggertsen 4 before 1970\n",
      "idx =264, col =before 1970\n",
      "i= 1980s\n",
      "i= 1990s\n",
      "i= 2000s\n",
      "i= 2010s\n",
      "i= 2020s\n",
      "i= before 1970\n",
      "nombre film : 1\n",
      "Brendon Eggertsen 4 before 1970\n",
      "idx =265, col =before 1970\n",
      "i= 1980s\n",
      "i= 1990s\n",
      "i= 2000s\n",
      "i= 2010s\n",
      "i= 2020s\n",
      "i= before 1970\n",
      "nombre film : 1\n",
      "Brendon Eggertsen 4 before 1970\n"
     ]
    }
   ],
   "source": [
    "#original \n",
    "dec = list(df_nbfilm_act['decade'].unique())\n",
    "\n",
    "num_mem = 0\n",
    "name_mem = \"\"\n",
    "\n",
    "for idx, col in enumerate(df_nbfilm_act['decade']) : \n",
    "    print(f\"idx ={idx}, col ={col}\")\n",
    "    for i in dec : \n",
    "        print(f\"i= {i}\")\n",
    "        if col == i :\n",
    "            num = df_nbfilm_act['nb_films'][idx]\n",
    "            print(f\"nombre film : {num}\")\n",
    "        if num > num_mem :\n",
    "            name_mem = df_nbfilm_act['primaryName'][idx]\n",
    "            num_mem = num\n",
    "    print(name_mem, num_mem, col)\n"
   ]
  },
  {
   "cell_type": "code",
   "execution_count": 49,
   "id": "062802e2",
   "metadata": {},
   "outputs": [
    {
     "data": {
      "application/vnd.plotly.v1+json": {
       "config": {
        "plotlyServerURL": "https://plot.ly"
       },
       "data": [
        {
         "hovertemplate": "decade=1980s<br>nb_films=%{x}<br>primaryName=%{y}<extra></extra>",
         "legendgroup": "",
         "marker": {
          "color": "#636efa",
          "pattern": {
           "shape": ""
          }
         },
         "name": "",
         "orientation": "h",
         "showlegend": false,
         "textposition": "auto",
         "type": "bar",
         "x": {
          "bdata": "AQ==",
          "dtype": "i1"
         },
         "xaxis": "x",
         "y": [
          "Gloria Lynne Henry"
         ],
         "yaxis": "y"
        }
       ],
       "frames": [
        {
         "data": [
          {
           "hovertemplate": "decade=1980s<br>nb_films=%{x}<br>primaryName=%{y}<extra></extra>",
           "legendgroup": "",
           "marker": {
            "color": "#636efa",
            "pattern": {
             "shape": ""
            }
           },
           "name": "",
           "orientation": "h",
           "showlegend": false,
           "textposition": "auto",
           "type": "bar",
           "x": {
            "bdata": "AQ==",
            "dtype": "i1"
           },
           "xaxis": "x",
           "y": [
            "Gloria Lynne Henry"
           ],
           "yaxis": "y"
          }
         ],
         "name": "1980s"
        },
        {
         "data": [
          {
           "hovertemplate": "decade=1990s<br>nb_films=%{x}<br>primaryName=%{y}<extra></extra>",
           "legendgroup": "",
           "marker": {
            "color": "#636efa",
            "pattern": {
             "shape": ""
            }
           },
           "name": "",
           "orientation": "h",
           "showlegend": false,
           "textposition": "auto",
           "type": "bar",
           "x": {
            "bdata": "AgEBAQE=",
            "dtype": "i1"
           },
           "xaxis": "x",
           "y": [
            "Gloria Lynne Henry",
            "Laurie Sheppard",
            "Emelyn Bennett",
            "Chic",
            "Sandra Lee-Oian Thomas"
           ],
           "yaxis": "y"
          }
         ],
         "name": "1990s"
        },
        {
         "data": [
          {
           "hovertemplate": "decade=2000s<br>nb_films=%{x}<br>primaryName=%{y}<extra></extra>",
           "legendgroup": "",
           "marker": {
            "color": "#636efa",
            "pattern": {
             "shape": ""
            }
           },
           "name": "",
           "orientation": "h",
           "showlegend": false,
           "textposition": "auto",
           "type": "bar",
           "x": {
            "bdata": "AwICAQEBAQEBAQEBAQEBAQEB",
            "dtype": "i1"
           },
           "xaxis": "x",
           "y": [
            "La Georgea",
            "Chic",
            "Mayuko Kitayama",
            "Natasha Goradia",
            "Sarah Finigan",
            "ShaynaAngel Monroe",
            "Brett Moriarty",
            "Pamela Shaw",
            "Robin Brenner",
            "Bernadette Murray",
            "Eve Brand",
            "Kenny Hotz",
            "Emelyn Bennett",
            "Dana Swanson",
            "Darlene Cooke",
            "Donna Torrence",
            "Brooke Livingston",
            "Gina Beretta"
           ],
           "yaxis": "y"
          }
         ],
         "name": "2000s"
        },
        {
         "data": [
          {
           "hovertemplate": "decade=2010s<br>nb_films=%{x}<br>primaryName=%{y}<extra></extra>",
           "legendgroup": "",
           "marker": {
            "color": "#636efa",
            "pattern": {
             "shape": ""
            }
           },
           "name": "",
           "orientation": "h",
           "showlegend": false,
           "textposition": "auto",
           "type": "bar",
           "x": {
            "bdata": "BAICAgICAgICAgEBAQEBAQEBAQEBAQEBAQEBAQEBAQEBAQEBAQEBAQEBAQEBAQEBAQEBAQEB",
            "dtype": "i1"
           },
           "xaxis": "x",
           "y": [
            "Brendon Eggertsen",
            "Sarah Finigan",
            "Eve Macklin",
            "Seven Castle",
            "Sophia Forrest",
            "Skylar Olivia Flanagan",
            "Jamie Higgs",
            "Mayuko Kitayama",
            "Donna Torrence",
            "Gina Beretta",
            "Sarah Yarkin",
            "Alexandria Maillot",
            "Bambi Cheung",
            "Caito Aase",
            "Jenna Phoa",
            "Jamie Collins",
            "Kei Austin",
            "Marika Mashburn",
            "Susan E. Reilly",
            "Tam Jackson",
            "Tracy Bargate",
            "Chic",
            "Elena Papavasileiou",
            "Gigi Tisminetzky",
            "Gloria Lynne Henry",
            "Kym Miller",
            "Natalie Keezer",
            "Pamela Shaw",
            "Sam Buttery",
            "Auri",
            "Cari LeDoux",
            "Wenne Alton Davis",
            "Aydan Quinn",
            "Christine Walsh",
            "Karly Palmer",
            "Naomi Wakszlak",
            "BrittneyLove Smith",
            "Darlene Cooke",
            "Elena Matateyou",
            "Emily Carey",
            "Laurie Sheppard",
            "Loren Loubser",
            "Maha El Boukhari",
            "Melody A. Johnson",
            "Rin Allen",
            "Silver Days",
            "Uche Ama",
            "Auricle Ngnomire",
            "Heather Stewart",
            "Jenny O'Connell",
            "Kennedy Stephens",
            "Maggie Bain",
            "Akira Lee Watanabe",
            "Anne Gentry"
           ],
           "yaxis": "y"
          }
         ],
         "name": "2010s"
        },
        {
         "data": [
          {
           "hovertemplate": "decade=2020s<br>nb_films=%{x}<br>primaryName=%{y}<extra></extra>",
           "legendgroup": "",
           "marker": {
            "color": "#636efa",
            "pattern": {
             "shape": ""
            }
           },
           "name": "",
           "orientation": "h",
           "showlegend": false,
           "textposition": "auto",
           "type": "bar",
           "x": {
            "bdata": "BAMDAwMCAgICAgICAgICAgIBAQEBAQEBAQEBAQEBAQEBAQEBAQEBAQEBAQEBAQEBAQEBAQEBAQEBAQEBAQEBAQEBAQEBAQEBAQEBAQEBAQEBAQEBAQEBAQEBAQEBAQEBAQEBAQEBAQEBAQEBAQEBAQEBAQEBAQEBAQEBAQEBAQEBAQEBAQEBAQEBAQEBAQEB",
            "dtype": "i1"
           },
           "xaxis": "x",
           "y": [
            "Tordy Clark",
            "Caito Aase",
            "Steph Shober",
            "Claudia Chen",
            "Ann Keeney",
            "Meghna Malik",
            "Svetlana Rumi",
            "Olivia Brody",
            "Evie Templeton",
            "Ilia Isorelýs Paulino",
            "Jasmin Richardson",
            "Marna Deitch",
            "Melisa Lopez",
            "Theodore Lincoln",
            "Jamie Collins",
            "Kamantha Naidoo",
            "Lily Brody",
            "Shoana T. Hunt",
            "Si Chen",
            "Zara Jestadt",
            "Reilly Jacquemin",
            "Rory Anne Dahl",
            "Amajae Hardy-Jones",
            "Angelie Simone",
            "Anise Hamilton",
            "Cathi Swett",
            "Cristina Fernandez",
            "Eve Macklin",
            "Fegan DeCordova",
            "Jocelyn Shelfo",
            "Tiana Song",
            "Tracy Bargate",
            "Rico Hatton",
            "Rune",
            "Samantha Vosmaer",
            "Shey Greyson",
            "Aleksandra Cross",
            "Alex King",
            "Bailee Lopes",
            "Charlie Oscar",
            "Cristina Sanchez",
            "Tirol Palmer",
            "Veronica Marin-Estrada",
            "Amaris Noelle",
            "Ari Notartomaso",
            "Colette Girardin",
            "Delancey Shapiro",
            "Fiona Rose Stayton",
            "Holly Bridges",
            "Hope Holmes",
            "Maddie Roth",
            "Madeleine Ince",
            "Maria Allen",
            "Mariah Quake",
            "Nola Faye Dodd",
            "Staci Merritt",
            "Ruby James Fraser",
            "Samia Hofmann",
            "Sarah Yarkin",
            "Shikena Stanton",
            "Beth Bartley",
            "Demi Van Kasteren",
            "Emma D'Arcy",
            "Gloria Alcala",
            "Jena Maciel",
            "Jenna Phoa",
            "Kate Ginna",
            "Maeve Courtier-Lilley",
            "Merry Lou Proudfoot",
            "Natasha Goradia",
            "Nikki J",
            "Stacie Hill",
            "Tatyana Decker",
            "R.J. Lavine",
            "Sarah Huston",
            "Sarah Shearburn",
            "Sarah Suzuki",
            "Cal Watson",
            "Ema Masala",
            "Emma Jevons",
            "Judith Topper",
            "Keisha K. Johnson",
            "Kendall Rose Dath",
            "Kym Livingstone",
            "Margaret Lee",
            "Dianne Garriga",
            "Eden Hamilton",
            "Elena Heuzé",
            "Gigi Tisminetzky",
            "Harlow Bleu",
            "Heath V. Salazar",
            "Jenna Kray",
            "Kaitlyn Haugen",
            "Kennetha Martin",
            "Laurie Jade Woodruff",
            "Maggie Ek",
            "Parmiss Sehat",
            "Sabrina Britto",
            "Brooke Raymond",
            "Federica Bartolucci",
            "Joanne Steven",
            "Julie Marchiano",
            "Kaytlin Borgen",
            "Lindsey Melancon",
            "Milly Figuereo",
            "Sophia Webster",
            "Yuzu Harada",
            "Sam Calleja",
            "Christina Kroell",
            "Diane Nierenberg",
            "Eve Larkin",
            "Grey Reich",
            "Holly Cinnamon",
            "Julia Belanova",
            "Keara Bird",
            "Laurie Sheppard",
            "Lindey Sage",
            "Loren Loubser",
            "Markia Nicole Smith",
            "Melody A. Johnson",
            "Skylar Olivia Flanagan",
            "Solyana Girum",
            "Taylor Kalani McCumber",
            "Zahara Kerner",
            "Alex Tomais",
            "Alexis Felix",
            "Alison Halstead",
            "Ally Ledford",
            "Audra Darbyshire",
            "Auri",
            "Elizabeth Fung",
            "Jaimee Rose Lynn",
            "Jimmarie Rios",
            "Juliette Kenn De Balinthazy",
            "Kamryn Phillips Sands",
            "Kayla Deorksen",
            "Kyra Tantao",
            "Lara Oliete",
            "Lucy Ansell",
            "Mariana Sá Sousa",
            "Mayson Marshall",
            "Nina Gallas",
            "Murphy Weed",
            "Malaijia Mitchell"
           ],
           "yaxis": "y"
          }
         ],
         "name": "2020s"
        },
        {
         "data": [
          {
           "hovertemplate": "decade=before 1970<br>nb_films=%{x}<br>primaryName=%{y}<extra></extra>",
           "legendgroup": "",
           "marker": {
            "color": "#636efa",
            "pattern": {
             "shape": ""
            }
           },
           "name": "",
           "orientation": "h",
           "showlegend": false,
           "textposition": "auto",
           "type": "bar",
           "x": {
            "bdata": "AgIBAQEBAQEBAQEBAQEBAQEBAQEBAQEBAQEBAQEBAQEBAQEBAQEBAQEBAQE=",
            "dtype": "i1"
           },
           "xaxis": "x",
           "y": [
            "Fegan DeCordova",
            "Scout Backus",
            "Beth Bartley",
            "Jena Maciel",
            "Nichaela Farrell",
            "Shuyi Jia",
            "Doireann Mac Mahon",
            "Janine Taylor",
            "Katherine Powers",
            "Lois Shih",
            "Mars",
            "Maura Bird",
            "Olivia Donnelly",
            "Sophia Tarantelli",
            "Angel Prater",
            "Kym Miller",
            "Michelle Lynn",
            "Taylor Bogrand",
            "Tori Mackenzie",
            "Alexis Felix",
            "Daisy Sequerra",
            "Mabel Thomas",
            "Stephanie Jones",
            "Berenice Mastretta",
            "Janae Holster",
            "Karma Bridges",
            "Kennedy Stephens",
            "Kimber Elayne Sprawl",
            "Sekai Abenì",
            "Ari Notartomaso",
            "Delancey Shapiro",
            "Frances Aaternir",
            "Gwendolyn Sundstrom",
            "Ilia Isorelýs Paulino",
            "Jamie C. Ripley",
            "Jennifer Sellers",
            "Lorene Song",
            "Molly Jean Edwards",
            "Claudia Chen",
            "Erin Yoo",
            "Julia Belanova",
            "Mia Tharia",
            "Hinano Kuzukawa",
            "Holmes"
           ],
           "yaxis": "y"
          }
         ],
         "name": "before 1970"
        }
       ],
       "layout": {
        "barmode": "relative",
        "legend": {
         "tracegroupgap": 0
        },
        "margin": {
         "t": 60
        },
        "showlegend": false,
        "sliders": [
         {
          "active": 0,
          "currentvalue": {
           "prefix": "decade="
          },
          "len": 0.9,
          "pad": {
           "b": 10,
           "t": 60
          },
          "steps": [
           {
            "args": [
             [
              "1980s"
             ],
             {
              "frame": {
               "duration": 0,
               "redraw": true
              },
              "fromcurrent": true,
              "mode": "immediate",
              "transition": {
               "duration": 0,
               "easing": "linear"
              }
             }
            ],
            "label": "1980s",
            "method": "animate"
           },
           {
            "args": [
             [
              "1990s"
             ],
             {
              "frame": {
               "duration": 0,
               "redraw": true
              },
              "fromcurrent": true,
              "mode": "immediate",
              "transition": {
               "duration": 0,
               "easing": "linear"
              }
             }
            ],
            "label": "1990s",
            "method": "animate"
           },
           {
            "args": [
             [
              "2000s"
             ],
             {
              "frame": {
               "duration": 0,
               "redraw": true
              },
              "fromcurrent": true,
              "mode": "immediate",
              "transition": {
               "duration": 0,
               "easing": "linear"
              }
             }
            ],
            "label": "2000s",
            "method": "animate"
           },
           {
            "args": [
             [
              "2010s"
             ],
             {
              "frame": {
               "duration": 0,
               "redraw": true
              },
              "fromcurrent": true,
              "mode": "immediate",
              "transition": {
               "duration": 0,
               "easing": "linear"
              }
             }
            ],
            "label": "2010s",
            "method": "animate"
           },
           {
            "args": [
             [
              "2020s"
             ],
             {
              "frame": {
               "duration": 0,
               "redraw": true
              },
              "fromcurrent": true,
              "mode": "immediate",
              "transition": {
               "duration": 0,
               "easing": "linear"
              }
             }
            ],
            "label": "2020s",
            "method": "animate"
           },
           {
            "args": [
             [
              "before 1970"
             ],
             {
              "frame": {
               "duration": 0,
               "redraw": true
              },
              "fromcurrent": true,
              "mode": "immediate",
              "transition": {
               "duration": 0,
               "easing": "linear"
              }
             }
            ],
            "label": "before 1970",
            "method": "animate"
           }
          ],
          "x": 0.1,
          "xanchor": "left",
          "y": 0,
          "yanchor": "top"
         }
        ],
        "template": {
         "data": {
          "bar": [
           {
            "error_x": {
             "color": "#2a3f5f"
            },
            "error_y": {
             "color": "#2a3f5f"
            },
            "marker": {
             "line": {
              "color": "#E5ECF6",
              "width": 0.5
             },
             "pattern": {
              "fillmode": "overlay",
              "size": 10,
              "solidity": 0.2
             }
            },
            "type": "bar"
           }
          ],
          "barpolar": [
           {
            "marker": {
             "line": {
              "color": "#E5ECF6",
              "width": 0.5
             },
             "pattern": {
              "fillmode": "overlay",
              "size": 10,
              "solidity": 0.2
             }
            },
            "type": "barpolar"
           }
          ],
          "carpet": [
           {
            "aaxis": {
             "endlinecolor": "#2a3f5f",
             "gridcolor": "white",
             "linecolor": "white",
             "minorgridcolor": "white",
             "startlinecolor": "#2a3f5f"
            },
            "baxis": {
             "endlinecolor": "#2a3f5f",
             "gridcolor": "white",
             "linecolor": "white",
             "minorgridcolor": "white",
             "startlinecolor": "#2a3f5f"
            },
            "type": "carpet"
           }
          ],
          "choropleth": [
           {
            "colorbar": {
             "outlinewidth": 0,
             "ticks": ""
            },
            "type": "choropleth"
           }
          ],
          "contour": [
           {
            "colorbar": {
             "outlinewidth": 0,
             "ticks": ""
            },
            "colorscale": [
             [
              0,
              "#0d0887"
             ],
             [
              0.1111111111111111,
              "#46039f"
             ],
             [
              0.2222222222222222,
              "#7201a8"
             ],
             [
              0.3333333333333333,
              "#9c179e"
             ],
             [
              0.4444444444444444,
              "#bd3786"
             ],
             [
              0.5555555555555556,
              "#d8576b"
             ],
             [
              0.6666666666666666,
              "#ed7953"
             ],
             [
              0.7777777777777778,
              "#fb9f3a"
             ],
             [
              0.8888888888888888,
              "#fdca26"
             ],
             [
              1,
              "#f0f921"
             ]
            ],
            "type": "contour"
           }
          ],
          "contourcarpet": [
           {
            "colorbar": {
             "outlinewidth": 0,
             "ticks": ""
            },
            "type": "contourcarpet"
           }
          ],
          "heatmap": [
           {
            "colorbar": {
             "outlinewidth": 0,
             "ticks": ""
            },
            "colorscale": [
             [
              0,
              "#0d0887"
             ],
             [
              0.1111111111111111,
              "#46039f"
             ],
             [
              0.2222222222222222,
              "#7201a8"
             ],
             [
              0.3333333333333333,
              "#9c179e"
             ],
             [
              0.4444444444444444,
              "#bd3786"
             ],
             [
              0.5555555555555556,
              "#d8576b"
             ],
             [
              0.6666666666666666,
              "#ed7953"
             ],
             [
              0.7777777777777778,
              "#fb9f3a"
             ],
             [
              0.8888888888888888,
              "#fdca26"
             ],
             [
              1,
              "#f0f921"
             ]
            ],
            "type": "heatmap"
           }
          ],
          "histogram": [
           {
            "marker": {
             "pattern": {
              "fillmode": "overlay",
              "size": 10,
              "solidity": 0.2
             }
            },
            "type": "histogram"
           }
          ],
          "histogram2d": [
           {
            "colorbar": {
             "outlinewidth": 0,
             "ticks": ""
            },
            "colorscale": [
             [
              0,
              "#0d0887"
             ],
             [
              0.1111111111111111,
              "#46039f"
             ],
             [
              0.2222222222222222,
              "#7201a8"
             ],
             [
              0.3333333333333333,
              "#9c179e"
             ],
             [
              0.4444444444444444,
              "#bd3786"
             ],
             [
              0.5555555555555556,
              "#d8576b"
             ],
             [
              0.6666666666666666,
              "#ed7953"
             ],
             [
              0.7777777777777778,
              "#fb9f3a"
             ],
             [
              0.8888888888888888,
              "#fdca26"
             ],
             [
              1,
              "#f0f921"
             ]
            ],
            "type": "histogram2d"
           }
          ],
          "histogram2dcontour": [
           {
            "colorbar": {
             "outlinewidth": 0,
             "ticks": ""
            },
            "colorscale": [
             [
              0,
              "#0d0887"
             ],
             [
              0.1111111111111111,
              "#46039f"
             ],
             [
              0.2222222222222222,
              "#7201a8"
             ],
             [
              0.3333333333333333,
              "#9c179e"
             ],
             [
              0.4444444444444444,
              "#bd3786"
             ],
             [
              0.5555555555555556,
              "#d8576b"
             ],
             [
              0.6666666666666666,
              "#ed7953"
             ],
             [
              0.7777777777777778,
              "#fb9f3a"
             ],
             [
              0.8888888888888888,
              "#fdca26"
             ],
             [
              1,
              "#f0f921"
             ]
            ],
            "type": "histogram2dcontour"
           }
          ],
          "mesh3d": [
           {
            "colorbar": {
             "outlinewidth": 0,
             "ticks": ""
            },
            "type": "mesh3d"
           }
          ],
          "parcoords": [
           {
            "line": {
             "colorbar": {
              "outlinewidth": 0,
              "ticks": ""
             }
            },
            "type": "parcoords"
           }
          ],
          "pie": [
           {
            "automargin": true,
            "type": "pie"
           }
          ],
          "scatter": [
           {
            "fillpattern": {
             "fillmode": "overlay",
             "size": 10,
             "solidity": 0.2
            },
            "type": "scatter"
           }
          ],
          "scatter3d": [
           {
            "line": {
             "colorbar": {
              "outlinewidth": 0,
              "ticks": ""
             }
            },
            "marker": {
             "colorbar": {
              "outlinewidth": 0,
              "ticks": ""
             }
            },
            "type": "scatter3d"
           }
          ],
          "scattercarpet": [
           {
            "marker": {
             "colorbar": {
              "outlinewidth": 0,
              "ticks": ""
             }
            },
            "type": "scattercarpet"
           }
          ],
          "scattergeo": [
           {
            "marker": {
             "colorbar": {
              "outlinewidth": 0,
              "ticks": ""
             }
            },
            "type": "scattergeo"
           }
          ],
          "scattergl": [
           {
            "marker": {
             "colorbar": {
              "outlinewidth": 0,
              "ticks": ""
             }
            },
            "type": "scattergl"
           }
          ],
          "scattermap": [
           {
            "marker": {
             "colorbar": {
              "outlinewidth": 0,
              "ticks": ""
             }
            },
            "type": "scattermap"
           }
          ],
          "scattermapbox": [
           {
            "marker": {
             "colorbar": {
              "outlinewidth": 0,
              "ticks": ""
             }
            },
            "type": "scattermapbox"
           }
          ],
          "scatterpolar": [
           {
            "marker": {
             "colorbar": {
              "outlinewidth": 0,
              "ticks": ""
             }
            },
            "type": "scatterpolar"
           }
          ],
          "scatterpolargl": [
           {
            "marker": {
             "colorbar": {
              "outlinewidth": 0,
              "ticks": ""
             }
            },
            "type": "scatterpolargl"
           }
          ],
          "scatterternary": [
           {
            "marker": {
             "colorbar": {
              "outlinewidth": 0,
              "ticks": ""
             }
            },
            "type": "scatterternary"
           }
          ],
          "surface": [
           {
            "colorbar": {
             "outlinewidth": 0,
             "ticks": ""
            },
            "colorscale": [
             [
              0,
              "#0d0887"
             ],
             [
              0.1111111111111111,
              "#46039f"
             ],
             [
              0.2222222222222222,
              "#7201a8"
             ],
             [
              0.3333333333333333,
              "#9c179e"
             ],
             [
              0.4444444444444444,
              "#bd3786"
             ],
             [
              0.5555555555555556,
              "#d8576b"
             ],
             [
              0.6666666666666666,
              "#ed7953"
             ],
             [
              0.7777777777777778,
              "#fb9f3a"
             ],
             [
              0.8888888888888888,
              "#fdca26"
             ],
             [
              1,
              "#f0f921"
             ]
            ],
            "type": "surface"
           }
          ],
          "table": [
           {
            "cells": {
             "fill": {
              "color": "#EBF0F8"
             },
             "line": {
              "color": "white"
             }
            },
            "header": {
             "fill": {
              "color": "#C8D4E3"
             },
             "line": {
              "color": "white"
             }
            },
            "type": "table"
           }
          ]
         },
         "layout": {
          "annotationdefaults": {
           "arrowcolor": "#2a3f5f",
           "arrowhead": 0,
           "arrowwidth": 1
          },
          "autotypenumbers": "strict",
          "coloraxis": {
           "colorbar": {
            "outlinewidth": 0,
            "ticks": ""
           }
          },
          "colorscale": {
           "diverging": [
            [
             0,
             "#8e0152"
            ],
            [
             0.1,
             "#c51b7d"
            ],
            [
             0.2,
             "#de77ae"
            ],
            [
             0.3,
             "#f1b6da"
            ],
            [
             0.4,
             "#fde0ef"
            ],
            [
             0.5,
             "#f7f7f7"
            ],
            [
             0.6,
             "#e6f5d0"
            ],
            [
             0.7,
             "#b8e186"
            ],
            [
             0.8,
             "#7fbc41"
            ],
            [
             0.9,
             "#4d9221"
            ],
            [
             1,
             "#276419"
            ]
           ],
           "sequential": [
            [
             0,
             "#0d0887"
            ],
            [
             0.1111111111111111,
             "#46039f"
            ],
            [
             0.2222222222222222,
             "#7201a8"
            ],
            [
             0.3333333333333333,
             "#9c179e"
            ],
            [
             0.4444444444444444,
             "#bd3786"
            ],
            [
             0.5555555555555556,
             "#d8576b"
            ],
            [
             0.6666666666666666,
             "#ed7953"
            ],
            [
             0.7777777777777778,
             "#fb9f3a"
            ],
            [
             0.8888888888888888,
             "#fdca26"
            ],
            [
             1,
             "#f0f921"
            ]
           ],
           "sequentialminus": [
            [
             0,
             "#0d0887"
            ],
            [
             0.1111111111111111,
             "#46039f"
            ],
            [
             0.2222222222222222,
             "#7201a8"
            ],
            [
             0.3333333333333333,
             "#9c179e"
            ],
            [
             0.4444444444444444,
             "#bd3786"
            ],
            [
             0.5555555555555556,
             "#d8576b"
            ],
            [
             0.6666666666666666,
             "#ed7953"
            ],
            [
             0.7777777777777778,
             "#fb9f3a"
            ],
            [
             0.8888888888888888,
             "#fdca26"
            ],
            [
             1,
             "#f0f921"
            ]
           ]
          },
          "colorway": [
           "#636efa",
           "#EF553B",
           "#00cc96",
           "#ab63fa",
           "#FFA15A",
           "#19d3f3",
           "#FF6692",
           "#B6E880",
           "#FF97FF",
           "#FECB52"
          ],
          "font": {
           "color": "#2a3f5f"
          },
          "geo": {
           "bgcolor": "white",
           "lakecolor": "white",
           "landcolor": "#E5ECF6",
           "showlakes": true,
           "showland": true,
           "subunitcolor": "white"
          },
          "hoverlabel": {
           "align": "left"
          },
          "hovermode": "closest",
          "mapbox": {
           "style": "light"
          },
          "paper_bgcolor": "white",
          "plot_bgcolor": "#E5ECF6",
          "polar": {
           "angularaxis": {
            "gridcolor": "white",
            "linecolor": "white",
            "ticks": ""
           },
           "bgcolor": "#E5ECF6",
           "radialaxis": {
            "gridcolor": "white",
            "linecolor": "white",
            "ticks": ""
           }
          },
          "scene": {
           "xaxis": {
            "backgroundcolor": "#E5ECF6",
            "gridcolor": "white",
            "gridwidth": 2,
            "linecolor": "white",
            "showbackground": true,
            "ticks": "",
            "zerolinecolor": "white"
           },
           "yaxis": {
            "backgroundcolor": "#E5ECF6",
            "gridcolor": "white",
            "gridwidth": 2,
            "linecolor": "white",
            "showbackground": true,
            "ticks": "",
            "zerolinecolor": "white"
           },
           "zaxis": {
            "backgroundcolor": "#E5ECF6",
            "gridcolor": "white",
            "gridwidth": 2,
            "linecolor": "white",
            "showbackground": true,
            "ticks": "",
            "zerolinecolor": "white"
           }
          },
          "shapedefaults": {
           "line": {
            "color": "#2a3f5f"
           }
          },
          "ternary": {
           "aaxis": {
            "gridcolor": "white",
            "linecolor": "white",
            "ticks": ""
           },
           "baxis": {
            "gridcolor": "white",
            "linecolor": "white",
            "ticks": ""
           },
           "bgcolor": "#E5ECF6",
           "caxis": {
            "gridcolor": "white",
            "linecolor": "white",
            "ticks": ""
           }
          },
          "title": {
           "x": 0.05
          },
          "xaxis": {
           "automargin": true,
           "gridcolor": "white",
           "linecolor": "white",
           "ticks": "",
           "title": {
            "standoff": 15
           },
           "zerolinecolor": "white",
           "zerolinewidth": 2
          },
          "yaxis": {
           "automargin": true,
           "gridcolor": "white",
           "linecolor": "white",
           "ticks": "",
           "title": {
            "standoff": 15
           },
           "zerolinecolor": "white",
           "zerolinewidth": 2
          }
         }
        },
        "updatemenus": [
         {
          "buttons": [
           {
            "args": [
             null,
             {
              "frame": {
               "duration": 500,
               "redraw": true
              },
              "fromcurrent": true,
              "mode": "immediate",
              "transition": {
               "duration": 500,
               "easing": "linear"
              }
             }
            ],
            "label": "&#9654;",
            "method": "animate"
           },
           {
            "args": [
             [
              null
             ],
             {
              "frame": {
               "duration": 0,
               "redraw": true
              },
              "fromcurrent": true,
              "mode": "immediate",
              "transition": {
               "duration": 0,
               "easing": "linear"
              }
             }
            ],
            "label": "&#9724;",
            "method": "animate"
           }
          ],
          "direction": "left",
          "pad": {
           "r": 10,
           "t": 70
          },
          "showactive": false,
          "type": "buttons",
          "x": 0.1,
          "xanchor": "right",
          "y": 0,
          "yanchor": "top"
         }
        ],
        "xaxis": {
         "anchor": "y",
         "domain": [
          0,
          1
         ],
         "range": [
          0,
          6
         ],
         "title": {
          "text": "Nom"
         }
        },
        "yaxis": {
         "anchor": "x",
         "domain": [
          0,
          1
         ],
         "range": [
          0,
          20
         ],
         "title": {
          "text": "Nombre de films"
         }
        }
       }
      }
     },
     "metadata": {},
     "output_type": "display_data"
    }
   ],
   "source": [
    "import plotly.express as px\n",
    "\n",
    "\n",
    "fig = px.bar(df_nbfilm_act, x='nb_films' ,y= 'primaryName', animation_frame='decade')\n",
    "\n",
    "fig.update_layout(\n",
    "    xaxis_range=[0, df_nbfilm_act['nb_films'].max() + 2],\n",
    "    yaxis_range= [0,20],\n",
    "    xaxis_title=\"Nom\",\n",
    "    yaxis_title=\"Nombre de films\",\n",
    "    showlegend=False\n",
    ")\n",
    "fig.show()\n",
    "\n"
   ]
  },
  {
   "cell_type": "code",
   "execution_count": 48,
   "id": "1737b451",
   "metadata": {},
   "outputs": [
    {
     "data": {
      "application/vnd.plotly.v1+json": {
       "config": {
        "plotlyServerURL": "https://plot.ly"
       },
       "data": [
        {
         "hovertemplate": "decade=1980s<br>nb_films=%{x}<br>primaryName=%{y}<extra></extra>",
         "legendgroup": "",
         "marker": {
          "color": "#1f77b4",
          "pattern": {
           "shape": ""
          }
         },
         "name": "",
         "orientation": "h",
         "showlegend": false,
         "textposition": "auto",
         "type": "bar",
         "x": {
          "bdata": "AQ==",
          "dtype": "i1"
         },
         "xaxis": "x",
         "y": [
          "Gloria Lynne Henry"
         ],
         "yaxis": "y"
        }
       ],
       "frames": [
        {
         "data": [
          {
           "hovertemplate": "decade=1980s<br>nb_films=%{x}<br>primaryName=%{y}<extra></extra>",
           "legendgroup": "",
           "marker": {
            "color": "#1f77b4",
            "pattern": {
             "shape": ""
            }
           },
           "name": "",
           "orientation": "h",
           "showlegend": false,
           "textposition": "auto",
           "type": "bar",
           "x": {
            "bdata": "AQ==",
            "dtype": "i1"
           },
           "xaxis": "x",
           "y": [
            "Gloria Lynne Henry"
           ],
           "yaxis": "y"
          }
         ],
         "name": "1980s"
        },
        {
         "data": [
          {
           "hovertemplate": "decade=1990s<br>nb_films=%{x}<br>primaryName=%{y}<extra></extra>",
           "legendgroup": "",
           "marker": {
            "color": "#1f77b4",
            "pattern": {
             "shape": ""
            }
           },
           "name": "",
           "orientation": "h",
           "showlegend": false,
           "textposition": "auto",
           "type": "bar",
           "x": {
            "bdata": "AgEBAQE=",
            "dtype": "i1"
           },
           "xaxis": "x",
           "y": [
            "Gloria Lynne Henry",
            "Laurie Sheppard",
            "Emelyn Bennett",
            "Chic",
            "Sandra Lee-Oian Thomas"
           ],
           "yaxis": "y"
          }
         ],
         "name": "1990s"
        },
        {
         "data": [
          {
           "hovertemplate": "decade=2000s<br>nb_films=%{x}<br>primaryName=%{y}<extra></extra>",
           "legendgroup": "",
           "marker": {
            "color": "#1f77b4",
            "pattern": {
             "shape": ""
            }
           },
           "name": "",
           "orientation": "h",
           "showlegend": false,
           "textposition": "auto",
           "type": "bar",
           "x": {
            "bdata": "AwICAQEBAQEBAQEBAQEBAQEB",
            "dtype": "i1"
           },
           "xaxis": "x",
           "y": [
            "La Georgea",
            "Chic",
            "Mayuko Kitayama",
            "Natasha Goradia",
            "Sarah Finigan",
            "ShaynaAngel Monroe",
            "Brett Moriarty",
            "Pamela Shaw",
            "Robin Brenner",
            "Bernadette Murray",
            "Eve Brand",
            "Kenny Hotz",
            "Emelyn Bennett",
            "Dana Swanson",
            "Darlene Cooke",
            "Donna Torrence",
            "Brooke Livingston",
            "Gina Beretta"
           ],
           "yaxis": "y"
          }
         ],
         "name": "2000s"
        },
        {
         "data": [
          {
           "hovertemplate": "decade=2010s<br>nb_films=%{x}<br>primaryName=%{y}<extra></extra>",
           "legendgroup": "",
           "marker": {
            "color": "#1f77b4",
            "pattern": {
             "shape": ""
            }
           },
           "name": "",
           "orientation": "h",
           "showlegend": false,
           "textposition": "auto",
           "type": "bar",
           "x": {
            "bdata": "BAICAgICAgICAgEBAQEBAQEBAQE=",
            "dtype": "i1"
           },
           "xaxis": "x",
           "y": [
            "Brendon Eggertsen",
            "Sarah Finigan",
            "Eve Macklin",
            "Seven Castle",
            "Sophia Forrest",
            "Skylar Olivia Flanagan",
            "Jamie Higgs",
            "Mayuko Kitayama",
            "Donna Torrence",
            "Gina Beretta",
            "Sarah Yarkin",
            "Alexandria Maillot",
            "Bambi Cheung",
            "Caito Aase",
            "Jenna Phoa",
            "Jamie Collins",
            "Kei Austin",
            "Marika Mashburn",
            "Susan E. Reilly",
            "Tam Jackson"
           ],
           "yaxis": "y"
          }
         ],
         "name": "2010s"
        },
        {
         "data": [
          {
           "hovertemplate": "decade=2020s<br>nb_films=%{x}<br>primaryName=%{y}<extra></extra>",
           "legendgroup": "",
           "marker": {
            "color": "#1f77b4",
            "pattern": {
             "shape": ""
            }
           },
           "name": "",
           "orientation": "h",
           "showlegend": false,
           "textposition": "auto",
           "type": "bar",
           "x": {
            "bdata": "BAMDAwMCAgICAgICAgICAgIBAQE=",
            "dtype": "i1"
           },
           "xaxis": "x",
           "y": [
            "Tordy Clark",
            "Caito Aase",
            "Steph Shober",
            "Claudia Chen",
            "Ann Keeney",
            "Meghna Malik",
            "Svetlana Rumi",
            "Olivia Brody",
            "Evie Templeton",
            "Ilia Isorelýs Paulino",
            "Jasmin Richardson",
            "Marna Deitch",
            "Melisa Lopez",
            "Theodore Lincoln",
            "Jamie Collins",
            "Kamantha Naidoo",
            "Lily Brody",
            "Shoana T. Hunt",
            "Si Chen",
            "Zara Jestadt"
           ],
           "yaxis": "y"
          }
         ],
         "name": "2020s"
        },
        {
         "data": [
          {
           "hovertemplate": "decade=before 1970<br>nb_films=%{x}<br>primaryName=%{y}<extra></extra>",
           "legendgroup": "",
           "marker": {
            "color": "#1f77b4",
            "pattern": {
             "shape": ""
            }
           },
           "name": "",
           "orientation": "h",
           "showlegend": false,
           "textposition": "auto",
           "type": "bar",
           "x": {
            "bdata": "AgIBAQEBAQEBAQEBAQEBAQEBAQE=",
            "dtype": "i1"
           },
           "xaxis": "x",
           "y": [
            "Fegan DeCordova",
            "Scout Backus",
            "Beth Bartley",
            "Jena Maciel",
            "Nichaela Farrell",
            "Shuyi Jia",
            "Doireann Mac Mahon",
            "Janine Taylor",
            "Katherine Powers",
            "Lois Shih",
            "Mars",
            "Maura Bird",
            "Olivia Donnelly",
            "Sophia Tarantelli",
            "Angel Prater",
            "Kym Miller",
            "Michelle Lynn",
            "Taylor Bogrand",
            "Tori Mackenzie",
            "Alexis Felix"
           ],
           "yaxis": "y"
          }
         ],
         "name": "before 1970"
        }
       ],
       "layout": {
        "barmode": "relative",
        "font": {
         "size": 14
        },
        "height": 700,
        "legend": {
         "tracegroupgap": 0
        },
        "margin": {
         "b": 40,
         "l": 140,
         "r": 40,
         "t": 60
        },
        "plot_bgcolor": "white",
        "showlegend": false,
        "sliders": [
         {
          "active": 0,
          "currentvalue": {
           "prefix": "Décennie : "
          },
          "len": 0.9,
          "pad": {
           "b": 10,
           "t": 60
          },
          "steps": [
           {
            "args": [
             [
              "1980s"
             ],
             {
              "frame": {
               "duration": 0,
               "redraw": true
              },
              "fromcurrent": true,
              "mode": "immediate",
              "transition": {
               "duration": 0,
               "easing": "linear"
              }
             }
            ],
            "label": "1980s",
            "method": "animate"
           },
           {
            "args": [
             [
              "1990s"
             ],
             {
              "frame": {
               "duration": 0,
               "redraw": true
              },
              "fromcurrent": true,
              "mode": "immediate",
              "transition": {
               "duration": 0,
               "easing": "linear"
              }
             }
            ],
            "label": "1990s",
            "method": "animate"
           },
           {
            "args": [
             [
              "2000s"
             ],
             {
              "frame": {
               "duration": 0,
               "redraw": true
              },
              "fromcurrent": true,
              "mode": "immediate",
              "transition": {
               "duration": 0,
               "easing": "linear"
              }
             }
            ],
            "label": "2000s",
            "method": "animate"
           },
           {
            "args": [
             [
              "2010s"
             ],
             {
              "frame": {
               "duration": 0,
               "redraw": true
              },
              "fromcurrent": true,
              "mode": "immediate",
              "transition": {
               "duration": 0,
               "easing": "linear"
              }
             }
            ],
            "label": "2010s",
            "method": "animate"
           },
           {
            "args": [
             [
              "2020s"
             ],
             {
              "frame": {
               "duration": 0,
               "redraw": true
              },
              "fromcurrent": true,
              "mode": "immediate",
              "transition": {
               "duration": 0,
               "easing": "linear"
              }
             }
            ],
            "label": "2020s",
            "method": "animate"
           },
           {
            "args": [
             [
              "before 1970"
             ],
             {
              "frame": {
               "duration": 0,
               "redraw": true
              },
              "fromcurrent": true,
              "mode": "immediate",
              "transition": {
               "duration": 0,
               "easing": "linear"
              }
             }
            ],
            "label": "before 1970",
            "method": "animate"
           }
          ],
          "x": 0.1,
          "xanchor": "left",
          "y": 0,
          "yanchor": "top"
         }
        ],
        "template": {
         "data": {
          "bar": [
           {
            "error_x": {
             "color": "#2a3f5f"
            },
            "error_y": {
             "color": "#2a3f5f"
            },
            "marker": {
             "line": {
              "color": "#E5ECF6",
              "width": 0.5
             },
             "pattern": {
              "fillmode": "overlay",
              "size": 10,
              "solidity": 0.2
             }
            },
            "type": "bar"
           }
          ],
          "barpolar": [
           {
            "marker": {
             "line": {
              "color": "#E5ECF6",
              "width": 0.5
             },
             "pattern": {
              "fillmode": "overlay",
              "size": 10,
              "solidity": 0.2
             }
            },
            "type": "barpolar"
           }
          ],
          "carpet": [
           {
            "aaxis": {
             "endlinecolor": "#2a3f5f",
             "gridcolor": "white",
             "linecolor": "white",
             "minorgridcolor": "white",
             "startlinecolor": "#2a3f5f"
            },
            "baxis": {
             "endlinecolor": "#2a3f5f",
             "gridcolor": "white",
             "linecolor": "white",
             "minorgridcolor": "white",
             "startlinecolor": "#2a3f5f"
            },
            "type": "carpet"
           }
          ],
          "choropleth": [
           {
            "colorbar": {
             "outlinewidth": 0,
             "ticks": ""
            },
            "type": "choropleth"
           }
          ],
          "contour": [
           {
            "colorbar": {
             "outlinewidth": 0,
             "ticks": ""
            },
            "colorscale": [
             [
              0,
              "#0d0887"
             ],
             [
              0.1111111111111111,
              "#46039f"
             ],
             [
              0.2222222222222222,
              "#7201a8"
             ],
             [
              0.3333333333333333,
              "#9c179e"
             ],
             [
              0.4444444444444444,
              "#bd3786"
             ],
             [
              0.5555555555555556,
              "#d8576b"
             ],
             [
              0.6666666666666666,
              "#ed7953"
             ],
             [
              0.7777777777777778,
              "#fb9f3a"
             ],
             [
              0.8888888888888888,
              "#fdca26"
             ],
             [
              1,
              "#f0f921"
             ]
            ],
            "type": "contour"
           }
          ],
          "contourcarpet": [
           {
            "colorbar": {
             "outlinewidth": 0,
             "ticks": ""
            },
            "type": "contourcarpet"
           }
          ],
          "heatmap": [
           {
            "colorbar": {
             "outlinewidth": 0,
             "ticks": ""
            },
            "colorscale": [
             [
              0,
              "#0d0887"
             ],
             [
              0.1111111111111111,
              "#46039f"
             ],
             [
              0.2222222222222222,
              "#7201a8"
             ],
             [
              0.3333333333333333,
              "#9c179e"
             ],
             [
              0.4444444444444444,
              "#bd3786"
             ],
             [
              0.5555555555555556,
              "#d8576b"
             ],
             [
              0.6666666666666666,
              "#ed7953"
             ],
             [
              0.7777777777777778,
              "#fb9f3a"
             ],
             [
              0.8888888888888888,
              "#fdca26"
             ],
             [
              1,
              "#f0f921"
             ]
            ],
            "type": "heatmap"
           }
          ],
          "histogram": [
           {
            "marker": {
             "pattern": {
              "fillmode": "overlay",
              "size": 10,
              "solidity": 0.2
             }
            },
            "type": "histogram"
           }
          ],
          "histogram2d": [
           {
            "colorbar": {
             "outlinewidth": 0,
             "ticks": ""
            },
            "colorscale": [
             [
              0,
              "#0d0887"
             ],
             [
              0.1111111111111111,
              "#46039f"
             ],
             [
              0.2222222222222222,
              "#7201a8"
             ],
             [
              0.3333333333333333,
              "#9c179e"
             ],
             [
              0.4444444444444444,
              "#bd3786"
             ],
             [
              0.5555555555555556,
              "#d8576b"
             ],
             [
              0.6666666666666666,
              "#ed7953"
             ],
             [
              0.7777777777777778,
              "#fb9f3a"
             ],
             [
              0.8888888888888888,
              "#fdca26"
             ],
             [
              1,
              "#f0f921"
             ]
            ],
            "type": "histogram2d"
           }
          ],
          "histogram2dcontour": [
           {
            "colorbar": {
             "outlinewidth": 0,
             "ticks": ""
            },
            "colorscale": [
             [
              0,
              "#0d0887"
             ],
             [
              0.1111111111111111,
              "#46039f"
             ],
             [
              0.2222222222222222,
              "#7201a8"
             ],
             [
              0.3333333333333333,
              "#9c179e"
             ],
             [
              0.4444444444444444,
              "#bd3786"
             ],
             [
              0.5555555555555556,
              "#d8576b"
             ],
             [
              0.6666666666666666,
              "#ed7953"
             ],
             [
              0.7777777777777778,
              "#fb9f3a"
             ],
             [
              0.8888888888888888,
              "#fdca26"
             ],
             [
              1,
              "#f0f921"
             ]
            ],
            "type": "histogram2dcontour"
           }
          ],
          "mesh3d": [
           {
            "colorbar": {
             "outlinewidth": 0,
             "ticks": ""
            },
            "type": "mesh3d"
           }
          ],
          "parcoords": [
           {
            "line": {
             "colorbar": {
              "outlinewidth": 0,
              "ticks": ""
             }
            },
            "type": "parcoords"
           }
          ],
          "pie": [
           {
            "automargin": true,
            "type": "pie"
           }
          ],
          "scatter": [
           {
            "fillpattern": {
             "fillmode": "overlay",
             "size": 10,
             "solidity": 0.2
            },
            "type": "scatter"
           }
          ],
          "scatter3d": [
           {
            "line": {
             "colorbar": {
              "outlinewidth": 0,
              "ticks": ""
             }
            },
            "marker": {
             "colorbar": {
              "outlinewidth": 0,
              "ticks": ""
             }
            },
            "type": "scatter3d"
           }
          ],
          "scattercarpet": [
           {
            "marker": {
             "colorbar": {
              "outlinewidth": 0,
              "ticks": ""
             }
            },
            "type": "scattercarpet"
           }
          ],
          "scattergeo": [
           {
            "marker": {
             "colorbar": {
              "outlinewidth": 0,
              "ticks": ""
             }
            },
            "type": "scattergeo"
           }
          ],
          "scattergl": [
           {
            "marker": {
             "colorbar": {
              "outlinewidth": 0,
              "ticks": ""
             }
            },
            "type": "scattergl"
           }
          ],
          "scattermap": [
           {
            "marker": {
             "colorbar": {
              "outlinewidth": 0,
              "ticks": ""
             }
            },
            "type": "scattermap"
           }
          ],
          "scattermapbox": [
           {
            "marker": {
             "colorbar": {
              "outlinewidth": 0,
              "ticks": ""
             }
            },
            "type": "scattermapbox"
           }
          ],
          "scatterpolar": [
           {
            "marker": {
             "colorbar": {
              "outlinewidth": 0,
              "ticks": ""
             }
            },
            "type": "scatterpolar"
           }
          ],
          "scatterpolargl": [
           {
            "marker": {
             "colorbar": {
              "outlinewidth": 0,
              "ticks": ""
             }
            },
            "type": "scatterpolargl"
           }
          ],
          "scatterternary": [
           {
            "marker": {
             "colorbar": {
              "outlinewidth": 0,
              "ticks": ""
             }
            },
            "type": "scatterternary"
           }
          ],
          "surface": [
           {
            "colorbar": {
             "outlinewidth": 0,
             "ticks": ""
            },
            "colorscale": [
             [
              0,
              "#0d0887"
             ],
             [
              0.1111111111111111,
              "#46039f"
             ],
             [
              0.2222222222222222,
              "#7201a8"
             ],
             [
              0.3333333333333333,
              "#9c179e"
             ],
             [
              0.4444444444444444,
              "#bd3786"
             ],
             [
              0.5555555555555556,
              "#d8576b"
             ],
             [
              0.6666666666666666,
              "#ed7953"
             ],
             [
              0.7777777777777778,
              "#fb9f3a"
             ],
             [
              0.8888888888888888,
              "#fdca26"
             ],
             [
              1,
              "#f0f921"
             ]
            ],
            "type": "surface"
           }
          ],
          "table": [
           {
            "cells": {
             "fill": {
              "color": "#EBF0F8"
             },
             "line": {
              "color": "white"
             }
            },
            "header": {
             "fill": {
              "color": "#C8D4E3"
             },
             "line": {
              "color": "white"
             }
            },
            "type": "table"
           }
          ]
         },
         "layout": {
          "annotationdefaults": {
           "arrowcolor": "#2a3f5f",
           "arrowhead": 0,
           "arrowwidth": 1
          },
          "autotypenumbers": "strict",
          "coloraxis": {
           "colorbar": {
            "outlinewidth": 0,
            "ticks": ""
           }
          },
          "colorscale": {
           "diverging": [
            [
             0,
             "#8e0152"
            ],
            [
             0.1,
             "#c51b7d"
            ],
            [
             0.2,
             "#de77ae"
            ],
            [
             0.3,
             "#f1b6da"
            ],
            [
             0.4,
             "#fde0ef"
            ],
            [
             0.5,
             "#f7f7f7"
            ],
            [
             0.6,
             "#e6f5d0"
            ],
            [
             0.7,
             "#b8e186"
            ],
            [
             0.8,
             "#7fbc41"
            ],
            [
             0.9,
             "#4d9221"
            ],
            [
             1,
             "#276419"
            ]
           ],
           "sequential": [
            [
             0,
             "#0d0887"
            ],
            [
             0.1111111111111111,
             "#46039f"
            ],
            [
             0.2222222222222222,
             "#7201a8"
            ],
            [
             0.3333333333333333,
             "#9c179e"
            ],
            [
             0.4444444444444444,
             "#bd3786"
            ],
            [
             0.5555555555555556,
             "#d8576b"
            ],
            [
             0.6666666666666666,
             "#ed7953"
            ],
            [
             0.7777777777777778,
             "#fb9f3a"
            ],
            [
             0.8888888888888888,
             "#fdca26"
            ],
            [
             1,
             "#f0f921"
            ]
           ],
           "sequentialminus": [
            [
             0,
             "#0d0887"
            ],
            [
             0.1111111111111111,
             "#46039f"
            ],
            [
             0.2222222222222222,
             "#7201a8"
            ],
            [
             0.3333333333333333,
             "#9c179e"
            ],
            [
             0.4444444444444444,
             "#bd3786"
            ],
            [
             0.5555555555555556,
             "#d8576b"
            ],
            [
             0.6666666666666666,
             "#ed7953"
            ],
            [
             0.7777777777777778,
             "#fb9f3a"
            ],
            [
             0.8888888888888888,
             "#fdca26"
            ],
            [
             1,
             "#f0f921"
            ]
           ]
          },
          "colorway": [
           "#636efa",
           "#EF553B",
           "#00cc96",
           "#ab63fa",
           "#FFA15A",
           "#19d3f3",
           "#FF6692",
           "#B6E880",
           "#FF97FF",
           "#FECB52"
          ],
          "font": {
           "color": "#2a3f5f"
          },
          "geo": {
           "bgcolor": "white",
           "lakecolor": "white",
           "landcolor": "#E5ECF6",
           "showlakes": true,
           "showland": true,
           "subunitcolor": "white"
          },
          "hoverlabel": {
           "align": "left"
          },
          "hovermode": "closest",
          "mapbox": {
           "style": "light"
          },
          "paper_bgcolor": "white",
          "plot_bgcolor": "#E5ECF6",
          "polar": {
           "angularaxis": {
            "gridcolor": "white",
            "linecolor": "white",
            "ticks": ""
           },
           "bgcolor": "#E5ECF6",
           "radialaxis": {
            "gridcolor": "white",
            "linecolor": "white",
            "ticks": ""
           }
          },
          "scene": {
           "xaxis": {
            "backgroundcolor": "#E5ECF6",
            "gridcolor": "white",
            "gridwidth": 2,
            "linecolor": "white",
            "showbackground": true,
            "ticks": "",
            "zerolinecolor": "white"
           },
           "yaxis": {
            "backgroundcolor": "#E5ECF6",
            "gridcolor": "white",
            "gridwidth": 2,
            "linecolor": "white",
            "showbackground": true,
            "ticks": "",
            "zerolinecolor": "white"
           },
           "zaxis": {
            "backgroundcolor": "#E5ECF6",
            "gridcolor": "white",
            "gridwidth": 2,
            "linecolor": "white",
            "showbackground": true,
            "ticks": "",
            "zerolinecolor": "white"
           }
          },
          "shapedefaults": {
           "line": {
            "color": "#2a3f5f"
           }
          },
          "ternary": {
           "aaxis": {
            "gridcolor": "white",
            "linecolor": "white",
            "ticks": ""
           },
           "baxis": {
            "gridcolor": "white",
            "linecolor": "white",
            "ticks": ""
           },
           "bgcolor": "#E5ECF6",
           "caxis": {
            "gridcolor": "white",
            "linecolor": "white",
            "ticks": ""
           }
          },
          "title": {
           "x": 0.05
          },
          "xaxis": {
           "automargin": true,
           "gridcolor": "white",
           "linecolor": "white",
           "ticks": "",
           "title": {
            "standoff": 15
           },
           "zerolinecolor": "white",
           "zerolinewidth": 2
          },
          "yaxis": {
           "automargin": true,
           "gridcolor": "white",
           "linecolor": "white",
           "ticks": "",
           "title": {
            "standoff": 15
           },
           "zerolinecolor": "white",
           "zerolinewidth": 2
          }
         }
        },
        "title": {
         "text": "Acteurs les plus prolifiques par décennie"
        },
        "updatemenus": [
         {
          "buttons": [
           {
            "args": [
             null,
             {
              "frame": {
               "duration": 800,
               "redraw": true
              },
              "fromcurrent": true,
              "mode": "immediate",
              "transition": {
               "duration": 500,
               "easing": "linear"
              }
             }
            ],
            "label": "&#9654;",
            "method": "animate"
           },
           {
            "args": [
             [
              null
             ],
             {
              "frame": {
               "duration": 0,
               "redraw": true
              },
              "fromcurrent": true,
              "mode": "immediate",
              "transition": {
               "duration": 0,
               "easing": "linear"
              }
             }
            ],
            "label": "&#9724;",
            "method": "animate"
           }
          ],
          "direction": "left",
          "pad": {
           "r": 10,
           "t": 70
          },
          "showactive": false,
          "type": "buttons",
          "x": 0.1,
          "xanchor": "right",
          "y": 0,
          "yanchor": "top"
         }
        ],
        "xaxis": {
         "anchor": "y",
         "domain": [
          0,
          1
         ],
         "range": [
          0,
          6
         ],
         "title": {
          "text": "Nombre de films"
         }
        },
        "yaxis": {
         "anchor": "x",
         "categoryorder": "total ascending",
         "domain": [
          0,
          1
         ],
         "title": {
          "text": "Nom"
         }
        }
       }
      }
     },
     "metadata": {},
     "output_type": "display_data"
    }
   ],
   "source": [
    "import pandas as pd\n",
    "import plotly.express as px\n",
    "\n",
    "# Étape 1 — Top 20 acteurs par décennie\n",
    "df_top20 = (\n",
    "    df_nbfilm_act\n",
    "    .sort_values(['decade', 'nb_films'], ascending=[True, False])\n",
    "    .groupby('decade', group_keys=False)\n",
    "    .head(20)\n",
    ")\n",
    "\n",
    "# Étape 2 — Création de la figure animée\n",
    "fig = px.bar(\n",
    "    df_top20,\n",
    "    x='nb_films',\n",
    "    y='primaryName',\n",
    "    animation_frame='decade',\n",
    "    orientation='h',\n",
    "    color_discrete_sequence=[\"#1f77b4\"]\n",
    ")\n",
    "\n",
    "# Étape 3 — Personnalisation du layout\n",
    "fig.update_layout(\n",
    "    xaxis_range=[0, df_top20['nb_films'].max() + 2],\n",
    "    title=\"Acteurs les plus prolifiques par décennie\",\n",
    "    xaxis_title=\"Nombre de films\",\n",
    "    yaxis_title=\"Nom\",\n",
    "    showlegend=False,\n",
    "    height=700,\n",
    "    margin=dict(l=140, r=40, t=60, b=40),\n",
    "    plot_bgcolor='white',\n",
    "    font=dict(size=14)\n",
    ")\n",
    "\n",
    "# Étape 4 — Tri visuel des barres\n",
    "fig.update_yaxes(categoryorder=\"total ascending\")\n",
    "\n",
    "# Étape 5 — Animation plus fluide\n",
    "fig.layout.updatemenus[0].buttons[0].args[1][\"frame\"][\"duration\"] = 800\n",
    "fig.layout.sliders[0].currentvalue.prefix = \"Décennie : \"\n",
    "\n",
    "# Étape 6 — Affichage\n",
    "fig.show()"
   ]
  },
  {
   "cell_type": "code",
   "execution_count": 240,
   "id": "59379a9f",
   "metadata": {},
   "outputs": [
    {
     "name": "stdout",
     "output_type": "stream",
     "text": [
      "5.10.4\n"
     ]
    }
   ],
   "source": [
    "import nbformat\n",
    "print(nbformat.__version__)"
   ]
  },
  {
   "cell_type": "code",
   "execution_count": 10,
   "id": "b7fc4b9c",
   "metadata": {},
   "outputs": [
    {
     "data": {
      "text/html": [
       "<div>\n",
       "<style scoped>\n",
       "    .dataframe tbody tr th:only-of-type {\n",
       "        vertical-align: middle;\n",
       "    }\n",
       "\n",
       "    .dataframe tbody tr th {\n",
       "        vertical-align: top;\n",
       "    }\n",
       "\n",
       "    .dataframe thead th {\n",
       "        text-align: right;\n",
       "    }\n",
       "</style>\n",
       "<table border=\"1\" class=\"dataframe\">\n",
       "  <thead>\n",
       "    <tr style=\"text-align: right;\">\n",
       "      <th></th>\n",
       "      <th>adult</th>\n",
       "      <th>backdrop_path</th>\n",
       "      <th>budget</th>\n",
       "      <th>genres</th>\n",
       "      <th>homepage</th>\n",
       "      <th>id</th>\n",
       "      <th>imdb_id</th>\n",
       "      <th>original_language</th>\n",
       "      <th>original_title</th>\n",
       "      <th>overview</th>\n",
       "      <th>...</th>\n",
       "      <th>runtime</th>\n",
       "      <th>spoken_languages</th>\n",
       "      <th>status</th>\n",
       "      <th>tagline</th>\n",
       "      <th>title</th>\n",
       "      <th>video</th>\n",
       "      <th>vote_average</th>\n",
       "      <th>vote_count</th>\n",
       "      <th>production_companies_name</th>\n",
       "      <th>production_companies_country</th>\n",
       "    </tr>\n",
       "  </thead>\n",
       "  <tbody>\n",
       "    <tr>\n",
       "      <th>0</th>\n",
       "      <td>False</td>\n",
       "      <td>/dvQj1GBZAZirz1skEEZyWH2ZqQP.jpg</td>\n",
       "      <td>0</td>\n",
       "      <td>['Comedy']</td>\n",
       "      <td>None</td>\n",
       "      <td>3924</td>\n",
       "      <td>tt0029927</td>\n",
       "      <td>en</td>\n",
       "      <td>Blondie</td>\n",
       "      <td>Blondie and Dagwood are about to celebrate the...</td>\n",
       "      <td>...</td>\n",
       "      <td>70</td>\n",
       "      <td>['en']</td>\n",
       "      <td>Released</td>\n",
       "      <td>The favorite comic strip of millions at last o...</td>\n",
       "      <td>Blondie</td>\n",
       "      <td>False</td>\n",
       "      <td>7.214</td>\n",
       "      <td>7</td>\n",
       "      <td>['Columbia Pictures']</td>\n",
       "      <td>['US']</td>\n",
       "    </tr>\n",
       "    <tr>\n",
       "      <th>1</th>\n",
       "      <td>False</td>\n",
       "      <td>None</td>\n",
       "      <td>0</td>\n",
       "      <td>['Adventure']</td>\n",
       "      <td>None</td>\n",
       "      <td>6124</td>\n",
       "      <td>tt0011436</td>\n",
       "      <td>de</td>\n",
       "      <td>Der Mann ohne Namen</td>\n",
       "      <td>None</td>\n",
       "      <td>...</td>\n",
       "      <td>420</td>\n",
       "      <td>[]</td>\n",
       "      <td>Released</td>\n",
       "      <td>None</td>\n",
       "      <td>Peter Voss, Thief of Millions</td>\n",
       "      <td>False</td>\n",
       "      <td>0.000</td>\n",
       "      <td>0</td>\n",
       "      <td>[]</td>\n",
       "      <td>[]</td>\n",
       "    </tr>\n",
       "    <tr>\n",
       "      <th>2</th>\n",
       "      <td>False</td>\n",
       "      <td>/uJlc4aNPF3Y8yAqahJTKBwgwPVW.jpg</td>\n",
       "      <td>0</td>\n",
       "      <td>['Drama', 'Romance']</td>\n",
       "      <td>None</td>\n",
       "      <td>8773</td>\n",
       "      <td>tt0055747</td>\n",
       "      <td>fr</td>\n",
       "      <td>L'Amour à vingt ans</td>\n",
       "      <td>Love at Twenty unites five directors from five...</td>\n",
       "      <td>...</td>\n",
       "      <td>110</td>\n",
       "      <td>['it', 'ja', 'pl', 'fr', 'de']</td>\n",
       "      <td>Released</td>\n",
       "      <td>The Intimate Secrets of Young Lovers</td>\n",
       "      <td>Love at Twenty</td>\n",
       "      <td>False</td>\n",
       "      <td>6.700</td>\n",
       "      <td>41</td>\n",
       "      <td>['Ulysse Productions', 'Unitec Films', 'Cinese...</td>\n",
       "      <td>['', 'NZ', 'IT', 'JP', 'DE', 'PL', '']</td>\n",
       "    </tr>\n",
       "    <tr>\n",
       "      <th>3</th>\n",
       "      <td>False</td>\n",
       "      <td>/hQ4pYsIbP22TMXOUdSfC2mjWrO0.jpg</td>\n",
       "      <td>0</td>\n",
       "      <td>['Drama', 'Comedy', 'Crime']</td>\n",
       "      <td>None</td>\n",
       "      <td>2</td>\n",
       "      <td>tt0094675</td>\n",
       "      <td>fi</td>\n",
       "      <td>Ariel</td>\n",
       "      <td>Taisto Kasurinen is a Finnish coal miner whose...</td>\n",
       "      <td>...</td>\n",
       "      <td>73</td>\n",
       "      <td>['fi']</td>\n",
       "      <td>Released</td>\n",
       "      <td>None</td>\n",
       "      <td>Ariel</td>\n",
       "      <td>False</td>\n",
       "      <td>7.046</td>\n",
       "      <td>248</td>\n",
       "      <td>['Villealfa Filmproductions']</td>\n",
       "      <td>['FI']</td>\n",
       "    </tr>\n",
       "    <tr>\n",
       "      <th>4</th>\n",
       "      <td>False</td>\n",
       "      <td>/l94l89eMmFKh7na2a1u5q67VgNx.jpg</td>\n",
       "      <td>0</td>\n",
       "      <td>['Drama', 'Comedy', 'Romance']</td>\n",
       "      <td>None</td>\n",
       "      <td>3</td>\n",
       "      <td>tt0092149</td>\n",
       "      <td>fi</td>\n",
       "      <td>Varjoja paratiisissa</td>\n",
       "      <td>An episode in the life of Nikander, a garbage ...</td>\n",
       "      <td>...</td>\n",
       "      <td>76</td>\n",
       "      <td>['en']</td>\n",
       "      <td>Released</td>\n",
       "      <td>None</td>\n",
       "      <td>Shadows in Paradise</td>\n",
       "      <td>False</td>\n",
       "      <td>7.182</td>\n",
       "      <td>269</td>\n",
       "      <td>['Villealfa Filmproductions']</td>\n",
       "      <td>['FI']</td>\n",
       "    </tr>\n",
       "  </tbody>\n",
       "</table>\n",
       "<p>5 rows × 25 columns</p>\n",
       "</div>"
      ],
      "text/plain": [
       "   adult                     backdrop_path  budget  \\\n",
       "0  False  /dvQj1GBZAZirz1skEEZyWH2ZqQP.jpg       0   \n",
       "1  False                              None       0   \n",
       "2  False  /uJlc4aNPF3Y8yAqahJTKBwgwPVW.jpg       0   \n",
       "3  False  /hQ4pYsIbP22TMXOUdSfC2mjWrO0.jpg       0   \n",
       "4  False  /l94l89eMmFKh7na2a1u5q67VgNx.jpg       0   \n",
       "\n",
       "                           genres homepage    id    imdb_id original_language  \\\n",
       "0                      ['Comedy']     None  3924  tt0029927                en   \n",
       "1                   ['Adventure']     None  6124  tt0011436                de   \n",
       "2            ['Drama', 'Romance']     None  8773  tt0055747                fr   \n",
       "3    ['Drama', 'Comedy', 'Crime']     None     2  tt0094675                fi   \n",
       "4  ['Drama', 'Comedy', 'Romance']     None     3  tt0092149                fi   \n",
       "\n",
       "         original_title                                           overview  \\\n",
       "0               Blondie  Blondie and Dagwood are about to celebrate the...   \n",
       "1   Der Mann ohne Namen                                               None   \n",
       "2   L'Amour à vingt ans  Love at Twenty unites five directors from five...   \n",
       "3                 Ariel  Taisto Kasurinen is a Finnish coal miner whose...   \n",
       "4  Varjoja paratiisissa  An episode in the life of Nikander, a garbage ...   \n",
       "\n",
       "   ...  runtime                spoken_languages    status  \\\n",
       "0  ...       70                          ['en']  Released   \n",
       "1  ...      420                              []  Released   \n",
       "2  ...      110  ['it', 'ja', 'pl', 'fr', 'de']  Released   \n",
       "3  ...       73                          ['fi']  Released   \n",
       "4  ...       76                          ['en']  Released   \n",
       "\n",
       "                                             tagline  \\\n",
       "0  The favorite comic strip of millions at last o...   \n",
       "1                                               None   \n",
       "2               The Intimate Secrets of Young Lovers   \n",
       "3                                               None   \n",
       "4                                               None   \n",
       "\n",
       "                           title  video vote_average vote_count  \\\n",
       "0                        Blondie  False        7.214          7   \n",
       "1  Peter Voss, Thief of Millions  False        0.000          0   \n",
       "2                 Love at Twenty  False        6.700         41   \n",
       "3                          Ariel  False        7.046        248   \n",
       "4            Shadows in Paradise  False        7.182        269   \n",
       "\n",
       "                           production_companies_name  \\\n",
       "0                              ['Columbia Pictures']   \n",
       "1                                                 []   \n",
       "2  ['Ulysse Productions', 'Unitec Films', 'Cinese...   \n",
       "3                      ['Villealfa Filmproductions']   \n",
       "4                      ['Villealfa Filmproductions']   \n",
       "\n",
       "             production_companies_country  \n",
       "0                                  ['US']  \n",
       "1                                      []  \n",
       "2  ['', 'NZ', 'IT', 'JP', 'DE', 'PL', '']  \n",
       "3                                  ['FI']  \n",
       "4                                  ['FI']  \n",
       "\n",
       "[5 rows x 25 columns]"
      ]
     },
     "execution_count": 10,
     "metadata": {},
     "output_type": "execute_result"
    }
   ],
   "source": [
    "df.head() #tmdb"
   ]
  },
  {
   "cell_type": "code",
   "execution_count": 98,
   "id": "ff591d69",
   "metadata": {},
   "outputs": [
    {
     "data": {
      "text/plain": [
       "Index(['adult', 'backdrop_path', 'budget', 'genres', 'homepage', 'id',\n",
       "       'imdb_id', 'original_language', 'original_title', 'overview',\n",
       "       'popularity', 'poster_path', 'production_countries', 'release_date',\n",
       "       'revenue', 'runtime', 'spoken_languages', 'status', 'tagline', 'title',\n",
       "       'video', 'vote_average', 'vote_count', 'production_companies_name',\n",
       "       'production_companies_country'],\n",
       "      dtype='object')"
      ]
     },
     "execution_count": 98,
     "metadata": {},
     "output_type": "execute_result"
    }
   ],
   "source": [
    "df_tmdb.columns"
   ]
  }
 ],
 "metadata": {
  "kernelspec": {
   "display_name": ".venv",
   "language": "python",
   "name": "python3"
  },
  "language_info": {
   "codemirror_mode": {
    "name": "ipython",
    "version": 3
   },
   "file_extension": ".py",
   "mimetype": "text/x-python",
   "name": "python",
   "nbconvert_exporter": "python",
   "pygments_lexer": "ipython3",
   "version": "3.13.3"
  }
 },
 "nbformat": 4,
 "nbformat_minor": 5
}
