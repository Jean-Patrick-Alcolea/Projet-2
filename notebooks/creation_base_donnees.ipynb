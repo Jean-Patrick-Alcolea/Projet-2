{
 "cells": [
  {
   "cell_type": "code",
   "execution_count": null,
   "id": "2f0b7c2c",
   "metadata": {},
   "outputs": [],
   "source": [
    "import duckdb as db\n"
   ]
  },
  {
   "cell_type": "code",
   "execution_count": 2,
   "id": "2788ecef",
   "metadata": {},
   "outputs": [],
   "source": [
    "def sql(query, database = \"../data/database.duckdb\"):\n",
    "    con = db.connect(database)\n",
    "    res = con.execute(query).df()\n",
    "    con.close()\n",
    "    return res"
   ]
  },
  {
   "cell_type": "code",
   "execution_count": null,
   "id": "d57d5dc6",
   "metadata": {},
   "outputs": [
    {
     "ename": "IOException",
     "evalue": "IO Error: No files found that match the pattern \"Path(\"data\") / \"tmdb_full.csv\"\"",
     "output_type": "error",
     "traceback": [
      "\u001b[31m---------------------------------------------------------------------------\u001b[39m",
      "\u001b[31mIOException\u001b[39m                               Traceback (most recent call last)",
      "\u001b[36mCell\u001b[39m\u001b[36m \u001b[39m\u001b[32mIn[3]\u001b[39m\u001b[32m, line 20\u001b[39m\n\u001b[32m     12\u001b[39m     sql(\n\u001b[32m     13\u001b[39m         \u001b[33mf\u001b[39m\u001b[33m\"\"\"\u001b[39m\n\u001b[32m     14\u001b[39m \u001b[33m            create or replace table \u001b[39m\u001b[38;5;132;01m{\u001b[39;00mname\u001b[38;5;132;01m}\u001b[39;00m\u001b[33m as\u001b[39m\n\u001b[32m   (...)\u001b[39m\u001b[32m     17\u001b[39m \u001b[33m        \u001b[39m\u001b[33m\"\"\"\u001b[39m\n\u001b[32m     18\u001b[39m     )\n\u001b[32m     19\u001b[39m \u001b[38;5;28;01melse\u001b[39;00m:\n\u001b[32m---> \u001b[39m\u001b[32m20\u001b[39m     \u001b[43msql\u001b[49m\u001b[43m(\u001b[49m\n\u001b[32m     21\u001b[39m \u001b[43m        \u001b[49m\u001b[33;43mf\u001b[39;49m\u001b[33;43m\"\"\"\u001b[39;49m\n\u001b[32m     22\u001b[39m \u001b[33;43m            create or replace table \u001b[39;49m\u001b[38;5;132;43;01m{\u001b[39;49;00m\u001b[43mname\u001b[49m\u001b[38;5;132;43;01m}\u001b[39;49;00m\u001b[33;43m as\u001b[39;49m\n\u001b[32m     23\u001b[39m \u001b[33;43m            select * from read_csv_auto(\u001b[39;49m\u001b[33;43m'\u001b[39;49m\u001b[38;5;132;43;01m{\u001b[39;49;00m\u001b[43murl\u001b[49m\u001b[38;5;132;43;01m}\u001b[39;49;00m\u001b[33;43m'\u001b[39;49m\u001b[33;43m)\u001b[39;49m\n\u001b[32m     24\u001b[39m \u001b[33;43m        \u001b[39;49m\u001b[33;43m\"\"\"\u001b[39;49m\n\u001b[32m     25\u001b[39m \u001b[43m    \u001b[49m\u001b[43m)\u001b[49m\n",
      "\u001b[36mCell\u001b[39m\u001b[36m \u001b[39m\u001b[32mIn[2]\u001b[39m\u001b[32m, line 3\u001b[39m, in \u001b[36msql\u001b[39m\u001b[34m(query, database)\u001b[39m\n\u001b[32m      1\u001b[39m \u001b[38;5;28;01mdef\u001b[39;00m\u001b[38;5;250m \u001b[39m\u001b[34msql\u001b[39m(query, database = \u001b[33m\"\u001b[39m\u001b[33m../data/database.duckdb\u001b[39m\u001b[33m\"\u001b[39m):\n\u001b[32m      2\u001b[39m     con = db.connect(database)\n\u001b[32m----> \u001b[39m\u001b[32m3\u001b[39m     res = \u001b[43mcon\u001b[49m\u001b[43m.\u001b[49m\u001b[43mexecute\u001b[49m\u001b[43m(\u001b[49m\u001b[43mquery\u001b[49m\u001b[43m)\u001b[49m.df()\n\u001b[32m      4\u001b[39m     con.close()\n\u001b[32m      5\u001b[39m     \u001b[38;5;28;01mreturn\u001b[39;00m res\n",
      "\u001b[31mIOException\u001b[39m: IO Error: No files found that match the pattern \"Path(\"data\") / \"tmdb_full.csv\"\""
     ]
    }
   ],
   "source": [
    "urls = {\n",
    "    'name_basics' : 'https://datasets.imdbws.com/name.basics.tsv.gz',\n",
    "    'title_basics' : 'https://datasets.imdbws.com/title.basics.tsv.gz',\n",
    "    'title_crew' : 'https://datasets.imdbws.com/title.crew.tsv.gz',\n",
    "    'title_ratings' : 'https://datasets.imdbws.com/title.ratings.tsv.gz',\n",
    "    'title_akas' : 'https://datasets.imdbws.com/title.akas.tsv.gz',\n",
    "    'tmdb' : '../data/tmdb_full.csv'\n",
    "}\n",
    "\n",
    "for name, url in urls.items():\n",
    "    if name == 'title_basics':\n",
    "        sql(\n",
    "            f\"\"\"\n",
    "                create or replace table {name} as\n",
    "                select * from read_csv_auto('{url}')\n",
    "                where titletype = 'movie'\n",
    "            \"\"\"\n",
    "        )\n",
    "    else:\n",
    "        sql(\n",
    "            f\"\"\"\n",
    "                create or replace table {name} as\n",
    "                select * from read_csv_auto('{url}')\n",
    "            \"\"\"\n",
    "        )\n"
   ]
  },
  {
   "cell_type": "code",
   "execution_count": 4,
   "id": "73cf55dd",
   "metadata": {},
   "outputs": [
    {
     "data": {
      "text/html": [
       "<div>\n",
       "<style scoped>\n",
       "    .dataframe tbody tr th:only-of-type {\n",
       "        vertical-align: middle;\n",
       "    }\n",
       "\n",
       "    .dataframe tbody tr th {\n",
       "        vertical-align: top;\n",
       "    }\n",
       "\n",
       "    .dataframe thead th {\n",
       "        text-align: right;\n",
       "    }\n",
       "</style>\n",
       "<table border=\"1\" class=\"dataframe\">\n",
       "  <thead>\n",
       "    <tr style=\"text-align: right;\">\n",
       "      <th></th>\n",
       "      <th>name</th>\n",
       "    </tr>\n",
       "  </thead>\n",
       "  <tbody>\n",
       "    <tr>\n",
       "      <th>0</th>\n",
       "      <td>name_basics</td>\n",
       "    </tr>\n",
       "    <tr>\n",
       "      <th>1</th>\n",
       "      <td>title_akas</td>\n",
       "    </tr>\n",
       "    <tr>\n",
       "      <th>2</th>\n",
       "      <td>title_basics</td>\n",
       "    </tr>\n",
       "    <tr>\n",
       "      <th>3</th>\n",
       "      <td>title_crew</td>\n",
       "    </tr>\n",
       "    <tr>\n",
       "      <th>4</th>\n",
       "      <td>title_ratings</td>\n",
       "    </tr>\n",
       "    <tr>\n",
       "      <th>5</th>\n",
       "      <td>tmdb</td>\n",
       "    </tr>\n",
       "  </tbody>\n",
       "</table>\n",
       "</div>"
      ],
      "text/plain": [
       "            name\n",
       "0    name_basics\n",
       "1     title_akas\n",
       "2   title_basics\n",
       "3     title_crew\n",
       "4  title_ratings\n",
       "5           tmdb"
      ]
     },
     "execution_count": 4,
     "metadata": {},
     "output_type": "execute_result"
    }
   ],
   "source": [
    "sql(\n",
    "    \"\"\"\n",
    "    show tables\n",
    "\n",
    "\"\"\"\n",
    ")"
   ]
  }
 ],
 "metadata": {
  "kernelspec": {
   "display_name": ".venv",
   "language": "python",
   "name": "python3"
  },
  "language_info": {
   "codemirror_mode": {
    "name": "ipython",
    "version": 3
   },
   "file_extension": ".py",
   "mimetype": "text/x-python",
   "name": "python",
   "nbconvert_exporter": "python",
   "pygments_lexer": "ipython3",
   "version": "3.11.9"
  }
 },
 "nbformat": 4,
 "nbformat_minor": 5
}
