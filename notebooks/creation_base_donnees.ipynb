{
 "cells": [
  {
   "cell_type": "code",
   "execution_count": 2,
   "id": "2f0b7c2c",
   "metadata": {},
   "outputs": [],
   "source": [
    "import duckdb as db\n",
    "import pandas as pd"
   ]
  },
  {
   "cell_type": "code",
   "execution_count": 3,
   "id": "2788ecef",
   "metadata": {},
   "outputs": [],
   "source": [
    "def sql(query, database = \"../data/database.duckdb\"):\n",
    "    con = db.connect(database)\n",
    "    res = con.execute(query).df()\n",
    "    con.close()\n",
    "    return res"
   ]
  },
  {
   "cell_type": "code",
   "execution_count": 18,
   "id": "d57d5dc6",
   "metadata": {},
   "outputs": [],
   "source": [
    "urls = {\n",
    "    'name_basics' : 'https://datasets.imdbws.com/name.basics.tsv.gz',\n",
    "    'title_basics' : 'https://datasets.imdbws.com/title.basics.tsv.gz',\n",
    "    'title_crew' : 'https://datasets.imdbws.com/title.crew.tsv.gz',\n",
    "    'title_ratings' : 'https://datasets.imdbws.com/title.ratings.tsv.gz',\n",
    "    'title_akas' : 'https://datasets.imdbws.com/title.akas.tsv.gz',\n",
    "    'tmdb' : '../data/tmdb_full.csv'\n",
    "}\n",
    "\n",
    "for name, url in urls.items():\n",
    "    if name == 'title_basics':\n",
    "        sql(\n",
    "            f\"\"\"\n",
    "                create or replace table {name} as\n",
    "                select * from read_csv_auto('{url}')\n",
    "                where titletype = 'movie'\n",
    "            \"\"\"\n",
    "        )\n",
    "    else:\n",
    "        sql(\n",
    "            f\"\"\"\n",
    "                create or replace table {name} as\n",
    "                select * from read_csv_auto('{url}')\n",
    "            \"\"\"\n",
    "        )\n"
   ]
  },
  {
   "cell_type": "code",
   "execution_count": 20,
   "id": "6fb3c20a",
   "metadata": {},
   "outputs": [
    {
     "data": {
      "text/html": [
       "<div>\n",
       "<style scoped>\n",
       "    .dataframe tbody tr th:only-of-type {\n",
       "        vertical-align: middle;\n",
       "    }\n",
       "\n",
       "    .dataframe tbody tr th {\n",
       "        vertical-align: top;\n",
       "    }\n",
       "\n",
       "    .dataframe thead th {\n",
       "        text-align: right;\n",
       "    }\n",
       "</style>\n",
       "<table border=\"1\" class=\"dataframe\">\n",
       "  <thead>\n",
       "    <tr style=\"text-align: right;\">\n",
       "      <th></th>\n",
       "      <th>Count</th>\n",
       "    </tr>\n",
       "  </thead>\n",
       "  <tbody>\n",
       "    <tr>\n",
       "      <th>0</th>\n",
       "      <td>92760677</td>\n",
       "    </tr>\n",
       "  </tbody>\n",
       "</table>\n",
       "</div>"
      ],
      "text/plain": [
       "      Count\n",
       "0  92760677"
      ]
     },
     "execution_count": 20,
     "metadata": {},
     "output_type": "execute_result"
    }
   ],
   "source": [
    "sql(\n",
    "            f\"\"\"\n",
    "                create or replace table title_principals as\n",
    "                select * from read_csv_auto('https://datasets.imdbws.com/title.principals.tsv.gz')\n",
    "            \"\"\"\n",
    "        )"
   ]
  },
  {
   "cell_type": "code",
   "execution_count": 5,
   "id": "73cf55dd",
   "metadata": {},
   "outputs": [
    {
     "data": {
      "text/html": [
       "<div>\n",
       "<style scoped>\n",
       "    .dataframe tbody tr th:only-of-type {\n",
       "        vertical-align: middle;\n",
       "    }\n",
       "\n",
       "    .dataframe tbody tr th {\n",
       "        vertical-align: top;\n",
       "    }\n",
       "\n",
       "    .dataframe thead th {\n",
       "        text-align: right;\n",
       "    }\n",
       "</style>\n",
       "<table border=\"1\" class=\"dataframe\">\n",
       "  <thead>\n",
       "    <tr style=\"text-align: right;\">\n",
       "      <th></th>\n",
       "      <th>name</th>\n",
       "    </tr>\n",
       "  </thead>\n",
       "  <tbody>\n",
       "    <tr>\n",
       "      <th>0</th>\n",
       "      <td>dataframe_view</td>\n",
       "    </tr>\n",
       "    <tr>\n",
       "      <th>1</th>\n",
       "      <td>name_basics</td>\n",
       "    </tr>\n",
       "    <tr>\n",
       "      <th>2</th>\n",
       "      <td>title_akas</td>\n",
       "    </tr>\n",
       "    <tr>\n",
       "      <th>3</th>\n",
       "      <td>title_basics</td>\n",
       "    </tr>\n",
       "    <tr>\n",
       "      <th>4</th>\n",
       "      <td>title_crew</td>\n",
       "    </tr>\n",
       "    <tr>\n",
       "      <th>5</th>\n",
       "      <td>title_principals</td>\n",
       "    </tr>\n",
       "    <tr>\n",
       "      <th>6</th>\n",
       "      <td>title_ratings</td>\n",
       "    </tr>\n",
       "    <tr>\n",
       "      <th>7</th>\n",
       "      <td>tmdb</td>\n",
       "    </tr>\n",
       "  </tbody>\n",
       "</table>\n",
       "</div>"
      ],
      "text/plain": [
       "               name\n",
       "0    dataframe_view\n",
       "1       name_basics\n",
       "2        title_akas\n",
       "3      title_basics\n",
       "4        title_crew\n",
       "5  title_principals\n",
       "6     title_ratings\n",
       "7              tmdb"
      ]
     },
     "execution_count": 5,
     "metadata": {},
     "output_type": "execute_result"
    }
   ],
   "source": [
    "sql(\n",
    "    \"\"\"\n",
    "    show tables\n",
    "\n",
    "\"\"\"\n",
    ")"
   ]
  },
  {
   "cell_type": "code",
   "execution_count": 4,
   "id": "f05cd2d6",
   "metadata": {},
   "outputs": [],
   "source": [
    "df = pd.DataFrame(\n",
    "    sql('''\n",
    "        SELECT * FROM dataframe_view\n",
    "        '''\n",
    "    )\n",
    ")"
   ]
  },
  {
   "cell_type": "code",
   "execution_count": 6,
   "id": "3360cde7",
   "metadata": {},
   "outputs": [],
   "source": [
    "df.to_parquet('../data/app_df.gzip', compression='gzip')"
   ]
  },
  {
   "cell_type": "code",
   "execution_count": 7,
   "id": "40d92cdc",
   "metadata": {},
   "outputs": [],
   "source": [
    "df_test = pd.read_parquet('../data/app_df.gzip')"
   ]
  },
  {
   "cell_type": "code",
   "execution_count": 12,
   "id": "982a8164",
   "metadata": {},
   "outputs": [],
   "source": [
    "pd.read_parquet(\"../data/df_similar.gzip\")\n",
    "df = pd.read_parquet(\"../data/df_similar.gzip\")\n",
    "df.to_csv(\"../data/df.csv\") "
   ]
  },
  {
   "cell_type": "code",
   "execution_count": 17,
   "id": "9bf32926",
   "metadata": {},
   "outputs": [
    {
     "name": "stdout",
     "output_type": "stream",
     "text": [
      "<class 'pandas.core.frame.DataFrame'>\n",
      "Index: 99312 entries, 0 to 101543\n",
      "Data columns (total 15 columns):\n",
      " #   Column               Non-Null Count  Dtype         \n",
      "---  ------               --------------  -----         \n",
      " 0   tconst               99312 non-null  object        \n",
      " 1   Title                99312 non-null  object        \n",
      " 2   Genres               99312 non-null  object        \n",
      " 3   Year                 99312 non-null  datetime64[ns]\n",
      " 4   Runtime              99312 non-null  int64         \n",
      " 5   Actors               99312 non-null  object        \n",
      " 6   Director             99312 non-null  object        \n",
      " 7   Writers              99312 non-null  object        \n",
      " 8   Resume               99312 non-null  object        \n",
      " 9   Rating               99312 non-null  float64       \n",
      " 10  Votes                99312 non-null  int64         \n",
      " 11  ProductionCompanies  99312 non-null  object        \n",
      " 12  ProductionCountries  99312 non-null  object        \n",
      " 13  Poster               99312 non-null  object        \n",
      " 14  similar_films        99312 non-null  object        \n",
      "dtypes: datetime64[ns](1), float64(1), int64(2), object(11)\n",
      "memory usage: 12.1+ MB\n"
     ]
    }
   ],
   "source": [
    "df['Year'] = pd.to_datetime(df['Year'])\n",
    "df.info()\n",
    "df.to_csv(\"../data/df.csv\") "
   ]
  },
  {
   "cell_type": "code",
   "execution_count": null,
   "id": "7a9b1ad0",
   "metadata": {},
   "outputs": [],
   "source": []
  }
 ],
 "metadata": {
  "kernelspec": {
   "display_name": ".venv",
   "language": "python",
   "name": "python3"
  },
  "language_info": {
   "codemirror_mode": {
    "name": "ipython",
    "version": 3
   },
   "file_extension": ".py",
   "mimetype": "text/x-python",
   "name": "python",
   "nbconvert_exporter": "python",
   "pygments_lexer": "ipython3",
   "version": "3.13.3"
  }
 },
 "nbformat": 4,
 "nbformat_minor": 5
}
