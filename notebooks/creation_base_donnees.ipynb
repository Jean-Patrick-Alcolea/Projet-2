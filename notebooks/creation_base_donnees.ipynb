{
 "cells": [
  {
   "cell_type": "code",
   "execution_count": 3,
   "id": "2f0b7c2c",
   "metadata": {},
   "outputs": [],
   "source": [
    "import duckdb as db"
   ]
  },
  {
   "cell_type": "code",
   "execution_count": 4,
   "id": "2788ecef",
   "metadata": {},
   "outputs": [],
   "source": [
    "def sql(query, database = \"../data/database.duckdb\"):\n",
    "    con = db.connect(database)\n",
    "    res = con.execute(query).df()\n",
    "    con.close()\n",
    "    return res"
   ]
  },
  {
   "cell_type": "code",
   "execution_count": 9,
   "id": "d57d5dc6",
   "metadata": {},
   "outputs": [],
   "source": [
    "urls = {\n",
    "    'name_basics' : 'https://datasets.imdbws.com/name.basics.tsv.gz',\n",
    "    'title_basics' : 'https://datasets.imdbws.com/title.basics.tsv.gz',\n",
    "    'title_crew' : 'https://datasets.imdbws.com/title.crew.tsv.gz',\n",
    "    'title_ratings' : 'https://datasets.imdbws.com/title.ratings.tsv.gz',\n",
    "    'title_akas' : 'https://datasets.imdbws.com/title.akas.tsv.gz',\n",
    "    'tmdb' : '../data/tmdb_full.csv'\n",
    "}\n",
    "\n",
    "for name, url in urls.items():\n",
    "    if name == 'title_basics':\n",
    "        sql(\n",
    "            f\"\"\"\n",
    "                create or replace table {name} as\n",
    "                select * from read_csv_auto('{url}')\n",
    "                where titletype = 'movie'\n",
    "            \"\"\"\n",
    "        )\n",
    "    else:\n",
    "        sql(\n",
    "            f\"\"\"\n",
    "                create or replace table {name} as\n",
    "                select * from read_csv_auto('{url}')\n",
    "            \"\"\"\n",
    "        )\n"
   ]
  },
  {
   "cell_type": "code",
   "execution_count": 11,
   "id": "6fb3c20a",
   "metadata": {},
   "outputs": [
    {
     "data": {
      "text/html": [
       "<div>\n",
       "<style scoped>\n",
       "    .dataframe tbody tr th:only-of-type {\n",
       "        vertical-align: middle;\n",
       "    }\n",
       "\n",
       "    .dataframe tbody tr th {\n",
       "        vertical-align: top;\n",
       "    }\n",
       "\n",
       "    .dataframe thead th {\n",
       "        text-align: right;\n",
       "    }\n",
       "</style>\n",
       "<table border=\"1\" class=\"dataframe\">\n",
       "  <thead>\n",
       "    <tr style=\"text-align: right;\">\n",
       "      <th></th>\n",
       "      <th>Count</th>\n",
       "    </tr>\n",
       "  </thead>\n",
       "  <tbody>\n",
       "    <tr>\n",
       "      <th>0</th>\n",
       "      <td>92549544</td>\n",
       "    </tr>\n",
       "  </tbody>\n",
       "</table>\n",
       "</div>"
      ],
      "text/plain": [
       "      Count\n",
       "0  92549544"
      ]
     },
     "execution_count": 11,
     "metadata": {},
     "output_type": "execute_result"
    }
   ],
   "source": [
    "sql(\n",
    "            f\"\"\"\n",
    "                create or replace table title_principals as\n",
    "                select * from read_csv_auto('https://datasets.imdbws.com/title.principals.tsv.gz')\n",
    "            \"\"\"\n",
    "        )"
   ]
  },
  {
   "cell_type": "code",
   "execution_count": 12,
   "id": "73cf55dd",
   "metadata": {},
   "outputs": [
    {
     "data": {
      "text/html": [
       "<div>\n",
       "<style scoped>\n",
       "    .dataframe tbody tr th:only-of-type {\n",
       "        vertical-align: middle;\n",
       "    }\n",
       "\n",
       "    .dataframe tbody tr th {\n",
       "        vertical-align: top;\n",
       "    }\n",
       "\n",
       "    .dataframe thead th {\n",
       "        text-align: right;\n",
       "    }\n",
       "</style>\n",
       "<table border=\"1\" class=\"dataframe\">\n",
       "  <thead>\n",
       "    <tr style=\"text-align: right;\">\n",
       "      <th></th>\n",
       "      <th>name</th>\n",
       "    </tr>\n",
       "  </thead>\n",
       "  <tbody>\n",
       "    <tr>\n",
       "      <th>0</th>\n",
       "      <td>name_basics</td>\n",
       "    </tr>\n",
       "    <tr>\n",
       "      <th>1</th>\n",
       "      <td>title_akas</td>\n",
       "    </tr>\n",
       "    <tr>\n",
       "      <th>2</th>\n",
       "      <td>title_basics</td>\n",
       "    </tr>\n",
       "    <tr>\n",
       "      <th>3</th>\n",
       "      <td>title_crew</td>\n",
       "    </tr>\n",
       "    <tr>\n",
       "      <th>4</th>\n",
       "      <td>title_principals</td>\n",
       "    </tr>\n",
       "    <tr>\n",
       "      <th>5</th>\n",
       "      <td>title_ratings</td>\n",
       "    </tr>\n",
       "    <tr>\n",
       "      <th>6</th>\n",
       "      <td>tmdb</td>\n",
       "    </tr>\n",
       "  </tbody>\n",
       "</table>\n",
       "</div>"
      ],
      "text/plain": [
       "               name\n",
       "0       name_basics\n",
       "1        title_akas\n",
       "2      title_basics\n",
       "3        title_crew\n",
       "4  title_principals\n",
       "5     title_ratings\n",
       "6              tmdb"
      ]
     },
     "execution_count": 12,
     "metadata": {},
     "output_type": "execute_result"
    }
   ],
   "source": [
    "sql(\n",
    "    \"\"\"\n",
    "    show tables\n",
    "\n",
    "\"\"\"\n",
    ")"
   ]
  }
 ],
 "metadata": {
  "kernelspec": {
   "display_name": ".venv",
   "language": "python",
   "name": "python3"
  },
  "language_info": {
   "codemirror_mode": {
    "name": "ipython",
    "version": 3
   },
   "file_extension": ".py",
   "mimetype": "text/x-python",
   "name": "python",
   "nbconvert_exporter": "python",
   "pygments_lexer": "ipython3",
   "version": "3.11.9"
  }
 },
 "nbformat": 4,
 "nbformat_minor": 5
}
