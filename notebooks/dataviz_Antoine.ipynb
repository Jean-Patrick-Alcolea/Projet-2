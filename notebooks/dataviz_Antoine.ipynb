{
 "cells": [
  {
   "cell_type": "code",
   "execution_count": 1,
   "id": "916205b4",
   "metadata": {},
   "outputs": [],
   "source": [
    "import pandas as pd\n",
    "import numpy as np\n",
    "import seaborn as sns\n",
    "import matplotlib.pyplot as plt\n",
    "import duckdb as db\n",
    "import plotly.express as px\n"
   ]
  },
  {
   "cell_type": "markdown",
   "id": "a82078f9",
   "metadata": {},
   "source": [
    "ACTEURS SELON TYPE DE FILMS"
   ]
  },
  {
   "cell_type": "code",
   "execution_count": 2,
   "id": "a96faa62",
   "metadata": {},
   "outputs": [],
   "source": [
    "def sql(query, database = \"../data/database.duckdb\"):\n",
    "    con = db.connect(database)\n",
    "    res = con.execute(query).df()\n",
    "    con.close()\n",
    "    return res"
   ]
  },
  {
   "cell_type": "code",
   "execution_count": 3,
   "id": "f570915d",
   "metadata": {},
   "outputs": [
    {
     "data": {
      "text/html": [
       "<div>\n",
       "<style scoped>\n",
       "    .dataframe tbody tr th:only-of-type {\n",
       "        vertical-align: middle;\n",
       "    }\n",
       "\n",
       "    .dataframe tbody tr th {\n",
       "        vertical-align: top;\n",
       "    }\n",
       "\n",
       "    .dataframe thead th {\n",
       "        text-align: right;\n",
       "    }\n",
       "</style>\n",
       "<table border=\"1\" class=\"dataframe\">\n",
       "  <thead>\n",
       "    <tr style=\"text-align: right;\">\n",
       "      <th></th>\n",
       "      <th>name</th>\n",
       "    </tr>\n",
       "  </thead>\n",
       "  <tbody>\n",
       "    <tr>\n",
       "      <th>0</th>\n",
       "      <td>dataframe_view</td>\n",
       "    </tr>\n",
       "    <tr>\n",
       "      <th>1</th>\n",
       "      <td>name_basics</td>\n",
       "    </tr>\n",
       "    <tr>\n",
       "      <th>2</th>\n",
       "      <td>title_akas</td>\n",
       "    </tr>\n",
       "    <tr>\n",
       "      <th>3</th>\n",
       "      <td>title_basics</td>\n",
       "    </tr>\n",
       "    <tr>\n",
       "      <th>4</th>\n",
       "      <td>title_crew</td>\n",
       "    </tr>\n",
       "    <tr>\n",
       "      <th>5</th>\n",
       "      <td>title_principals</td>\n",
       "    </tr>\n",
       "    <tr>\n",
       "      <th>6</th>\n",
       "      <td>title_ratings</td>\n",
       "    </tr>\n",
       "    <tr>\n",
       "      <th>7</th>\n",
       "      <td>tmdb</td>\n",
       "    </tr>\n",
       "  </tbody>\n",
       "</table>\n",
       "</div>"
      ],
      "text/plain": [
       "               name\n",
       "0    dataframe_view\n",
       "1       name_basics\n",
       "2        title_akas\n",
       "3      title_basics\n",
       "4        title_crew\n",
       "5  title_principals\n",
       "6     title_ratings\n",
       "7              tmdb"
      ]
     },
     "execution_count": 3,
     "metadata": {},
     "output_type": "execute_result"
    }
   ],
   "source": [
    "sql(\"show tables\")"
   ]
  },
  {
   "cell_type": "code",
   "execution_count": 3,
   "id": "0d49694a",
   "metadata": {},
   "outputs": [
    {
     "data": {
      "application/vnd.jupyter.widget-view+json": {
       "model_id": "e0a6e1cffabd465985be8d1e0050a284",
       "version_major": 2,
       "version_minor": 0
      },
      "text/plain": [
       "FloatProgress(value=0.0, layout=Layout(width='auto'), style=ProgressStyle(bar_color='black'))"
      ]
     },
     "metadata": {},
     "output_type": "display_data"
    }
   ],
   "source": [
    "df_all = sql(\"SELECT * from dataframe_view\")"
   ]
  },
  {
   "cell_type": "code",
   "execution_count": 8,
   "id": "f526435d",
   "metadata": {},
   "outputs": [
    {
     "name": "stdout",
     "output_type": "stream",
     "text": [
      "<class 'pandas.core.frame.DataFrame'>\n",
      "RangeIndex: 101563 entries, 0 to 101562\n",
      "Data columns (total 17 columns):\n",
      " #   Column               Non-Null Count   Dtype  \n",
      "---  ------               --------------   -----  \n",
      " 0   tconst               101563 non-null  object \n",
      " 1   Title                101563 non-null  object \n",
      " 2   Genres               101563 non-null  object \n",
      " 3   Year                 101563 non-null  object \n",
      " 4   Runtime              101563 non-null  object \n",
      " 5   Actors               101563 non-null  object \n",
      " 6   Director             101563 non-null  object \n",
      " 7   Writers              99412 non-null   object \n",
      " 8   Resume               100412 non-null  object \n",
      " 9   Rating               101563 non-null  float64\n",
      " 10  Votes                101563 non-null  int64  \n",
      " 11  Budget               101563 non-null  int64  \n",
      " 12  Revenue              101563 non-null  int64  \n",
      " 13  Profit               101563 non-null  int64  \n",
      " 14  ProductionCompanies  101563 non-null  object \n",
      " 15  ProductionCountries  41452 non-null   object \n",
      " 16  Poster               99332 non-null   object \n",
      "dtypes: float64(1), int64(4), object(12)\n",
      "memory usage: 13.2+ MB\n"
     ]
    }
   ],
   "source": [
    "df_all.info()"
   ]
  },
  {
   "cell_type": "code",
   "execution_count": 4,
   "id": "ab46ae2d",
   "metadata": {},
   "outputs": [],
   "source": [
    "data_copy = df_all"
   ]
  },
  {
   "cell_type": "code",
   "execution_count": 5,
   "id": "6ca46c01",
   "metadata": {},
   "outputs": [
    {
     "name": "stderr",
     "output_type": "stream",
     "text": [
      "C:\\Users\\antoi\\AppData\\Local\\Temp\\ipykernel_98624\\359270650.py:13: SettingWithCopyWarning: \n",
      "A value is trying to be set on a copy of a slice from a DataFrame.\n",
      "Try using .loc[row_indexer,col_indexer] = value instead\n",
      "\n",
      "See the caveats in the documentation: https://pandas.pydata.org/pandas-docs/stable/user_guide/indexing.html#returning-a-view-versus-a-copy\n",
      "  data_copy['Year'] = data_copy['Year'].astype(int)\n",
      "C:\\Users\\antoi\\AppData\\Local\\Temp\\ipykernel_98624\\359270650.py:14: FutureWarning: A value is trying to be set on a copy of a DataFrame or Series through chained assignment using an inplace method.\n",
      "The behavior will change in pandas 3.0. This inplace method will never work because the intermediate object on which we are setting values always behaves as a copy.\n",
      "\n",
      "For example, when doing 'df[col].method(value, inplace=True)', try using 'df.method({col: value}, inplace=True)' or df[col] = df[col].method(value) instead, to perform the operation inplace on the original object.\n",
      "\n",
      "\n",
      "  data_copy['Resume'].fillna('Unknown', inplace=True)\n",
      "C:\\Users\\antoi\\AppData\\Local\\Temp\\ipykernel_98624\\359270650.py:14: SettingWithCopyWarning: \n",
      "A value is trying to be set on a copy of a slice from a DataFrame\n",
      "\n",
      "See the caveats in the documentation: https://pandas.pydata.org/pandas-docs/stable/user_guide/indexing.html#returning-a-view-versus-a-copy\n",
      "  data_copy['Resume'].fillna('Unknown', inplace=True)\n",
      "C:\\Users\\antoi\\AppData\\Local\\Temp\\ipykernel_98624\\359270650.py:16: SettingWithCopyWarning: \n",
      "A value is trying to be set on a copy of a slice from a DataFrame.\n",
      "Try using .loc[row_indexer,col_indexer] = value instead\n",
      "\n",
      "See the caveats in the documentation: https://pandas.pydata.org/pandas-docs/stable/user_guide/indexing.html#returning-a-view-versus-a-copy\n",
      "  df_runtime['Runtime'] = df_runtime['Runtime'].astype(int)\n",
      "C:\\Users\\antoi\\AppData\\Local\\Temp\\ipykernel_98624\\359270650.py:17: SettingWithCopyWarning: \n",
      "A value is trying to be set on a copy of a slice from a DataFrame.\n",
      "Try using .loc[row_indexer,col_indexer] = value instead\n",
      "\n",
      "See the caveats in the documentation: https://pandas.pydata.org/pandas-docs/stable/user_guide/indexing.html#returning-a-view-versus-a-copy\n",
      "  data_copy['Runtime'] = data_copy['Runtime'].apply(lambda x: df_runtime['Runtime'].median() if x == '\\\\N' else x)\n",
      "C:\\Users\\antoi\\AppData\\Local\\Temp\\ipykernel_98624\\359270650.py:18: SettingWithCopyWarning: \n",
      "A value is trying to be set on a copy of a slice from a DataFrame.\n",
      "Try using .loc[row_indexer,col_indexer] = value instead\n",
      "\n",
      "See the caveats in the documentation: https://pandas.pydata.org/pandas-docs/stable/user_guide/indexing.html#returning-a-view-versus-a-copy\n",
      "  data_copy['Runtime'] = data_copy['Runtime'].astype(int)\n",
      "C:\\Users\\antoi\\AppData\\Local\\Temp\\ipykernel_98624\\359270650.py:20: FutureWarning: A value is trying to be set on a copy of a DataFrame or Series through chained assignment using an inplace method.\n",
      "The behavior will change in pandas 3.0. This inplace method will never work because the intermediate object on which we are setting values always behaves as a copy.\n",
      "\n",
      "For example, when doing 'df[col].method(value, inplace=True)', try using 'df.method({col: value}, inplace=True)' or df[col] = df[col].method(value) instead, to perform the operation inplace on the original object.\n",
      "\n",
      "\n",
      "  data_copy['ProductionCountries'].fillna('Unknown', inplace=True)\n",
      "C:\\Users\\antoi\\AppData\\Local\\Temp\\ipykernel_98624\\359270650.py:20: SettingWithCopyWarning: \n",
      "A value is trying to be set on a copy of a slice from a DataFrame\n",
      "\n",
      "See the caveats in the documentation: https://pandas.pydata.org/pandas-docs/stable/user_guide/indexing.html#returning-a-view-versus-a-copy\n",
      "  data_copy['ProductionCountries'].fillna('Unknown', inplace=True)\n",
      "C:\\Users\\antoi\\AppData\\Local\\Temp\\ipykernel_98624\\359270650.py:21: SettingWithCopyWarning: \n",
      "A value is trying to be set on a copy of a slice from a DataFrame.\n",
      "Try using .loc[row_indexer,col_indexer] = value instead\n",
      "\n",
      "See the caveats in the documentation: https://pandas.pydata.org/pandas-docs/stable/user_guide/indexing.html#returning-a-view-versus-a-copy\n",
      "  data_copy['ProductionCountries'] = data_copy['ProductionCountries'].apply(clean_row)\n",
      "C:\\Users\\antoi\\AppData\\Local\\Temp\\ipykernel_98624\\359270650.py:22: SettingWithCopyWarning: \n",
      "A value is trying to be set on a copy of a slice from a DataFrame.\n",
      "Try using .loc[row_indexer,col_indexer] = value instead\n",
      "\n",
      "See the caveats in the documentation: https://pandas.pydata.org/pandas-docs/stable/user_guide/indexing.html#returning-a-view-versus-a-copy\n",
      "  data_copy['ProductionCompanies'] = data_copy['ProductionCompanies'].apply(clean_row)\n",
      "C:\\Users\\antoi\\AppData\\Local\\Temp\\ipykernel_98624\\359270650.py:23: SettingWithCopyWarning: \n",
      "A value is trying to be set on a copy of a slice from a DataFrame.\n",
      "Try using .loc[row_indexer,col_indexer] = value instead\n",
      "\n",
      "See the caveats in the documentation: https://pandas.pydata.org/pandas-docs/stable/user_guide/indexing.html#returning-a-view-versus-a-copy\n",
      "  data_copy['ProductionCountries'] = data_copy['ProductionCountries'].apply(\n",
      "C:\\Users\\antoi\\AppData\\Local\\Temp\\ipykernel_98624\\359270650.py:26: FutureWarning: A value is trying to be set on a copy of a DataFrame or Series through chained assignment using an inplace method.\n",
      "The behavior will change in pandas 3.0. This inplace method will never work because the intermediate object on which we are setting values always behaves as a copy.\n",
      "\n",
      "For example, when doing 'df[col].method(value, inplace=True)', try using 'df.method({col: value}, inplace=True)' or df[col] = df[col].method(value) instead, to perform the operation inplace on the original object.\n",
      "\n",
      "\n",
      "  data_copy['Writers'].fillna('Unknown', inplace=True)\n",
      "C:\\Users\\antoi\\AppData\\Local\\Temp\\ipykernel_98624\\359270650.py:26: SettingWithCopyWarning: \n",
      "A value is trying to be set on a copy of a slice from a DataFrame\n",
      "\n",
      "See the caveats in the documentation: https://pandas.pydata.org/pandas-docs/stable/user_guide/indexing.html#returning-a-view-versus-a-copy\n",
      "  data_copy['Writers'].fillna('Unknown', inplace=True)\n"
     ]
    }
   ],
   "source": [
    "#CLEAN DATA \n",
    "def clean_row(row):\n",
    "    return row.replace(\"[\", \"\").replace(\"]\", \"\").replace(\"'\", \"\")\n",
    "data_copy.drop(columns= ['Profit','Revenue', 'Budget'], inplace=True) #trop de valeurs manquantes, DF faussé\n",
    "data_copy['ProductionCountries'] = data_copy['ProductionCountries'].apply(lambda x: 'Unknown' if x =='\\\\N' else x)\n",
    "data_copy['Writers'] = data_copy['Writers'].apply(lambda x: 'Unknown' if x== '\\\\N'  else x)\n",
    "data_copy['Resume'] = data_copy['Resume'].apply(lambda x: 'Unknown' if x == '\\\\N'  else x)\n",
    "data_copy['Poster'] = data_copy['Poster'].apply(lambda x: 'Unknown' if x == '\\\\N'  else x)\n",
    "#nettoyage de la colonne Year (il semblerait qu'il y ait qu'une ligne avec une valeur '\\N')\n",
    "data_copy['Year'] = data_copy['Year'].replace('\\\\N', np.nan)\n",
    "data_copy = data_copy.dropna(subset=['Year'])\n",
    "#On convertit la colonne Year en int pour pouvoir l'utiliser dans le modèle\n",
    "data_copy['Year'] = data_copy['Year'].astype(int)\n",
    "data_copy['Resume'].fillna('Unknown', inplace=True)\n",
    "df_runtime = data_copy[data_copy['Runtime'] != '\\\\N']\n",
    "df_runtime['Runtime'] = df_runtime['Runtime'].astype(int)\n",
    "data_copy['Runtime'] = data_copy['Runtime'].apply(lambda x: df_runtime['Runtime'].median() if x == '\\\\N' else x)\n",
    "data_copy['Runtime'] = data_copy['Runtime'].astype(int)\n",
    "data_copy['Runtime'].describe()\n",
    "data_copy['ProductionCountries'].fillna('Unknown', inplace=True)\n",
    "data_copy['ProductionCountries'] = data_copy['ProductionCountries'].apply(clean_row)\n",
    "data_copy['ProductionCompanies'] = data_copy['ProductionCompanies'].apply(clean_row)\n",
    "data_copy['ProductionCountries'] = data_copy['ProductionCountries'].apply(\n",
    "    lambda x: ', '.join(dict.fromkeys(str(x).split(', ')))\n",
    ")\n",
    "data_copy['Writers'].fillna('Unknown', inplace=True)\n"
   ]
  },
  {
   "cell_type": "code",
   "execution_count": 12,
   "id": "331908d5",
   "metadata": {},
   "outputs": [
    {
     "name": "stdout",
     "output_type": "stream",
     "text": [
      "<class 'pandas.core.frame.DataFrame'>\n",
      "Index: 101562 entries, 0 to 101562\n",
      "Data columns (total 14 columns):\n",
      " #   Column               Non-Null Count   Dtype  \n",
      "---  ------               --------------   -----  \n",
      " 0   tconst               101562 non-null  object \n",
      " 1   Title                101562 non-null  object \n",
      " 2   Genres               101562 non-null  object \n",
      " 3   Year                 101562 non-null  int64  \n",
      " 4   Runtime              101562 non-null  int64  \n",
      " 5   Actors               101562 non-null  object \n",
      " 6   Director             101562 non-null  object \n",
      " 7   Writers              101562 non-null  object \n",
      " 8   Resume               101562 non-null  object \n",
      " 9   Rating               101562 non-null  float64\n",
      " 10  Votes                101562 non-null  int64  \n",
      " 11  ProductionCompanies  101562 non-null  object \n",
      " 12  ProductionCountries  101562 non-null  object \n",
      " 13  Poster               99331 non-null   object \n",
      "dtypes: float64(1), int64(3), object(10)\n",
      "memory usage: 11.6+ MB\n"
     ]
    }
   ],
   "source": [
    "data_copy.info()"
   ]
  },
  {
   "cell_type": "code",
   "execution_count": 44,
   "id": "e46602a7",
   "metadata": {},
   "outputs": [
    {
     "data": {
      "text/plain": [
       "Genres\n",
       "Drama                      13854\n",
       "Comedy                      7719\n",
       "Comedy,Drama                4864\n",
       "Drama,Romance               3924\n",
       "Comedy,Drama,Romance        2872\n",
       "Comedy,Romance              2794\n",
       "Horror                      2671\n",
       "Action,Crime,Drama          1727\n",
       "Drama,Thriller              1629\n",
       "Crime,Drama                 1582\n",
       "Horror,Thriller             1506\n",
       "Thriller                    1399\n",
       "Documentary                 1368\n",
       "Crime,Drama,Thriller        1327\n",
       "Action,Drama                 987\n",
       "Crime,Drama,Mystery          945\n",
       "Drama,War                    862\n",
       "Horror,Mystery,Thriller      830\n",
       "Action                       815\n",
       "Comedy,Horror                770\n",
       "Name: count, dtype: int64"
      ]
     },
     "execution_count": 44,
     "metadata": {},
     "output_type": "execute_result"
    }
   ],
   "source": [
    "data_copy['Genres'].value_counts().head(20)"
   ]
  },
  {
   "cell_type": "code",
   "execution_count": 22,
   "id": "7702b2ab",
   "metadata": {},
   "outputs": [
    {
     "data": {
      "text/plain": [
       "['Drama',\n",
       " 'Comedy',\n",
       " 'Comedy,Drama',\n",
       " 'Drama,Romance',\n",
       " 'Comedy,Drama,Romance',\n",
       " 'Comedy,Romance',\n",
       " 'Horror',\n",
       " 'Action,Crime,Drama',\n",
       " 'Drama,Thriller',\n",
       " 'Crime,Drama',\n",
       " 'Horror,Thriller',\n",
       " 'Thriller',\n",
       " 'Documentary',\n",
       " 'Crime,Drama,Thriller',\n",
       " 'Action,Drama',\n",
       " 'Crime,Drama,Mystery',\n",
       " 'Drama,War',\n",
       " 'Horror,Mystery,Thriller',\n",
       " 'Action',\n",
       " 'Comedy,Horror']"
      ]
     },
     "execution_count": 22,
     "metadata": {},
     "output_type": "execute_result"
    }
   ],
   "source": [
    "top_20_genres = data_copy['Genres'].value_counts().head(20).index.tolist()\n",
    "top_20_genres"
   ]
  },
  {
   "cell_type": "code",
   "execution_count": 6,
   "id": "69daf9a2",
   "metadata": {},
   "outputs": [],
   "source": [
    "#Création d'un  DF Exploded\n",
    "df_exploded = data_copy.copy()\n",
    "\n",
    "df_exploded['Genres'] = df_exploded['Genres'].str.split(',').apply(lambda x: [g.strip() for g in x])\n",
    "df_exploded['Actors'] = df_exploded['Actors'].str.split(', ')\n",
    "\n",
    "df_exploded = df_exploded.explode('Genres')\n",
    "df_exploded = df_exploded.explode('Actors')"
   ]
  },
  {
   "cell_type": "code",
   "execution_count": 46,
   "id": "9d4fe0bc",
   "metadata": {},
   "outputs": [
    {
     "data": {
      "text/html": [
       "<div>\n",
       "<style scoped>\n",
       "    .dataframe tbody tr th:only-of-type {\n",
       "        vertical-align: middle;\n",
       "    }\n",
       "\n",
       "    .dataframe tbody tr th {\n",
       "        vertical-align: top;\n",
       "    }\n",
       "\n",
       "    .dataframe thead th {\n",
       "        text-align: right;\n",
       "    }\n",
       "</style>\n",
       "<table border=\"1\" class=\"dataframe\">\n",
       "  <thead>\n",
       "    <tr style=\"text-align: right;\">\n",
       "      <th></th>\n",
       "      <th>tconst</th>\n",
       "      <th>Title</th>\n",
       "      <th>Genres</th>\n",
       "      <th>Year</th>\n",
       "      <th>Runtime</th>\n",
       "      <th>Actors</th>\n",
       "      <th>Director</th>\n",
       "      <th>Writers</th>\n",
       "      <th>Resume</th>\n",
       "      <th>Rating</th>\n",
       "      <th>Votes</th>\n",
       "      <th>ProductionCompanies</th>\n",
       "      <th>ProductionCountries</th>\n",
       "      <th>Poster</th>\n",
       "    </tr>\n",
       "  </thead>\n",
       "  <tbody>\n",
       "    <tr>\n",
       "      <th>0</th>\n",
       "      <td>tt0499549</td>\n",
       "      <td>Avatar</td>\n",
       "      <td>Action</td>\n",
       "      <td>2009</td>\n",
       "      <td>162</td>\n",
       "      <td>Joel David Moore</td>\n",
       "      <td>James Cameron</td>\n",
       "      <td>James Cameron</td>\n",
       "      <td>In the 22nd century, a paraplegic Marine is di...</td>\n",
       "      <td>7.9</td>\n",
       "      <td>1431034</td>\n",
       "      <td>Dune Entertainment, Lightstorm Entertainment, ...</td>\n",
       "      <td>US, GB</td>\n",
       "      <td>/jRXYjXNq0Cs2TcJjLkki24MLp7u.jpg</td>\n",
       "    </tr>\n",
       "    <tr>\n",
       "      <th>0</th>\n",
       "      <td>tt0499549</td>\n",
       "      <td>Avatar</td>\n",
       "      <td>Action</td>\n",
       "      <td>2009</td>\n",
       "      <td>162</td>\n",
       "      <td>Laz Alonso</td>\n",
       "      <td>James Cameron</td>\n",
       "      <td>James Cameron</td>\n",
       "      <td>In the 22nd century, a paraplegic Marine is di...</td>\n",
       "      <td>7.9</td>\n",
       "      <td>1431034</td>\n",
       "      <td>Dune Entertainment, Lightstorm Entertainment, ...</td>\n",
       "      <td>US, GB</td>\n",
       "      <td>/jRXYjXNq0Cs2TcJjLkki24MLp7u.jpg</td>\n",
       "    </tr>\n",
       "    <tr>\n",
       "      <th>0</th>\n",
       "      <td>tt0499549</td>\n",
       "      <td>Avatar</td>\n",
       "      <td>Action</td>\n",
       "      <td>2009</td>\n",
       "      <td>162</td>\n",
       "      <td>Michelle Rodriguez</td>\n",
       "      <td>James Cameron</td>\n",
       "      <td>James Cameron</td>\n",
       "      <td>In the 22nd century, a paraplegic Marine is di...</td>\n",
       "      <td>7.9</td>\n",
       "      <td>1431034</td>\n",
       "      <td>Dune Entertainment, Lightstorm Entertainment, ...</td>\n",
       "      <td>US, GB</td>\n",
       "      <td>/jRXYjXNq0Cs2TcJjLkki24MLp7u.jpg</td>\n",
       "    </tr>\n",
       "    <tr>\n",
       "      <th>0</th>\n",
       "      <td>tt0499549</td>\n",
       "      <td>Avatar</td>\n",
       "      <td>Action</td>\n",
       "      <td>2009</td>\n",
       "      <td>162</td>\n",
       "      <td>Zoe Saldaña</td>\n",
       "      <td>James Cameron</td>\n",
       "      <td>James Cameron</td>\n",
       "      <td>In the 22nd century, a paraplegic Marine is di...</td>\n",
       "      <td>7.9</td>\n",
       "      <td>1431034</td>\n",
       "      <td>Dune Entertainment, Lightstorm Entertainment, ...</td>\n",
       "      <td>US, GB</td>\n",
       "      <td>/jRXYjXNq0Cs2TcJjLkki24MLp7u.jpg</td>\n",
       "    </tr>\n",
       "    <tr>\n",
       "      <th>0</th>\n",
       "      <td>tt0499549</td>\n",
       "      <td>Avatar</td>\n",
       "      <td>Action</td>\n",
       "      <td>2009</td>\n",
       "      <td>162</td>\n",
       "      <td>CCH Pounder</td>\n",
       "      <td>James Cameron</td>\n",
       "      <td>James Cameron</td>\n",
       "      <td>In the 22nd century, a paraplegic Marine is di...</td>\n",
       "      <td>7.9</td>\n",
       "      <td>1431034</td>\n",
       "      <td>Dune Entertainment, Lightstorm Entertainment, ...</td>\n",
       "      <td>US, GB</td>\n",
       "      <td>/jRXYjXNq0Cs2TcJjLkki24MLp7u.jpg</td>\n",
       "    </tr>\n",
       "  </tbody>\n",
       "</table>\n",
       "</div>"
      ],
      "text/plain": [
       "      tconst   Title  Genres  Year  Runtime              Actors  \\\n",
       "0  tt0499549  Avatar  Action  2009      162    Joel David Moore   \n",
       "0  tt0499549  Avatar  Action  2009      162          Laz Alonso   \n",
       "0  tt0499549  Avatar  Action  2009      162  Michelle Rodriguez   \n",
       "0  tt0499549  Avatar  Action  2009      162         Zoe Saldaña   \n",
       "0  tt0499549  Avatar  Action  2009      162         CCH Pounder   \n",
       "\n",
       "        Director        Writers  \\\n",
       "0  James Cameron  James Cameron   \n",
       "0  James Cameron  James Cameron   \n",
       "0  James Cameron  James Cameron   \n",
       "0  James Cameron  James Cameron   \n",
       "0  James Cameron  James Cameron   \n",
       "\n",
       "                                              Resume  Rating    Votes  \\\n",
       "0  In the 22nd century, a paraplegic Marine is di...     7.9  1431034   \n",
       "0  In the 22nd century, a paraplegic Marine is di...     7.9  1431034   \n",
       "0  In the 22nd century, a paraplegic Marine is di...     7.9  1431034   \n",
       "0  In the 22nd century, a paraplegic Marine is di...     7.9  1431034   \n",
       "0  In the 22nd century, a paraplegic Marine is di...     7.9  1431034   \n",
       "\n",
       "                                 ProductionCompanies ProductionCountries  \\\n",
       "0  Dune Entertainment, Lightstorm Entertainment, ...              US, GB   \n",
       "0  Dune Entertainment, Lightstorm Entertainment, ...              US, GB   \n",
       "0  Dune Entertainment, Lightstorm Entertainment, ...              US, GB   \n",
       "0  Dune Entertainment, Lightstorm Entertainment, ...              US, GB   \n",
       "0  Dune Entertainment, Lightstorm Entertainment, ...              US, GB   \n",
       "\n",
       "                             Poster  \n",
       "0  /jRXYjXNq0Cs2TcJjLkki24MLp7u.jpg  \n",
       "0  /jRXYjXNq0Cs2TcJjLkki24MLp7u.jpg  \n",
       "0  /jRXYjXNq0Cs2TcJjLkki24MLp7u.jpg  \n",
       "0  /jRXYjXNq0Cs2TcJjLkki24MLp7u.jpg  \n",
       "0  /jRXYjXNq0Cs2TcJjLkki24MLp7u.jpg  "
      ]
     },
     "execution_count": 46,
     "metadata": {},
     "output_type": "execute_result"
    }
   ],
   "source": [
    "df_exploded.head()"
   ]
  },
  {
   "cell_type": "code",
   "execution_count": null,
   "id": "3a33f68b",
   "metadata": {},
   "outputs": [
    {
     "name": "stdout",
     "output_type": "stream",
     "text": [
      "         Genres                 Actors  Count\n",
      "8550     Action           Brahmanandam    166\n",
      "53558    Action            Prakash Raj    130\n",
      "48631    Action                 Nassar    113\n",
      "27553    Action            Jackie Chan     91\n",
      "3139     Action       Amitabh Bachchan     86\n",
      "...         ...                    ...    ...\n",
      "1115130      \\N            Prakash Raj      2\n",
      "1114968      \\N         Aahuthi Prasad      1\n",
      "1114969      \\N               Adam Lim      1\n",
      "1114970      \\N           Aindrita Ray      1\n",
      "1114971      \\N  Aishwariyaa Bhaskaran      1\n",
      "\n",
      "[130 rows x 3 columns]\n"
     ]
    }
   ],
   "source": [
    "actor_genre_counts = df_exploded.groupby(['Genres', 'Actors']).size().reset_index(name='Count')\n",
    "top_actors_per_genre = actor_genre_counts.sort_values(['Genres', 'Count'], ascending=[True, False])\n",
    "top_actors_per_genre = top_actors_per_genre.groupby('Genres').head(5)\n",
    "print(top_actors_per_genre)"
   ]
  },
  {
   "cell_type": "code",
   "execution_count": 12,
   "id": "a1e8e90c",
   "metadata": {},
   "outputs": [
    {
     "data": {
      "application/vnd.plotly.v1+json": {
       "config": {
        "plotlyServerURL": "https://plot.ly"
       },
       "data": [
        {
         "alignmentgroup": "True",
         "hovertemplate": "Genres=Action<br>Actors=%{x}<br>Count=%{y}<extra></extra>",
         "legendgroup": "",
         "marker": {
          "color": "#636efa",
          "pattern": {
           "shape": ""
          }
         },
         "name": "",
         "offsetgroup": "",
         "orientation": "v",
         "showlegend": false,
         "textposition": "auto",
         "type": "bar",
         "x": [
          "Brahmanandam",
          "Prakash Raj",
          "Nassar",
          "Jackie Chan",
          "Amitabh Bachchan"
         ],
         "xaxis": "x",
         "y": {
          "bdata": "pgCCAHEAWwBWAA==",
          "dtype": "i2"
         },
         "yaxis": "y"
        }
       ],
       "frames": [
        {
         "data": [
          {
           "alignmentgroup": "True",
           "hovertemplate": "Genres=Action<br>Actors=%{x}<br>Count=%{y}<extra></extra>",
           "legendgroup": "",
           "marker": {
            "color": "#636efa",
            "pattern": {
             "shape": ""
            }
           },
           "name": "",
           "offsetgroup": "",
           "orientation": "v",
           "showlegend": false,
           "textposition": "auto",
           "type": "bar",
           "x": [
            "Brahmanandam",
            "Prakash Raj",
            "Nassar",
            "Jackie Chan",
            "Amitabh Bachchan"
           ],
           "xaxis": "x",
           "y": {
            "bdata": "pgCCAHEAWwBWAA==",
            "dtype": "i2"
           },
           "yaxis": "y"
          }
         ],
         "name": "Action"
        },
        {
         "data": [
          {
           "alignmentgroup": "True",
           "hovertemplate": "Genres=Adult<br>Actors=%{x}<br>Count=%{y}<extra></extra>",
           "legendgroup": "",
           "marker": {
            "color": "#636efa",
            "pattern": {
             "shape": ""
            }
           },
           "name": "",
           "offsetgroup": "",
           "orientation": "v",
           "showlegend": false,
           "textposition": "auto",
           "type": "bar",
           "x": [
            "Junko Asamiya",
            "Lina Romay",
            "Momoko Nishida",
            "Saya Hidaka",
            "Asami Jô"
           ],
           "xaxis": "x",
           "y": {
            "bdata": "AwMDAwI=",
            "dtype": "i1"
           },
           "yaxis": "y"
          }
         ],
         "name": "Adult"
        },
        {
         "data": [
          {
           "alignmentgroup": "True",
           "hovertemplate": "Genres=Adventure<br>Actors=%{x}<br>Count=%{y}<extra></extra>",
           "legendgroup": "",
           "marker": {
            "color": "#636efa",
            "pattern": {
             "shape": ""
            }
           },
           "name": "",
           "offsetgroup": "",
           "orientation": "v",
           "showlegend": false,
           "textposition": "auto",
           "type": "bar",
           "x": [
            "Christopher Lee",
            "Megumi Hayashibara",
            "Ikue Ôtani",
            "Jackie Chan",
            "John Rhys-Davies"
           ],
           "xaxis": "x",
           "y": {
            "bdata": "KCYhIB8=",
            "dtype": "i1"
           },
           "yaxis": "y"
          }
         ],
         "name": "Adventure"
        },
        {
         "data": [
          {
           "alignmentgroup": "True",
           "hovertemplate": "Genres=Animation<br>Actors=%{x}<br>Count=%{y}<extra></extra>",
           "legendgroup": "",
           "marker": {
            "color": "#636efa",
            "pattern": {
             "shape": ""
            }
           },
           "name": "",
           "offsetgroup": "",
           "orientation": "v",
           "showlegend": false,
           "textposition": "auto",
           "type": "bar",
           "x": [
            "Megumi Hayashibara",
            "Keiji Fujiwara",
            "Yûki Kaji",
            "Ikue Ôtani",
            "Minami Takayama"
           ],
           "xaxis": "x",
           "y": {
            "bdata": "OiklJCQ=",
            "dtype": "i1"
           },
           "yaxis": "y"
          }
         ],
         "name": "Animation"
        },
        {
         "data": [
          {
           "alignmentgroup": "True",
           "hovertemplate": "Genres=Biography<br>Actors=%{x}<br>Count=%{y}<extra></extra>",
           "legendgroup": "",
           "marker": {
            "color": "#636efa",
            "pattern": {
             "shape": ""
            }
           },
           "name": "",
           "offsetgroup": "",
           "orientation": "v",
           "showlegend": false,
           "textposition": "auto",
           "type": "bar",
           "x": [
            "Anthony Hopkins",
            "Helen Mirren",
            "James Franco",
            "John Hurt",
            "Laura Dern"
           ],
           "xaxis": "x",
           "y": {
            "bdata": "Dg0MDAw=",
            "dtype": "i1"
           },
           "yaxis": "y"
          }
         ],
         "name": "Biography"
        },
        {
         "data": [
          {
           "alignmentgroup": "True",
           "hovertemplate": "Genres=Comedy<br>Actors=%{x}<br>Count=%{y}<extra></extra>",
           "legendgroup": "",
           "marker": {
            "color": "#636efa",
            "pattern": {
             "shape": ""
            }
           },
           "name": "",
           "offsetgroup": "",
           "orientation": "v",
           "showlegend": false,
           "textposition": "auto",
           "type": "bar",
           "x": [
            "Brahmanandam",
            "Alberto Sordi",
            "Innocent Vareed Thekkethala",
            "Jagathy Sreekumar",
            "Anupam Kher"
           ],
           "xaxis": "x",
           "y": {
            "bdata": "gQBgAF4AXQBRAA==",
            "dtype": "i2"
           },
           "yaxis": "y"
          }
         ],
         "name": "Comedy"
        },
        {
         "data": [
          {
           "alignmentgroup": "True",
           "hovertemplate": "Genres=Crime<br>Actors=%{x}<br>Count=%{y}<extra></extra>",
           "legendgroup": "",
           "marker": {
            "color": "#636efa",
            "pattern": {
             "shape": ""
            }
           },
           "name": "",
           "offsetgroup": "",
           "orientation": "v",
           "showlegend": false,
           "textposition": "auto",
           "type": "bar",
           "x": [
            "Simon Yam",
            "Andy Lau",
            "Anthony Chau-Sang Wong",
            "Akshay Kumar",
            "Samuel L. Jackson"
           ],
           "xaxis": "x",
           "y": {
            "bdata": "PjUxKyo=",
            "dtype": "i1"
           },
           "yaxis": "y"
          }
         ],
         "name": "Crime"
        },
        {
         "data": [
          {
           "alignmentgroup": "True",
           "hovertemplate": "Genres=Documentary<br>Actors=%{x}<br>Count=%{y}<extra></extra>",
           "legendgroup": "",
           "marker": {
            "color": "#636efa",
            "pattern": {
             "shape": ""
            }
           },
           "name": "",
           "offsetgroup": "",
           "orientation": "v",
           "showlegend": false,
           "textposition": "auto",
           "type": "bar",
           "x": [
            "Healthy Emmie",
            "Martin Sheen",
            "Susan Sarandon",
            "Yara Ibrahim",
            "Liam Neeson"
           ],
           "xaxis": "x",
           "y": {
            "bdata": "CAgIBwY=",
            "dtype": "i1"
           },
           "yaxis": "y"
          }
         ],
         "name": "Documentary"
        },
        {
         "data": [
          {
           "alignmentgroup": "True",
           "hovertemplate": "Genres=Drama<br>Actors=%{x}<br>Count=%{y}<extra></extra>",
           "legendgroup": "",
           "marker": {
            "color": "#636efa",
            "pattern": {
             "shape": ""
            }
           },
           "name": "",
           "offsetgroup": "",
           "orientation": "v",
           "showlegend": false,
           "textposition": "auto",
           "type": "bar",
           "x": [
            "Anupam Kher",
            "Brahmanandam",
            "Mohanlal",
            "Amitabh Bachchan",
            "Nassar"
           ],
           "xaxis": "x",
           "y": {
            "bdata": "lgCUAI4AhwCEAA==",
            "dtype": "i2"
           },
           "yaxis": "y"
          }
         ],
         "name": "Drama"
        },
        {
         "data": [
          {
           "alignmentgroup": "True",
           "hovertemplate": "Genres=Family<br>Actors=%{x}<br>Count=%{y}<extra></extra>",
           "legendgroup": "",
           "marker": {
            "color": "#636efa",
            "pattern": {
             "shape": ""
            }
           },
           "name": "",
           "offsetgroup": "",
           "orientation": "v",
           "showlegend": false,
           "textposition": "auto",
           "type": "bar",
           "x": [
            "Ove Sprogøe",
            "Karl Stegger",
            "Renato Aragão",
            "Dirch Passer",
            "Axel Strøbye"
           ],
           "xaxis": "x",
           "y": {
            "bdata": "KCAfHhc=",
            "dtype": "i1"
           },
           "yaxis": "y"
          }
         ],
         "name": "Family"
        },
        {
         "data": [
          {
           "alignmentgroup": "True",
           "hovertemplate": "Genres=Fantasy<br>Actors=%{x}<br>Count=%{y}<extra></extra>",
           "legendgroup": "",
           "marker": {
            "color": "#636efa",
            "pattern": {
             "shape": ""
            }
           },
           "name": "",
           "offsetgroup": "",
           "orientation": "v",
           "showlegend": false,
           "textposition": "auto",
           "type": "bar",
           "x": [
            "Christopher Lee",
            "Brahmanandam",
            "Nicolas Cage",
            "Tilda Swinton",
            "David Warner"
           ],
           "xaxis": "x",
           "y": {
            "bdata": "Eg4ODg0=",
            "dtype": "i1"
           },
           "yaxis": "y"
          }
         ],
         "name": "Fantasy"
        },
        {
         "data": [
          {
           "alignmentgroup": "True",
           "hovertemplate": "Genres=Film-Noir<br>Actors=%{x}<br>Count=%{y}<extra></extra>",
           "legendgroup": "",
           "marker": {
            "color": "#636efa",
            "pattern": {
             "shape": ""
            }
           },
           "name": "",
           "offsetgroup": "",
           "orientation": "v",
           "showlegend": false,
           "textposition": "auto",
           "type": "bar",
           "x": [
            "Dan Duryea",
            "Raymond Burr",
            "Richard Conte",
            "Steven Geray",
            "Edward G. Robinson"
           ],
           "xaxis": "x",
           "y": {
            "bdata": "EhISEA8=",
            "dtype": "i1"
           },
           "yaxis": "y"
          }
         ],
         "name": "Film-Noir"
        },
        {
         "data": [
          {
           "alignmentgroup": "True",
           "hovertemplate": "Genres=History<br>Actors=%{x}<br>Count=%{y}<extra></extra>",
           "legendgroup": "",
           "marker": {
            "color": "#636efa",
            "pattern": {
             "shape": ""
            }
           },
           "name": "",
           "offsetgroup": "",
           "orientation": "v",
           "showlegend": false,
           "textposition": "auto",
           "type": "bar",
           "x": [
            "Harry Andrews",
            "Ben Kingsley",
            "Gérard Depardieu",
            "Charlton Heston",
            "Olivier Gourmet"
           ],
           "xaxis": "x",
           "y": {
            "bdata": "EA4ODQw=",
            "dtype": "i1"
           },
           "yaxis": "y"
          }
         ],
         "name": "History"
        },
        {
         "data": [
          {
           "alignmentgroup": "True",
           "hovertemplate": "Genres=Horror<br>Actors=%{x}<br>Count=%{y}<extra></extra>",
           "legendgroup": "",
           "marker": {
            "color": "#636efa",
            "pattern": {
             "shape": ""
            }
           },
           "name": "",
           "offsetgroup": "",
           "orientation": "v",
           "showlegend": false,
           "textposition": "auto",
           "type": "bar",
           "x": [
            "Christopher Lee",
            "John Carradine",
            "Lance Henriksen",
            "Eric Roberts",
            "Peter Cushing"
           ],
           "xaxis": "x",
           "y": {
            "bdata": "Ozo1Mi8=",
            "dtype": "i1"
           },
           "yaxis": "y"
          }
         ],
         "name": "Horror"
        },
        {
         "data": [
          {
           "alignmentgroup": "True",
           "hovertemplate": "Genres=Music<br>Actors=%{x}<br>Count=%{y}<extra></extra>",
           "legendgroup": "",
           "marker": {
            "color": "#636efa",
            "pattern": {
             "shape": ""
            }
           },
           "name": "",
           "offsetgroup": "",
           "orientation": "v",
           "showlegend": false,
           "textposition": "auto",
           "type": "bar",
           "x": [
            "Roy Rogers",
            "Trigger",
            "Dale Evans",
            "Gene Autry",
            "George 'Gabby' Hayes"
           ],
           "xaxis": "x",
           "y": {
            "bdata": "IBkRDw4=",
            "dtype": "i1"
           },
           "yaxis": "y"
          }
         ],
         "name": "Music"
        },
        {
         "data": [
          {
           "alignmentgroup": "True",
           "hovertemplate": "Genres=Musical<br>Actors=%{x}<br>Count=%{y}<extra></extra>",
           "legendgroup": "",
           "marker": {
            "color": "#636efa",
            "pattern": {
             "shape": ""
            }
           },
           "name": "",
           "offsetgroup": "",
           "orientation": "v",
           "showlegend": false,
           "textposition": "auto",
           "type": "bar",
           "x": [
            "Elvis Presley",
            "Anupam Kher",
            "Pran Sikand",
            "Salman Khan",
            "Betty Grable"
           ],
           "xaxis": "x",
           "y": {
            "bdata": "GRcTExI=",
            "dtype": "i1"
           },
           "yaxis": "y"
          }
         ],
         "name": "Musical"
        },
        {
         "data": [
          {
           "alignmentgroup": "True",
           "hovertemplate": "Genres=Mystery<br>Actors=%{x}<br>Count=%{y}<extra></extra>",
           "legendgroup": "",
           "marker": {
            "color": "#636efa",
            "pattern": {
             "shape": ""
            }
           },
           "name": "",
           "offsetgroup": "",
           "orientation": "v",
           "showlegend": false,
           "textposition": "auto",
           "type": "bar",
           "x": [
            "Eric Roberts",
            "Mammootty",
            "Christopher Lee",
            "Lana Turner",
            "James Mason"
           ],
           "xaxis": "x",
           "y": {
            "bdata": "IBoYFBM=",
            "dtype": "i1"
           },
           "yaxis": "y"
          }
         ],
         "name": "Mystery"
        },
        {
         "data": [
          {
           "alignmentgroup": "True",
           "hovertemplate": "Genres=News<br>Actors=%{x}<br>Count=%{y}<extra></extra>",
           "legendgroup": "",
           "marker": {
            "color": "#636efa",
            "pattern": {
             "shape": ""
            }
           },
           "name": "",
           "offsetgroup": "",
           "orientation": "v",
           "showlegend": false,
           "textposition": "auto",
           "type": "bar",
           "x": [
            "Ahlima Mhamdi",
            "Alain Azerot",
            "Albert Olson",
            "Aleco Chigounis",
            "Alex Liu"
           ],
           "xaxis": "x",
           "y": {
            "bdata": "AQEBAQE=",
            "dtype": "i1"
           },
           "yaxis": "y"
          }
         ],
         "name": "News"
        },
        {
         "data": [
          {
           "alignmentgroup": "True",
           "hovertemplate": "Genres=Reality-TV<br>Actors=%{x}<br>Count=%{y}<extra></extra>",
           "legendgroup": "",
           "marker": {
            "color": "#636efa",
            "pattern": {
             "shape": ""
            }
           },
           "name": "",
           "offsetgroup": "",
           "orientation": "v",
           "showlegend": false,
           "textposition": "auto",
           "type": "bar",
           "x": [
            "Adelino Gomes",
            "Anuradha Roy",
            "Dan Greenleaf",
            "Dulal Lahiri",
            "Fernando Balsinha"
           ],
           "xaxis": "x",
           "y": {
            "bdata": "AQEBAQE=",
            "dtype": "i1"
           },
           "yaxis": "y"
          }
         ],
         "name": "Reality-TV"
        },
        {
         "data": [
          {
           "alignmentgroup": "True",
           "hovertemplate": "Genres=Romance<br>Actors=%{x}<br>Count=%{y}<extra></extra>",
           "legendgroup": "",
           "marker": {
            "color": "#636efa",
            "pattern": {
             "shape": ""
            }
           },
           "name": "",
           "offsetgroup": "",
           "orientation": "v",
           "showlegend": false,
           "textposition": "auto",
           "type": "bar",
           "x": [
            "Brahmanandam",
            "Anupam Kher",
            "Tanikella Bharani",
            "Mohammad Ali",
            "Nassar"
           ],
           "xaxis": "x",
           "y": {
            "bdata": "UkRBMzA=",
            "dtype": "i1"
           },
           "yaxis": "y"
          }
         ],
         "name": "Romance"
        },
        {
         "data": [
          {
           "alignmentgroup": "True",
           "hovertemplate": "Genres=Sci-Fi<br>Actors=%{x}<br>Count=%{y}<extra></extra>",
           "legendgroup": "",
           "marker": {
            "color": "#636efa",
            "pattern": {
             "shape": ""
            }
           },
           "name": "",
           "offsetgroup": "",
           "orientation": "v",
           "showlegend": false,
           "textposition": "auto",
           "type": "bar",
           "x": [
            "Lance Henriksen",
            "John Carradine",
            "Eric Roberts",
            "Akihiko Hirata",
            "Tom Sizemore"
           ],
           "xaxis": "x",
           "y": {
            "bdata": "GBcTEhI=",
            "dtype": "i1"
           },
           "yaxis": "y"
          }
         ],
         "name": "Sci-Fi"
        },
        {
         "data": [
          {
           "alignmentgroup": "True",
           "hovertemplate": "Genres=Sport<br>Actors=%{x}<br>Count=%{y}<extra></extra>",
           "legendgroup": "",
           "marker": {
            "color": "#636efa",
            "pattern": {
             "shape": ""
            }
           },
           "name": "",
           "offsetgroup": "",
           "orientation": "v",
           "showlegend": false,
           "textposition": "auto",
           "type": "bar",
           "x": [
            "Sylvester Stallone",
            "Burt Young",
            "Dennis Quaid",
            "Eric Roberts",
            "Bruce Dern"
           ],
           "xaxis": "x",
           "y": {
            "bdata": "DAsICAc=",
            "dtype": "i1"
           },
           "yaxis": "y"
          }
         ],
         "name": "Sport"
        },
        {
         "data": [
          {
           "alignmentgroup": "True",
           "hovertemplate": "Genres=Thriller<br>Actors=%{x}<br>Count=%{y}<extra></extra>",
           "legendgroup": "",
           "marker": {
            "color": "#636efa",
            "pattern": {
             "shape": ""
            }
           },
           "name": "",
           "offsetgroup": "",
           "orientation": "v",
           "showlegend": false,
           "textposition": "auto",
           "type": "bar",
           "x": [
            "Eric Roberts",
            "Michael Madsen",
            "Mammootty",
            "Bruce Willis",
            "Mohanlal"
           ],
           "xaxis": "x",
           "y": {
            "bdata": "SDowLiw=",
            "dtype": "i1"
           },
           "yaxis": "y"
          }
         ],
         "name": "Thriller"
        },
        {
         "data": [
          {
           "alignmentgroup": "True",
           "hovertemplate": "Genres=War<br>Actors=%{x}<br>Count=%{y}<extra></extra>",
           "legendgroup": "",
           "marker": {
            "color": "#636efa",
            "pattern": {
             "shape": ""
            }
           },
           "name": "",
           "offsetgroup": "",
           "orientation": "v",
           "showlegend": false,
           "textposition": "auto",
           "type": "bar",
           "x": [
            "Velimir 'Bata' Zivojinovic",
            "John Mills",
            "Ljubisa Samardzic",
            "Pavle Vuisic",
            "John Wayne"
           ],
           "xaxis": "x",
           "y": {
            "bdata": "GQ8ODg0=",
            "dtype": "i1"
           },
           "yaxis": "y"
          }
         ],
         "name": "War"
        },
        {
         "data": [
          {
           "alignmentgroup": "True",
           "hovertemplate": "Genres=Western<br>Actors=%{x}<br>Count=%{y}<extra></extra>",
           "legendgroup": "",
           "marker": {
            "color": "#636efa",
            "pattern": {
             "shape": ""
            }
           },
           "name": "",
           "offsetgroup": "",
           "orientation": "v",
           "showlegend": false,
           "textposition": "auto",
           "type": "bar",
           "x": [
            "Roy Rogers",
            "Randolph Scott",
            "Edgar Buchanan",
            "Lee Van Cleef",
            "Trigger"
           ],
           "xaxis": "x",
           "y": {
            "bdata": "MSsnJyc=",
            "dtype": "i1"
           },
           "yaxis": "y"
          }
         ],
         "name": "Western"
        },
        {
         "data": [
          {
           "alignmentgroup": "True",
           "hovertemplate": "Genres=\\N<br>Actors=%{x}<br>Count=%{y}<extra></extra>",
           "legendgroup": "",
           "marker": {
            "color": "#636efa",
            "pattern": {
             "shape": ""
            }
           },
           "name": "",
           "offsetgroup": "",
           "orientation": "v",
           "showlegend": false,
           "textposition": "auto",
           "type": "bar",
           "x": [
            "Prakash Raj",
            "Aahuthi Prasad",
            "Adam Lim",
            "Aindrita Ray",
            "Aishwariyaa Bhaskaran"
           ],
           "xaxis": "x",
           "y": {
            "bdata": "AgEBAQE=",
            "dtype": "i1"
           },
           "yaxis": "y"
          }
         ],
         "name": "\\N"
        }
       ],
       "layout": {
        "barmode": "group",
        "height": 600,
        "legend": {
         "tracegroupgap": 0
        },
        "sliders": [
         {
          "active": 0,
          "currentvalue": {
           "prefix": "Genres="
          },
          "len": 0.9,
          "pad": {
           "b": 10,
           "t": 60
          },
          "steps": [
           {
            "args": [
             [
              "Action"
             ],
             {
              "frame": {
               "duration": 0,
               "redraw": true
              },
              "fromcurrent": true,
              "mode": "immediate",
              "transition": {
               "duration": 0,
               "easing": "linear"
              }
             }
            ],
            "label": "Action",
            "method": "animate"
           },
           {
            "args": [
             [
              "Adult"
             ],
             {
              "frame": {
               "duration": 0,
               "redraw": true
              },
              "fromcurrent": true,
              "mode": "immediate",
              "transition": {
               "duration": 0,
               "easing": "linear"
              }
             }
            ],
            "label": "Adult",
            "method": "animate"
           },
           {
            "args": [
             [
              "Adventure"
             ],
             {
              "frame": {
               "duration": 0,
               "redraw": true
              },
              "fromcurrent": true,
              "mode": "immediate",
              "transition": {
               "duration": 0,
               "easing": "linear"
              }
             }
            ],
            "label": "Adventure",
            "method": "animate"
           },
           {
            "args": [
             [
              "Animation"
             ],
             {
              "frame": {
               "duration": 0,
               "redraw": true
              },
              "fromcurrent": true,
              "mode": "immediate",
              "transition": {
               "duration": 0,
               "easing": "linear"
              }
             }
            ],
            "label": "Animation",
            "method": "animate"
           },
           {
            "args": [
             [
              "Biography"
             ],
             {
              "frame": {
               "duration": 0,
               "redraw": true
              },
              "fromcurrent": true,
              "mode": "immediate",
              "transition": {
               "duration": 0,
               "easing": "linear"
              }
             }
            ],
            "label": "Biography",
            "method": "animate"
           },
           {
            "args": [
             [
              "Comedy"
             ],
             {
              "frame": {
               "duration": 0,
               "redraw": true
              },
              "fromcurrent": true,
              "mode": "immediate",
              "transition": {
               "duration": 0,
               "easing": "linear"
              }
             }
            ],
            "label": "Comedy",
            "method": "animate"
           },
           {
            "args": [
             [
              "Crime"
             ],
             {
              "frame": {
               "duration": 0,
               "redraw": true
              },
              "fromcurrent": true,
              "mode": "immediate",
              "transition": {
               "duration": 0,
               "easing": "linear"
              }
             }
            ],
            "label": "Crime",
            "method": "animate"
           },
           {
            "args": [
             [
              "Documentary"
             ],
             {
              "frame": {
               "duration": 0,
               "redraw": true
              },
              "fromcurrent": true,
              "mode": "immediate",
              "transition": {
               "duration": 0,
               "easing": "linear"
              }
             }
            ],
            "label": "Documentary",
            "method": "animate"
           },
           {
            "args": [
             [
              "Drama"
             ],
             {
              "frame": {
               "duration": 0,
               "redraw": true
              },
              "fromcurrent": true,
              "mode": "immediate",
              "transition": {
               "duration": 0,
               "easing": "linear"
              }
             }
            ],
            "label": "Drama",
            "method": "animate"
           },
           {
            "args": [
             [
              "Family"
             ],
             {
              "frame": {
               "duration": 0,
               "redraw": true
              },
              "fromcurrent": true,
              "mode": "immediate",
              "transition": {
               "duration": 0,
               "easing": "linear"
              }
             }
            ],
            "label": "Family",
            "method": "animate"
           },
           {
            "args": [
             [
              "Fantasy"
             ],
             {
              "frame": {
               "duration": 0,
               "redraw": true
              },
              "fromcurrent": true,
              "mode": "immediate",
              "transition": {
               "duration": 0,
               "easing": "linear"
              }
             }
            ],
            "label": "Fantasy",
            "method": "animate"
           },
           {
            "args": [
             [
              "Film-Noir"
             ],
             {
              "frame": {
               "duration": 0,
               "redraw": true
              },
              "fromcurrent": true,
              "mode": "immediate",
              "transition": {
               "duration": 0,
               "easing": "linear"
              }
             }
            ],
            "label": "Film-Noir",
            "method": "animate"
           },
           {
            "args": [
             [
              "History"
             ],
             {
              "frame": {
               "duration": 0,
               "redraw": true
              },
              "fromcurrent": true,
              "mode": "immediate",
              "transition": {
               "duration": 0,
               "easing": "linear"
              }
             }
            ],
            "label": "History",
            "method": "animate"
           },
           {
            "args": [
             [
              "Horror"
             ],
             {
              "frame": {
               "duration": 0,
               "redraw": true
              },
              "fromcurrent": true,
              "mode": "immediate",
              "transition": {
               "duration": 0,
               "easing": "linear"
              }
             }
            ],
            "label": "Horror",
            "method": "animate"
           },
           {
            "args": [
             [
              "Music"
             ],
             {
              "frame": {
               "duration": 0,
               "redraw": true
              },
              "fromcurrent": true,
              "mode": "immediate",
              "transition": {
               "duration": 0,
               "easing": "linear"
              }
             }
            ],
            "label": "Music",
            "method": "animate"
           },
           {
            "args": [
             [
              "Musical"
             ],
             {
              "frame": {
               "duration": 0,
               "redraw": true
              },
              "fromcurrent": true,
              "mode": "immediate",
              "transition": {
               "duration": 0,
               "easing": "linear"
              }
             }
            ],
            "label": "Musical",
            "method": "animate"
           },
           {
            "args": [
             [
              "Mystery"
             ],
             {
              "frame": {
               "duration": 0,
               "redraw": true
              },
              "fromcurrent": true,
              "mode": "immediate",
              "transition": {
               "duration": 0,
               "easing": "linear"
              }
             }
            ],
            "label": "Mystery",
            "method": "animate"
           },
           {
            "args": [
             [
              "News"
             ],
             {
              "frame": {
               "duration": 0,
               "redraw": true
              },
              "fromcurrent": true,
              "mode": "immediate",
              "transition": {
               "duration": 0,
               "easing": "linear"
              }
             }
            ],
            "label": "News",
            "method": "animate"
           },
           {
            "args": [
             [
              "Reality-TV"
             ],
             {
              "frame": {
               "duration": 0,
               "redraw": true
              },
              "fromcurrent": true,
              "mode": "immediate",
              "transition": {
               "duration": 0,
               "easing": "linear"
              }
             }
            ],
            "label": "Reality-TV",
            "method": "animate"
           },
           {
            "args": [
             [
              "Romance"
             ],
             {
              "frame": {
               "duration": 0,
               "redraw": true
              },
              "fromcurrent": true,
              "mode": "immediate",
              "transition": {
               "duration": 0,
               "easing": "linear"
              }
             }
            ],
            "label": "Romance",
            "method": "animate"
           },
           {
            "args": [
             [
              "Sci-Fi"
             ],
             {
              "frame": {
               "duration": 0,
               "redraw": true
              },
              "fromcurrent": true,
              "mode": "immediate",
              "transition": {
               "duration": 0,
               "easing": "linear"
              }
             }
            ],
            "label": "Sci-Fi",
            "method": "animate"
           },
           {
            "args": [
             [
              "Sport"
             ],
             {
              "frame": {
               "duration": 0,
               "redraw": true
              },
              "fromcurrent": true,
              "mode": "immediate",
              "transition": {
               "duration": 0,
               "easing": "linear"
              }
             }
            ],
            "label": "Sport",
            "method": "animate"
           },
           {
            "args": [
             [
              "Thriller"
             ],
             {
              "frame": {
               "duration": 0,
               "redraw": true
              },
              "fromcurrent": true,
              "mode": "immediate",
              "transition": {
               "duration": 0,
               "easing": "linear"
              }
             }
            ],
            "label": "Thriller",
            "method": "animate"
           },
           {
            "args": [
             [
              "War"
             ],
             {
              "frame": {
               "duration": 0,
               "redraw": true
              },
              "fromcurrent": true,
              "mode": "immediate",
              "transition": {
               "duration": 0,
               "easing": "linear"
              }
             }
            ],
            "label": "War",
            "method": "animate"
           },
           {
            "args": [
             [
              "Western"
             ],
             {
              "frame": {
               "duration": 0,
               "redraw": true
              },
              "fromcurrent": true,
              "mode": "immediate",
              "transition": {
               "duration": 0,
               "easing": "linear"
              }
             }
            ],
            "label": "Western",
            "method": "animate"
           },
           {
            "args": [
             [
              "\\N"
             ],
             {
              "frame": {
               "duration": 0,
               "redraw": true
              },
              "fromcurrent": true,
              "mode": "immediate",
              "transition": {
               "duration": 0,
               "easing": "linear"
              }
             }
            ],
            "label": "\\N",
            "method": "animate"
           }
          ],
          "x": 0.1,
          "xanchor": "left",
          "y": 0,
          "yanchor": "top"
         }
        ],
        "template": {
         "data": {
          "bar": [
           {
            "error_x": {
             "color": "#2a3f5f"
            },
            "error_y": {
             "color": "#2a3f5f"
            },
            "marker": {
             "line": {
              "color": "#E5ECF6",
              "width": 0.5
             },
             "pattern": {
              "fillmode": "overlay",
              "size": 10,
              "solidity": 0.2
             }
            },
            "type": "bar"
           }
          ],
          "barpolar": [
           {
            "marker": {
             "line": {
              "color": "#E5ECF6",
              "width": 0.5
             },
             "pattern": {
              "fillmode": "overlay",
              "size": 10,
              "solidity": 0.2
             }
            },
            "type": "barpolar"
           }
          ],
          "carpet": [
           {
            "aaxis": {
             "endlinecolor": "#2a3f5f",
             "gridcolor": "white",
             "linecolor": "white",
             "minorgridcolor": "white",
             "startlinecolor": "#2a3f5f"
            },
            "baxis": {
             "endlinecolor": "#2a3f5f",
             "gridcolor": "white",
             "linecolor": "white",
             "minorgridcolor": "white",
             "startlinecolor": "#2a3f5f"
            },
            "type": "carpet"
           }
          ],
          "choropleth": [
           {
            "colorbar": {
             "outlinewidth": 0,
             "ticks": ""
            },
            "type": "choropleth"
           }
          ],
          "contour": [
           {
            "colorbar": {
             "outlinewidth": 0,
             "ticks": ""
            },
            "colorscale": [
             [
              0,
              "#0d0887"
             ],
             [
              0.1111111111111111,
              "#46039f"
             ],
             [
              0.2222222222222222,
              "#7201a8"
             ],
             [
              0.3333333333333333,
              "#9c179e"
             ],
             [
              0.4444444444444444,
              "#bd3786"
             ],
             [
              0.5555555555555556,
              "#d8576b"
             ],
             [
              0.6666666666666666,
              "#ed7953"
             ],
             [
              0.7777777777777778,
              "#fb9f3a"
             ],
             [
              0.8888888888888888,
              "#fdca26"
             ],
             [
              1,
              "#f0f921"
             ]
            ],
            "type": "contour"
           }
          ],
          "contourcarpet": [
           {
            "colorbar": {
             "outlinewidth": 0,
             "ticks": ""
            },
            "type": "contourcarpet"
           }
          ],
          "heatmap": [
           {
            "colorbar": {
             "outlinewidth": 0,
             "ticks": ""
            },
            "colorscale": [
             [
              0,
              "#0d0887"
             ],
             [
              0.1111111111111111,
              "#46039f"
             ],
             [
              0.2222222222222222,
              "#7201a8"
             ],
             [
              0.3333333333333333,
              "#9c179e"
             ],
             [
              0.4444444444444444,
              "#bd3786"
             ],
             [
              0.5555555555555556,
              "#d8576b"
             ],
             [
              0.6666666666666666,
              "#ed7953"
             ],
             [
              0.7777777777777778,
              "#fb9f3a"
             ],
             [
              0.8888888888888888,
              "#fdca26"
             ],
             [
              1,
              "#f0f921"
             ]
            ],
            "type": "heatmap"
           }
          ],
          "histogram": [
           {
            "marker": {
             "pattern": {
              "fillmode": "overlay",
              "size": 10,
              "solidity": 0.2
             }
            },
            "type": "histogram"
           }
          ],
          "histogram2d": [
           {
            "colorbar": {
             "outlinewidth": 0,
             "ticks": ""
            },
            "colorscale": [
             [
              0,
              "#0d0887"
             ],
             [
              0.1111111111111111,
              "#46039f"
             ],
             [
              0.2222222222222222,
              "#7201a8"
             ],
             [
              0.3333333333333333,
              "#9c179e"
             ],
             [
              0.4444444444444444,
              "#bd3786"
             ],
             [
              0.5555555555555556,
              "#d8576b"
             ],
             [
              0.6666666666666666,
              "#ed7953"
             ],
             [
              0.7777777777777778,
              "#fb9f3a"
             ],
             [
              0.8888888888888888,
              "#fdca26"
             ],
             [
              1,
              "#f0f921"
             ]
            ],
            "type": "histogram2d"
           }
          ],
          "histogram2dcontour": [
           {
            "colorbar": {
             "outlinewidth": 0,
             "ticks": ""
            },
            "colorscale": [
             [
              0,
              "#0d0887"
             ],
             [
              0.1111111111111111,
              "#46039f"
             ],
             [
              0.2222222222222222,
              "#7201a8"
             ],
             [
              0.3333333333333333,
              "#9c179e"
             ],
             [
              0.4444444444444444,
              "#bd3786"
             ],
             [
              0.5555555555555556,
              "#d8576b"
             ],
             [
              0.6666666666666666,
              "#ed7953"
             ],
             [
              0.7777777777777778,
              "#fb9f3a"
             ],
             [
              0.8888888888888888,
              "#fdca26"
             ],
             [
              1,
              "#f0f921"
             ]
            ],
            "type": "histogram2dcontour"
           }
          ],
          "mesh3d": [
           {
            "colorbar": {
             "outlinewidth": 0,
             "ticks": ""
            },
            "type": "mesh3d"
           }
          ],
          "parcoords": [
           {
            "line": {
             "colorbar": {
              "outlinewidth": 0,
              "ticks": ""
             }
            },
            "type": "parcoords"
           }
          ],
          "pie": [
           {
            "automargin": true,
            "type": "pie"
           }
          ],
          "scatter": [
           {
            "fillpattern": {
             "fillmode": "overlay",
             "size": 10,
             "solidity": 0.2
            },
            "type": "scatter"
           }
          ],
          "scatter3d": [
           {
            "line": {
             "colorbar": {
              "outlinewidth": 0,
              "ticks": ""
             }
            },
            "marker": {
             "colorbar": {
              "outlinewidth": 0,
              "ticks": ""
             }
            },
            "type": "scatter3d"
           }
          ],
          "scattercarpet": [
           {
            "marker": {
             "colorbar": {
              "outlinewidth": 0,
              "ticks": ""
             }
            },
            "type": "scattercarpet"
           }
          ],
          "scattergeo": [
           {
            "marker": {
             "colorbar": {
              "outlinewidth": 0,
              "ticks": ""
             }
            },
            "type": "scattergeo"
           }
          ],
          "scattergl": [
           {
            "marker": {
             "colorbar": {
              "outlinewidth": 0,
              "ticks": ""
             }
            },
            "type": "scattergl"
           }
          ],
          "scattermap": [
           {
            "marker": {
             "colorbar": {
              "outlinewidth": 0,
              "ticks": ""
             }
            },
            "type": "scattermap"
           }
          ],
          "scattermapbox": [
           {
            "marker": {
             "colorbar": {
              "outlinewidth": 0,
              "ticks": ""
             }
            },
            "type": "scattermapbox"
           }
          ],
          "scatterpolar": [
           {
            "marker": {
             "colorbar": {
              "outlinewidth": 0,
              "ticks": ""
             }
            },
            "type": "scatterpolar"
           }
          ],
          "scatterpolargl": [
           {
            "marker": {
             "colorbar": {
              "outlinewidth": 0,
              "ticks": ""
             }
            },
            "type": "scatterpolargl"
           }
          ],
          "scatterternary": [
           {
            "marker": {
             "colorbar": {
              "outlinewidth": 0,
              "ticks": ""
             }
            },
            "type": "scatterternary"
           }
          ],
          "surface": [
           {
            "colorbar": {
             "outlinewidth": 0,
             "ticks": ""
            },
            "colorscale": [
             [
              0,
              "#0d0887"
             ],
             [
              0.1111111111111111,
              "#46039f"
             ],
             [
              0.2222222222222222,
              "#7201a8"
             ],
             [
              0.3333333333333333,
              "#9c179e"
             ],
             [
              0.4444444444444444,
              "#bd3786"
             ],
             [
              0.5555555555555556,
              "#d8576b"
             ],
             [
              0.6666666666666666,
              "#ed7953"
             ],
             [
              0.7777777777777778,
              "#fb9f3a"
             ],
             [
              0.8888888888888888,
              "#fdca26"
             ],
             [
              1,
              "#f0f921"
             ]
            ],
            "type": "surface"
           }
          ],
          "table": [
           {
            "cells": {
             "fill": {
              "color": "#EBF0F8"
             },
             "line": {
              "color": "white"
             }
            },
            "header": {
             "fill": {
              "color": "#C8D4E3"
             },
             "line": {
              "color": "white"
             }
            },
            "type": "table"
           }
          ]
         },
         "layout": {
          "annotationdefaults": {
           "arrowcolor": "#2a3f5f",
           "arrowhead": 0,
           "arrowwidth": 1
          },
          "autotypenumbers": "strict",
          "coloraxis": {
           "colorbar": {
            "outlinewidth": 0,
            "ticks": ""
           }
          },
          "colorscale": {
           "diverging": [
            [
             0,
             "#8e0152"
            ],
            [
             0.1,
             "#c51b7d"
            ],
            [
             0.2,
             "#de77ae"
            ],
            [
             0.3,
             "#f1b6da"
            ],
            [
             0.4,
             "#fde0ef"
            ],
            [
             0.5,
             "#f7f7f7"
            ],
            [
             0.6,
             "#e6f5d0"
            ],
            [
             0.7,
             "#b8e186"
            ],
            [
             0.8,
             "#7fbc41"
            ],
            [
             0.9,
             "#4d9221"
            ],
            [
             1,
             "#276419"
            ]
           ],
           "sequential": [
            [
             0,
             "#0d0887"
            ],
            [
             0.1111111111111111,
             "#46039f"
            ],
            [
             0.2222222222222222,
             "#7201a8"
            ],
            [
             0.3333333333333333,
             "#9c179e"
            ],
            [
             0.4444444444444444,
             "#bd3786"
            ],
            [
             0.5555555555555556,
             "#d8576b"
            ],
            [
             0.6666666666666666,
             "#ed7953"
            ],
            [
             0.7777777777777778,
             "#fb9f3a"
            ],
            [
             0.8888888888888888,
             "#fdca26"
            ],
            [
             1,
             "#f0f921"
            ]
           ],
           "sequentialminus": [
            [
             0,
             "#0d0887"
            ],
            [
             0.1111111111111111,
             "#46039f"
            ],
            [
             0.2222222222222222,
             "#7201a8"
            ],
            [
             0.3333333333333333,
             "#9c179e"
            ],
            [
             0.4444444444444444,
             "#bd3786"
            ],
            [
             0.5555555555555556,
             "#d8576b"
            ],
            [
             0.6666666666666666,
             "#ed7953"
            ],
            [
             0.7777777777777778,
             "#fb9f3a"
            ],
            [
             0.8888888888888888,
             "#fdca26"
            ],
            [
             1,
             "#f0f921"
            ]
           ]
          },
          "colorway": [
           "#636efa",
           "#EF553B",
           "#00cc96",
           "#ab63fa",
           "#FFA15A",
           "#19d3f3",
           "#FF6692",
           "#B6E880",
           "#FF97FF",
           "#FECB52"
          ],
          "font": {
           "color": "#2a3f5f"
          },
          "geo": {
           "bgcolor": "white",
           "lakecolor": "white",
           "landcolor": "#E5ECF6",
           "showlakes": true,
           "showland": true,
           "subunitcolor": "white"
          },
          "hoverlabel": {
           "align": "left"
          },
          "hovermode": "closest",
          "mapbox": {
           "style": "light"
          },
          "paper_bgcolor": "white",
          "plot_bgcolor": "#E5ECF6",
          "polar": {
           "angularaxis": {
            "gridcolor": "white",
            "linecolor": "white",
            "ticks": ""
           },
           "bgcolor": "#E5ECF6",
           "radialaxis": {
            "gridcolor": "white",
            "linecolor": "white",
            "ticks": ""
           }
          },
          "scene": {
           "xaxis": {
            "backgroundcolor": "#E5ECF6",
            "gridcolor": "white",
            "gridwidth": 2,
            "linecolor": "white",
            "showbackground": true,
            "ticks": "",
            "zerolinecolor": "white"
           },
           "yaxis": {
            "backgroundcolor": "#E5ECF6",
            "gridcolor": "white",
            "gridwidth": 2,
            "linecolor": "white",
            "showbackground": true,
            "ticks": "",
            "zerolinecolor": "white"
           },
           "zaxis": {
            "backgroundcolor": "#E5ECF6",
            "gridcolor": "white",
            "gridwidth": 2,
            "linecolor": "white",
            "showbackground": true,
            "ticks": "",
            "zerolinecolor": "white"
           }
          },
          "shapedefaults": {
           "line": {
            "color": "#2a3f5f"
           }
          },
          "ternary": {
           "aaxis": {
            "gridcolor": "white",
            "linecolor": "white",
            "ticks": ""
           },
           "baxis": {
            "gridcolor": "white",
            "linecolor": "white",
            "ticks": ""
           },
           "bgcolor": "#E5ECF6",
           "caxis": {
            "gridcolor": "white",
            "linecolor": "white",
            "ticks": ""
           }
          },
          "title": {
           "x": 0.05
          },
          "xaxis": {
           "automargin": true,
           "gridcolor": "white",
           "linecolor": "white",
           "ticks": "",
           "title": {
            "standoff": 15
           },
           "zerolinecolor": "white",
           "zerolinewidth": 2
          },
          "yaxis": {
           "automargin": true,
           "gridcolor": "white",
           "linecolor": "white",
           "ticks": "",
           "title": {
            "standoff": 15
           },
           "zerolinecolor": "white",
           "zerolinewidth": 2
          }
         }
        },
        "title": {
         "text": "Acteurs les plus présents par genre"
        },
        "updatemenus": [
         {
          "buttons": [
           {
            "args": [
             null,
             {
              "frame": {
               "duration": 500,
               "redraw": true
              },
              "fromcurrent": true,
              "mode": "immediate",
              "transition": {
               "duration": 500,
               "easing": "linear"
              }
             }
            ],
            "label": "&#9654;",
            "method": "animate"
           },
           {
            "args": [
             [
              null
             ],
             {
              "frame": {
               "duration": 0,
               "redraw": true
              },
              "fromcurrent": true,
              "mode": "immediate",
              "transition": {
               "duration": 0,
               "easing": "linear"
              }
             }
            ],
            "label": "&#9724;",
            "method": "animate"
           }
          ],
          "direction": "left",
          "pad": {
           "r": 10,
           "t": 70
          },
          "showactive": false,
          "type": "buttons",
          "x": 0.1,
          "xanchor": "right",
          "y": 0,
          "yanchor": "top"
         }
        ],
        "xaxis": {
         "anchor": "y",
         "domain": [
          0,
          1
         ],
         "title": {
          "text": "Actors"
         }
        },
        "yaxis": {
         "anchor": "x",
         "domain": [
          0,
          1
         ],
         "title": {
          "text": "Count"
         }
        }
       }
      }
     },
     "metadata": {},
     "output_type": "display_data"
    }
   ],
   "source": [
    "\n",
    "fig = px.bar(\n",
    "    data_frame=top_actors_per_genre,\n",
    "    x=\"Actors\",\n",
    "    y=\"Count\",\n",
    "    animation_frame= 'Genres',                   \n",
    "    title=\"Acteurs les plus présents par genre\",\n",
    "    barmode=\"group\",        \n",
    "    height=600\n",
    ")\n",
    "\n",
    "fig.show()"
   ]
  },
  {
   "cell_type": "markdown",
   "id": "dce3d8a2",
   "metadata": {},
   "source": [
    "la même chose avec :  Films US / Films Français"
   ]
  },
  {
   "cell_type": "code",
   "execution_count": 14,
   "id": "243ad56c",
   "metadata": {},
   "outputs": [
    {
     "name": "stdout",
     "output_type": "stream",
     "text": [
      "         Genres                 Actors  Count\n",
      "1506     Action           Bruce Willis     46\n",
      "10156    Action      Samuel L. Jackson     29\n",
      "10894    Action     Sylvester Stallone     26\n",
      "5116     Action  Jean-Claude Van Damme     25\n",
      "8586     Action           Nicolas Cage     25\n",
      "...         ...                    ...    ...\n",
      "158295  Western             John Wayne     16\n",
      "158908  Western               Tim Holt     11\n",
      "157752  Western         Clint Eastwood      9\n",
      "158071  Western           Harry Morgan      9\n",
      "158720  Western         Richard Martin      8\n",
      "\n",
      "[116 rows x 3 columns]\n"
     ]
    }
   ],
   "source": [
    "#US\n",
    "df_us = df_exploded[df_exploded['ProductionCountries'].str.contains('US', case=False, na=False)]\n",
    "actor_genre_counts_us = df_us.groupby(['Genres', 'Actors']).size().reset_index(name='Count')\n",
    "top_actors_per_genre_us = actor_genre_counts_us.sort_values(['Genres', 'Count'], ascending=[True, False])\n",
    "top_actors_per_genre_us = top_actors_per_genre_us.groupby('Genres').head(5)\n",
    "print(top_actors_per_genre_us)"
   ]
  },
  {
   "cell_type": "code",
   "execution_count": 22,
   "id": "9ad720ae",
   "metadata": {},
   "outputs": [
    {
     "data": {
      "application/vnd.plotly.v1+json": {
       "config": {
        "plotlyServerURL": "https://plot.ly"
       },
       "data": [
        {
         "alignmentgroup": "True",
         "hovertemplate": "Genres=Action<br>Actors=%{x}<br>Count=%{y}<extra></extra>",
         "legendgroup": "",
         "marker": {
          "color": "#636efa",
          "pattern": {
           "shape": ""
          }
         },
         "name": "",
         "offsetgroup": "",
         "orientation": "v",
         "showlegend": false,
         "textposition": "auto",
         "type": "bar",
         "x": [
          "Bruce Willis",
          "Samuel L. Jackson",
          "Sylvester Stallone",
          "Jean-Claude Van Damme",
          "Nicolas Cage"
         ],
         "xaxis": "x",
         "y": {
          "bdata": "Lh0aGRk=",
          "dtype": "i1"
         },
         "yaxis": "y"
        }
       ],
       "frames": [
        {
         "data": [
          {
           "alignmentgroup": "True",
           "hovertemplate": "Genres=Action<br>Actors=%{x}<br>Count=%{y}<extra></extra>",
           "legendgroup": "",
           "marker": {
            "color": "#636efa",
            "pattern": {
             "shape": ""
            }
           },
           "name": "",
           "offsetgroup": "",
           "orientation": "v",
           "showlegend": false,
           "textposition": "auto",
           "type": "bar",
           "x": [
            "Bruce Willis",
            "Samuel L. Jackson",
            "Sylvester Stallone",
            "Jean-Claude Van Damme",
            "Nicolas Cage"
           ],
           "xaxis": "x",
           "y": {
            "bdata": "Lh0aGRk=",
            "dtype": "i1"
           },
           "yaxis": "y"
          }
         ],
         "name": "Action"
        },
        {
         "data": [
          {
           "alignmentgroup": "True",
           "hovertemplate": "Genres=Adventure<br>Actors=%{x}<br>Count=%{y}<extra></extra>",
           "legendgroup": "",
           "marker": {
            "color": "#636efa",
            "pattern": {
             "shape": ""
            }
           },
           "name": "",
           "offsetgroup": "",
           "orientation": "v",
           "showlegend": false,
           "textposition": "auto",
           "type": "bar",
           "x": [
            "Sean Connery",
            "Dennis Quaid",
            "Jim Cummings",
            "John Cleese",
            "Samuel L. Jackson"
           ],
           "xaxis": "x",
           "y": {
            "bdata": "Ew4ODg4=",
            "dtype": "i1"
           },
           "yaxis": "y"
          }
         ],
         "name": "Adventure"
        },
        {
         "data": [
          {
           "alignmentgroup": "True",
           "hovertemplate": "Genres=Animation<br>Actors=%{x}<br>Count=%{y}<extra></extra>",
           "legendgroup": "",
           "marker": {
            "color": "#636efa",
            "pattern": {
             "shape": ""
            }
           },
           "name": "",
           "offsetgroup": "",
           "orientation": "v",
           "showlegend": false,
           "textposition": "auto",
           "type": "bar",
           "x": [
            "Jim Cummings",
            "Frank Welker",
            "John Cleese",
            "Kath Soucie",
            "Grey Griffin"
           ],
           "xaxis": "x",
           "y": {
            "bdata": "EAsKCgk=",
            "dtype": "i1"
           },
           "yaxis": "y"
          }
         ],
         "name": "Animation"
        },
        {
         "data": [
          {
           "alignmentgroup": "True",
           "hovertemplate": "Genres=Biography<br>Actors=%{x}<br>Count=%{y}<extra></extra>",
           "legendgroup": "",
           "marker": {
            "color": "#636efa",
            "pattern": {
             "shape": ""
            }
           },
           "name": "",
           "offsetgroup": "",
           "orientation": "v",
           "showlegend": false,
           "textposition": "auto",
           "type": "bar",
           "x": [
            "Anthony Hopkins",
            "Denzel Washington",
            "Dennis Quaid",
            "Forest Whitaker",
            "Johnny Depp"
           ],
           "xaxis": "x",
           "y": {
            "bdata": "CgkIBwc=",
            "dtype": "i1"
           },
           "yaxis": "y"
          }
         ],
         "name": "Biography"
        },
        {
         "data": [
          {
           "alignmentgroup": "True",
           "hovertemplate": "Genres=Comedy<br>Actors=%{x}<br>Count=%{y}<extra></extra>",
           "legendgroup": "",
           "marker": {
            "color": "#636efa",
            "pattern": {
             "shape": ""
            }
           },
           "name": "",
           "offsetgroup": "",
           "orientation": "v",
           "showlegend": false,
           "textposition": "auto",
           "type": "bar",
           "x": [
            "Eddie Murphy",
            "Bill Murray",
            "Dan Aykroyd",
            "Danny DeVito",
            "Adam Sandler"
           ],
           "xaxis": "x",
           "y": {
            "bdata": "JiAgHx0=",
            "dtype": "i1"
           },
           "yaxis": "y"
          }
         ],
         "name": "Comedy"
        },
        {
         "data": [
          {
           "alignmentgroup": "True",
           "hovertemplate": "Genres=Crime<br>Actors=%{x}<br>Count=%{y}<extra></extra>",
           "legendgroup": "",
           "marker": {
            "color": "#636efa",
            "pattern": {
             "shape": ""
            }
           },
           "name": "",
           "offsetgroup": "",
           "orientation": "v",
           "showlegend": false,
           "textposition": "auto",
           "type": "bar",
           "x": [
            "Bruce Willis",
            "Robert De Niro",
            "Samuel L. Jackson",
            "Morgan Freeman",
            "Willem Dafoe"
           ],
           "xaxis": "x",
           "y": {
            "bdata": "HR0cGhk=",
            "dtype": "i1"
           },
           "yaxis": "y"
          }
         ],
         "name": "Crime"
        },
        {
         "data": [
          {
           "alignmentgroup": "True",
           "hovertemplate": "Genres=Documentary<br>Actors=%{x}<br>Count=%{y}<extra></extra>",
           "legendgroup": "",
           "marker": {
            "color": "#636efa",
            "pattern": {
             "shape": ""
            }
           },
           "name": "",
           "offsetgroup": "",
           "orientation": "v",
           "showlegend": false,
           "textposition": "auto",
           "type": "bar",
           "x": [
            "Alec Baldwin",
            "Don Taylor",
            "Elias Argentiere",
            "Hanan Ashrawi",
            "LisaGay Hamilton"
           ],
           "xaxis": "x",
           "y": {
            "bdata": "AwICAgI=",
            "dtype": "i1"
           },
           "yaxis": "y"
          }
         ],
         "name": "Documentary"
        },
        {
         "data": [
          {
           "alignmentgroup": "True",
           "hovertemplate": "Genres=Drama<br>Actors=%{x}<br>Count=%{y}<extra></extra>",
           "legendgroup": "",
           "marker": {
            "color": "#636efa",
            "pattern": {
             "shape": ""
            }
           },
           "name": "",
           "offsetgroup": "",
           "orientation": "v",
           "showlegend": false,
           "textposition": "auto",
           "type": "bar",
           "x": [
            "Robert De Niro",
            "Morgan Freeman",
            "Willem Dafoe",
            "Dennis Quaid",
            "Anthony Hopkins"
           ],
           "xaxis": "x",
           "y": {
            "bdata": "JyYlIyA=",
            "dtype": "i1"
           },
           "yaxis": "y"
          }
         ],
         "name": "Drama"
        },
        {
         "data": [
          {
           "alignmentgroup": "True",
           "hovertemplate": "Genres=Family<br>Actors=%{x}<br>Count=%{y}<extra></extra>",
           "legendgroup": "",
           "marker": {
            "color": "#636efa",
            "pattern": {
             "shape": ""
            }
           },
           "name": "",
           "offsetgroup": "",
           "orientation": "v",
           "showlegend": false,
           "textposition": "auto",
           "type": "bar",
           "x": [
            "Penny Singleton",
            "Arthur Lake",
            "Larry Simms",
            "Marjorie Ann Mutchie",
            "Daisy"
           ],
           "xaxis": "x",
           "y": {
            "bdata": "FBMTDw0=",
            "dtype": "i1"
           },
           "yaxis": "y"
          }
         ],
         "name": "Family"
        },
        {
         "data": [
          {
           "alignmentgroup": "True",
           "hovertemplate": "Genres=Fantasy<br>Actors=%{x}<br>Count=%{y}<extra></extra>",
           "legendgroup": "",
           "marker": {
            "color": "#636efa",
            "pattern": {
             "shape": ""
            }
           },
           "name": "",
           "offsetgroup": "",
           "orientation": "v",
           "showlegend": false,
           "textposition": "auto",
           "type": "bar",
           "x": [
            "Jeffrey Tambor",
            "Nicolas Cage",
            "Daniel Radcliffe",
            "Johnny Depp",
            "Orlando Bloom"
           ],
           "xaxis": "x",
           "y": {
            "bdata": "CAgHBwc=",
            "dtype": "i1"
           },
           "yaxis": "y"
          }
         ],
         "name": "Fantasy"
        },
        {
         "data": [
          {
           "alignmentgroup": "True",
           "hovertemplate": "Genres=Film-Noir<br>Actors=%{x}<br>Count=%{y}<extra></extra>",
           "legendgroup": "",
           "marker": {
            "color": "#636efa",
            "pattern": {
             "shape": ""
            }
           },
           "name": "",
           "offsetgroup": "",
           "orientation": "v",
           "showlegend": false,
           "textposition": "auto",
           "type": "bar",
           "x": [
            "Humphrey Bogart",
            "Robert Mitchum",
            "Richard Conte",
            "William Bendix",
            "Bruce Bennett"
           ],
           "xaxis": "x",
           "y": {
            "bdata": "BgYFBQQ=",
            "dtype": "i1"
           },
           "yaxis": "y"
          }
         ],
         "name": "Film-Noir"
        },
        {
         "data": [
          {
           "alignmentgroup": "True",
           "hovertemplate": "Genres=History<br>Actors=%{x}<br>Count=%{y}<extra></extra>",
           "legendgroup": "",
           "marker": {
            "color": "#636efa",
            "pattern": {
             "shape": ""
            }
           },
           "name": "",
           "offsetgroup": "",
           "orientation": "v",
           "showlegend": false,
           "textposition": "auto",
           "type": "bar",
           "x": [
            "Anthony Hopkins",
            "Ben Kingsley",
            "Liam Neeson",
            "Benedict Cumberbatch",
            "Christopher Plummer"
           ],
           "xaxis": "x",
           "y": {
            "bdata": "BgYGBQQ=",
            "dtype": "i1"
           },
           "yaxis": "y"
          }
         ],
         "name": "History"
        },
        {
         "data": [
          {
           "alignmentgroup": "True",
           "hovertemplate": "Genres=Horror<br>Actors=%{x}<br>Count=%{y}<extra></extra>",
           "legendgroup": "",
           "marker": {
            "color": "#636efa",
            "pattern": {
             "shape": ""
            }
           },
           "name": "",
           "offsetgroup": "",
           "orientation": "v",
           "showlegend": false,
           "textposition": "auto",
           "type": "bar",
           "x": [
            "Brad Dourif",
            "Robert Englund",
            "Larry Fessenden",
            "Bill Moseley",
            "Tobin Bell"
           ],
           "xaxis": "x",
           "y": {
            "bdata": "DQ0MCwo=",
            "dtype": "i1"
           },
           "yaxis": "y"
          }
         ],
         "name": "Horror"
        },
        {
         "data": [
          {
           "alignmentgroup": "True",
           "hovertemplate": "Genres=Music<br>Actors=%{x}<br>Count=%{y}<extra></extra>",
           "legendgroup": "",
           "marker": {
            "color": "#636efa",
            "pattern": {
             "shape": ""
            }
           },
           "name": "",
           "offsetgroup": "",
           "orientation": "v",
           "showlegend": false,
           "textposition": "auto",
           "type": "bar",
           "x": [
            "Elvis Presley",
            "Christian Bale",
            "Irving Bacon",
            "Jack Black",
            "Jennifer Lopez"
           ],
           "xaxis": "x",
           "y": {
            "bdata": "BQQEBAQ=",
            "dtype": "i1"
           },
           "yaxis": "y"
          }
         ],
         "name": "Music"
        },
        {
         "data": [
          {
           "alignmentgroup": "True",
           "hovertemplate": "Genres=Musical<br>Actors=%{x}<br>Count=%{y}<extra></extra>",
           "legendgroup": "",
           "marker": {
            "color": "#636efa",
            "pattern": {
             "shape": ""
            }
           },
           "name": "",
           "offsetgroup": "",
           "orientation": "v",
           "showlegend": false,
           "textposition": "auto",
           "type": "bar",
           "x": [
            "Elvis Presley",
            "Gene Kelly",
            "Frank Sinatra",
            "Bing Crosby",
            "Kathryn Grayson"
           ],
           "xaxis": "x",
           "y": {
            "bdata": "DwcFBAQ=",
            "dtype": "i1"
           },
           "yaxis": "y"
          }
         ],
         "name": "Musical"
        },
        {
         "data": [
          {
           "alignmentgroup": "True",
           "hovertemplate": "Genres=Mystery<br>Actors=%{x}<br>Count=%{y}<extra></extra>",
           "legendgroup": "",
           "marker": {
            "color": "#636efa",
            "pattern": {
             "shape": ""
            }
           },
           "name": "",
           "offsetgroup": "",
           "orientation": "v",
           "showlegend": false,
           "textposition": "auto",
           "type": "bar",
           "x": [
            "Nicolas Cage",
            "Bruce Willis",
            "Brian Cox",
            "Denzel Washington",
            "Bill Pullman"
           ],
           "xaxis": "x",
           "y": {
            "bdata": "DAsKCgk=",
            "dtype": "i1"
           },
           "yaxis": "y"
          }
         ],
         "name": "Mystery"
        },
        {
         "data": [
          {
           "alignmentgroup": "True",
           "hovertemplate": "Genres=News<br>Actors=%{x}<br>Count=%{y}<extra></extra>",
           "legendgroup": "",
           "marker": {
            "color": "#636efa",
            "pattern": {
             "shape": ""
            }
           },
           "name": "",
           "offsetgroup": "",
           "orientation": "v",
           "showlegend": false,
           "textposition": "auto",
           "type": "bar",
           "x": [
            "Avijit Halder",
            "Gour",
            "Kochi",
            "Mamuni",
            "Manik"
           ],
           "xaxis": "x",
           "y": {
            "bdata": "AQEBAQE=",
            "dtype": "i1"
           },
           "yaxis": "y"
          }
         ],
         "name": "News"
        },
        {
         "data": [
          {
           "alignmentgroup": "True",
           "hovertemplate": "Genres=Reality-TV<br>Actors=%{x}<br>Count=%{y}<extra></extra>",
           "legendgroup": "",
           "marker": {
            "color": "#636efa",
            "pattern": {
             "shape": ""
            }
           },
           "name": "",
           "offsetgroup": "",
           "orientation": "v",
           "showlegend": false,
           "textposition": "auto",
           "type": "bar",
           "x": [
            "Dan Greenleaf"
           ],
           "xaxis": "x",
           "y": {
            "bdata": "AQ==",
            "dtype": "i1"
           },
           "yaxis": "y"
          }
         ],
         "name": "Reality-TV"
        },
        {
         "data": [
          {
           "alignmentgroup": "True",
           "hovertemplate": "Genres=Romance<br>Actors=%{x}<br>Count=%{y}<extra></extra>",
           "legendgroup": "",
           "marker": {
            "color": "#636efa",
            "pattern": {
             "shape": ""
            }
           },
           "name": "",
           "offsetgroup": "",
           "orientation": "v",
           "showlegend": false,
           "textposition": "auto",
           "type": "bar",
           "x": [
            "Julia Roberts",
            "Meg Ryan",
            "Diane Keaton",
            "Paul Rudd",
            "Alec Baldwin"
           ],
           "xaxis": "x",
           "y": {
            "bdata": "EhAPDg0=",
            "dtype": "i1"
           },
           "yaxis": "y"
          }
         ],
         "name": "Romance"
        },
        {
         "data": [
          {
           "alignmentgroup": "True",
           "hovertemplate": "Genres=Sci-Fi<br>Actors=%{x}<br>Count=%{y}<extra></extra>",
           "legendgroup": "",
           "marker": {
            "color": "#636efa",
            "pattern": {
             "shape": ""
            }
           },
           "name": "",
           "offsetgroup": "",
           "orientation": "v",
           "showlegend": false,
           "textposition": "auto",
           "type": "bar",
           "x": [
            "Bruce Willis",
            "Tom Sizemore",
            "Arnold Schwarzenegger",
            "Sam Neill",
            "Samuel L. Jackson"
           ],
           "xaxis": "x",
           "y": {
            "bdata": "CQkICAg=",
            "dtype": "i1"
           },
           "yaxis": "y"
          }
         ],
         "name": "Sci-Fi"
        },
        {
         "data": [
          {
           "alignmentgroup": "True",
           "hovertemplate": "Genres=Sport<br>Actors=%{x}<br>Count=%{y}<extra></extra>",
           "legendgroup": "",
           "marker": {
            "color": "#636efa",
            "pattern": {
             "shape": ""
            }
           },
           "name": "",
           "offsetgroup": "",
           "orientation": "v",
           "showlegend": false,
           "textposition": "auto",
           "type": "bar",
           "x": [
            "Sylvester Stallone",
            "Burt Young",
            "Carl Weathers",
            "Talia Shire",
            "Burt Reynolds"
           ],
           "xaxis": "x",
           "y": {
            "bdata": "CgcHBgU=",
            "dtype": "i1"
           },
           "yaxis": "y"
          }
         ],
         "name": "Sport"
        },
        {
         "data": [
          {
           "alignmentgroup": "True",
           "hovertemplate": "Genres=Thriller<br>Actors=%{x}<br>Count=%{y}<extra></extra>",
           "legendgroup": "",
           "marker": {
            "color": "#636efa",
            "pattern": {
             "shape": ""
            }
           },
           "name": "",
           "offsetgroup": "",
           "orientation": "v",
           "showlegend": false,
           "textposition": "auto",
           "type": "bar",
           "x": [
            "Bruce Willis",
            "Nicolas Cage",
            "Samuel L. Jackson",
            "Sylvester Stallone",
            "Famke Janssen"
           ],
           "xaxis": "x",
           "y": {
            "bdata": "JRsPDw4=",
            "dtype": "i1"
           },
           "yaxis": "y"
          }
         ],
         "name": "Thriller"
        },
        {
         "data": [
          {
           "alignmentgroup": "True",
           "hovertemplate": "Genres=War<br>Actors=%{x}<br>Count=%{y}<extra></extra>",
           "legendgroup": "",
           "marker": {
            "color": "#636efa",
            "pattern": {
             "shape": ""
            }
           },
           "name": "",
           "offsetgroup": "",
           "orientation": "v",
           "showlegend": false,
           "textposition": "auto",
           "type": "bar",
           "x": [
            "John Wayne",
            "Burt Lancaster",
            "Alan Arkin",
            "Alec Guinness",
            "Brad Dexter"
           ],
           "xaxis": "x",
           "y": {
            "bdata": "BQQDAwM=",
            "dtype": "i1"
           },
           "yaxis": "y"
          }
         ],
         "name": "War"
        },
        {
         "data": [
          {
           "alignmentgroup": "True",
           "hovertemplate": "Genres=Western<br>Actors=%{x}<br>Count=%{y}<extra></extra>",
           "legendgroup": "",
           "marker": {
            "color": "#636efa",
            "pattern": {
             "shape": ""
            }
           },
           "name": "",
           "offsetgroup": "",
           "orientation": "v",
           "showlegend": false,
           "textposition": "auto",
           "type": "bar",
           "x": [
            "John Wayne",
            "Tim Holt",
            "Clint Eastwood",
            "Harry Morgan",
            "Richard Martin"
           ],
           "xaxis": "x",
           "y": {
            "bdata": "EAsJCQg=",
            "dtype": "i1"
           },
           "yaxis": "y"
          }
         ],
         "name": "Western"
        }
       ],
       "layout": {
        "barmode": "group",
        "height": 600,
        "legend": {
         "tracegroupgap": 0
        },
        "sliders": [
         {
          "active": 0,
          "currentvalue": {
           "prefix": "Genres="
          },
          "len": 0.9,
          "pad": {
           "b": 10,
           "t": 60
          },
          "steps": [
           {
            "args": [
             [
              "Action"
             ],
             {
              "frame": {
               "duration": 0,
               "redraw": true
              },
              "fromcurrent": true,
              "mode": "immediate",
              "transition": {
               "duration": 0,
               "easing": "linear"
              }
             }
            ],
            "label": "Action",
            "method": "animate"
           },
           {
            "args": [
             [
              "Adventure"
             ],
             {
              "frame": {
               "duration": 0,
               "redraw": true
              },
              "fromcurrent": true,
              "mode": "immediate",
              "transition": {
               "duration": 0,
               "easing": "linear"
              }
             }
            ],
            "label": "Adventure",
            "method": "animate"
           },
           {
            "args": [
             [
              "Animation"
             ],
             {
              "frame": {
               "duration": 0,
               "redraw": true
              },
              "fromcurrent": true,
              "mode": "immediate",
              "transition": {
               "duration": 0,
               "easing": "linear"
              }
             }
            ],
            "label": "Animation",
            "method": "animate"
           },
           {
            "args": [
             [
              "Biography"
             ],
             {
              "frame": {
               "duration": 0,
               "redraw": true
              },
              "fromcurrent": true,
              "mode": "immediate",
              "transition": {
               "duration": 0,
               "easing": "linear"
              }
             }
            ],
            "label": "Biography",
            "method": "animate"
           },
           {
            "args": [
             [
              "Comedy"
             ],
             {
              "frame": {
               "duration": 0,
               "redraw": true
              },
              "fromcurrent": true,
              "mode": "immediate",
              "transition": {
               "duration": 0,
               "easing": "linear"
              }
             }
            ],
            "label": "Comedy",
            "method": "animate"
           },
           {
            "args": [
             [
              "Crime"
             ],
             {
              "frame": {
               "duration": 0,
               "redraw": true
              },
              "fromcurrent": true,
              "mode": "immediate",
              "transition": {
               "duration": 0,
               "easing": "linear"
              }
             }
            ],
            "label": "Crime",
            "method": "animate"
           },
           {
            "args": [
             [
              "Documentary"
             ],
             {
              "frame": {
               "duration": 0,
               "redraw": true
              },
              "fromcurrent": true,
              "mode": "immediate",
              "transition": {
               "duration": 0,
               "easing": "linear"
              }
             }
            ],
            "label": "Documentary",
            "method": "animate"
           },
           {
            "args": [
             [
              "Drama"
             ],
             {
              "frame": {
               "duration": 0,
               "redraw": true
              },
              "fromcurrent": true,
              "mode": "immediate",
              "transition": {
               "duration": 0,
               "easing": "linear"
              }
             }
            ],
            "label": "Drama",
            "method": "animate"
           },
           {
            "args": [
             [
              "Family"
             ],
             {
              "frame": {
               "duration": 0,
               "redraw": true
              },
              "fromcurrent": true,
              "mode": "immediate",
              "transition": {
               "duration": 0,
               "easing": "linear"
              }
             }
            ],
            "label": "Family",
            "method": "animate"
           },
           {
            "args": [
             [
              "Fantasy"
             ],
             {
              "frame": {
               "duration": 0,
               "redraw": true
              },
              "fromcurrent": true,
              "mode": "immediate",
              "transition": {
               "duration": 0,
               "easing": "linear"
              }
             }
            ],
            "label": "Fantasy",
            "method": "animate"
           },
           {
            "args": [
             [
              "Film-Noir"
             ],
             {
              "frame": {
               "duration": 0,
               "redraw": true
              },
              "fromcurrent": true,
              "mode": "immediate",
              "transition": {
               "duration": 0,
               "easing": "linear"
              }
             }
            ],
            "label": "Film-Noir",
            "method": "animate"
           },
           {
            "args": [
             [
              "History"
             ],
             {
              "frame": {
               "duration": 0,
               "redraw": true
              },
              "fromcurrent": true,
              "mode": "immediate",
              "transition": {
               "duration": 0,
               "easing": "linear"
              }
             }
            ],
            "label": "History",
            "method": "animate"
           },
           {
            "args": [
             [
              "Horror"
             ],
             {
              "frame": {
               "duration": 0,
               "redraw": true
              },
              "fromcurrent": true,
              "mode": "immediate",
              "transition": {
               "duration": 0,
               "easing": "linear"
              }
             }
            ],
            "label": "Horror",
            "method": "animate"
           },
           {
            "args": [
             [
              "Music"
             ],
             {
              "frame": {
               "duration": 0,
               "redraw": true
              },
              "fromcurrent": true,
              "mode": "immediate",
              "transition": {
               "duration": 0,
               "easing": "linear"
              }
             }
            ],
            "label": "Music",
            "method": "animate"
           },
           {
            "args": [
             [
              "Musical"
             ],
             {
              "frame": {
               "duration": 0,
               "redraw": true
              },
              "fromcurrent": true,
              "mode": "immediate",
              "transition": {
               "duration": 0,
               "easing": "linear"
              }
             }
            ],
            "label": "Musical",
            "method": "animate"
           },
           {
            "args": [
             [
              "Mystery"
             ],
             {
              "frame": {
               "duration": 0,
               "redraw": true
              },
              "fromcurrent": true,
              "mode": "immediate",
              "transition": {
               "duration": 0,
               "easing": "linear"
              }
             }
            ],
            "label": "Mystery",
            "method": "animate"
           },
           {
            "args": [
             [
              "News"
             ],
             {
              "frame": {
               "duration": 0,
               "redraw": true
              },
              "fromcurrent": true,
              "mode": "immediate",
              "transition": {
               "duration": 0,
               "easing": "linear"
              }
             }
            ],
            "label": "News",
            "method": "animate"
           },
           {
            "args": [
             [
              "Reality-TV"
             ],
             {
              "frame": {
               "duration": 0,
               "redraw": true
              },
              "fromcurrent": true,
              "mode": "immediate",
              "transition": {
               "duration": 0,
               "easing": "linear"
              }
             }
            ],
            "label": "Reality-TV",
            "method": "animate"
           },
           {
            "args": [
             [
              "Romance"
             ],
             {
              "frame": {
               "duration": 0,
               "redraw": true
              },
              "fromcurrent": true,
              "mode": "immediate",
              "transition": {
               "duration": 0,
               "easing": "linear"
              }
             }
            ],
            "label": "Romance",
            "method": "animate"
           },
           {
            "args": [
             [
              "Sci-Fi"
             ],
             {
              "frame": {
               "duration": 0,
               "redraw": true
              },
              "fromcurrent": true,
              "mode": "immediate",
              "transition": {
               "duration": 0,
               "easing": "linear"
              }
             }
            ],
            "label": "Sci-Fi",
            "method": "animate"
           },
           {
            "args": [
             [
              "Sport"
             ],
             {
              "frame": {
               "duration": 0,
               "redraw": true
              },
              "fromcurrent": true,
              "mode": "immediate",
              "transition": {
               "duration": 0,
               "easing": "linear"
              }
             }
            ],
            "label": "Sport",
            "method": "animate"
           },
           {
            "args": [
             [
              "Thriller"
             ],
             {
              "frame": {
               "duration": 0,
               "redraw": true
              },
              "fromcurrent": true,
              "mode": "immediate",
              "transition": {
               "duration": 0,
               "easing": "linear"
              }
             }
            ],
            "label": "Thriller",
            "method": "animate"
           },
           {
            "args": [
             [
              "War"
             ],
             {
              "frame": {
               "duration": 0,
               "redraw": true
              },
              "fromcurrent": true,
              "mode": "immediate",
              "transition": {
               "duration": 0,
               "easing": "linear"
              }
             }
            ],
            "label": "War",
            "method": "animate"
           },
           {
            "args": [
             [
              "Western"
             ],
             {
              "frame": {
               "duration": 0,
               "redraw": true
              },
              "fromcurrent": true,
              "mode": "immediate",
              "transition": {
               "duration": 0,
               "easing": "linear"
              }
             }
            ],
            "label": "Western",
            "method": "animate"
           }
          ],
          "x": 0.1,
          "xanchor": "left",
          "y": 0,
          "yanchor": "top"
         }
        ],
        "template": {
         "data": {
          "bar": [
           {
            "error_x": {
             "color": "#2a3f5f"
            },
            "error_y": {
             "color": "#2a3f5f"
            },
            "marker": {
             "line": {
              "color": "#E5ECF6",
              "width": 0.5
             },
             "pattern": {
              "fillmode": "overlay",
              "size": 10,
              "solidity": 0.2
             }
            },
            "type": "bar"
           }
          ],
          "barpolar": [
           {
            "marker": {
             "line": {
              "color": "#E5ECF6",
              "width": 0.5
             },
             "pattern": {
              "fillmode": "overlay",
              "size": 10,
              "solidity": 0.2
             }
            },
            "type": "barpolar"
           }
          ],
          "carpet": [
           {
            "aaxis": {
             "endlinecolor": "#2a3f5f",
             "gridcolor": "white",
             "linecolor": "white",
             "minorgridcolor": "white",
             "startlinecolor": "#2a3f5f"
            },
            "baxis": {
             "endlinecolor": "#2a3f5f",
             "gridcolor": "white",
             "linecolor": "white",
             "minorgridcolor": "white",
             "startlinecolor": "#2a3f5f"
            },
            "type": "carpet"
           }
          ],
          "choropleth": [
           {
            "colorbar": {
             "outlinewidth": 0,
             "ticks": ""
            },
            "type": "choropleth"
           }
          ],
          "contour": [
           {
            "colorbar": {
             "outlinewidth": 0,
             "ticks": ""
            },
            "colorscale": [
             [
              0,
              "#0d0887"
             ],
             [
              0.1111111111111111,
              "#46039f"
             ],
             [
              0.2222222222222222,
              "#7201a8"
             ],
             [
              0.3333333333333333,
              "#9c179e"
             ],
             [
              0.4444444444444444,
              "#bd3786"
             ],
             [
              0.5555555555555556,
              "#d8576b"
             ],
             [
              0.6666666666666666,
              "#ed7953"
             ],
             [
              0.7777777777777778,
              "#fb9f3a"
             ],
             [
              0.8888888888888888,
              "#fdca26"
             ],
             [
              1,
              "#f0f921"
             ]
            ],
            "type": "contour"
           }
          ],
          "contourcarpet": [
           {
            "colorbar": {
             "outlinewidth": 0,
             "ticks": ""
            },
            "type": "contourcarpet"
           }
          ],
          "heatmap": [
           {
            "colorbar": {
             "outlinewidth": 0,
             "ticks": ""
            },
            "colorscale": [
             [
              0,
              "#0d0887"
             ],
             [
              0.1111111111111111,
              "#46039f"
             ],
             [
              0.2222222222222222,
              "#7201a8"
             ],
             [
              0.3333333333333333,
              "#9c179e"
             ],
             [
              0.4444444444444444,
              "#bd3786"
             ],
             [
              0.5555555555555556,
              "#d8576b"
             ],
             [
              0.6666666666666666,
              "#ed7953"
             ],
             [
              0.7777777777777778,
              "#fb9f3a"
             ],
             [
              0.8888888888888888,
              "#fdca26"
             ],
             [
              1,
              "#f0f921"
             ]
            ],
            "type": "heatmap"
           }
          ],
          "histogram": [
           {
            "marker": {
             "pattern": {
              "fillmode": "overlay",
              "size": 10,
              "solidity": 0.2
             }
            },
            "type": "histogram"
           }
          ],
          "histogram2d": [
           {
            "colorbar": {
             "outlinewidth": 0,
             "ticks": ""
            },
            "colorscale": [
             [
              0,
              "#0d0887"
             ],
             [
              0.1111111111111111,
              "#46039f"
             ],
             [
              0.2222222222222222,
              "#7201a8"
             ],
             [
              0.3333333333333333,
              "#9c179e"
             ],
             [
              0.4444444444444444,
              "#bd3786"
             ],
             [
              0.5555555555555556,
              "#d8576b"
             ],
             [
              0.6666666666666666,
              "#ed7953"
             ],
             [
              0.7777777777777778,
              "#fb9f3a"
             ],
             [
              0.8888888888888888,
              "#fdca26"
             ],
             [
              1,
              "#f0f921"
             ]
            ],
            "type": "histogram2d"
           }
          ],
          "histogram2dcontour": [
           {
            "colorbar": {
             "outlinewidth": 0,
             "ticks": ""
            },
            "colorscale": [
             [
              0,
              "#0d0887"
             ],
             [
              0.1111111111111111,
              "#46039f"
             ],
             [
              0.2222222222222222,
              "#7201a8"
             ],
             [
              0.3333333333333333,
              "#9c179e"
             ],
             [
              0.4444444444444444,
              "#bd3786"
             ],
             [
              0.5555555555555556,
              "#d8576b"
             ],
             [
              0.6666666666666666,
              "#ed7953"
             ],
             [
              0.7777777777777778,
              "#fb9f3a"
             ],
             [
              0.8888888888888888,
              "#fdca26"
             ],
             [
              1,
              "#f0f921"
             ]
            ],
            "type": "histogram2dcontour"
           }
          ],
          "mesh3d": [
           {
            "colorbar": {
             "outlinewidth": 0,
             "ticks": ""
            },
            "type": "mesh3d"
           }
          ],
          "parcoords": [
           {
            "line": {
             "colorbar": {
              "outlinewidth": 0,
              "ticks": ""
             }
            },
            "type": "parcoords"
           }
          ],
          "pie": [
           {
            "automargin": true,
            "type": "pie"
           }
          ],
          "scatter": [
           {
            "fillpattern": {
             "fillmode": "overlay",
             "size": 10,
             "solidity": 0.2
            },
            "type": "scatter"
           }
          ],
          "scatter3d": [
           {
            "line": {
             "colorbar": {
              "outlinewidth": 0,
              "ticks": ""
             }
            },
            "marker": {
             "colorbar": {
              "outlinewidth": 0,
              "ticks": ""
             }
            },
            "type": "scatter3d"
           }
          ],
          "scattercarpet": [
           {
            "marker": {
             "colorbar": {
              "outlinewidth": 0,
              "ticks": ""
             }
            },
            "type": "scattercarpet"
           }
          ],
          "scattergeo": [
           {
            "marker": {
             "colorbar": {
              "outlinewidth": 0,
              "ticks": ""
             }
            },
            "type": "scattergeo"
           }
          ],
          "scattergl": [
           {
            "marker": {
             "colorbar": {
              "outlinewidth": 0,
              "ticks": ""
             }
            },
            "type": "scattergl"
           }
          ],
          "scattermap": [
           {
            "marker": {
             "colorbar": {
              "outlinewidth": 0,
              "ticks": ""
             }
            },
            "type": "scattermap"
           }
          ],
          "scattermapbox": [
           {
            "marker": {
             "colorbar": {
              "outlinewidth": 0,
              "ticks": ""
             }
            },
            "type": "scattermapbox"
           }
          ],
          "scatterpolar": [
           {
            "marker": {
             "colorbar": {
              "outlinewidth": 0,
              "ticks": ""
             }
            },
            "type": "scatterpolar"
           }
          ],
          "scatterpolargl": [
           {
            "marker": {
             "colorbar": {
              "outlinewidth": 0,
              "ticks": ""
             }
            },
            "type": "scatterpolargl"
           }
          ],
          "scatterternary": [
           {
            "marker": {
             "colorbar": {
              "outlinewidth": 0,
              "ticks": ""
             }
            },
            "type": "scatterternary"
           }
          ],
          "surface": [
           {
            "colorbar": {
             "outlinewidth": 0,
             "ticks": ""
            },
            "colorscale": [
             [
              0,
              "#0d0887"
             ],
             [
              0.1111111111111111,
              "#46039f"
             ],
             [
              0.2222222222222222,
              "#7201a8"
             ],
             [
              0.3333333333333333,
              "#9c179e"
             ],
             [
              0.4444444444444444,
              "#bd3786"
             ],
             [
              0.5555555555555556,
              "#d8576b"
             ],
             [
              0.6666666666666666,
              "#ed7953"
             ],
             [
              0.7777777777777778,
              "#fb9f3a"
             ],
             [
              0.8888888888888888,
              "#fdca26"
             ],
             [
              1,
              "#f0f921"
             ]
            ],
            "type": "surface"
           }
          ],
          "table": [
           {
            "cells": {
             "fill": {
              "color": "#EBF0F8"
             },
             "line": {
              "color": "white"
             }
            },
            "header": {
             "fill": {
              "color": "#C8D4E3"
             },
             "line": {
              "color": "white"
             }
            },
            "type": "table"
           }
          ]
         },
         "layout": {
          "annotationdefaults": {
           "arrowcolor": "#2a3f5f",
           "arrowhead": 0,
           "arrowwidth": 1
          },
          "autotypenumbers": "strict",
          "coloraxis": {
           "colorbar": {
            "outlinewidth": 0,
            "ticks": ""
           }
          },
          "colorscale": {
           "diverging": [
            [
             0,
             "#8e0152"
            ],
            [
             0.1,
             "#c51b7d"
            ],
            [
             0.2,
             "#de77ae"
            ],
            [
             0.3,
             "#f1b6da"
            ],
            [
             0.4,
             "#fde0ef"
            ],
            [
             0.5,
             "#f7f7f7"
            ],
            [
             0.6,
             "#e6f5d0"
            ],
            [
             0.7,
             "#b8e186"
            ],
            [
             0.8,
             "#7fbc41"
            ],
            [
             0.9,
             "#4d9221"
            ],
            [
             1,
             "#276419"
            ]
           ],
           "sequential": [
            [
             0,
             "#0d0887"
            ],
            [
             0.1111111111111111,
             "#46039f"
            ],
            [
             0.2222222222222222,
             "#7201a8"
            ],
            [
             0.3333333333333333,
             "#9c179e"
            ],
            [
             0.4444444444444444,
             "#bd3786"
            ],
            [
             0.5555555555555556,
             "#d8576b"
            ],
            [
             0.6666666666666666,
             "#ed7953"
            ],
            [
             0.7777777777777778,
             "#fb9f3a"
            ],
            [
             0.8888888888888888,
             "#fdca26"
            ],
            [
             1,
             "#f0f921"
            ]
           ],
           "sequentialminus": [
            [
             0,
             "#0d0887"
            ],
            [
             0.1111111111111111,
             "#46039f"
            ],
            [
             0.2222222222222222,
             "#7201a8"
            ],
            [
             0.3333333333333333,
             "#9c179e"
            ],
            [
             0.4444444444444444,
             "#bd3786"
            ],
            [
             0.5555555555555556,
             "#d8576b"
            ],
            [
             0.6666666666666666,
             "#ed7953"
            ],
            [
             0.7777777777777778,
             "#fb9f3a"
            ],
            [
             0.8888888888888888,
             "#fdca26"
            ],
            [
             1,
             "#f0f921"
            ]
           ]
          },
          "colorway": [
           "#636efa",
           "#EF553B",
           "#00cc96",
           "#ab63fa",
           "#FFA15A",
           "#19d3f3",
           "#FF6692",
           "#B6E880",
           "#FF97FF",
           "#FECB52"
          ],
          "font": {
           "color": "#2a3f5f"
          },
          "geo": {
           "bgcolor": "white",
           "lakecolor": "white",
           "landcolor": "#E5ECF6",
           "showlakes": true,
           "showland": true,
           "subunitcolor": "white"
          },
          "hoverlabel": {
           "align": "left"
          },
          "hovermode": "closest",
          "mapbox": {
           "style": "light"
          },
          "paper_bgcolor": "white",
          "plot_bgcolor": "#E5ECF6",
          "polar": {
           "angularaxis": {
            "gridcolor": "white",
            "linecolor": "white",
            "ticks": ""
           },
           "bgcolor": "#E5ECF6",
           "radialaxis": {
            "gridcolor": "white",
            "linecolor": "white",
            "ticks": ""
           }
          },
          "scene": {
           "xaxis": {
            "backgroundcolor": "#E5ECF6",
            "gridcolor": "white",
            "gridwidth": 2,
            "linecolor": "white",
            "showbackground": true,
            "ticks": "",
            "zerolinecolor": "white"
           },
           "yaxis": {
            "backgroundcolor": "#E5ECF6",
            "gridcolor": "white",
            "gridwidth": 2,
            "linecolor": "white",
            "showbackground": true,
            "ticks": "",
            "zerolinecolor": "white"
           },
           "zaxis": {
            "backgroundcolor": "#E5ECF6",
            "gridcolor": "white",
            "gridwidth": 2,
            "linecolor": "white",
            "showbackground": true,
            "ticks": "",
            "zerolinecolor": "white"
           }
          },
          "shapedefaults": {
           "line": {
            "color": "#2a3f5f"
           }
          },
          "ternary": {
           "aaxis": {
            "gridcolor": "white",
            "linecolor": "white",
            "ticks": ""
           },
           "baxis": {
            "gridcolor": "white",
            "linecolor": "white",
            "ticks": ""
           },
           "bgcolor": "#E5ECF6",
           "caxis": {
            "gridcolor": "white",
            "linecolor": "white",
            "ticks": ""
           }
          },
          "title": {
           "x": 0.05
          },
          "xaxis": {
           "automargin": true,
           "gridcolor": "white",
           "linecolor": "white",
           "ticks": "",
           "title": {
            "standoff": 15
           },
           "zerolinecolor": "white",
           "zerolinewidth": 2
          },
          "yaxis": {
           "automargin": true,
           "gridcolor": "white",
           "linecolor": "white",
           "ticks": "",
           "title": {
            "standoff": 15
           },
           "zerolinecolor": "white",
           "zerolinewidth": 2
          }
         }
        },
        "title": {
         "text": "Acteurs les plus présents par genre"
        },
        "updatemenus": [
         {
          "buttons": [
           {
            "args": [
             null,
             {
              "frame": {
               "duration": 500,
               "redraw": true
              },
              "fromcurrent": true,
              "mode": "immediate",
              "transition": {
               "duration": 500,
               "easing": "linear"
              }
             }
            ],
            "label": "&#9654;",
            "method": "animate"
           },
           {
            "args": [
             [
              null
             ],
             {
              "frame": {
               "duration": 0,
               "redraw": true
              },
              "fromcurrent": true,
              "mode": "immediate",
              "transition": {
               "duration": 0,
               "easing": "linear"
              }
             }
            ],
            "label": "&#9724;",
            "method": "animate"
           }
          ],
          "direction": "left",
          "pad": {
           "r": 10,
           "t": 70
          },
          "showactive": false,
          "type": "buttons",
          "x": 0.1,
          "xanchor": "right",
          "y": 0,
          "yanchor": "top"
         }
        ],
        "xaxis": {
         "anchor": "y",
         "domain": [
          0,
          1
         ],
         "title": {
          "text": "Actors"
         }
        },
        "yaxis": {
         "anchor": "x",
         "domain": [
          0,
          1
         ],
         "title": {
          "text": "Count"
         }
        }
       }
      }
     },
     "metadata": {},
     "output_type": "display_data"
    }
   ],
   "source": [
    "fig = px.bar(\n",
    "    data_frame=top_actors_per_genre_us,\n",
    "    x=\"Actors\",\n",
    "    y=\"Count\",\n",
    "    animation_frame= 'Genres',                   \n",
    "    title=\"Acteurs les plus présents par genre\",\n",
    "    barmode=\"group\",        \n",
    "    height=600\n",
    ")\n",
    "\n",
    "fig.show()\n",
    "fig.write_html(\"../visuals/top_actors_per_genre_us.html\")"
   ]
  },
  {
   "cell_type": "code",
   "execution_count": 16,
   "id": "8e2eb738",
   "metadata": {},
   "outputs": [
    {
     "name": "stdout",
     "output_type": "stream",
     "text": [
      "        Genres              Actors  Count\n",
      "820     Action           Jean Reno      7\n",
      "843     Action  Jean-Paul Belmondo      7\n",
      "1624    Action       Sami Bouajila      7\n",
      "34      Action        Alban Lenoir      6\n",
      "696     Action    Gérard Depardieu      6\n",
      "...        ...                 ...    ...\n",
      "46415  Western          Lex Barker      5\n",
      "46446  Western        Pierre Brice      4\n",
      "46457  Western       Rik Battaglia      4\n",
      "46476  Western        Terence Hill      4\n",
      "46377  Western        Gustavo Rojo      3\n",
      "\n",
      "[110 rows x 3 columns]\n"
     ]
    }
   ],
   "source": [
    "#FR\n",
    "df_fr = df_exploded[df_exploded['ProductionCountries'].str.contains('FR', case=False, na=False)]\n",
    "actor_genre_counts_fr = df_fr.groupby(['Genres', 'Actors']).size().reset_index(name='Count')\n",
    "top_actors_per_genre_fr = actor_genre_counts_fr.sort_values(['Genres', 'Count'], ascending=[True, False])\n",
    "top_actors_per_genre_fr = top_actors_per_genre_fr.groupby('Genres').head(5)\n",
    "print(top_actors_per_genre_fr)"
   ]
  },
  {
   "cell_type": "code",
   "execution_count": 19,
   "id": "af9d7f0c",
   "metadata": {},
   "outputs": [
    {
     "data": {
      "application/vnd.plotly.v1+json": {
       "config": {
        "plotlyServerURL": "https://plot.ly"
       },
       "data": [
        {
         "alignmentgroup": "True",
         "hovertemplate": "Genres=Action<br>Actors=%{x}<br>Count=%{y}<extra></extra>",
         "legendgroup": "",
         "marker": {
          "color": "#636efa",
          "pattern": {
           "shape": ""
          }
         },
         "name": "",
         "offsetgroup": "",
         "orientation": "v",
         "showlegend": false,
         "textposition": "auto",
         "type": "bar",
         "x": [
          "Jean Reno",
          "Jean-Paul Belmondo",
          "Sami Bouajila",
          "Alban Lenoir",
          "Gérard Depardieu"
         ],
         "xaxis": "x",
         "y": {
          "bdata": "BwcHBgY=",
          "dtype": "i1"
         },
         "yaxis": "y"
        }
       ],
       "frames": [
        {
         "data": [
          {
           "alignmentgroup": "True",
           "hovertemplate": "Genres=Action<br>Actors=%{x}<br>Count=%{y}<extra></extra>",
           "legendgroup": "",
           "marker": {
            "color": "#636efa",
            "pattern": {
             "shape": ""
            }
           },
           "name": "",
           "offsetgroup": "",
           "orientation": "v",
           "showlegend": false,
           "textposition": "auto",
           "type": "bar",
           "x": [
            "Jean Reno",
            "Jean-Paul Belmondo",
            "Sami Bouajila",
            "Alban Lenoir",
            "Gérard Depardieu"
           ],
           "xaxis": "x",
           "y": {
            "bdata": "BwcHBgY=",
            "dtype": "i1"
           },
           "yaxis": "y"
          }
         ],
         "name": "Action"
        },
        {
         "data": [
          {
           "alignmentgroup": "True",
           "hovertemplate": "Genres=Adult<br>Actors=%{x}<br>Count=%{y}<extra></extra>",
           "legendgroup": "",
           "marker": {
            "color": "#636efa",
            "pattern": {
             "shape": ""
            }
           },
           "name": "",
           "offsetgroup": "",
           "orientation": "v",
           "showlegend": false,
           "textposition": "auto",
           "type": "bar",
           "x": [
            "Capucine",
            "Carmelo Petix",
            "Catherine Jourdan",
            "Daniel Beretta",
            "Delia Boccardo"
           ],
           "xaxis": "x",
           "y": {
            "bdata": "AQEBAQE=",
            "dtype": "i1"
           },
           "yaxis": "y"
          }
         ],
         "name": "Adult"
        },
        {
         "data": [
          {
           "alignmentgroup": "True",
           "hovertemplate": "Genres=Adventure<br>Actors=%{x}<br>Count=%{y}<extra></extra>",
           "legendgroup": "",
           "marker": {
            "color": "#636efa",
            "pattern": {
             "shape": ""
            }
           },
           "name": "",
           "offsetgroup": "",
           "orientation": "v",
           "showlegend": false,
           "textposition": "auto",
           "type": "bar",
           "x": [
            "Roger Carel",
            "Gérard Depardieu",
            "Clovis Cornillac",
            "Louis de Funès",
            "Pierre Tornade"
           ],
           "xaxis": "x",
           "y": {
            "bdata": "CggHBwc=",
            "dtype": "i1"
           },
           "yaxis": "y"
          }
         ],
         "name": "Adventure"
        },
        {
         "data": [
          {
           "alignmentgroup": "True",
           "hovertemplate": "Genres=Animation<br>Actors=%{x}<br>Count=%{y}<extra></extra>",
           "legendgroup": "",
           "marker": {
            "color": "#636efa",
            "pattern": {
             "shape": ""
            }
           },
           "name": "",
           "offsetgroup": "",
           "orientation": "v",
           "showlegend": false,
           "textposition": "auto",
           "type": "bar",
           "x": [
            "Roger Carel",
            "Pierre Tornade",
            "Emmanuel Curtil",
            "Kaycie Chase",
            "Féodor Atkine"
           ],
           "xaxis": "x",
           "y": {
            "bdata": "CAcFBQQ=",
            "dtype": "i1"
           },
           "yaxis": "y"
          }
         ],
         "name": "Animation"
        },
        {
         "data": [
          {
           "alignmentgroup": "True",
           "hovertemplate": "Genres=Biography<br>Actors=%{x}<br>Count=%{y}<extra></extra>",
           "legendgroup": "",
           "marker": {
            "color": "#636efa",
            "pattern": {
             "shape": ""
            }
           },
           "name": "",
           "offsetgroup": "",
           "orientation": "v",
           "showlegend": false,
           "textposition": "auto",
           "type": "bar",
           "x": [
            "Gérard Depardieu",
            "Olivier Gourmet",
            "Elsa Zylberstein",
            "Mathieu Amalric",
            "Pascal Greggory"
           ],
           "xaxis": "x",
           "y": {
            "bdata": "CAgFBAQ=",
            "dtype": "i1"
           },
           "yaxis": "y"
          }
         ],
         "name": "Biography"
        },
        {
         "data": [
          {
           "alignmentgroup": "True",
           "hovertemplate": "Genres=Comedy<br>Actors=%{x}<br>Count=%{y}<extra></extra>",
           "legendgroup": "",
           "marker": {
            "color": "#636efa",
            "pattern": {
             "shape": ""
            }
           },
           "name": "",
           "offsetgroup": "",
           "orientation": "v",
           "showlegend": false,
           "textposition": "auto",
           "type": "bar",
           "x": [
            "Gérard Depardieu",
            "Ramzy Bedia",
            "Louis de Funès",
            "Thierry Lhermitte",
            "Benoît Poelvoorde"
           ],
           "xaxis": "x",
           "y": {
            "bdata": "IBcWFhU=",
            "dtype": "i1"
           },
           "yaxis": "y"
          }
         ],
         "name": "Comedy"
        },
        {
         "data": [
          {
           "alignmentgroup": "True",
           "hovertemplate": "Genres=Crime<br>Actors=%{x}<br>Count=%{y}<extra></extra>",
           "legendgroup": "",
           "marker": {
            "color": "#636efa",
            "pattern": {
             "shape": ""
            }
           },
           "name": "",
           "offsetgroup": "",
           "orientation": "v",
           "showlegend": false,
           "textposition": "auto",
           "type": "bar",
           "x": [
            "Gérard Depardieu",
            "Alain Delon",
            "André Dussollier",
            "Vincent Cassel",
            "Jean Reno"
           ],
           "xaxis": "x",
           "y": {
            "bdata": "EQsLCgk=",
            "dtype": "i1"
           },
           "yaxis": "y"
          }
         ],
         "name": "Crime"
        },
        {
         "data": [
          {
           "alignmentgroup": "True",
           "hovertemplate": "Genres=Documentary<br>Actors=%{x}<br>Count=%{y}<extra></extra>",
           "legendgroup": "",
           "marker": {
            "color": "#636efa",
            "pattern": {
             "shape": ""
            }
           },
           "name": "",
           "offsetgroup": "",
           "orientation": "v",
           "showlegend": false,
           "textposition": "auto",
           "type": "bar",
           "x": [
            "Blair Underwood",
            "Jacques Perrin",
            "Morgan Freeman",
            "Sofie Gråbøl",
            "Abel Jeanroy"
           ],
           "xaxis": "x",
           "y": {
            "bdata": "AgICAgE=",
            "dtype": "i1"
           },
           "yaxis": "y"
          }
         ],
         "name": "Documentary"
        },
        {
         "data": [
          {
           "alignmentgroup": "True",
           "hovertemplate": "Genres=Drama<br>Actors=%{x}<br>Count=%{y}<extra></extra>",
           "legendgroup": "",
           "marker": {
            "color": "#636efa",
            "pattern": {
             "shape": ""
            }
           },
           "name": "",
           "offsetgroup": "",
           "orientation": "v",
           "showlegend": false,
           "textposition": "auto",
           "type": "bar",
           "x": [
            "Gérard Depardieu",
            "Olivier Gourmet",
            "Isabelle Huppert",
            "Mathieu Amalric",
            "Isabelle Carré"
           ],
           "xaxis": "x",
           "y": {
            "bdata": "IhwZFhU=",
            "dtype": "i1"
           },
           "yaxis": "y"
          }
         ],
         "name": "Drama"
        },
        {
         "data": [
          {
           "alignmentgroup": "True",
           "hovertemplate": "Genres=Family<br>Actors=%{x}<br>Count=%{y}<extra></extra>",
           "legendgroup": "",
           "marker": {
            "color": "#636efa",
            "pattern": {
             "shape": ""
            }
           },
           "name": "",
           "offsetgroup": "",
           "orientation": "v",
           "showlegend": false,
           "textposition": "auto",
           "type": "bar",
           "x": [
            "Gilles Lellouche",
            "Gérard Depardieu",
            "Ramzy Bedia",
            "Alain Chabat",
            "Clovis Cornillac"
           ],
           "xaxis": "x",
           "y": {
            "bdata": "BAQEAwM=",
            "dtype": "i1"
           },
           "yaxis": "y"
          }
         ],
         "name": "Family"
        },
        {
         "data": [
          {
           "alignmentgroup": "True",
           "hovertemplate": "Genres=Fantasy<br>Actors=%{x}<br>Count=%{y}<extra></extra>",
           "legendgroup": "",
           "marker": {
            "color": "#636efa",
            "pattern": {
             "shape": ""
            }
           },
           "name": "",
           "offsetgroup": "",
           "orientation": "v",
           "showlegend": false,
           "textposition": "auto",
           "type": "bar",
           "x": [
            "Alain Chabat",
            "Mathieu Amalric",
            "Adèle Exarchopoulos",
            "Christian Clavier",
            "Clovis Cornillac"
           ],
           "xaxis": "x",
           "y": {
            "bdata": "BAQDAwM=",
            "dtype": "i1"
           },
           "yaxis": "y"
          }
         ],
         "name": "Fantasy"
        },
        {
         "data": [
          {
           "alignmentgroup": "True",
           "hovertemplate": "Genres=History<br>Actors=%{x}<br>Count=%{y}<extra></extra>",
           "legendgroup": "",
           "marker": {
            "color": "#636efa",
            "pattern": {
             "shape": ""
            }
           },
           "name": "",
           "offsetgroup": "",
           "orientation": "v",
           "showlegend": false,
           "textposition": "auto",
           "type": "bar",
           "x": [
            "Olivier Gourmet",
            "Louis Garrel",
            "Gérard Depardieu",
            "Vicky Krieps",
            "Vincent Perez"
           ],
           "xaxis": "x",
           "y": {
            "bdata": "CQYFBAQ=",
            "dtype": "i1"
           },
           "yaxis": "y"
          }
         ],
         "name": "History"
        },
        {
         "data": [
          {
           "alignmentgroup": "True",
           "hovertemplate": "Genres=Horror<br>Actors=%{x}<br>Count=%{y}<extra></extra>",
           "legendgroup": "",
           "marker": {
            "color": "#636efa",
            "pattern": {
             "shape": ""
            }
           },
           "name": "",
           "offsetgroup": "",
           "orientation": "v",
           "showlegend": false,
           "textposition": "auto",
           "type": "bar",
           "x": [
            "Denis Lavant",
            "Howard Vernon",
            "Jean-Luc Couchard",
            "Jean-Pascal Zadi",
            "Laurent Lucas"
           ],
           "xaxis": "x",
           "y": {
            "bdata": "AwMDAwM=",
            "dtype": "i1"
           },
           "yaxis": "y"
          }
         ],
         "name": "Horror"
        },
        {
         "data": [
          {
           "alignmentgroup": "True",
           "hovertemplate": "Genres=Music<br>Actors=%{x}<br>Count=%{y}<extra></extra>",
           "legendgroup": "",
           "marker": {
            "color": "#636efa",
            "pattern": {
             "shape": ""
            }
           },
           "name": "",
           "offsetgroup": "",
           "orientation": "v",
           "showlegend": false,
           "textposition": "auto",
           "type": "bar",
           "x": [
            "Gérard Jugnot",
            "Jean-Paul Rouve",
            "Kad Merad",
            "Pascal Greggory",
            "Romain Duris"
           ],
           "xaxis": "x",
           "y": {
            "bdata": "AwMDAwM=",
            "dtype": "i1"
           },
           "yaxis": "y"
          }
         ],
         "name": "Music"
        },
        {
         "data": [
          {
           "alignmentgroup": "True",
           "hovertemplate": "Genres=Musical<br>Actors=%{x}<br>Count=%{y}<extra></extra>",
           "legendgroup": "",
           "marker": {
            "color": "#636efa",
            "pattern": {
             "shape": ""
            }
           },
           "name": "",
           "offsetgroup": "",
           "orientation": "v",
           "showlegend": false,
           "textposition": "auto",
           "type": "bar",
           "x": [
            "Catherine Deneuve",
            "Danielle Darrieux",
            "Henri Crémieux",
            "Jacques Perrin",
            "Jean-Marc Barr"
           ],
           "xaxis": "x",
           "y": {
            "bdata": "BQICAgI=",
            "dtype": "i1"
           },
           "yaxis": "y"
          }
         ],
         "name": "Musical"
        },
        {
         "data": [
          {
           "alignmentgroup": "True",
           "hovertemplate": "Genres=Mystery<br>Actors=%{x}<br>Count=%{y}<extra></extra>",
           "legendgroup": "",
           "marker": {
            "color": "#636efa",
            "pattern": {
             "shape": ""
            }
           },
           "name": "",
           "offsetgroup": "",
           "orientation": "v",
           "showlegend": false,
           "textposition": "auto",
           "type": "bar",
           "x": [
            "André Dussollier",
            "Jean-Louis Trintignant",
            "Charlotte Rampling",
            "François Cluzet",
            "Gert Fröbe"
           ],
           "xaxis": "x",
           "y": {
            "bdata": "CQUEBAQ=",
            "dtype": "i1"
           },
           "yaxis": "y"
          }
         ],
         "name": "Mystery"
        },
        {
         "data": [
          {
           "alignmentgroup": "True",
           "hovertemplate": "Genres=Romance<br>Actors=%{x}<br>Count=%{y}<extra></extra>",
           "legendgroup": "",
           "marker": {
            "color": "#636efa",
            "pattern": {
             "shape": ""
            }
           },
           "name": "",
           "offsetgroup": "",
           "orientation": "v",
           "showlegend": false,
           "textposition": "auto",
           "type": "bar",
           "x": [
            "Gérard Depardieu",
            "Melvil Poupaud",
            "Louis Garrel",
            "Juliette Binoche",
            "Romy Schneider"
           ],
           "xaxis": "x",
           "y": {
            "bdata": "CgoJCAg=",
            "dtype": "i1"
           },
           "yaxis": "y"
          }
         ],
         "name": "Romance"
        },
        {
         "data": [
          {
           "alignmentgroup": "True",
           "hovertemplate": "Genres=Sci-Fi<br>Actors=%{x}<br>Count=%{y}<extra></extra>",
           "legendgroup": "",
           "marker": {
            "color": "#636efa",
            "pattern": {
             "shape": ""
            }
           },
           "name": "",
           "offsetgroup": "",
           "orientation": "v",
           "showlegend": false,
           "textposition": "auto",
           "type": "bar",
           "x": [
            "Milla Jovovich",
            "Ian Holm",
            "Louis de Funès",
            "Philippe Katerine",
            "Agata Buzek"
           ],
           "xaxis": "x",
           "y": {
            "bdata": "BAMDAwI=",
            "dtype": "i1"
           },
           "yaxis": "y"
          }
         ],
         "name": "Sci-Fi"
        },
        {
         "data": [
          {
           "alignmentgroup": "True",
           "hovertemplate": "Genres=Sport<br>Actors=%{x}<br>Count=%{y}<extra></extra>",
           "legendgroup": "",
           "marker": {
            "color": "#636efa",
            "pattern": {
             "shape": ""
            }
           },
           "name": "",
           "offsetgroup": "",
           "orientation": "v",
           "showlegend": false,
           "textposition": "auto",
           "type": "bar",
           "x": [
            "Alban Lenoir",
            "Muriel Combeau",
            "Abbas Moosavi",
            "Adriel Sorrente",
            "Agata Buzek"
           ],
           "xaxis": "x",
           "y": {
            "bdata": "AgIBAQE=",
            "dtype": "i1"
           },
           "yaxis": "y"
          }
         ],
         "name": "Sport"
        },
        {
         "data": [
          {
           "alignmentgroup": "True",
           "hovertemplate": "Genres=Thriller<br>Actors=%{x}<br>Count=%{y}<extra></extra>",
           "legendgroup": "",
           "marker": {
            "color": "#636efa",
            "pattern": {
             "shape": ""
            }
           },
           "name": "",
           "offsetgroup": "",
           "orientation": "v",
           "showlegend": false,
           "textposition": "auto",
           "type": "bar",
           "x": [
            "André Dussollier",
            "Benoît Magimel",
            "Nicolas Duvauchelle",
            "Sami Bouajila",
            "Simon Abkarian"
           ],
           "xaxis": "x",
           "y": {
            "bdata": "BwcGBgY=",
            "dtype": "i1"
           },
           "yaxis": "y"
          }
         ],
         "name": "Thriller"
        },
        {
         "data": [
          {
           "alignmentgroup": "True",
           "hovertemplate": "Genres=War<br>Actors=%{x}<br>Count=%{y}<extra></extra>",
           "legendgroup": "",
           "marker": {
            "color": "#636efa",
            "pattern": {
             "shape": ""
            }
           },
           "name": "",
           "offsetgroup": "",
           "orientation": "v",
           "showlegend": false,
           "textposition": "auto",
           "type": "bar",
           "x": [
            "Catherine Deneuve",
            "Grégoire Colin",
            "Gérard Depardieu",
            "Jean-Pierre Cassel",
            "Vincent Rottiers"
           ],
           "xaxis": "x",
           "y": {
            "bdata": "AwMDAwM=",
            "dtype": "i1"
           },
           "yaxis": "y"
          }
         ],
         "name": "War"
        },
        {
         "data": [
          {
           "alignmentgroup": "True",
           "hovertemplate": "Genres=Western<br>Actors=%{x}<br>Count=%{y}<extra></extra>",
           "legendgroup": "",
           "marker": {
            "color": "#636efa",
            "pattern": {
             "shape": ""
            }
           },
           "name": "",
           "offsetgroup": "",
           "orientation": "v",
           "showlegend": false,
           "textposition": "auto",
           "type": "bar",
           "x": [
            "Lex Barker",
            "Pierre Brice",
            "Rik Battaglia",
            "Terence Hill",
            "Gustavo Rojo"
           ],
           "xaxis": "x",
           "y": {
            "bdata": "BQQEBAM=",
            "dtype": "i1"
           },
           "yaxis": "y"
          }
         ],
         "name": "Western"
        }
       ],
       "layout": {
        "barmode": "group",
        "height": 600,
        "legend": {
         "tracegroupgap": 0
        },
        "sliders": [
         {
          "active": 0,
          "currentvalue": {
           "prefix": "Genres="
          },
          "len": 0.9,
          "pad": {
           "b": 10,
           "t": 60
          },
          "steps": [
           {
            "args": [
             [
              "Action"
             ],
             {
              "frame": {
               "duration": 0,
               "redraw": true
              },
              "fromcurrent": true,
              "mode": "immediate",
              "transition": {
               "duration": 0,
               "easing": "linear"
              }
             }
            ],
            "label": "Action",
            "method": "animate"
           },
           {
            "args": [
             [
              "Adult"
             ],
             {
              "frame": {
               "duration": 0,
               "redraw": true
              },
              "fromcurrent": true,
              "mode": "immediate",
              "transition": {
               "duration": 0,
               "easing": "linear"
              }
             }
            ],
            "label": "Adult",
            "method": "animate"
           },
           {
            "args": [
             [
              "Adventure"
             ],
             {
              "frame": {
               "duration": 0,
               "redraw": true
              },
              "fromcurrent": true,
              "mode": "immediate",
              "transition": {
               "duration": 0,
               "easing": "linear"
              }
             }
            ],
            "label": "Adventure",
            "method": "animate"
           },
           {
            "args": [
             [
              "Animation"
             ],
             {
              "frame": {
               "duration": 0,
               "redraw": true
              },
              "fromcurrent": true,
              "mode": "immediate",
              "transition": {
               "duration": 0,
               "easing": "linear"
              }
             }
            ],
            "label": "Animation",
            "method": "animate"
           },
           {
            "args": [
             [
              "Biography"
             ],
             {
              "frame": {
               "duration": 0,
               "redraw": true
              },
              "fromcurrent": true,
              "mode": "immediate",
              "transition": {
               "duration": 0,
               "easing": "linear"
              }
             }
            ],
            "label": "Biography",
            "method": "animate"
           },
           {
            "args": [
             [
              "Comedy"
             ],
             {
              "frame": {
               "duration": 0,
               "redraw": true
              },
              "fromcurrent": true,
              "mode": "immediate",
              "transition": {
               "duration": 0,
               "easing": "linear"
              }
             }
            ],
            "label": "Comedy",
            "method": "animate"
           },
           {
            "args": [
             [
              "Crime"
             ],
             {
              "frame": {
               "duration": 0,
               "redraw": true
              },
              "fromcurrent": true,
              "mode": "immediate",
              "transition": {
               "duration": 0,
               "easing": "linear"
              }
             }
            ],
            "label": "Crime",
            "method": "animate"
           },
           {
            "args": [
             [
              "Documentary"
             ],
             {
              "frame": {
               "duration": 0,
               "redraw": true
              },
              "fromcurrent": true,
              "mode": "immediate",
              "transition": {
               "duration": 0,
               "easing": "linear"
              }
             }
            ],
            "label": "Documentary",
            "method": "animate"
           },
           {
            "args": [
             [
              "Drama"
             ],
             {
              "frame": {
               "duration": 0,
               "redraw": true
              },
              "fromcurrent": true,
              "mode": "immediate",
              "transition": {
               "duration": 0,
               "easing": "linear"
              }
             }
            ],
            "label": "Drama",
            "method": "animate"
           },
           {
            "args": [
             [
              "Family"
             ],
             {
              "frame": {
               "duration": 0,
               "redraw": true
              },
              "fromcurrent": true,
              "mode": "immediate",
              "transition": {
               "duration": 0,
               "easing": "linear"
              }
             }
            ],
            "label": "Family",
            "method": "animate"
           },
           {
            "args": [
             [
              "Fantasy"
             ],
             {
              "frame": {
               "duration": 0,
               "redraw": true
              },
              "fromcurrent": true,
              "mode": "immediate",
              "transition": {
               "duration": 0,
               "easing": "linear"
              }
             }
            ],
            "label": "Fantasy",
            "method": "animate"
           },
           {
            "args": [
             [
              "History"
             ],
             {
              "frame": {
               "duration": 0,
               "redraw": true
              },
              "fromcurrent": true,
              "mode": "immediate",
              "transition": {
               "duration": 0,
               "easing": "linear"
              }
             }
            ],
            "label": "History",
            "method": "animate"
           },
           {
            "args": [
             [
              "Horror"
             ],
             {
              "frame": {
               "duration": 0,
               "redraw": true
              },
              "fromcurrent": true,
              "mode": "immediate",
              "transition": {
               "duration": 0,
               "easing": "linear"
              }
             }
            ],
            "label": "Horror",
            "method": "animate"
           },
           {
            "args": [
             [
              "Music"
             ],
             {
              "frame": {
               "duration": 0,
               "redraw": true
              },
              "fromcurrent": true,
              "mode": "immediate",
              "transition": {
               "duration": 0,
               "easing": "linear"
              }
             }
            ],
            "label": "Music",
            "method": "animate"
           },
           {
            "args": [
             [
              "Musical"
             ],
             {
              "frame": {
               "duration": 0,
               "redraw": true
              },
              "fromcurrent": true,
              "mode": "immediate",
              "transition": {
               "duration": 0,
               "easing": "linear"
              }
             }
            ],
            "label": "Musical",
            "method": "animate"
           },
           {
            "args": [
             [
              "Mystery"
             ],
             {
              "frame": {
               "duration": 0,
               "redraw": true
              },
              "fromcurrent": true,
              "mode": "immediate",
              "transition": {
               "duration": 0,
               "easing": "linear"
              }
             }
            ],
            "label": "Mystery",
            "method": "animate"
           },
           {
            "args": [
             [
              "Romance"
             ],
             {
              "frame": {
               "duration": 0,
               "redraw": true
              },
              "fromcurrent": true,
              "mode": "immediate",
              "transition": {
               "duration": 0,
               "easing": "linear"
              }
             }
            ],
            "label": "Romance",
            "method": "animate"
           },
           {
            "args": [
             [
              "Sci-Fi"
             ],
             {
              "frame": {
               "duration": 0,
               "redraw": true
              },
              "fromcurrent": true,
              "mode": "immediate",
              "transition": {
               "duration": 0,
               "easing": "linear"
              }
             }
            ],
            "label": "Sci-Fi",
            "method": "animate"
           },
           {
            "args": [
             [
              "Sport"
             ],
             {
              "frame": {
               "duration": 0,
               "redraw": true
              },
              "fromcurrent": true,
              "mode": "immediate",
              "transition": {
               "duration": 0,
               "easing": "linear"
              }
             }
            ],
            "label": "Sport",
            "method": "animate"
           },
           {
            "args": [
             [
              "Thriller"
             ],
             {
              "frame": {
               "duration": 0,
               "redraw": true
              },
              "fromcurrent": true,
              "mode": "immediate",
              "transition": {
               "duration": 0,
               "easing": "linear"
              }
             }
            ],
            "label": "Thriller",
            "method": "animate"
           },
           {
            "args": [
             [
              "War"
             ],
             {
              "frame": {
               "duration": 0,
               "redraw": true
              },
              "fromcurrent": true,
              "mode": "immediate",
              "transition": {
               "duration": 0,
               "easing": "linear"
              }
             }
            ],
            "label": "War",
            "method": "animate"
           },
           {
            "args": [
             [
              "Western"
             ],
             {
              "frame": {
               "duration": 0,
               "redraw": true
              },
              "fromcurrent": true,
              "mode": "immediate",
              "transition": {
               "duration": 0,
               "easing": "linear"
              }
             }
            ],
            "label": "Western",
            "method": "animate"
           }
          ],
          "x": 0.1,
          "xanchor": "left",
          "y": 0,
          "yanchor": "top"
         }
        ],
        "template": {
         "data": {
          "bar": [
           {
            "error_x": {
             "color": "#2a3f5f"
            },
            "error_y": {
             "color": "#2a3f5f"
            },
            "marker": {
             "line": {
              "color": "#E5ECF6",
              "width": 0.5
             },
             "pattern": {
              "fillmode": "overlay",
              "size": 10,
              "solidity": 0.2
             }
            },
            "type": "bar"
           }
          ],
          "barpolar": [
           {
            "marker": {
             "line": {
              "color": "#E5ECF6",
              "width": 0.5
             },
             "pattern": {
              "fillmode": "overlay",
              "size": 10,
              "solidity": 0.2
             }
            },
            "type": "barpolar"
           }
          ],
          "carpet": [
           {
            "aaxis": {
             "endlinecolor": "#2a3f5f",
             "gridcolor": "white",
             "linecolor": "white",
             "minorgridcolor": "white",
             "startlinecolor": "#2a3f5f"
            },
            "baxis": {
             "endlinecolor": "#2a3f5f",
             "gridcolor": "white",
             "linecolor": "white",
             "minorgridcolor": "white",
             "startlinecolor": "#2a3f5f"
            },
            "type": "carpet"
           }
          ],
          "choropleth": [
           {
            "colorbar": {
             "outlinewidth": 0,
             "ticks": ""
            },
            "type": "choropleth"
           }
          ],
          "contour": [
           {
            "colorbar": {
             "outlinewidth": 0,
             "ticks": ""
            },
            "colorscale": [
             [
              0,
              "#0d0887"
             ],
             [
              0.1111111111111111,
              "#46039f"
             ],
             [
              0.2222222222222222,
              "#7201a8"
             ],
             [
              0.3333333333333333,
              "#9c179e"
             ],
             [
              0.4444444444444444,
              "#bd3786"
             ],
             [
              0.5555555555555556,
              "#d8576b"
             ],
             [
              0.6666666666666666,
              "#ed7953"
             ],
             [
              0.7777777777777778,
              "#fb9f3a"
             ],
             [
              0.8888888888888888,
              "#fdca26"
             ],
             [
              1,
              "#f0f921"
             ]
            ],
            "type": "contour"
           }
          ],
          "contourcarpet": [
           {
            "colorbar": {
             "outlinewidth": 0,
             "ticks": ""
            },
            "type": "contourcarpet"
           }
          ],
          "heatmap": [
           {
            "colorbar": {
             "outlinewidth": 0,
             "ticks": ""
            },
            "colorscale": [
             [
              0,
              "#0d0887"
             ],
             [
              0.1111111111111111,
              "#46039f"
             ],
             [
              0.2222222222222222,
              "#7201a8"
             ],
             [
              0.3333333333333333,
              "#9c179e"
             ],
             [
              0.4444444444444444,
              "#bd3786"
             ],
             [
              0.5555555555555556,
              "#d8576b"
             ],
             [
              0.6666666666666666,
              "#ed7953"
             ],
             [
              0.7777777777777778,
              "#fb9f3a"
             ],
             [
              0.8888888888888888,
              "#fdca26"
             ],
             [
              1,
              "#f0f921"
             ]
            ],
            "type": "heatmap"
           }
          ],
          "histogram": [
           {
            "marker": {
             "pattern": {
              "fillmode": "overlay",
              "size": 10,
              "solidity": 0.2
             }
            },
            "type": "histogram"
           }
          ],
          "histogram2d": [
           {
            "colorbar": {
             "outlinewidth": 0,
             "ticks": ""
            },
            "colorscale": [
             [
              0,
              "#0d0887"
             ],
             [
              0.1111111111111111,
              "#46039f"
             ],
             [
              0.2222222222222222,
              "#7201a8"
             ],
             [
              0.3333333333333333,
              "#9c179e"
             ],
             [
              0.4444444444444444,
              "#bd3786"
             ],
             [
              0.5555555555555556,
              "#d8576b"
             ],
             [
              0.6666666666666666,
              "#ed7953"
             ],
             [
              0.7777777777777778,
              "#fb9f3a"
             ],
             [
              0.8888888888888888,
              "#fdca26"
             ],
             [
              1,
              "#f0f921"
             ]
            ],
            "type": "histogram2d"
           }
          ],
          "histogram2dcontour": [
           {
            "colorbar": {
             "outlinewidth": 0,
             "ticks": ""
            },
            "colorscale": [
             [
              0,
              "#0d0887"
             ],
             [
              0.1111111111111111,
              "#46039f"
             ],
             [
              0.2222222222222222,
              "#7201a8"
             ],
             [
              0.3333333333333333,
              "#9c179e"
             ],
             [
              0.4444444444444444,
              "#bd3786"
             ],
             [
              0.5555555555555556,
              "#d8576b"
             ],
             [
              0.6666666666666666,
              "#ed7953"
             ],
             [
              0.7777777777777778,
              "#fb9f3a"
             ],
             [
              0.8888888888888888,
              "#fdca26"
             ],
             [
              1,
              "#f0f921"
             ]
            ],
            "type": "histogram2dcontour"
           }
          ],
          "mesh3d": [
           {
            "colorbar": {
             "outlinewidth": 0,
             "ticks": ""
            },
            "type": "mesh3d"
           }
          ],
          "parcoords": [
           {
            "line": {
             "colorbar": {
              "outlinewidth": 0,
              "ticks": ""
             }
            },
            "type": "parcoords"
           }
          ],
          "pie": [
           {
            "automargin": true,
            "type": "pie"
           }
          ],
          "scatter": [
           {
            "fillpattern": {
             "fillmode": "overlay",
             "size": 10,
             "solidity": 0.2
            },
            "type": "scatter"
           }
          ],
          "scatter3d": [
           {
            "line": {
             "colorbar": {
              "outlinewidth": 0,
              "ticks": ""
             }
            },
            "marker": {
             "colorbar": {
              "outlinewidth": 0,
              "ticks": ""
             }
            },
            "type": "scatter3d"
           }
          ],
          "scattercarpet": [
           {
            "marker": {
             "colorbar": {
              "outlinewidth": 0,
              "ticks": ""
             }
            },
            "type": "scattercarpet"
           }
          ],
          "scattergeo": [
           {
            "marker": {
             "colorbar": {
              "outlinewidth": 0,
              "ticks": ""
             }
            },
            "type": "scattergeo"
           }
          ],
          "scattergl": [
           {
            "marker": {
             "colorbar": {
              "outlinewidth": 0,
              "ticks": ""
             }
            },
            "type": "scattergl"
           }
          ],
          "scattermap": [
           {
            "marker": {
             "colorbar": {
              "outlinewidth": 0,
              "ticks": ""
             }
            },
            "type": "scattermap"
           }
          ],
          "scattermapbox": [
           {
            "marker": {
             "colorbar": {
              "outlinewidth": 0,
              "ticks": ""
             }
            },
            "type": "scattermapbox"
           }
          ],
          "scatterpolar": [
           {
            "marker": {
             "colorbar": {
              "outlinewidth": 0,
              "ticks": ""
             }
            },
            "type": "scatterpolar"
           }
          ],
          "scatterpolargl": [
           {
            "marker": {
             "colorbar": {
              "outlinewidth": 0,
              "ticks": ""
             }
            },
            "type": "scatterpolargl"
           }
          ],
          "scatterternary": [
           {
            "marker": {
             "colorbar": {
              "outlinewidth": 0,
              "ticks": ""
             }
            },
            "type": "scatterternary"
           }
          ],
          "surface": [
           {
            "colorbar": {
             "outlinewidth": 0,
             "ticks": ""
            },
            "colorscale": [
             [
              0,
              "#0d0887"
             ],
             [
              0.1111111111111111,
              "#46039f"
             ],
             [
              0.2222222222222222,
              "#7201a8"
             ],
             [
              0.3333333333333333,
              "#9c179e"
             ],
             [
              0.4444444444444444,
              "#bd3786"
             ],
             [
              0.5555555555555556,
              "#d8576b"
             ],
             [
              0.6666666666666666,
              "#ed7953"
             ],
             [
              0.7777777777777778,
              "#fb9f3a"
             ],
             [
              0.8888888888888888,
              "#fdca26"
             ],
             [
              1,
              "#f0f921"
             ]
            ],
            "type": "surface"
           }
          ],
          "table": [
           {
            "cells": {
             "fill": {
              "color": "#EBF0F8"
             },
             "line": {
              "color": "white"
             }
            },
            "header": {
             "fill": {
              "color": "#C8D4E3"
             },
             "line": {
              "color": "white"
             }
            },
            "type": "table"
           }
          ]
         },
         "layout": {
          "annotationdefaults": {
           "arrowcolor": "#2a3f5f",
           "arrowhead": 0,
           "arrowwidth": 1
          },
          "autotypenumbers": "strict",
          "coloraxis": {
           "colorbar": {
            "outlinewidth": 0,
            "ticks": ""
           }
          },
          "colorscale": {
           "diverging": [
            [
             0,
             "#8e0152"
            ],
            [
             0.1,
             "#c51b7d"
            ],
            [
             0.2,
             "#de77ae"
            ],
            [
             0.3,
             "#f1b6da"
            ],
            [
             0.4,
             "#fde0ef"
            ],
            [
             0.5,
             "#f7f7f7"
            ],
            [
             0.6,
             "#e6f5d0"
            ],
            [
             0.7,
             "#b8e186"
            ],
            [
             0.8,
             "#7fbc41"
            ],
            [
             0.9,
             "#4d9221"
            ],
            [
             1,
             "#276419"
            ]
           ],
           "sequential": [
            [
             0,
             "#0d0887"
            ],
            [
             0.1111111111111111,
             "#46039f"
            ],
            [
             0.2222222222222222,
             "#7201a8"
            ],
            [
             0.3333333333333333,
             "#9c179e"
            ],
            [
             0.4444444444444444,
             "#bd3786"
            ],
            [
             0.5555555555555556,
             "#d8576b"
            ],
            [
             0.6666666666666666,
             "#ed7953"
            ],
            [
             0.7777777777777778,
             "#fb9f3a"
            ],
            [
             0.8888888888888888,
             "#fdca26"
            ],
            [
             1,
             "#f0f921"
            ]
           ],
           "sequentialminus": [
            [
             0,
             "#0d0887"
            ],
            [
             0.1111111111111111,
             "#46039f"
            ],
            [
             0.2222222222222222,
             "#7201a8"
            ],
            [
             0.3333333333333333,
             "#9c179e"
            ],
            [
             0.4444444444444444,
             "#bd3786"
            ],
            [
             0.5555555555555556,
             "#d8576b"
            ],
            [
             0.6666666666666666,
             "#ed7953"
            ],
            [
             0.7777777777777778,
             "#fb9f3a"
            ],
            [
             0.8888888888888888,
             "#fdca26"
            ],
            [
             1,
             "#f0f921"
            ]
           ]
          },
          "colorway": [
           "#636efa",
           "#EF553B",
           "#00cc96",
           "#ab63fa",
           "#FFA15A",
           "#19d3f3",
           "#FF6692",
           "#B6E880",
           "#FF97FF",
           "#FECB52"
          ],
          "font": {
           "color": "#2a3f5f"
          },
          "geo": {
           "bgcolor": "white",
           "lakecolor": "white",
           "landcolor": "#E5ECF6",
           "showlakes": true,
           "showland": true,
           "subunitcolor": "white"
          },
          "hoverlabel": {
           "align": "left"
          },
          "hovermode": "closest",
          "mapbox": {
           "style": "light"
          },
          "paper_bgcolor": "white",
          "plot_bgcolor": "#E5ECF6",
          "polar": {
           "angularaxis": {
            "gridcolor": "white",
            "linecolor": "white",
            "ticks": ""
           },
           "bgcolor": "#E5ECF6",
           "radialaxis": {
            "gridcolor": "white",
            "linecolor": "white",
            "ticks": ""
           }
          },
          "scene": {
           "xaxis": {
            "backgroundcolor": "#E5ECF6",
            "gridcolor": "white",
            "gridwidth": 2,
            "linecolor": "white",
            "showbackground": true,
            "ticks": "",
            "zerolinecolor": "white"
           },
           "yaxis": {
            "backgroundcolor": "#E5ECF6",
            "gridcolor": "white",
            "gridwidth": 2,
            "linecolor": "white",
            "showbackground": true,
            "ticks": "",
            "zerolinecolor": "white"
           },
           "zaxis": {
            "backgroundcolor": "#E5ECF6",
            "gridcolor": "white",
            "gridwidth": 2,
            "linecolor": "white",
            "showbackground": true,
            "ticks": "",
            "zerolinecolor": "white"
           }
          },
          "shapedefaults": {
           "line": {
            "color": "#2a3f5f"
           }
          },
          "ternary": {
           "aaxis": {
            "gridcolor": "white",
            "linecolor": "white",
            "ticks": ""
           },
           "baxis": {
            "gridcolor": "white",
            "linecolor": "white",
            "ticks": ""
           },
           "bgcolor": "#E5ECF6",
           "caxis": {
            "gridcolor": "white",
            "linecolor": "white",
            "ticks": ""
           }
          },
          "title": {
           "x": 0.05
          },
          "xaxis": {
           "automargin": true,
           "gridcolor": "white",
           "linecolor": "white",
           "ticks": "",
           "title": {
            "standoff": 15
           },
           "zerolinecolor": "white",
           "zerolinewidth": 2
          },
          "yaxis": {
           "automargin": true,
           "gridcolor": "white",
           "linecolor": "white",
           "ticks": "",
           "title": {
            "standoff": 15
           },
           "zerolinecolor": "white",
           "zerolinewidth": 2
          }
         }
        },
        "title": {
         "text": "Acteurs les plus présents par genre"
        },
        "updatemenus": [
         {
          "buttons": [
           {
            "args": [
             null,
             {
              "frame": {
               "duration": 500,
               "redraw": true
              },
              "fromcurrent": true,
              "mode": "immediate",
              "transition": {
               "duration": 500,
               "easing": "linear"
              }
             }
            ],
            "label": "&#9654;",
            "method": "animate"
           },
           {
            "args": [
             [
              null
             ],
             {
              "frame": {
               "duration": 0,
               "redraw": true
              },
              "fromcurrent": true,
              "mode": "immediate",
              "transition": {
               "duration": 0,
               "easing": "linear"
              }
             }
            ],
            "label": "&#9724;",
            "method": "animate"
           }
          ],
          "direction": "left",
          "pad": {
           "r": 10,
           "t": 70
          },
          "showactive": false,
          "type": "buttons",
          "x": 0.1,
          "xanchor": "right",
          "y": 0,
          "yanchor": "top"
         }
        ],
        "xaxis": {
         "anchor": "y",
         "domain": [
          0,
          1
         ],
         "title": {
          "text": "Actors"
         }
        },
        "yaxis": {
         "anchor": "x",
         "domain": [
          0,
          1
         ],
         "range": [
          0,
          35
         ],
         "title": {
          "text": "Count"
         }
        }
       }
      }
     },
     "metadata": {},
     "output_type": "display_data"
    }
   ],
   "source": [
    "fig = px.bar(\n",
    "    data_frame=top_actors_per_genre_fr,\n",
    "    x=\"Actors\",\n",
    "    y=\"Count\",\n",
    "    animation_frame= 'Genres',                   \n",
    "    title=\"Acteurs les plus présents par genre\",\n",
    "    barmode=\"group\",        \n",
    "    height=600,\n",
    "    range_y=(0,35)\n",
    ")\n",
    "\n",
    "fig.show()"
   ]
  }
 ],
 "metadata": {
  "kernelspec": {
   "display_name": ".venv",
   "language": "python",
   "name": "python3"
  },
  "language_info": {
   "codemirror_mode": {
    "name": "ipython",
    "version": 3
   },
   "file_extension": ".py",
   "mimetype": "text/x-python",
   "name": "python",
   "nbconvert_exporter": "python",
   "pygments_lexer": "ipython3",
   "version": "3.13.3"
  }
 },
 "nbformat": 4,
 "nbformat_minor": 5
}
